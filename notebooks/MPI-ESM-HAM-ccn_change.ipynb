{
 "cells": [
  {
   "cell_type": "code",
   "execution_count": 1,
   "id": "5ce3e319-43fa-48ec-a2ba-ad368ffd623d",
   "metadata": {},
   "outputs": [],
   "source": [
    "import xarray as xr\n",
    "import matplotlib.pyplot as plt\n",
    "from pyclim_noresm.general_util_funcs import global_avg"
   ]
  },
  {
   "cell_type": "code",
   "execution_count": 3,
   "id": "6b06ec28-60f9-4af7-b26d-efdc7b528194",
   "metadata": {},
   "outputs": [],
   "source": [
    "exp = xr.open_dataset('../results/piClim-2xdust/ccn/ccn_piClim-2xdust_MPI-ESM-1-2-HAM_Ayear.nc').isel(time=slice(3,-1))\n",
    "ctrl = xr.open_dataset('../results/piClim-control/ccn/ccn_piClim-control_MPI-ESM-1-2-HAM_Ayear.nc').isel(time=slice(3,-1))"
   ]
  },
  {
   "cell_type": "code",
   "execution_count": 5,
   "id": "b9732e67-f8fe-4705-b7a8-ae110624f86f",
   "metadata": {},
   "outputs": [],
   "source": [
    "exp_nor = xr.open_dataset('../results/piClim-2xdust/ccn/ccn_piClim-2xdust_NorESM2-LM_Ayear.nc').isel(time=slice(3,-1))\n",
    "ctrl_nor = xr.open_dataset('../results/piClim-control/ccn/ccn_piClim-control_NorESM2-LM_Ayear.nc').isel(time=slice(3,-1))"
   ]
  },
  {
   "cell_type": "code",
   "execution_count": 6,
   "id": "66972eca-9fb2-42fd-b637-1dd1b652a663",
   "metadata": {},
   "outputs": [],
   "source": [
    "with xr.set_options(keep_attrs=True):\n",
    "    ts_exp = global_avg(exp)\n",
    "    ts_crts = global_avg(ctrl)\n",
    "    tsNor_exp = global_avg(exp_nor)\n",
    "    tsctrl_nor = global_avg(ctrl_nor)"
   ]
  },
  {
   "cell_type": "code",
   "execution_count": 7,
   "id": "b77d98f2-9ce4-4678-8e1a-7656bbf8371a",
   "metadata": {},
   "outputs": [],
   "source": [
    "rel_mpi = (ts_exp['ccn']-ts_crts['ccn']).mean()/ts_crts['ccn'].mean()\n",
    "rel_nor = (tsNor_exp['ccn']-tsctrl_nor['ccn']).mean()/tsctrl_nor['ccn'].mean()"
   ]
  },
  {
   "cell_type": "code",
   "execution_count": 8,
   "id": "4632778d-3328-4ecf-866e-906f8c249ef5",
   "metadata": {},
   "outputs": [
    {
     "name": "stdout",
     "output_type": "stream",
     "text": [
      "Change in CCN from doubling of dust in MPI-ESM-1-2-HAM: -671774.7838 m-3, -2.39%\n",
      "Change in CCN from doubling of dust in NorESM2-LM: 1045214.5094 m-3, 3.42%\n"
     ]
    }
   ],
   "source": [
    "print(f\"Change in CCN from doubling of dust in MPI-ESM-1-2-HAM: {(ts_exp['ccn']-ts_crts['ccn']).mean():.4f} m-3, {rel_mpi*100:.2f}%\")\n",
    "print(f\"Change in CCN from doubling of dust in NorESM2-LM: {(tsNor_exp['ccn']-tsctrl_nor['ccn']).mean():.4f} m-3, {rel_nor*100:.2f}%\")"
   ]
  },
  {
   "cell_type": "code",
   "execution_count": 9,
   "id": "e4014d80-9a24-4b6a-b251-63180e9bb4b5",
   "metadata": {},
   "outputs": [],
   "source": [
    "exp_cdnc = xr.open_dataset('../results/piClim-2xdust/cdnc/cdnc_piClim-2xdust_MPI-ESM-1-2-HAM_Ayear.nc').isel(time=slice(3,-1)).sum(dim='lev')\n",
    "ctrl_cdnc =xr.open_dataset('../results/piClim-control/cdnc/cdnc_piClim-control_MPI-ESM-1-2-HAM_Ayear.nc').isel(time=slice(3,-1)).sum(dim='lev')\n",
    "\n",
    "exp_nor_cdnc = xr.open_dataset('../results/piClim-2xdust/cdnc/cdnc_piClim-2xdust_NorESM2-LM_Ayear.nc').isel(time=slice(3,-1)).sum(dim='lev')\n",
    "ctrl_nor_cdnc = xr.open_dataset('../results/piClim-control/cdnc/cdnc_piClim-control_NorESM2-LM_Ayear.nc').isel(time=slice(3,-1)).sum(dim='lev')"
   ]
  },
  {
   "cell_type": "code",
   "execution_count": 10,
   "id": "3922ea5d-f6bc-428e-9922-e046fe033dca",
   "metadata": {},
   "outputs": [],
   "source": [
    "with xr.set_options(keep_attrs=True):\n",
    "    ts_exp_cdnc = global_avg(exp_cdnc)\n",
    "    ts_crts_cdnc = global_avg(ctrl_cdnc)\n",
    "    tsNor_exp_cdnc = global_avg(exp_nor_cdnc)\n",
    "    tsctrl_nor_cdnc = global_avg(ctrl_nor_cdnc)"
   ]
  },
  {
   "cell_type": "code",
   "execution_count": 11,
   "id": "feb08a2f-67a3-4565-b166-602e7c3432f1",
   "metadata": {},
   "outputs": [],
   "source": [
    "rel_mpi_cdnc = (ts_exp_cdnc['cdnc']-ts_crts_cdnc['cdnc']).mean()/ts_crts_cdnc['cdnc'].mean()\n",
    "rel_nor_cdnc = (tsNor_exp_cdnc['cdnc']-tsctrl_nor_cdnc['cdnc']).mean()/tsctrl_nor_cdnc['cdnc'].mean()"
   ]
  },
  {
   "cell_type": "code",
   "execution_count": 12,
   "id": "56f5b599-9bce-4548-a742-5b4887499568",
   "metadata": {},
   "outputs": [
    {
     "name": "stdout",
     "output_type": "stream",
     "text": [
      "Change in Nd from doubling of dust in MPI-ESM-1-2-HAM: -1035150.7712 m-3, -0.93%\n",
      "Change in Nd from doubling of dust in NorESM2-LM: 4472422.6678 m-3, 1.15%\n"
     ]
    }
   ],
   "source": [
    "print(f\"Change in Nd from doubling of dust in MPI-ESM-1-2-HAM: {(ts_exp_cdnc['cdnc']-ts_crts_cdnc['cdnc']).mean():.4f} m-3, {rel_mpi_cdnc*100:.2f}%\")\n",
    "print(f\"Change in Nd from doubling of dust in NorESM2-LM: {(tsNor_exp_cdnc['cdnc']-tsctrl_nor_cdnc['cdnc']).mean():.4f} m-3, {rel_nor_cdnc*100:.2f}%\")"
   ]
  }
 ],
 "metadata": {
  "kernelspec": {
   "display_name": "Python 3 (ipykernel)",
   "language": "python",
   "name": "python3"
  },
  "language_info": {
   "codemirror_mode": {
    "name": "ipython",
    "version": 3
   },
   "file_extension": ".py",
   "mimetype": "text/x-python",
   "name": "python",
   "nbconvert_exporter": "python",
   "pygments_lexer": "ipython3",
   "version": "3.10.2"
  }
 },
 "nbformat": 4,
 "nbformat_minor": 5
}
