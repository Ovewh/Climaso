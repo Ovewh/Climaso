{
 "cells": [
  {
   "cell_type": "code",
   "execution_count": 2,
   "id": "7f4e0963",
   "metadata": {},
   "outputs": [],
   "source": [
    "import xarray as xr\n",
    "import matplotlib.pyplot as plt\n",
    "import cartopy.crs as ccrs\n",
    "import numpy as np\n",
    "import matplotlib.cm as cm\n",
    "import matplotlib as mpl\n",
    "from workflow.scripts.plotting_tools import create_facet_plot\n",
    "from workflow.scripts.utils import regrid_global"
   ]
  },
  {
   "cell_type": "code",
   "execution_count": 28,
   "id": "64e8228c",
   "metadata": {},
   "outputs": [],
   "source": [
    "ec_forcing = xr.open_dataset(snakemake.input.forcing_ec)\n",
    "mpi_forcing = xr.open_dataset(snakemake.input.forcing_mpi)\n",
    "nor_forcing = xr.open_dataset(snakemake.input.forcing_noresm)\n",
    "vname = snakemake.wildcards.vName\n",
    "mask_treshold = snakemake.params.get('mask_treshold', -2)\n",
    "time_slice = snakemake.params.get('time_slice', None)"
   ]
  },
  {
   "cell_type": "code",
   "execution_count": 32,
   "id": "0dcf8853",
   "metadata": {},
   "outputs": [],
   "source": [
    "if snakemake.wildcards.experiment.split('-')[0]=='piClim':\n",
    "    if time_slice:\n",
    "        t_slice = time_slice\n",
    "    else:\n",
    "        t_slice = slice(5, None)\n",
    "    ec_forcing_m = ec_forcing.isel(year=t_slice).mean(dim='year')\n",
    "    nor_forcing_m = nor_forcing.isel(year=t_slice).mean(dim='year')\n",
    "    mpi_forcing_m = mpi_forcing.isel(year=t_slice).mean(dim='year')\n",
    "else:\n",
    "    if time_slice:\n",
    "        t_slice = time_slice\n",
    "    else:\n",
    "        t_slice = slice(-30,None)\n",
    "    ec_forcing_m = ec_forcing.isel(year=t_slice).mean(dim='year')\n",
    "    nor_forcing_m = nor_forcing.isel(year=t_slice).mean(dim='year')\n",
    "    mpi_forcing_m = mpi_forcing.isel(year=t_slice).mean(dim='year')"
   ]
  },
  {
   "cell_type": "code",
   "execution_count": 33,
   "id": "74847194",
   "metadata": {},
   "outputs": [],
   "source": [
    "def normalize_min_max(da):\n",
    "    return (da - da.max())/(da.min()-da.max())\n",
    "def normalize_z(da):\n",
    "    return (da-da.mean())/da.std()\n",
    "\n",
    "norm_mpi = normalize_z(mpi_forcing_m[vname]).to_dataset()\n",
    "norm_nor = normalize_z(nor_forcing_m[vname]).to_dataset()\n",
    "norm_ec = normalize_z(ec_forcing_m[vname]).to_dataset()\n"
   ]
  },
  {
   "cell_type": "code",
   "execution_count": 34,
   "id": "23998e3a",
   "metadata": {},
   "outputs": [],
   "source": [
    "\n",
    "reg_grid_params = snakemake.config['regrid_params']"
   ]
  },
  {
   "cell_type": "code",
   "execution_count": 35,
   "id": "b6626fb5",
   "metadata": {},
   "outputs": [],
   "source": [
    "nor_regrid = regrid_global(norm_nor.cf.add_bounds(['lon','lat']),lon=reg_grid_params['dxdy'][0],\n",
    "                           lat=reg_grid_params['dxdy'][1])\n",
    "mpi_regrid = regrid_global(norm_mpi.cf.add_bounds(['lon','lat']),lon=reg_grid_params['dxdy'][0],\n",
    "                           lat=reg_grid_params['dxdy'][1])\n",
    "ec_regrid = regrid_global(norm_ec.cf.add_bounds(['lon','lat']),lon=reg_grid_params['dxdy'][0],\n",
    "                           lat=reg_grid_params['dxdy'][1])"
   ]
  },
  {
   "cell_type": "code",
   "execution_count": 17,
   "id": "141ca3fa",
   "metadata": {},
   "outputs": [],
   "source": [
    "merge_forcing = (nor_regrid[vname]+mpi_regrid[vname]+ec_regrid[vname])/3"
   ]
  },
  {
   "cell_type": "code",
   "execution_count": 22,
   "id": "e09803fe",
   "metadata": {},
   "outputs": [],
   "source": [
    "merged_normed = merge_forcing.to_dataset(name='Merged_normed_ERF')\n",
    "merged_normed = regrid_global(merged_normed.cf.add_bounds(['lon','lat']),lat=5, lon=5)\n",
    "\n",
    "mask = xr.where(merged_normed['Merged_normed_ERF'] < mask_treshold,1,0)\n"
   ]
  },
  {
   "cell_type": "code",
   "execution_count": 23,
   "id": "1c09a818",
   "metadata": {},
   "outputs": [],
   "source": [
    "fig,ax ,cax = create_facet_plot(1,figsize=(10,5), subplot_kw={'projection':ccrs.Robinson()})\n",
    "cmap = cm.get_cmap('PRGn', 21).copy()\n",
    "merge_forcing.plot(ax=ax['A'], add_colorbar=False, transform=ccrs.PlateCarree(), cmap=cmap, vmax=10, vmin=-10)\n",
    "ax['A'].coastlines()\n",
    "fig.colorbar(cm.ScalarMappable(mpl.colors.Normalize(vmin=-10,vmax=10), cmap=cmap),cax=cax)\n",
    "\n",
    "merged_normed = merge_forcing.to_dataset(name='Merged_normed_ERF')\n",
    "merged_normed = regrid_global(merged_normed.cf.add_bounds(['lon','lat']),lat=5, lon=5)\n",
    "\n",
    "\n",
    "mask.plot.contour(ax=ax['A'], transform=ccrs.PlateCarree(),colors='orange',levels=1\n",
    "    )"
   ]
  },
  {
   "cell_type": "code",
   "execution_count": 24,
   "id": "b26910f5",
   "metadata": {},
   "outputs": [],
   "source": [
    "fig,ax, cax = create_facet_plot(3,subplot_kw={'projection':ccrs.Robinson()}, figsize=(12,6))\n",
    "\n",
    "cmap = cm.get_cmap('PRGn', 21).copy()\n",
    "nor_forcing_m[vname].plot(ax=ax['A'], transform=ccrs.PlateCarree(),add_colorbar=False, cmap=cmap, vmax=15, vmin=-15)\n",
    "ax['A'].coastlines()\n",
    "ec_forcing_m[vname].plot(ax=ax['B'], transform=ccrs.PlateCarree(),add_colorbar=False, cmap=cmap, vmax=15, vmin=-15)\n",
    "ax['B'].coastlines()\n",
    "mpi_forcing_m[vname].plot(ax=ax['C'], transform=ccrs.PlateCarree(),add_colorbar=False, cmap=cmap, vmax=15, vmin=-15)\n",
    "ax['C'].coastlines()\n",
    "cb =fig.colorbar(cm.ScalarMappable(mpl.colors.Normalize(-15,15),cmap=cmap), cax=cax)\n",
    "\n",
    "for a in ax:\n",
    "    mask.plot.contour(ax=ax[a], transform=ccrs.PlateCarree(),colors='orange',levels=1\n",
    "    )\n",
    "ax['A'].set_title('NorESM2-LM')\n",
    "ax['B'].set_title('MPI-ESM-1-2-HAM')\n",
    "ax['C'].set_title('EC-Earth3-AerChem')\n",
    "cb.set_label('$W/m^2$')\n",
    "plt.savefig(snakemake.output.plot, dpi=144, bbox_inches='tight')"
   ]
  },
  {
   "cell_type": "code",
   "execution_count": 25,
   "id": "232e034d",
   "metadata": {},
   "outputs": [],
   "source": [
    "m = mask.to_dataset(name='ERF_region_mask')\n",
    "m.attrs['treshold'] = mask_treshold\n",
    "m.to_netcdf(snakemake.output.mask)\n",
    "\n",
    "m['Asia'] = m['ERF_region_mask'].where((m.lon > 70) & (m.lat > 20),0.0)\n",
    "m['North_America'] =m['ERF_region_mask'].where(((m.lon > -100)&(m.lon < -30)) & (m.lat > 20),0.0) \n",
    "m['Europe'] = m['ERF_region_mask'].where(((m.lon > 20)&(m.lon < 70)) & (m.lat > 20),0.0)\n",
    "m.to_netcdf(snakemake.output.mask)"
   ]
  }
 ],
 "metadata": {
  "kernelspec": {
   "display_name": "Python 3.9.0 ('dustysnake')",
   "language": "python",
   "name": "python3"
  },
  "language_info": {
   "codemirror_mode": {
    "name": "ipython",
    "version": 3
   },
   "file_extension": ".py",
   "mimetype": "text/x-python",
   "name": "python",
   "nbconvert_exporter": "python",
   "pygments_lexer": "ipython3",
   "version": "3.9.0"
  },
  "vscode": {
   "interpreter": {
    "hash": "5252e5327a2efbab7c42f5d52cb87d9bedc44c7d9d6a615ebff0e5d85896cfce"
   }
  }
 },
 "nbformat": 4,
 "nbformat_minor": 5
}
