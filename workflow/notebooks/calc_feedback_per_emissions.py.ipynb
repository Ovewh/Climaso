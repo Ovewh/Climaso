{
 "cells": [
  {
   "cell_type": "code",
   "execution_count": 2,
   "id": "2ea23094",
   "metadata": {},
   "outputs": [],
   "source": [
    "import xarray as xr\n",
    "from pyclim_noresm.aerosol_feedbacks import (partialDF_partialDC,\n",
    "                                            partialDC_partialDT)\n",
    "import yaml\n",
    "import numpy as np\n",
    "\n",
    "params = snakemake.params\n",
    "time_slice = params.get('time_slice',slice(5,30))\n",
    "piControl_slice = params.get('piControl_slice', slice(125,150)) \n"
   ]
  },
  {
   "cell_type": "code",
   "execution_count": 12,
   "id": "f1bb4681",
   "metadata": {},
   "outputs": [],
   "source": [
    "def get_equal_lenght_slice(input_files ,time_slice, piControl_slice):\n",
    "    variables = {}\n",
    "    len_slice = time_slice.stop-time_slice.start\n",
    "#     pi_stop = piControl_slice.stop\n",
    "#     pi_control_slices = {}\n",
    "    time_dim_lenghts = []\n",
    "    for key,path in input_files.items():\n",
    "        if key == 'area_cello':\n",
    "            area_cello = xr.open_dataset(path)\n",
    "        else:\n",
    "            \n",
    "            temp_ds = xr.open_dataset(str(path))\n",
    "            if 'year' in temp_ds.dims:\n",
    "                temp_ds = temp_ds.rename({'year':'time'})\n",
    "            variables[key]=temp_ds\n",
    "            time_dim_lenghts.append(len(temp_ds.time))\n",
    "    \n",
    "    min_time_lenght = np.array(time_dim_lenghts).min()\n",
    "    if min_time_lenght > len_slice:\n",
    "        min_time_lenght = len_slice\n",
    "    time_slice = slice(time_slice.stop-min_time_lenght, time_slice.stop)\n",
    "    piControl_slice = slice(piControl_slice.stop-min_time_lenght, piControl_slice.stop)\n",
    "    for key, data in variables.items():\n",
    "        \n",
    "        if key in ['emis_2xCO2', 'emis_PIctrl','t_ctrl', 't_exp']:\n",
    "#             print(len(data.time),key)\n",
    "            if len(data.time) <= min_time_lenght:\n",
    "                variables[key] = data\n",
    "            elif len(data.time) < piControl_slice.stop:\n",
    "                print(slice(len(data.time)-min_time_lenght,len(data.time)), data.time, key)\n",
    "                variables[key] = data.isel(time=slice(len(data.time)-min_time_lenght,len(data.time)))\n",
    "            else:\n",
    "                variables[key] = data.isel(time=piControl_slice)\n",
    "        else:\n",
    "            variables[key] = data.isel(time=time_slice)\n",
    "            \n",
    "    return variables, area_cello"
   ]
  },
  {
   "cell_type": "code",
   "execution_count": 13,
   "id": "af221c0b",
   "metadata": {},
   "outputs": [],
   "source": [
    "v, area_cello = get_equal_lenght_slice(snakemake.input, time_slice, piControl_slice)"
   ]
  },
  {
   "cell_type": "code",
   "execution_count": 14,
   "id": "dd13c8cc",
   "metadata": {
    "scrolled": false
   },
   "outputs": [],
   "source": [
    "with xr.set_options(keep_attrs=True):\n",
    "    forcing = v['forcing']\n",
    "    deltaC_piClim = v['emis_exp'][v['emis_exp'].variable_id]-v['emis_ctrl'][v['emis_ctrl'].variable_id]\n",
    "    deltaC_piControl = v['emis_2xCO2'][v['emis_2xCO2'].variable_id]-v['emis_PIctrl'][v['emis_PIctrl'].variable_id].assign_coords(time=v['emis_2xCO2'].time)\n",
    "    deltaT = v['t_exp'][v['t_exp'].variable_id] - v['t_ctrl'][v['t_ctrl'].variable_id].assign_coords(time=v['t_exp'].time)"
   ]
  },
  {
   "cell_type": "code",
   "execution_count": 16,
   "id": "4cc28ce4",
   "metadata": {},
   "outputs": [],
   "source": [
    "dFdC, deltaCPiclim, erf= partialDF_partialDC(forcing, deltaC_piClim, area_cello, per_year=False)"
   ]
  },
  {
   "cell_type": "code",
   "execution_count": 17,
   "id": "d08263ba",
   "metadata": {},
   "outputs": [],
   "source": [
    "dCdT, deltaC_piControl, deltat = partialDC_partialDT(deltaT, deltaC_piControl,area_cello,per_year=False)"
   ]
  },
  {
   "cell_type": "code",
   "execution_count": 18,
   "id": "f067ba89",
   "metadata": {},
   "outputs": [],
   "source": [
    "data = {}\n",
    "data['dCdT']={}\n",
    "data['dCdT']['units'] = 'Tg year-1/K'\n",
    "data['dCdT']['data'] = (dCdT.values*1e-9).tolist()\n",
    "data['dFdC']= {}\n",
    "data['dFdC']['units'] = 'W m-2/tg year-1'\n",
    "data['dFdC']['data'] = (dFdC.values*1e9).tolist()\n",
    "data['delta_ems'] = {}\n",
    "data['delta_ems']['data'] = (deltaCPiclim.values*1e-9).tolist()\n",
    "data['delta_ems']['units'] = 'Tg year-1'\n",
    "data['dT_dEms'] = {}\n",
    "data['dT_dEms']['units'] = 'Tg year-1'\n",
    "data['dT_dEms']['data'] = (deltaC_piControl.values*1e-9).tolist()\n",
    "data['alpha'] = {}\n",
    "data['alpha']['units'] = 'W m-2 K-1'\n",
    "data['alpha']['data'] = (dCdT.values*dFdC.values).tolist()"
   ]
  },
  {
   "cell_type": "code",
   "execution_count": 140,
   "id": "7936e83a",
   "metadata": {},
   "outputs": [],
   "source": [
    "with open(snakemake.output.outpath, 'w') as f:\n",
    "    yaml.safe_dump(data,f,default_flow_style=False)"
   ]
  }
 ],
 "metadata": {
  "kernelspec": {
   "display_name": "Python 3 (ipykernel)",
   "language": "python",
   "name": "python3"
  },
  "language_info": {
   "codemirror_mode": {
    "name": "ipython",
    "version": 3
   },
   "file_extension": ".py",
   "mimetype": "text/x-python",
   "name": "python",
   "nbconvert_exporter": "python",
   "pygments_lexer": "ipython3",
   "version": "3.9.0"
  }
 },
 "nbformat": 4,
 "nbformat_minor": 5
}
