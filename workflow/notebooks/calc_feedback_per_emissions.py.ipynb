{
 "cells": [
  {
   "cell_type": "code",
   "execution_count": 22,
   "id": "2ea23094",
   "metadata": {},
   "outputs": [],
   "source": [
    "import xarray as xr\n",
    "from pyclim_noresm.aerosol_feedbacks import (partialDF_partialDC,\n",
    "                                            partialDC_partialDT)\n",
    "import yaml\n",
    "\n",
    "params = snakemake.params\n",
    "time_slice = params.get('time_slice',slice(5,None))\n",
    "piControl_slice = params.get('piControl_slice', slice(120,150))"
   ]
  },
  {
   "cell_type": "code",
   "execution_count": 3,
   "id": "2ce98622",
   "metadata": {},
   "outputs": [],
   "source": [
    "emis_2xCO2 = xr.open_dataset(snakemake.input.emis_2xCO2[0])"
   ]
  },
  {
   "cell_type": "code",
   "execution_count": 4,
   "id": "5e49c78c",
   "metadata": {},
   "outputs": [],
   "source": [
    "emis_exp = xr.open_dataset(snakemake.input.emis_exp[0]).isel(time=time_slice)\n",
    "emis_ctrl = xr.open_dataset(snakemake.input.emis_ctrl[0]).isel(time=time_slice)\n",
    "emis_piCtrl = xr.open_dataset(snakemake.input.emis_PIctrl[0]).isel(time=piControl_slice)\n",
    "emis_2xCO2 = xr.open_dataset(snakemake.input.emis_2xCO2[0]).isel(time=piControl_slice)\n",
    "t_piCtrl = xr.open_dataset(snakemake.input.t_ctrl[0]).isel(time=piControl_slice)\n",
    "t_exp = xr.open_dataset(snakemake.input.t_exp[0]).isel(time=piControl_slice)\n",
    "area_cello = xr.open_dataset(snakemake.input.area_cello)\n",
    "forcing = xr.open_dataset(snakemake.input.forcing).isel(year=time_slice)"
   ]
  },
  {
   "cell_type": "code",
   "execution_count": 5,
   "id": "dd13c8cc",
   "metadata": {
    "scrolled": false
   },
   "outputs": [],
   "source": [
    "with xr.set_options(keep_attrs=True):\n",
    "    forcing = forcing\n",
    "    deltaC_piClim = emis_exp[emis_exp.variable_id]-emis_ctrl[emis_ctrl.variable_id]\n",
    "    deltaC_piControl = emis_2xCO2[emis_2xCO2.variable_id]-emis_piCtrl[emis_piCtrl.variable_id].assign_coords(time=emis_2xCO2.time)\n",
    "    deltaT = t_exp[t_exp.variable_id] - t_piCtrl[t_piCtrl.variable_id].assign_coords(time=t_exp.time)"
   ]
  },
  {
   "cell_type": "code",
   "execution_count": 6,
   "id": "4cc28ce4",
   "metadata": {},
   "outputs": [],
   "source": [
    "dFdC, deltaCPiclim, erf= partialDF_partialDC(forcing, deltaC_piClim, area_cello, per_year=False)"
   ]
  },
  {
   "cell_type": "code",
   "execution_count": 7,
   "id": "d08263ba",
   "metadata": {},
   "outputs": [],
   "source": [
    "dCdT, deltaC_piControl, deltat = partialDC_partialDT(deltaT, deltaC_piControl,area_cello,per_year=False)"
   ]
  },
  {
   "cell_type": "code",
   "execution_count": 35,
   "id": "b9299ad0",
   "metadata": {},
   "outputs": [],
   "source": [
    "dCdT"
   ]
  },
  {
   "cell_type": "code",
   "execution_count": 34,
   "id": "16c46155",
   "metadata": {},
   "outputs": [],
   "source": [
    "dFdC"
   ]
  },
  {
   "cell_type": "code",
   "execution_count": 31,
   "id": "f067ba89",
   "metadata": {},
   "outputs": [],
   "source": [
    "data = {}\n",
    "data['dCdT']={}\n",
    "data['dCdT']['units'] = 'Tg year-1/K'\n",
    "data['dCdT']['data'] = (dCdT.values*1e-9).tolist()\n",
    "data['dFdC']= {}\n",
    "data['dFdC']['units'] = 'W m-2/tg year-1'\n",
    "data['dFdC']['data'] = (dFdC.values*1e9).tolist()\n",
    "data['delta_ems'] = {}\n",
    "data['delta_ems']['data'] = (deltaCPiclim.values*1e-9).tolist()\n",
    "data['delta_ems']['units'] = 'Tg year-1'\n",
    "data['dT_dEms'] = {}\n",
    "data['dT_dEms']['units'] = 'Tg year-1'\n",
    "data['dT_dEms']['data'] = (deltaC_piControl.values*1e-9).tolist()\n",
    "data['alpha']['units'] = 'W m-2 K-1'\n",
    "data['alpha']['data']"
   ]
  },
  {
   "cell_type": "code",
   "execution_count": 33,
   "id": "88d7a184",
   "metadata": {},
   "outputs": [],
   "source": [
    "data"
   ]
  },
  {
   "cell_type": "code",
   "execution_count": 32,
   "id": "7936e83a",
   "metadata": {},
   "outputs": [],
   "source": [
    "with open(snakemake.output.outpath, 'w') as f:\n",
    "    yaml.safe_dump(data,f,default_flow_style=False)"
   ]
  },
  {
   "cell_type": "code",
   "execution_count": 29,
   "id": "ba890f58",
   "metadata": {},
   "outputs": [],
   "source": [
    "dFdC"
   ]
  }
 ],
 "metadata": {
  "kernelspec": {
   "display_name": "Python 3 (ipykernel)",
   "language": "python",
   "name": "python3"
  },
  "language_info": {
   "codemirror_mode": {
    "name": "ipython",
    "version": 3
   },
   "file_extension": ".py",
   "mimetype": "text/x-python",
   "name": "python",
   "nbconvert_exporter": "python",
   "pygments_lexer": "ipython3",
   "version": "3.9.0"
  }
 },
 "nbformat": 4,
 "nbformat_minor": 5
}
