{
 "cells": [
  {
   "cell_type": "code",
   "execution_count": 2,
   "id": "7a45f224",
   "metadata": {},
   "outputs": [],
   "source": [
    "\n",
    "import xarray as xr\n",
    "import matplotlib.pyplot as plt\n",
    "import cartopy.crs as ccrs\n",
    "import numpy as np\n",
    "import matplotlib.cm as cm\n",
    "import matplotlib as mpl"
   ]
  },
  {
   "cell_type": "code",
   "execution_count": 3,
   "id": "d0d569af",
   "metadata": {},
   "outputs": [],
   "source": [
    "def read_data(path):\n",
    "    dsets = []\n",
    "    for p in path:\n",
    "        dsets.append(xr.open_dataset(p))\n",
    "    return xr.merge(dsets)"
   ]
  },
  {
   "cell_type": "code",
   "execution_count": 5,
   "id": "9bd5a4e3",
   "metadata": {},
   "outputs": [],
   "source": [
    "noresm = read_data(snakemake.input.noresm)\n",
    "mpi = read_data(snakemake.input.mpiEsm)\n",
    "ec = read_data(snakemake.input.ecEarth)"
   ]
  },
  {
   "cell_type": "code",
   "execution_count": 8,
   "id": "7cdfe01b",
   "metadata": {},
   "outputs": [],
   "source": [
    "mpi_var = mpi['od550aer'].isel(time=slice(5,None)).std(dim='time')\n",
    "noresm_var = noresm['od550aer'].isel(time=slice(5,None)).std(dim='time')\n",
    "ec_var = ec['od550aer'].isel(time=slice(5,None)).std(dim='time') "
   ]
  },
  {
   "cell_type": "code",
   "execution_count": 14,
   "id": "8957eadb",
   "metadata": {},
   "outputs": [],
   "source": [
    "ec.source_id"
   ]
  },
  {
   "cell_type": "code",
   "execution_count": 17,
   "id": "4d135d7c",
   "metadata": {},
   "outputs": [],
   "source": [
    "fig,ax = plt.subplots(figsize=(7,10), nrows=3, subplot_kw={'projection':ccrs.Robinson()})\n",
    "cmap = cm.get_cmap('YlOrRd',11)\n",
    "cmap.set_under('k', alpha=0.0)\n",
    "mpi_var.plot(ax=ax[0], transform=ccrs.PlateCarree(),vmin=.01, vmax=0.3, add_colorbar=False, cmap=cmap)\n",
    "ax[0].coastlines()\n",
    "noresm_var.plot(ax=ax[1], transform=ccrs.PlateCarree(), vmin=.01, vmax=0.3,  cmap=cmap, add_colorbar=False)\n",
    "ax[1].coastlines()\n",
    "ec_var.plot(ax=ax[2], transform=ccrs.PlateCarree(), vmin=.01, vmax=0.3,  cmap=cmap, add_colorbar=False)\n",
    "\n",
    "ax[2].coastlines()\n",
    "ax[0].set_title('MPI-ESM-1-2-HAM')\n",
    "ax[1].set_title('NorESM2-LM')\n",
    "ax[2].set_title('EC-Earth3-AerChem')\n",
    "cax = fig.add_axes([0.3,0.06,0.4,0.02])\n",
    "cb = fig.colorbar(cm.ScalarMappable(norm=mpl.colors.Normalize(vmin=0.01, vmax=0.3), cmap=cmap), cax=cax, \n",
    "                 orientation='horizontal', extend = 'min')\n",
    "fig.suptitle(snakemake.params.fig_title, fontsize=16,y=0.95)\n",
    "plt.savefig(snakemake.output.aod_varibility_map, dpi=144, bbox_inches='tight')"
   ]
  }
 ],
 "metadata": {
  "kernelspec": {
   "display_name": "Python 3 (ipykernel)",
   "language": "python",
   "name": "python3"
  },
  "language_info": {
   "codemirror_mode": {
    "name": "ipython",
    "version": 3
   },
   "file_extension": ".py",
   "mimetype": "text/x-python",
   "name": "python",
   "nbconvert_exporter": "python",
   "pygments_lexer": "ipython3",
   "version": "3.9.0"
  }
 },
 "nbformat": 4,
 "nbformat_minor": 5
}
