{
 "cells": [
  {
   "cell_type": "code",
   "execution_count": 19,
   "id": "7300b002",
   "metadata": {},
   "outputs": [],
   "source": [
    "import xarray as xr\n",
    "import time\n",
    "from workflow.scripts.utils import copy_meta_data_CMIP\n",
    "\n",
    "pert = xr.open_dataset(snakemake.input.pertubation)\n",
    "base = xr.open_dataset(snakemake.input.baseline)"
   ]
  },
  {
   "cell_type": "code",
   "execution_count": 13,
   "id": "e174ed68",
   "metadata": {},
   "outputs": [],
   "source": [
    "with xr.set_options(keep_attrs=True):\n",
    "    diff = pert-base\n",
    "    \n",
    "attrs = copy_meta_data_CMIP(pert.attrs)\n",
    "attrs['history'] = f'{snakemake.rule}@{time.ctime()}: {snakemake.input.pertubation}-{snakemake.input.baseline}'"
   ]
  },
  {
   "cell_type": "code",
   "execution_count": 30,
   "id": "a4d52d29",
   "metadata": {},
   "outputs": [],
   "source": [
    "diff = diff.assign_attrs(**attrs)"
   ]
  },
  {
   "cell_type": "code",
   "execution_count": 32,
   "id": "778ba5af",
   "metadata": {},
   "outputs": [],
   "source": [
    "diff.to_netcdf(snakemake.output.outpath)"
   ]
  }
 ],
 "metadata": {
  "kernelspec": {
   "display_name": "Python 3.9.0 ('dustysnake')",
   "language": "python",
   "name": "python3"
  },
  "language_info": {
   "codemirror_mode": {
    "name": "ipython",
    "version": 3
   },
   "file_extension": ".py",
   "mimetype": "text/x-python",
   "name": "python",
   "nbconvert_exporter": "python",
   "pygments_lexer": "ipython3",
   "version": "3.9.0"
  },
  "vscode": {
   "interpreter": {
    "hash": "5252e5327a2efbab7c42f5d52cb87d9bedc44c7d9d6a615ebff0e5d85896cfce"
   }
  }
 },
 "nbformat": 4,
 "nbformat_minor": 5
}
