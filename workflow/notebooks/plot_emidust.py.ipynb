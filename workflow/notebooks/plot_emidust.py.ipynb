{
 "cells": [
  {
   "cell_type": "code",
   "execution_count": 5,
   "id": "18e57faa",
   "metadata": {},
   "outputs": [],
   "source": [
    "import xarray as xr\n",
    "import matplotlib.pyplot as plt\n",
    "import cartopy.crs as ccrs\n",
    "from pyclim_noresm.general_util_funcs import global_avg\n",
    "import matplotlib as mpl\n",
    "from workflow.scripts.plotting_tools import global_map\n",
    "import xesmf as xe\n",
    "import cf_xarray as cfxr"
   ]
  },
  {
   "cell_type": "code",
   "execution_count": 6,
   "id": "52cee1e4-a36a-4eee-9fc5-0bf954936540",
   "metadata": {},
   "outputs": [],
   "source": [
    "paths = snakemake.input.paths\n",
    "grid_area = snakemake.input.areacello"
   ]
  },
  {
   "cell_type": "code",
   "execution_count": 31,
   "id": "847466cc-1b99-4d99-aef2-8a888cc36519",
   "metadata": {
    "tags": []
   },
   "outputs": [],
   "source": [
    "dsets = []\n",
    "budgets = {}\n",
    "ds_out = xe.util.grid_global(3, 2,cf=True)\n",
    "for path, ga_path in zip(paths, grid_area):\n",
    "    ds = xr.open_dataset(path)\n",
    "    ga = xr.open_dataset(ga_path)\n",
    "    yearly_budget = ds[ds.variable_id].resample(time='Y').mean()*365*24*60*60\n",
    "    \n",
    "    yearly_budget = yearly_budget.mean(dim='time')\n",
    "    yearly_budget = yearly_budget*ga['cell_area']\n",
    "    yearly_budget = yearly_budget.sum(dim=['lon','lat']).values\n",
    "    budgets[ds.source_id]=yearly_budget\n",
    "    ds = ds.groupby('time.month').mean(dim='time', keep_attrs=True).mean('month', keep_attrs=True)\n",
    "    regridder= xe.Regridder(ds,ds_out,'conservative')\n",
    "    \n",
    "    #ds = ds.rename({ds.variable_id:ds.source_id})\n",
    "    ds = regridder(ds,keep_attrs=True)\n",
    "    ds[ds.variable_id] = ds[ds.variable_id]*1000\n",
    "    print(ds.emidust.max())\n",
    "    dsets.append(ds)\n",
    "\n"
   ]
  },
  {
   "cell_type": "code",
   "execution_count": 36,
   "id": "73dce9b4-44ab-4f62-b9e0-f6753e4d49e4",
   "metadata": {},
   "outputs": [],
   "source": [
    "fig,ax = plt.subplot_mosaic([['a)','b)','c)'],['d)','e)','f)'],['g)','h)','i)']], \n",
    "                            subplot_kw={'projection':ccrs.PlateCarree()}, figsize=(18,10), sharex=True, sharey=True)\n",
    "cmap = mpl.cm.YlOrBr\n",
    "norm = mpl.colors.LogNorm(vmin=1e-8, vmax=1e-4)\n",
    "for k,ds, sids in zip(ax.keys(), dsets, budgets.keys()):\n",
    "    ds[ds.variable_id].plot.pcolormesh(ax=ax[k], norm=norm, cmap=cmap, add_colorbar=False,vmin=1e-8, vmax=1e-4)\n",
    "    ax[k].coastlines()\n",
    "    global_map(ax[k])\n",
    "    ax[k].set_title('{} [Tg/year]    {}'.format(round(budgets[sids]/1000000000),ds.source_id))\n",
    "    \n",
    "cax = fig.add_axes([0.94,0.2,0.02,0.62])\n",
    "fig.colorbar(mpl.cm.ScalarMappable(norm, cmap=cmap), cax=cax, extend='neither',\n",
    "             label='{} [g m-2 s-1]'.format(ds.variable_id))\n",
    "plt.savefig(snakemake.output.outpath, bbox_inches='tight', facecolor='white')"
   ]
  }
 ],
 "metadata": {
  "kernelspec": {
   "display_name": "dustysnake",
   "language": "python",
   "name": "dustysnake"
  },
  "language_info": {
   "codemirror_mode": {
    "name": "ipython",
    "version": 3
   },
   "file_extension": ".py",
   "mimetype": "text/x-python",
   "name": "python",
   "nbconvert_exporter": "python",
   "pygments_lexer": "ipython3",
   "version": "3.9.0"
  }
 },
 "nbformat": 4,
 "nbformat_minor": 5
}
