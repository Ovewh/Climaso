{
 "cells": [
  {
   "cell_type": "code",
   "execution_count": 2,
   "id": "18e57faa",
   "metadata": {},
   "outputs": [],
   "source": [
    "import xarray as xr\n",
    "import matplotlib.pyplot as plt\n",
    "import cartopy.crs as ccrs\n",
    "from pyclim_noresm.general_util_funcs import global_avg\n",
    "import matplotlib as mpl\n",
    "from workflow.scripts.plotting_tools import global_map\n",
    "from workflow.scripts.utils import compute_annual_emission_budget\n",
    "import xesmf as xe\n",
    "import cf_xarray as cfxr\n",
    "import numpy as np"
   ]
  },
  {
   "cell_type": "code",
   "execution_count": 3,
   "id": "52cee1e4-a36a-4eee-9fc5-0bf954936540",
   "metadata": {},
   "outputs": [],
   "source": [
    "paths = snakemake.input.paths\n",
    "grid_area = snakemake.input.areacello\n",
    "common_grid = 'workflow/input_data/common_grid.nc'"
   ]
  },
  {
   "cell_type": "code",
   "execution_count": 4,
   "id": "847466cc-1b99-4d99-aef2-8a888cc36519",
   "metadata": {
    "tags": []
   },
   "outputs": [],
   "source": [
    "dsets = []\n",
    "budgets = {}\n",
    "# ds_out = xe.util.grid_global(3, 2,cf=True)\n",
    "for path, ga_path in zip(paths, grid_area):\n",
    "    ds = xr.open_dataset(path)\n",
    "    if ds.attrs.get('regrid_method'):\n",
    "        ga = xr.open_dataset(common_grid)\n",
    "    else:\n",
    "        ga = xr.open_dataset(ga_path)\n",
    "    \n",
    "#     yearly_budget = ds[ds.variable_id].copy().resample(time='Y').sum()\n",
    "    \n",
    "#     yearly_budget = yearly_budget.mean(dim='time')*365*24*60*60\n",
    "#     yearly_budget = yearly_budget*ga['cell_area'].load()\n",
    "#     yearly_budget = yearly_budget.sum(dim=['lon','lat']).values\n",
    "    budgets[ds.source_id],_=compute_annual_emission_budget(ds,ga)\n",
    "    ds = ds.resample(time='Y').sum(keep_attrs=True).mean(dim='time',keep_attrs=True)\n",
    "    ds = ds.assign({ds.variable_id:ds[ds.variable_id]*365*24*60*60}) \n",
    "#     ds = ds.groupby('time.month').mean(dim='time', keep_attrs=True).mean('month', keep_attrs=True)\n",
    "#     regridder= xe.Regridder(ds,ds_out,'conservative')\n",
    "    \n",
    "    #ds = ds.rename({ds.variable_id:ds.source_id})\n",
    "#     ds = regridder(ds,keep_attrs=True)\n",
    "#     ds[ds.variable_id] = ds[ds.variable_id]*1000\n",
    "\n",
    "    dsets.append(ds)\n",
    "\n"
   ]
  },
  {
   "cell_type": "code",
   "execution_count": 9,
   "id": "04c0d6d7",
   "metadata": {},
   "outputs": [],
   "source": [
    "ds = xr.open_dataset(path)\n",
    "ds"
   ]
  },
  {
   "cell_type": "code",
   "execution_count": 10,
   "id": "73dce9b4-44ab-4f62-b9e0-f6753e4d49e4",
   "metadata": {},
   "outputs": [],
   "source": [
    "fig,ax = plt.subplot_mosaic([['a)','b)','c)'],['d)','e)','f)'],['g)','h)','i)']], \n",
    "                            subplot_kw={'projection':ccrs.PlateCarree()}, figsize=(18,10), sharex=True, sharey=True)\n",
    "cmap = mpl.cm.YlOrBr\n",
    "norm = mpl.colors.LogNorm(vmin=1e-1, vmax=1e2)\n",
    "for k,ds, sids in zip(ax.keys(), dsets, budgets.keys()):\n",
    "    ds[ds.variable_id].plot.pcolormesh(ax=ax[k],cmap=cmap,norm=norm, add_colorbar=False)\n",
    "    ax[k].coastlines()\n",
    "    global_map(ax[k])\n",
    "    ax[k].set_title('{} [Tg/year]    {}'.format(np.round(budgets[sids].values),ds.source_id))\n",
    "    \n",
    "cax = fig.add_axes([0.94,0.2,0.02,0.62])\n",
    "fig.colorbar(mpl.cm.ScalarMappable(norm, cmap=cmap), cax=cax, extend='neither',\n",
    "             label='{} [g m-2 year-1]'.format(ds.variable_id))\n",
    "plt.savefig(snakemake.output.outpath, bbox_inches='tight', facecolor='white')"
   ]
  }
 ],
 "metadata": {
  "kernelspec": {
   "display_name": "dustysnake",
   "language": "python",
   "name": "dustysnake"
  },
  "language_info": {
   "codemirror_mode": {
    "name": "ipython",
    "version": 3
   },
   "file_extension": ".py",
   "mimetype": "text/x-python",
   "name": "python",
   "nbconvert_exporter": "python",
   "pygments_lexer": "ipython3",
   "version": "3.10.2"
  }
 },
 "nbformat": 4,
 "nbformat_minor": 5
}
