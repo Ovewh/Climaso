{
 "cells": [
  {
   "cell_type": "code",
   "execution_count": 2,
   "id": "07c73e80",
   "metadata": {},
   "outputs": [],
   "source": [
    "import xarray as xr\n",
    "from workflow.scripts.utils import regrid_global\n",
    "from pyclim_noresm.general_util_funcs import global_avg"
   ]
  },
  {
   "cell_type": "code",
   "execution_count": 3,
   "id": "2af7499a",
   "metadata": {},
   "outputs": [],
   "source": [
    "ds = global_avg(xr.open_dataset(snakemake.input.forcing))\n",
    "antro_aod = global_avg(xr.open_dataset(snakemake.input.aod))\n",
    "vname = snakemake.wildcards.vName"
   ]
  },
  {
   "cell_type": "code",
   "execution_count": 6,
   "id": "bfb6e4f5",
   "metadata": {},
   "outputs": [],
   "source": [
    "snakemake.input.aod"
   ]
  },
  {
   "cell_type": "code",
   "execution_count": 7,
   "id": "805caa7d",
   "metadata": {},
   "outputs": [],
   "source": [
    "antro_aod"
   ]
  },
  {
   "cell_type": "code",
   "execution_count": 21,
   "id": "260599c8",
   "metadata": {},
   "outputs": [],
   "source": [
    "out_ds = ds.copy()\n",
    "\n",
    "out_ds = out_ds.assign({f'{snakemake.wildcards.vName}_aod': ds[vname]/antro_aod['od550aer'].values})\n",
    "\n",
    "out_ds['ERFt_aod'].attrs['units'] = 'W m-2 AOD-1'\n",
    "out_ds['ERFt_aod'].attrs['long_name'] = 'Annual mean forcing efficiency at the top of the atmosphere'\n",
    "out_ds = out_ds.drop(vname)\n",
    "\n",
    "out_ds.to_netcdf(snakemake.output.outpath)"
   ]
  }
 ],
 "metadata": {
  "kernelspec": {
   "display_name": "Python 3 (ipykernel)",
   "language": "python",
   "name": "python3"
  },
  "language_info": {
   "codemirror_mode": {
    "name": "ipython",
    "version": 3
   },
   "file_extension": ".py",
   "mimetype": "text/x-python",
   "name": "python",
   "nbconvert_exporter": "python",
   "pygments_lexer": "ipython3",
   "version": "3.9.0"
  },
  "vscode": {
   "interpreter": {
    "hash": "5252e5327a2efbab7c42f5d52cb87d9bedc44c7d9d6a615ebff0e5d85896cfce"
   }
  }
 },
 "nbformat": 4,
 "nbformat_minor": 5
}
