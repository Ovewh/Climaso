{
 "cells": [
  {
   "cell_type": "code",
   "execution_count": 2,
   "id": "07c73e80",
   "metadata": {},
   "outputs": [],
   "source": [
    "import xarray as xr\n",
    "from workflow.scripts.utils import regrid_global"
   ]
  },
  {
   "cell_type": "code",
   "execution_count": 8,
   "id": "2af7499a",
   "metadata": {},
   "outputs": [],
   "source": [
    "ds = xr.open_dataset(snakemake.input.forcing)\n",
    "antro_aod = xr.open_dataset(snakemake.input.aod)\n",
    "vname = snakemake.wildcards.vName"
   ]
  },
  {
   "cell_type": "code",
   "execution_count": 4,
   "id": "79920b8c",
   "metadata": {},
   "outputs": [],
   "source": [
    "if ds.attrs.get('regridded', 'False') == 'False':\n",
    "    if not ds.cf.bounds.get('lon',None):\n",
    "        ds = ds.cf.add_bounds(['lon','lat'])\n",
    "\n",
    "    grid_params = snakemake.config['regrid_params']\n",
    "    grid_path = grid_params.get('grid_path',None)\n",
    "    method=grid_params.get('method','conservative')\n",
    "    if grid_path:\n",
    "        out_grid = xr.open_dataset(grid_path)\n",
    "        ds = regrid_global(ds, out_grid, method=method)\n",
    "    elif grid_params.get('dxdy',None):\n",
    "        dxdy = grid_params['dxdy']\n",
    "        ds = regrid_global(ds, lon=dxdy[0], lat=dxdy[1], method=method)\n",
    "    else:\n",
    "        print('No outgrid provided!')\n"
   ]
  },
  {
   "cell_type": "code",
   "execution_count": 7,
   "id": "ce0c738d",
   "metadata": {},
   "outputs": [],
   "source": [
    "snakemake.config['regrid_params']"
   ]
  },
  {
   "cell_type": "code",
   "execution_count": 12,
   "id": "00d85799",
   "metadata": {},
   "outputs": [],
   "source": [
    "ds.attrs.get('regridded', 'False') == 'False'"
   ]
  },
  {
   "cell_type": "code",
   "execution_count": 37,
   "id": "260599c8",
   "metadata": {},
   "outputs": [],
   "source": [
    "out_ds = ds.copy()\n",
    "\n",
    "out_ds = out_ds.assign({f'{snakemake.wildcards.vName}_aod': ds[vname]/antro_aod['od550aer'].values})\n",
    "\n",
    "out_ds['ERFt_aod'].attrs['units'] = 'W m-2 AOD-1'\n",
    "out_ds['ERFt_aod'].attrs['long_name'] = 'Annual mean forcing efficiency at the top of the atmosphere'\n",
    "out_ds = out_ds.drop(vname)\n",
    "\n",
    "out_ds.to_netcdf(snakemake.output.outpath)"
   ]
  }
 ],
 "metadata": {
  "kernelspec": {
   "display_name": "Python 3.9.0 ('dustysnake')",
   "language": "python",
   "name": "python3"
  },
  "language_info": {
   "codemirror_mode": {
    "name": "ipython",
    "version": 3
   },
   "file_extension": ".py",
   "mimetype": "text/x-python",
   "name": "python",
   "nbconvert_exporter": "python",
   "pygments_lexer": "ipython3",
   "version": "3.9.0"
  },
  "vscode": {
   "interpreter": {
    "hash": "5252e5327a2efbab7c42f5d52cb87d9bedc44c7d9d6a615ebff0e5d85896cfce"
   }
  }
 },
 "nbformat": 4,
 "nbformat_minor": 5
}
