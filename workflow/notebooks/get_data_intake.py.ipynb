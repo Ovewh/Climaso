{
 "cells": [
  {
   "cell_type": "code",
   "execution_count": 2,
   "id": "78ff9404",
   "metadata": {},
   "outputs": [],
   "source": [
    "import intake\n",
    "\n",
    "from workflow.scripts.utils import copy_meta_data_CMIP,transelate_aerocom_helper, regrid_global\n",
    "from pyclim_noresm.general_util_funcs import yearly_avg\n",
    "import time\n",
    "import pathlib as pl\n",
    "import xarray as xr\n",
    "from functools import partial\n",
    "import xesmf\n",
    "import pandas as pd"
   ]
  },
  {
   "cell_type": "code",
   "execution_count": 3,
   "id": "661f4593",
   "metadata": {},
   "outputs": [],
   "source": [
    "esm_cat = intake.open_esm_datastore(snakemake.input.catalog)"
   ]
  },
  {
   "cell_type": "code",
   "execution_count": 4,
   "id": "d6789e49",
   "metadata": {},
   "outputs": [],
   "source": [
    "kind = snakemake.params.get(\"kind\", \"experiment\")\n",
    "params = snakemake.params\n",
    "accumlative_vars = params.get('accumalative_vars',None)\n"
   ]
  },
  {
   "cell_type": "code",
   "execution_count": 5,
   "id": "e498e0b8",
   "metadata": {},
   "outputs": [],
   "source": [
    "exp_id = snakemake.wildcards.experiment\n",
    "mod_id = snakemake.wildcards.model\n",
    "var_id = snakemake.wildcards.variable\n",
    "freq = snakemake.wildcards.freq\n",
    "table_id = snakemake.config['table_ids'].get(var_id, snakemake.config['table_id_default'])\n",
    "if snakemake.config['model_specific_variant'].get(exp_id, None):\n",
    "    memb_id = snakemake.config['model_specific_variant'][exp_id].get(mod_id, snakemake.config['variant_default'])\n",
    "else:\n",
    "    memb_id = snakemake.config['variant_default']"
   ]
  },
  {
   "cell_type": "code",
   "execution_count": 6,
   "id": "623d9df5",
   "metadata": {},
   "outputs": [],
   "source": [
    "col = esm_cat.search(experiment_id=exp_id,\n",
    "                    source_id=mod_id,\n",
    "                     variable_id = var_id,\n",
    "                     member_id=memb_id,\n",
    "                     table_id=table_id\n",
    ")\n",
    "\n",
    "if col.nunique().version > 1:\n",
    "    latest = max(col.df['version'].unique())\n",
    "    col = col.search(version=[latest])"
   ]
  },
  {
   "cell_type": "code",
   "execution_count": 7,
   "id": "de069031",
   "metadata": {},
   "outputs": [],
   "source": [
    "ds = col.to_dataset_dict(xarray_open_kwargs={'use_cftime':True})\n",
    "ds = ds[list(ds.keys())[0]]\n",
    "ds = ds.drop('member_id').squeeze()"
   ]
  },
  {
   "cell_type": "code",
   "execution_count": 8,
   "id": "bd2f68f6",
   "metadata": {},
   "outputs": [],
   "source": [
    "def regrid_dataset(ds, grid_params, grid_path):\n",
    "\n",
    "    method=grid_params.get('method','conservative')\n",
    "    if grid_path:\n",
    "        out_grid = xr.open_dataset(grid_path)\n",
    "        ds = regrid_global(ds, out_grid, method=method)\n",
    "    elif grid_params.get('dxdy',None):\n",
    "        dxdy = grid_params['dxdy']\n",
    "        ds= regrid_global(ds, lon=dxdy[0], lat=dxdy[1], method=method,ignore_degenerate=True)\n",
    "    else:\n",
    "        print('No outgrid provided!')\n",
    "    return ds"
   ]
  },
  {
   "cell_type": "code",
   "execution_count": 16,
   "id": "6d640dd1",
   "metadata": {},
   "outputs": [],
   "source": [
    "def check_bounds(ds, variable):\n",
    "    return 'time' in set(ds.cf.get_bounds(variable).dims) - set(ds.cf[variable].dims)\n",
    "if 'lon_bnds' in ds.coords or 'lat_bnds' in ds.coords:\n",
    "    if check_bounds(ds, 'longitude') or check_bounds(ds, 'latitude'):\n",
    "        ds = ds.drop('lon_bnds')\n",
    "        ds = ds.drop('lat_bnds')\n",
    "        ds = ds.cf.add_bounds('latitude', dim='lat')\n",
    "        ds = ds.cf.add_bounds('longitude', dim='lon')"
   ]
  },
  {
   "cell_type": "code",
   "execution_count": 17,
   "id": "a70218c1",
   "metadata": {
    "scrolled": false
   },
   "outputs": [],
   "source": [
    "if snakemake.config.get('regrid_params', None) and snakemake.params.get('regrid', True):\n",
    "    grid_params=snakemake.config['regrid_params']\n",
    "    regrid_func = partial(regrid_dataset,grid_params = snakemake.config['regrid_params'],\n",
    "                                            grid_path = grid_params.get('grid_path',None))\n",
    "    ds = regrid_func(ds)"
   ]
  },
  {
   "cell_type": "code",
   "execution_count": 18,
   "id": "c8444876",
   "metadata": {},
   "outputs": [],
   "source": [
    "with xr.set_options(keep_attrs=True):\n",
    "    if not ds.cf.bounds.get('lon', None):\n",
    "        ds = ds.cf.add_bounds(['lon', 'lat'])\n",
    "    if freq == 'Ayear':\n",
    "        if 'time_bnds' in ds.data_vars:\n",
    "            data = ds.drop_vars('time_bnds')\n",
    "        if var_id in accumlative_vars:\n",
    "            data=ds\n",
    "            vname = ds.variable_id\n",
    "            data=data[data.variable_id].resample(time='Y').mean()*365*24*60*60\n",
    "            data.attrs['units'] = '{} year-1'.format(' '.join(data.attrs['units'].split(' ')[:-1]))\n",
    "            data = data.to_dataset(name=vname)\n",
    "            data.attrs['history'] = ds.attrs.get('history', '') + f', accumulated over a year'\n",
    "            dvar_attrs = copy_meta_data_CMIP(data[var_id].attrs)\n",
    "        else:\n",
    "            #data[data.variable_id] = yearly_avg(data[data.variable_id])\n",
    "            data=ds.resample(time='Y').mean()\n",
    "            data.attrs['history'] = data.attrs.get('history','') + f', annual average'\n",
    "            dvar_attrs = copy_meta_data_CMIP(data[var_id].attrs)\n",
    "        data = data.assign({ds.cf.bounds['lon'][0]:ds[ds.cf.bounds['lon'][0]]})\n",
    "        data = data.assign({ds.cf.bounds['lat'][0]:ds[ds.cf.bounds['lat'][0]]})\n",
    "    elif freq == 'clim':\n",
    "        t0 = data.time[0].dt.strftime('%Y/%m').values\n",
    "        t1 = data.time[0].dt.strftime('%Y/%m').values\n",
    "        data = data.groupby('time.month').mean('time')\n",
    "        data[data.variable_id].attrs['history'] = data[data.variable_id].attrs.get('history','') + f', clim mean {t0}-{t1}'\n",
    "        if wildcards.freq=='2010':\n",
    "            import cftime\n",
    "            import pandas as pd\n",
    "            data = data.rename(month='time')\n",
    "            cftimes = cftime.date2num(pd.date_range('2010-01-31','2010-12-31', freq='M').to_list(),\n",
    "                                              'days since 2010-01-01', \n",
    "                                                  has_year_zero=False, calendar = 'gregorian')\n",
    "            data = data.assign_coords(time=cftimes)\n",
    "            data.time.attrs['units'] = 'days since 2010-01-01'\n",
    "        dvar_attrs = copy_meta_data_CMIP(data[var_id].attrs)\n",
    "        \n",
    "    elif freq == 'Amon':\n",
    "        data = ds\n",
    "    else:\n",
    "        raise(ValueError(f'{wildcards.freq} is an invalid frequency'))"
   ]
  },
  {
   "cell_type": "code",
   "execution_count": 19,
   "id": "a834182a",
   "metadata": {},
   "outputs": [],
   "source": [
    "data.attrs['frequency'] = snakemake.wildcards.freq\n",
    "data.to_netcdf(snakemake.output.outpath)"
   ]
  }
 ],
 "metadata": {
  "kernelspec": {
   "display_name": "Python 3 (ipykernel)",
   "language": "python",
   "name": "python3"
  },
  "language_info": {
   "codemirror_mode": {
    "name": "ipython",
    "version": 3
   },
   "file_extension": ".py",
   "mimetype": "text/x-python",
   "name": "python",
   "nbconvert_exporter": "python",
   "pygments_lexer": "ipython3",
   "version": "3.10.2"
  }
 },
 "nbformat": 4,
 "nbformat_minor": 5
}
