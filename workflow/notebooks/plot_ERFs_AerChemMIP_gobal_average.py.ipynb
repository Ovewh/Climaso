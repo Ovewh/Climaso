{
 "cells": [
  {
   "cell_type": "code",
   "execution_count": 2,
   "id": "4cf202c7",
   "metadata": {},
   "outputs": [],
   "source": [
    "import matplotlib.pyplot as plt\n",
    "import xarray as xr\n",
    "import pandas as pd\n",
    "from pyclim_noresm.general_util_funcs import global_avg\n",
    "import matplotlib"
   ]
  },
  {
   "cell_type": "code",
   "execution_count": 5,
   "id": "bea53df2",
   "metadata": {},
   "outputs": [],
   "source": [
    "paths = sorted(snakemake.input.paths)\n",
    "vname = snakemake.wildcards.vName"
   ]
  },
  {
   "cell_type": "code",
   "execution_count": 16,
   "id": "6666b509",
   "metadata": {},
   "outputs": [],
   "source": [
    "erfs = {}\n",
    "erfs['mean'] = {}\n",
    "erfs['std'] = {}\n",
    "for path in paths:\n",
    "    ds = xr.open_dataset(path)\n",
    "    source = ds.parent_source_id\n",
    "    ts = ds.mean(dim='year')\n",
    "    ts = global_avg(ts[vname])\n",
    "    std = global_avg(ds[vname])\n",
    "    std = std.std(dim='year')\n",
    "\n",
    "    erfs['mean'][source] = ts.values\n",
    "    erfs['std'][source] = std.values\n",
    "    "
   ]
  },
  {
   "cell_type": "code",
   "execution_count": 18,
   "id": "b903c19c",
   "metadata": {},
   "outputs": [],
   "source": [
    "df = pd.DataFrame(erfs['mean'],index=['mean'])"
   ]
  },
  {
   "cell_type": "code",
   "execution_count": 19,
   "id": "ff6043dc",
   "metadata": {},
   "outputs": [],
   "source": [
    "df.loc['mean','Multi-model'] = df.loc['mean',:].mean()\n",
    "df = df.transpose()"
   ]
  },
  {
   "cell_type": "code",
   "execution_count": 20,
   "id": "e41d3ec8",
   "metadata": {},
   "outputs": [],
   "source": [
    "vmax=round(abs(df.loc[:,'mean']).max()+0.1,1)"
   ]
  },
  {
   "cell_type": "code",
   "execution_count": 21,
   "id": "570aa384",
   "metadata": {},
   "outputs": [],
   "source": [
    "fig, ax = plt.subplots(figsize=(6,6))\n",
    "ax.axvline(color='darkgrey')\n",
    "df.plot.barh(ax=ax, legend=False)\n",
    "ax.set_xlim(-vmax,vmax)\n",
    "ax.set_xlabel('$W/m^2$')\n",
    "plt.savefig(snakemake.output.outpath, bbox_inches='tight', facecolor='white')"
   ]
  }
 ],
 "metadata": {
  "kernelspec": {
   "display_name": "Python 3 (ipykernel)",
   "language": "python",
   "name": "python3"
  },
  "language_info": {
   "codemirror_mode": {
    "name": "ipython",
    "version": 3
   },
   "file_extension": ".py",
   "mimetype": "text/x-python",
   "name": "python",
   "nbconvert_exporter": "python",
   "pygments_lexer": "ipython3",
   "version": "3.9.0"
  }
 },
 "nbformat": 4,
 "nbformat_minor": 5
}
