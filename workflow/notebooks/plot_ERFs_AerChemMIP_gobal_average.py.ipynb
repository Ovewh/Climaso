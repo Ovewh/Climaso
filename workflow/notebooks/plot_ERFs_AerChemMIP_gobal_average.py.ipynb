{
 "cells": [
  {
   "cell_type": "code",
   "execution_count": 2,
   "id": "4cf202c7",
   "metadata": {},
   "outputs": [],
   "source": [
    "import matplotlib.pyplot as plt\n",
    "import xarray as xr\n",
    "import pandas as pd\n",
    "from pyclim_noresm.general_util_funcs import global_avg\n",
    "from workflow.scripts.utils import calc_error\n",
    "import matplotlib\n",
    "import numpy as np"
   ]
  },
  {
   "cell_type": "code",
   "execution_count": 3,
   "id": "bea53df2",
   "metadata": {},
   "outputs": [],
   "source": [
    "paths = sorted(snakemake.input.paths)\n",
    "vname = snakemake.wildcards.vName\n",
    "params=snakemake.params\n",
    "time_slice = params.get('time_slice', slice(3,-1))"
   ]
  },
  {
   "cell_type": "code",
   "execution_count": 6,
   "id": "6666b509",
   "metadata": {},
   "outputs": [],
   "source": [
    "erfs = {}\n",
    "erfs['mean'] = {}\n",
    "erfs['std'] = {}\n",
    "\n",
    "for path in paths:\n",
    "    ds = xr.open_dataset(path)\n",
    "    ds = ds.rename({'year':'time'})    \n",
    "    source = ds.parent_source_id\n",
    "    ts = global_avg(ds[vname])\n",
    "    ts = ts.mean(dim='time')\n",
    "    std = calc_error(ds[vname], kind='SEM',time_dim='time')\n",
    "    erfs['mean'][source] = ts.values\n",
    "    erfs['std'][source] = std.values\n",
    "    "
   ]
  },
  {
   "cell_type": "code",
   "execution_count": 7,
   "id": "b903c19c",
   "metadata": {},
   "outputs": [],
   "source": [
    "df = pd.DataFrame(erfs)\n",
    "nmodels = len(df['mean'])\n",
    "multimodel_mean= df['mean'].mean()\n",
    "error = df['mean'].std()/np.sqrt(nmodels)\n",
    "df.loc['Multi-model','mean'] = multimodel_mean \n",
    "df.loc['Multi-model', 'std'] =error\n",
    "# df = df.transpose()\n",
    "vmax=round(abs(df.loc[:,'mean']).max()+0.1,1)\n",
    "df = df.astype(float)"
   ]
  },
  {
   "cell_type": "code",
   "execution_count": null,
   "id": "570aa384",
   "metadata": {},
   "outputs": [],
   "source": [
    "fig, ax = plt.subplots(figsize=(6,6))\n",
    "ax.axvline(color='darkgrey')\n",
    "df['mean'].plot.barh(ax=ax, legend=False, xerr=df['std'])\n",
    "ax.set_xlim(-vmax,vmax)\n",
    "ax.set_xlabel('$W/m^2$')\n",
    "plt.savefig(snakemake.output.outpath, bbox_inches='tight', facecolor='white')"
   ]
  },
  {
   "cell_type": "code",
   "execution_count": null,
   "id": "b4a9f5a6",
   "metadata": {},
   "outputs": [],
   "source": []
  }
 ],
 "metadata": {
  "kernelspec": {
   "display_name": "dustysnake",
   "language": "python",
   "name": "dustysnake"
  },
  "language_info": {
   "codemirror_mode": {
    "name": "ipython",
    "version": 3
   },
   "file_extension": ".py",
   "mimetype": "text/x-python",
   "name": "python",
   "nbconvert_exporter": "python",
   "pygments_lexer": "ipython3",
   "version": "3.9.0"
  }
 },
 "nbformat": 4,
 "nbformat_minor": 5
}
