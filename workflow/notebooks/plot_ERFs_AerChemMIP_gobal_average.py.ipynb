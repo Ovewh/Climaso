{
 "cells": [
  {
   "cell_type": "code",
   "execution_count": 2,
   "id": "4cf202c7",
   "metadata": {},
   "outputs": [],
   "source": [
    "import matplotlib.pyplot as plt\n",
    "import xarray as xr\n",
    "import pandas as pd\n",
    "from pyclim_noresm.general_util_funcs import global_avg\n",
    "from workflow.scripts.utils import calc_error\n",
    "import matplotlib\n",
    "import numpy as np"
   ]
  },
  {
   "cell_type": "code",
   "execution_count": 3,
   "id": "bea53df2",
   "metadata": {},
   "outputs": [],
   "source": [
    "paths = sorted(snakemake.input.paths)\n",
    "vname = snakemake.wildcards.vName"
   ]
  },
  {
   "cell_type": "code",
   "execution_count": 9,
   "id": "6666b509",
   "metadata": {},
   "outputs": [],
   "source": [
    "erfs = {}\n",
    "erfs['mean'] = {}\n",
    "erfs['std'] = {}\n",
    "for path in paths:\n",
    "    ds = xr.open_dataset(path)\n",
    "    source = ds.parent_source_id\n",
    "    ts = ds.mean(dim='year')\n",
    "    ts = global_avg(ts[vname])\n",
    "    std = calc_error(ds[vname], kind='SEM')\n",
    "\n",
    "    erfs['mean'][source] = ts.values\n",
    "    erfs['std'][source] = std.values\n",
    "    "
   ]
  },
  {
   "cell_type": "code",
   "execution_count": 10,
   "id": "b903c19c",
   "metadata": {},
   "outputs": [],
   "source": [
    "df = pd.DataFrame(erfs)\n",
    "nmodels = len(df['mean'])\n",
    "multimodel_mean= df['mean'].mean()\n",
    "error = df['mean'].std()/np.sqrt(nmodels)\n",
    "df.loc['Multi-model','mean'] = multimodel_mean \n",
    "df.loc['Multi-model', 'std'] =error\n",
    "# df = df.transpose()\n",
    "vmax=round(abs(df.loc[:,'mean']).max()+0.1,1)\n",
    "df = df.astype(float)"
   ]
  },
  {
   "cell_type": "code",
   "execution_count": 8,
   "id": "6aa00095",
   "metadata": {},
   "outputs": [],
   "source": [
    "vname"
   ]
  },
  {
   "cell_type": "code",
   "execution_count": 12,
   "id": "b93a9531",
   "metadata": {},
   "outputs": [],
   "source": [
    "df"
   ]
  },
  {
   "cell_type": "code",
   "execution_count": 11,
   "id": "570aa384",
   "metadata": {},
   "outputs": [],
   "source": [
    "fig, ax = plt.subplots(figsize=(6,6))\n",
    "ax.axvline(color='darkgrey')\n",
    "df['mean'].plot.barh(ax=ax, legend=False, xerr=df['std'])\n",
    "ax.set_xlim(-vmax,vmax)\n",
    "ax.set_xlabel('$W/m^2$')\n",
    "plt.savefig(snakemake.output.outpath, bbox_inches='tight', facecolor='white')"
   ]
  }
 ],
 "metadata": {
  "kernelspec": {
   "display_name": "dustysnake",
   "language": "python",
   "name": "dustysnake"
  },
  "language_info": {
   "codemirror_mode": {
    "name": "ipython",
    "version": 3
   },
   "file_extension": ".py",
   "mimetype": "text/x-python",
   "name": "python",
   "nbconvert_exporter": "python",
   "pygments_lexer": "ipython3",
   "version": "3.9.0"
  }
 },
 "nbformat": 4,
 "nbformat_minor": 5
}
