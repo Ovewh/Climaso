{
 "cells": [
  {
   "cell_type": "code",
   "execution_count": null,
   "id": "d6ac30a8",
   "metadata": {},
   "outputs": [],
   "source": [
    "import intake\n",
    "import xarray as xr\n",
    "import numpy as np \n",
    "from functools import partial\n",
    "from workflow.scripts.utils import  regrid_global\n",
    "import matplotlib.pyplot as plt\n",
    "from workflow.scripts.plotting_tools import global_map\n",
    "import statsmodels.api as sm"
   ]
  },
  {
   "cell_type": "code",
   "execution_count": null,
   "id": "c3fd7291",
   "metadata": {},
   "outputs": [],
   "source": [
    "\n",
    "var_id = 'od550dust'\n",
    "exp_id = 'piClim-control'\n",
    "table_id = snakemake.config['table_ids'].get(var_id, snakemake.config['table_id_default'])\n",
    "tresh = snakemake.params.get('od_percentile', .9)\n",
    "\n",
    "esm_cat = intake.open_esm_datastore(snakemake.input.catalog)\n",
    "\n",
    "col = esm_cat.search(experiment_id = exp_id, variable_id=var_id)\n",
    "mod_id2xdust = esm_cat.search(experiment_id = 'piClim-2xdust', variable_id=var_id).unique()['source_id']\n",
    "\n",
    "mod_ids = list(col.unique()['source_id'])\n",
    "mod_id2xdust = list(mod_id2xdust)\n",
    "\n",
    "mod_ids = [mod_id for mod_id in mod_ids if mod_id in mod_id2xdust]"
   ]
  },
  {
   "cell_type": "code",
   "execution_count": null,
   "id": "c68f2c55",
   "metadata": {},
   "outputs": [],
   "source": [
    "def regrid_dataset(ds, grid_params, grid_path):\n",
    "\n",
    "    method=grid_params.get('method','conservative')\n",
    "    if grid_path:\n",
    "        out_grid = xr.open_dataset(grid_path)\n",
    "        ds = regrid_global(ds, out_grid, method=method)\n",
    "    elif grid_params.get('dxdy',None):\n",
    "        dxdy = grid_params['dxdy']\n",
    "        ds= regrid_global(ds, lon=dxdy[0], lat=dxdy[1], method=method,ignore_degenerate=True)\n",
    "    else:\n",
    "        print('No outgrid provided!')\n",
    "    return ds\n",
    "\n",
    "def get_dod_treshold(data,surfFrac=0.8):\n",
    "    data_1d = data.values.ravel()\n",
    "    edcf = sm.distributions.ECDF(data_1d)\n",
    "    filtered = np.where(edcf.y>surfFrac, edcf.x, np.nan)\n",
    "    filtered = filtered[~np.isnan(filtered)]\n",
    "    return filtered.min()"
   ]
  },
  {
   "cell_type": "code",
   "execution_count": null,
   "id": "590d015f",
   "metadata": {},
   "outputs": [],
   "source": [
    "dsets = {}\n",
    "for mod_id in mod_ids:\n",
    "    if snakemake.config['model_specific_variant'].get(exp_id, None):\n",
    "        memb_id = snakemake.config['model_specific_variant'][exp_id].get(mod_id, \n",
    "                                                                         snakemake.config['variant_default'])\n",
    "    else:\n",
    "        memb_id = snakemake.config['variant_default']\n",
    "    temp_col = col.search(source_id=mod_id, member_id=memb_id, table_id=table_id)\n",
    "    ds = temp_col.to_dataset_dict(progressbar=False)\n",
    "    ds = ds[list(ds.keys())[0]]\n",
    "    ds = ds.drop('member_id').squeeze() \n",
    "    if snakemake.config.get('regrid_params', None) and snakemake.params.get('regrid', True):\n",
    "        if ds.data_vars.get('lon_bnds') is not None:\n",
    "            if 'time' in ds.lon_bnds.dims:\n",
    "                ds = ds.drop('lon_bnds')\n",
    "        grid_params=snakemake.config['regrid_params']\n",
    "        regrid_func = partial(regrid_dataset,grid_params = snakemake.config['regrid_params'],\n",
    "                                                grid_path = grid_params.get('grid_path',None))\n",
    "    dsets[mod_id] = regrid_func(ds).groupby(\"time.month\").mean().load()\n"
   ]
  },
  {
   "cell_type": "code",
   "execution_count": null,
   "id": "2be8e99e",
   "metadata": {},
   "outputs": [],
   "source": [
    "def create_mask_dataset(dsets, tresh=.9):\n",
    "    out_ds = xr.zeros_like(dsets[next(iter(dsets))])\n",
    "    out_ds = out_ds.rename({'od550dust': 'mean'})\n",
    "    masks = []\n",
    "    for k, ds in dsets.items():\n",
    "        temp_mask = ds['od550dust'].mean(dim='month')\n",
    "        tresh_od = get_dod_treshold(temp_mask,tresh)\n",
    "        temp_mask = xr.where(temp_mask>tresh_od,1,0)\n",
    "        if 'wavelength' in temp_mask.coords:\n",
    "            temp_mask = temp_mask.drop('wavelength')\n",
    "        \n",
    "        out_ds = out_ds.assign({k:temp_mask})\n",
    "        \n",
    "        masks.append(temp_mask)\n",
    "    multi_models = xr.concat(masks,dim='mod').mean(dim='mod')\n",
    "    out_ds = out_ds.assign({'mean':multi_models})\n",
    "    return out_ds\n"
   ]
  },
  {
   "cell_type": "code",
   "execution_count": null,
   "id": "2a29ea53",
   "metadata": {},
   "outputs": [],
   "source": [
    "mask = create_mask_dataset(dsets, tresh)\n",
    "mask.to_netcdf(snakemake.output.outpath)"
   ]
  }
 ],
 "metadata": {
  "kernelspec": {
   "display_name": "Python 3 (ipykernel)",
   "language": "python",
   "name": "python3"
  },
  "language_info": {
   "codemirror_mode": {
    "name": "ipython",
    "version": 3
   },
   "file_extension": ".py",
   "mimetype": "text/x-python",
   "name": "python",
   "nbconvert_exporter": "python",
   "pygments_lexer": "ipython3",
   "version": "3.10.2"
  }
 },
 "nbformat": 4,
 "nbformat_minor": 5
}
