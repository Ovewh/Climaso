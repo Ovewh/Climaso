{
 "cells": [
  {
   "cell_type": "code",
   "execution_count": 2,
   "id": "d6ac30a8",
   "metadata": {},
   "outputs": [],
   "source": [
    "import intake\n",
    "import xarray as xr\n",
    "import numpy as np \n",
    "from functools import partial\n",
    "from workflow.scripts.utils import  regrid_global\n",
    "import matplotlib.pyplot as plt\n",
    "from workflow.scripts.plotting_tools import global_map\n",
    "import statsmodels.api as sm"
   ]
  },
  {
   "cell_type": "code",
   "execution_count": 3,
   "id": "c3fd7291",
   "metadata": {},
   "outputs": [],
   "source": [
    "\n",
    "var_id = 'od550dust'\n",
    "exp_id = 'piClim-control'\n",
    "table_id = snakemake.config['table_ids'].get(var_id, snakemake.config['table_id_default'])\n"
   ]
  },
  {
   "cell_type": "code",
   "execution_count": 4,
   "id": "eba84240",
   "metadata": {},
   "outputs": [],
   "source": [
    "esm_cat = intake.open_esm_datastore(snakemake.input.catalog)"
   ]
  },
  {
   "cell_type": "code",
   "execution_count": 5,
   "id": "4657ff9d",
   "metadata": {},
   "outputs": [],
   "source": [
    "col = esm_cat.search(experiment_id = exp_id, variable_id=var_id)\n",
    "mod_id2xdust = esm_cat.search(experiment_id = 'piClim-2xdust', variable_id=var_id).unique()['source_id']"
   ]
  },
  {
   "cell_type": "code",
   "execution_count": 6,
   "id": "1d61ed4c",
   "metadata": {},
   "outputs": [],
   "source": [
    "mod_ids = list(col.unique()['source_id'])\n",
    "mod_id2xdust = list(mod_id2xdust)\n",
    "\n",
    "mod_ids = [mod_id for mod_id in mod_ids if mod_id in mod_id2xdust]"
   ]
  },
  {
   "cell_type": "code",
   "execution_count": 34,
   "id": "c68f2c55",
   "metadata": {},
   "outputs": [],
   "source": [
    "def regrid_dataset(ds, grid_params, grid_path):\n",
    "\n",
    "    method=grid_params.get('method','conservative')\n",
    "    if grid_path:\n",
    "        out_grid = xr.open_dataset(grid_path)\n",
    "        ds = regrid_global(ds, out_grid, method=method)\n",
    "    elif grid_params.get('dxdy',None):\n",
    "        dxdy = grid_params['dxdy']\n",
    "        ds= regrid_global(ds, lon=dxdy[0], lat=dxdy[1], method=method,ignore_degenerate=True)\n",
    "    else:\n",
    "        print('No outgrid provided!')\n",
    "    return ds\n",
    "\n",
    "def get_dod_treshold(data,surfFrac=0.8):\n",
    "    data_1d = data.values.ravel()\n",
    "    edcf = sm.distributions.ECDF(data_1d)\n",
    "#     return edcf\n",
    "    filtered = np.where(edcf.y>surfFrac, edcf.x, np.nan)\n",
    "    filtered = filtered[~np.isnan(filtered)]\n",
    "    return filtered.min()"
   ]
  },
  {
   "cell_type": "code",
   "execution_count": 28,
   "id": "590d015f",
   "metadata": {},
   "outputs": [],
   "source": [
    "dsets = {}\n",
    "for mod_id in mod_ids:\n",
    "    if snakemake.config['model_specific_variant'].get(exp_id, None):\n",
    "        memb_id = snakemake.config['model_specific_variant'][exp_id].get(mod_id, snakemake.config['variant_default'])\n",
    "    else:\n",
    "        memb_id = snakemake.config['variant_default']\n",
    "    temp_col = col.search(source_id=mod_id, member_id=memb_id, table_id=table_id)\n",
    "    ds = temp_col.to_dataset_dict(progressbar=False)\n",
    "    ds = ds[list(ds.keys())[0]]\n",
    "    ds = ds.drop('member_id').squeeze() \n",
    "    if snakemake.config.get('regrid_params', None) and snakemake.params.get('regrid', True):\n",
    "        if ds.data_vars.get('lon_bnds') is not None:\n",
    "            if 'time' in ds.lon_bnds.dims:\n",
    "                ds = ds.drop('lon_bnds')\n",
    "        grid_params=snakemake.config['regrid_params']\n",
    "        regrid_func = partial(regrid_dataset,grid_params = snakemake.config['regrid_params'],\n",
    "                                                grid_path = grid_params.get('grid_path',None))\n",
    "    dsets[mod_id] = regrid_func(ds).groupby(\"time.month\").mean().load()\n",
    "\n",
    "\n",
    "\n"
   ]
  },
  {
   "cell_type": "code",
   "execution_count": 33,
   "id": "2be8e99e",
   "metadata": {},
   "outputs": [],
   "source": [
    "tresh_od"
   ]
  },
  {
   "cell_type": "code",
   "execution_count": 37,
   "id": "7d27647a",
   "metadata": {},
   "outputs": [],
   "source": [
    "tresh_od = get_dod_treshold(data_nor, .75)\n",
    "data_nor.where(data_nor>tresh_od).min()"
   ]
  },
  {
   "cell_type": "code",
   "execution_count": 38,
   "id": "71d3bfef",
   "metadata": {},
   "outputs": [],
   "source": [
    "import cartopy.crs as ccrs\n",
    "fig, ax = plt.subplots(subplot_kw={'projection':ccrs.PlateCarree()})\n",
    "global_map(ax)\n",
    "data_nor = dsets['NorESM2-LM']['od550dust'].mean(dim='month')\n",
    "tresh_od = get_dod_treshold(data_nor)\n",
    "dusty = data_nor.where(data_nor>tresh_od)\n",
    "dusty.plot(ax=ax)"
   ]
  },
  {
   "cell_type": "code",
   "execution_count": 39,
   "id": "2bc782ae",
   "metadata": {},
   "outputs": [],
   "source": [
    "fig, ax = plt.subplots(subplot_kw={'projection':ccrs.PlateCarree()})\n",
    "data = dsets['UKESM1-0-LL']['od550dust'].mean(dim='month')\n",
    "global_map(ax)\n",
    "t = get_dod_treshold(data,.75)\n",
    "dusty = data.where(data>t)\n",
    "dusty.plot(ax=ax)"
   ]
  },
  {
   "cell_type": "code",
   "execution_count": 41,
   "id": "6f2a1eb8",
   "metadata": {},
   "outputs": [],
   "source": [
    "fig, ax = plt.subplots(subplot_kw={'projection':ccrs.PlateCarree()})\n",
    "data = dsets['MPI-ESM-1-2-HAM']['od550dust'].mean(dim='month')\n",
    "global_map(ax)\n",
    "t = get_dod_treshold(data,.75)\n",
    "dusty = data.where(data>t)\n",
    "dusty.plot(ax=ax)"
   ]
  },
  {
   "cell_type": "code",
   "execution_count": 40,
   "id": "a8d4f2ad",
   "metadata": {},
   "outputs": [],
   "source": [
    "fig, ax = plt.subplots(subplot_kw={'projection':ccrs.PlateCarree()})\n",
    "data = dsets['EC-Earth3-AerChem']['od550dust'].mean(dim='month')\n",
    "global_map(ax)\n",
    "t = get_dod_treshold(data,.75)\n",
    "dusty = data.where(data>t)\n",
    "dusty.plot(ax=ax)"
   ]
  },
  {
   "cell_type": "code",
   "execution_count": null,
   "id": "2a29ea53",
   "metadata": {},
   "outputs": [],
   "source": []
  },
  {
   "cell_type": "code",
   "execution_count": null,
   "id": "200b84b5",
   "metadata": {},
   "outputs": [],
   "source": [
    "dist = sm.distributions.ECDF(values_1d)\n"
   ]
  },
  {
   "cell_type": "code",
   "execution_count": null,
   "id": "b8456ac6",
   "metadata": {},
   "outputs": [],
   "source": [
    "filr = np.where(dist.y > 0.75, dist.x,np.nan)"
   ]
  },
  {
   "cell_type": "code",
   "execution_count": null,
   "id": "d1f28717",
   "metadata": {},
   "outputs": [],
   "source": [
    "filr[~np.isnan(filr)][0]"
   ]
  },
  {
   "cell_type": "code",
   "execution_count": null,
   "id": "6830fcb7",
   "metadata": {},
   "outputs": [],
   "source": [
    "plt.plot(dist.x, dist.y)"
   ]
  },
  {
   "cell_type": "code",
   "execution_count": null,
   "id": "f6053c3c",
   "metadata": {},
   "outputs": [],
   "source": [
    "c1 = np.random.normal(size=(300,1))"
   ]
  },
  {
   "cell_type": "code",
   "execution_count": null,
   "id": "4d83c282",
   "metadata": {},
   "outputs": [],
   "source": [
    "c2 = np.random.normal(2, 1, size=(300,1))"
   ]
  },
  {
   "cell_type": "code",
   "execution_count": null,
   "id": "7b0d15b5",
   "metadata": {},
   "outputs": [],
   "source": [
    "c2.shape"
   ]
  },
  {
   "cell_type": "code",
   "execution_count": null,
   "id": "0aa4813d",
   "metadata": {},
   "outputs": [],
   "source": [
    "c2.shape"
   ]
  },
  {
   "cell_type": "code",
   "execution_count": null,
   "id": "6043e055",
   "metadata": {},
   "outputs": [],
   "source": [
    "points.s"
   ]
  },
  {
   "cell_type": "code",
   "execution_count": null,
   "id": "b3d05a0a",
   "metadata": {},
   "outputs": [],
   "source": [
    "data.sel(lon=-179.125, lat= -89.)"
   ]
  },
  {
   "cell_type": "code",
   "execution_count": null,
   "id": "7668ae6a",
   "metadata": {},
   "outputs": [],
   "source": [
    "values.values.ravel()[0]"
   ]
  },
  {
   "cell_type": "code",
   "execution_count": null,
   "id": "5a07e26e",
   "metadata": {},
   "outputs": [],
   "source": [
    "points[0]"
   ]
  },
  {
   "cell_type": "code",
   "execution_count": null,
   "id": "1c3594e7",
   "metadata": {},
   "outputs": [],
   "source": [
    "\n",
    "values_1d.shape"
   ]
  }
 ],
 "metadata": {
  "kernelspec": {
   "display_name": "Python 3 (ipykernel)",
   "language": "python",
   "name": "python3"
  },
  "language_info": {
   "codemirror_mode": {
    "name": "ipython",
    "version": 3
   },
   "file_extension": ".py",
   "mimetype": "text/x-python",
   "name": "python",
   "nbconvert_exporter": "python",
   "pygments_lexer": "ipython3",
   "version": "3.10.2"
  }
 },
 "nbformat": 4,
 "nbformat_minor": 5
}
