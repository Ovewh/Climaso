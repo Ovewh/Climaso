{
 "cells": [
  {
   "cell_type": "code",
   "execution_count": 2,
   "id": "5fa1deb1",
   "metadata": {},
   "outputs": [],
   "source": [
    "import xarray as xr\n",
    "import geocat.comp as geocomp\n",
    "import copy\n",
    "import pathlib as pl\n",
    "import time\n",
    "from workflow.scripts.utils import calc_relative_change, calc_abs_change\n"
   ]
  },
  {
   "cell_type": "code",
   "execution_count": 22,
   "id": "a10d652d",
   "metadata": {},
   "outputs": [],
   "source": [
    "path_ctrl = snakemake.input.path_ctrl\n",
    "path_exp = snakemake.input.path_exp\n",
    "vname = snakemake.wildcards.variable\n",
    "params = snakemake.params\n",
    "time_slice = params.get('time_slice', slice(5,None))\n",
    "cmap = params.get('cmap', None)\n",
    "nlevels = params.get('nlevels', 21)"
   ]
  },
  {
   "cell_type": "code",
   "execution_count": 23,
   "id": "7861f4e1",
   "metadata": {},
   "outputs": [],
   "source": [
    "ds_ctrl = xr.open_dataset(path_ctrl[0])\n",
    "ds_exp = xr.open_dataset(path_exp[0])\n",
    "delta = calc_abs_change(ds_ctrl,ds_exp,time_slice=time_slice,vertical_sum=False)\n",
    "#delta = ds_exp[vname]-ds_ctrl[vname]\n",
    "if 'ap' in ds_ctrl.data_vars:\n",
    "    ds_ctrl = ds_ctrl.rename_vars({'ap': 'a'})\n",
    "    ds_exp = ds_exp.rename_vars({'ap': 'a'})\n",
    "\n",
    "if 'lev_bounds' in ds_ctrl.data_vars:\n",
    "    ds_ctrl = ds_ctrl.rename_vars({'lev_bounds': 'lev_bnds'})\n",
    "    ds_exp = ds_exp.rename_vars({'lev_bounds': 'lev_bnds'})\n"
   ]
  },
  {
   "cell_type": "code",
   "execution_count": 24,
   "id": "2f5d8833",
   "metadata": {},
   "outputs": [],
   "source": [
    "def get_surface_pressure_field(ds_ctrl, ds_exp):\n",
    "    path0_ctrl = pl.Path('/'.join(ds_ctrl.source.split('/')[:-4])).joinpath('ps')\n",
    "    path0_exp = pl.Path('/'.join(ds_exp.source.split('/')[:-4])).joinpath('ps')\n",
    "    return path0_ctrl, path0_exp\n",
    "    \n",
    "\n",
    "path0_, path_exp = get_surface_pressure_field(ds_ctrl, ds_exp)"
   ]
  },
  {
   "cell_type": "code",
   "execution_count": 26,
   "id": "04c8b82a",
   "metadata": {},
   "outputs": [],
   "source": [
    "ds_exp"
   ]
  },
  {
   "cell_type": "code",
   "execution_count": 21,
   "id": "15eb3c52",
   "metadata": {},
   "outputs": [],
   "source": [
    "if 'plev' not in ds_exp.coords:\n",
    "#     if ds_ctrl.source_id in ['IPSL-CM6A-LR-INCA','GISS-E2-1-G', '']:\n",
    "#         delta = delta.rename_dims({'lev':'plev'})\n",
    "#         delta = delta.rename_vars({'lev':'plev'})\n",
    "    \n",
    "    if ds_ctrl.cf['Z'].formula == 'p = a*p0 + b*ps':\n",
    "        delta = geocomp.interpolation.interp_hybrid_to_pressure(data  =delta[vname], \n",
    "                                                        ps        =ds_ctrl['ps'].sel(time=delta.time), \n",
    "                                                        hyam      =ds_ctrl['a'], \n",
    "                                                        hybm      =ds_ctrl['b'], \n",
    "                                                        p0        =ds_ctrl.get('p0', 100000.0))\n",
    "    elif ds_ctrl.cf['Z'].formula == 'p = ap + b*ps':\n",
    "        delta = geocomp.interpolation.interp_hybrid_to_pressure(data  =delta[vname], \n",
    "                                                        ps        =ds_ctrl['ps'].sel(time=delta.time), \n",
    "                                                        hyam      =ds_ctrl['a'], \n",
    "                                                        hybm      =ds_ctrl['b'], \n",
    "                                                        p0        =ds_ctrl.get('p0', 1))\n",
    "\n",
    "        \n",
    "    else:\n",
    "        print('formula not reconized')"
   ]
  },
  {
   "cell_type": "code",
   "execution_count": 12,
   "id": "faa15310",
   "metadata": {},
   "outputs": [],
   "source": [
    "delta = delta.compute()"
   ]
  },
  {
   "cell_type": "code",
   "execution_count": 13,
   "id": "efc962ea",
   "metadata": {},
   "outputs": [],
   "source": [
    "if isinstance(delta,xr.DataArray):\n",
    "    delta.attrs['long_name'] =delta.attrs['long_name']\n",
    "    delta = delta.to_dataset(name=vname)"
   ]
  },
  {
   "cell_type": "code",
   "execution_count": 14,
   "id": "d526b506",
   "metadata": {},
   "outputs": [],
   "source": [
    "delta.attrs = copy.deepcopy(ds_ctrl.attrs)"
   ]
  },
  {
   "cell_type": "code",
   "execution_count": 15,
   "id": "69b89b83",
   "metadata": {},
   "outputs": [],
   "source": [
    "delta.attrs['history'] = delta.attrs['history'] + f'@{time.ctime()} converted to standard pressure levels {pl.Path.cwd().parts[-1]}'\n",
    "delta.to_netcdf(snakemake.output.outpath)"
   ]
  }
 ],
 "metadata": {
  "kernelspec": {
   "display_name": "Python 3 (ipykernel)",
   "language": "python",
   "name": "python3"
  },
  "language_info": {
   "codemirror_mode": {
    "name": "ipython",
    "version": 3
   },
   "file_extension": ".py",
   "mimetype": "text/x-python",
   "name": "python",
   "nbconvert_exporter": "python",
   "pygments_lexer": "ipython3",
   "version": "3.10.5"
  },
  "vscode": {
   "interpreter": {
    "hash": "5252e5327a2efbab7c42f5d52cb87d9bedc44c7d9d6a615ebff0e5d85896cfce"
   }
  }
 },
 "nbformat": 4,
 "nbformat_minor": 5
}
