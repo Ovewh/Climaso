{
 "cells": [
  {
   "cell_type": "code",
   "execution_count": 2,
   "id": "32768c8f",
   "metadata": {},
   "outputs": [],
   "source": [
    "import xarray as xr\n",
    "import matplotlib.pyplot as plt\n",
    "import cartopy.crs as ccrs\n",
    "from workflow.scripts.plotting_tools import global_map\n",
    "import numpy as np\n",
    "import matplotlib as mpl\n",
    "import xesmf as xe"
   ]
  },
  {
   "cell_type": "code",
   "execution_count": 9,
   "id": "c0a7c848-9426-4e04-bda4-49354ee3c747",
   "metadata": {},
   "outputs": [],
   "source": [
    "paths = sorted(snakemake.input.paths)\n",
    "params = snakemake.params\n",
    "time_slice = params.get('time_slice', slice(3,-1))"
   ]
  },
  {
   "cell_type": "code",
   "execution_count": 7,
   "id": "5c69f383",
   "metadata": {},
   "outputs": [],
   "source": [
    "ds = xr.open_dataset(snakemake.input.paths[0])"
   ]
  },
  {
   "cell_type": "code",
   "execution_count": 8,
   "id": "7c0ebfce",
   "metadata": {},
   "outputs": [],
   "source": [
    "ds"
   ]
  },
  {
   "cell_type": "code",
   "execution_count": 10,
   "id": "4a13368b-2860-454b-a45d-455a517b9aca",
   "metadata": {},
   "outputs": [],
   "source": [
    "dsets = {}\n",
    "for path in paths:\n",
    "    ds = xr.open_dataset(path)\n",
    "    source_id = ds.source_id\n",
    "    ds = ds[snakemake.wildcards.vName].isel(year=time_slice).mean(dim='year',keep_attrs=True).to_dataset(name=f'{source_id}')\n",
    "    dsets[source_id]=ds\n",
    "    "
   ]
  },
  {
   "cell_type": "code",
   "execution_count": 11,
   "id": "0d52f156-5960-40b3-b9f0-2ef03fbaa2d9",
   "metadata": {},
   "outputs": [],
   "source": [
    "fig,ax = plt.subplot_mosaic([['a)','b)','c)'],['d)','e)','f)'],['g)','h)','i)']], \n",
    "                            subplot_kw={'projection':ccrs.PlateCarree()}, figsize=(18,10), sharex=True, sharey=True)\n",
    "norm = mpl.colors.TwoSlopeNorm(vcenter=0, vmax=11, vmin=-5)\n",
    "for k, i in zip(ax.keys(), dsets.keys()):\n",
    "    pfs = dsets[i][i].plot.contourf(ax=ax[k],levels=24,norm=norm,cmap='RdYlBu_r', add_colorbar=False)\n",
    "    ax[k].coastlines()\n",
    "    ax[k].set_title(i)\n",
    "    global_map(ax[k])\n",
    "cax = fig.add_axes([0.94,0.2,0.02,0.62])\n",
    "cmap = mpl.cm.RdYlBu_r\n",
    "fig.colorbar(pfs, cax=cax, extend='both', \n",
    "             label='$W/m^2$')\n",
    "plt.savefig(snakemake.output.outpath, bbox_inches='tight', facecolor='white')"
   ]
  }
 ],
 "metadata": {
  "kernelspec": {
   "display_name": "Python 3 (ipykernel)",
   "language": "python",
   "name": "python3"
  },
  "language_info": {
   "codemirror_mode": {
    "name": "ipython",
    "version": 3
   },
   "file_extension": ".py",
   "mimetype": "text/x-python",
   "name": "python",
   "nbconvert_exporter": "python",
   "pygments_lexer": "ipython3",
   "version": "3.10.2"
  }
 },
 "nbformat": 4,
 "nbformat_minor": 5
}
