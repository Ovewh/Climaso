{
 "cells": [
  {
   "cell_type": "code",
   "execution_count": 8,
   "id": "32768c8f",
   "metadata": {},
   "outputs": [],
   "source": [
    "import xarray as xr\n",
    "import matplotlib.pyplot as plt\n",
    "import cartopy.crs as ccrs\n",
    "from workflow.scripts.plotting_tools import global_map\n",
    "import numpy as np\n",
    "import matplotlib as mpl\n",
    "import xesmf as xe\n",
    "from pyclim_noresm.general_util_funcs import global_avg"
   ]
  },
  {
   "cell_type": "code",
   "execution_count": 6,
   "id": "c0a7c848-9426-4e04-bda4-49354ee3c747",
   "metadata": {},
   "outputs": [],
   "source": [
    "paths = sorted(snakemake.input.paths)\n",
    "params = snakemake.params\n",
    "time_slice = params.get('time_slice', slice(3,-1))\n",
    "add_global_avg = params.get('add_global_avg', True)"
   ]
  },
  {
   "cell_type": "code",
   "execution_count": 4,
   "id": "5c69f383",
   "metadata": {},
   "outputs": [],
   "source": [
    "ds = xr.open_dataset(snakemake.input.paths[0])"
   ]
  },
  {
   "cell_type": "code",
   "execution_count": 5,
   "id": "4a13368b-2860-454b-a45d-455a517b9aca",
   "metadata": {},
   "outputs": [],
   "source": [
    "dsets = {}\n",
    "for path in paths:\n",
    "    ds = xr.open_dataset(path)\n",
    "    source_id = ds.source_id\n",
    "    ds = ds[snakemake.wildcards.vName].isel(year=time_slice).mean(dim='year',keep_attrs=True).to_dataset(name=f'{source_id}')\n",
    "    dsets[source_id]=ds\n",
    "    "
   ]
  },
  {
   "cell_type": "code",
   "execution_count": 13,
   "id": "0d52f156-5960-40b3-b9f0-2ef03fbaa2d9",
   "metadata": {},
   "outputs": [],
   "source": [
    "fig,ax = plt.subplot_mosaic([['a)','b)','c)'],['d)','e)','f)'],['g)','h)','i)']], \n",
    "                            subplot_kw={'projection':ccrs.PlateCarree()}, figsize=(18,10), sharex=True, sharey=True)\n",
    "norm = mpl.colors.TwoSlopeNorm(vcenter=0, vmax=11, vmin=-5)\n",
    "for k, i in zip(ax.keys(), dsets.keys()):\n",
    "    pfs = dsets[i][i].plot.contourf(ax=ax[k],levels=24,norm=norm,cmap='RdYlBu_r', add_colorbar=False)\n",
    "    ax[k].coastlines()\n",
    "    ax[k].set_title(i)\n",
    "    global_map(ax[k])\n",
    "    if add_global_avg:\n",
    "        ax[k].text(0.12, 0.05, \n",
    "                     f\"Mean: {global_avg(dsets[i])[i]:.3f}\",\n",
    "                     transform=ax[k].transAxes,va='center', ha='center',\n",
    "                     bbox=dict(boxstyle=\"square\",ec=(1., 0.5, 0.5),\n",
    "                   fc=(1., 0.8, 0.8))\n",
    "                    )\n",
    "cax = fig.add_axes([0.94,0.2,0.02,0.62])\n",
    "cmap = mpl.cm.RdYlBu_r\n",
    "fig.colorbar(pfs, cax=cax, extend='both', \n",
    "             label='$W/m^2$')\n",
    "plt.savefig(snakemake.output.outpath, bbox_inches='tight', facecolor='white')"
   ]
  }
 ],
 "metadata": {
  "kernelspec": {
   "display_name": "Python 3 (ipykernel)",
   "language": "python",
   "name": "python3"
  },
  "language_info": {
   "codemirror_mode": {
    "name": "ipython",
    "version": 3
   },
   "file_extension": ".py",
   "mimetype": "text/x-python",
   "name": "python",
   "nbconvert_exporter": "python",
   "pygments_lexer": "ipython3",
   "version": "3.10.6"
  },
  "vscode": {
   "interpreter": {
    "hash": "e0c7d92e0a4d3659e3b438675286b7c84dca6ad7edb4ab471110fdd618f527c4"
   }
  }
 },
 "nbformat": 4,
 "nbformat_minor": 5
}
