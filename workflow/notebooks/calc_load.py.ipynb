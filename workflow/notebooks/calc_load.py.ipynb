{
 "cells": [
  {
   "cell_type": "code",
   "execution_count": 2,
   "id": "aba35966",
   "metadata": {},
   "outputs": [],
   "source": [
    "from workflow.scripts.utils import load_CMIP_data, copy_meta_data_CMIP,transelate_aerocom_helper, regrid_global\n",
    "from pyclim_noresm.general_util_funcs import yearly_avg\n",
    "import time\n",
    "import pathlib as pl\n",
    "import xarray as xr"
   ]
  },
  {
   "cell_type": "code",
   "execution_count": 30,
   "id": "67de32b8",
   "metadata": {
    "scrolled": false
   },
   "outputs": [],
   "source": [
    "paths = snakemake.input\n",
    "\n",
    "try:\n",
    "    ds_am = load_CMIP_data(paths.air_mass, data_vars=['airmass'])\n",
    "    ds_mmr = load_CMIP_data(paths.mmr, data_vars=['mmrdust'])\n",
    "except TypeError:\n",
    "    ds_am = load_CMIP_data(paths.air_mass, data_vars=['airmass'], use_cftime=True)\n",
    "    ds_mmr = load_CMIP_data(paths.mmr, data_vars=['mmrdust'], use_cftime=True)\n",
    "\n",
    "attrs = copy_meta_data_CMIP(ds_mmr.attrs)\n",
    "wildcards = snakemake.wildcards\n",
    "freq = transelate_aerocom_helper(wildcards)\n",
    "\n",
    "\n",
    "params = snakemake.params\n",
    "accumlative_vars = params.get('accumalative_vars',None)\n",
    "variable=['loaddust']"
   ]
  },
  {
   "cell_type": "code",
   "execution_count": 48,
   "id": "7574b746",
   "metadata": {},
   "outputs": [],
   "source": [
    "ds_load = ds_mmr[ds_mmr.variable_id] * ds_am[ds_am.variable_id]\n",
    "ds_load = ds_load.sum(dim='lev')\n",
    "ds_load.attrs['units'] = ds_am[ds_am.variable_id].units\n",
    "ds_load.attrs['long_name'] = 'Load of Dust'\n",
    "ds_load = ds_load.to_dataset(name='loaddust')\n"
   ]
  },
  {
   "cell_type": "code",
   "execution_count": 49,
   "id": "20094167",
   "metadata": {},
   "outputs": [],
   "source": [
    "def resample_data(ds):\n",
    "    with xr.set_options(keep_attrs=True):\n",
    "        if not ds.cf.bounds.get('lon', None):\n",
    "            ds = ds.cf.add_bounds(['lon', 'lat'])\n",
    "        if freq == 'Ayear':\n",
    "            data=ds\n",
    "            if 'time_bnds' in ds.data_vars:\n",
    "                data = ds.drop_vars('time_bnds')\n",
    "                #data[data.variable_id] = yearly_avg(data[data.variable_id])\n",
    "                data=ds.resample(time='Y').mean()\n",
    "                data.attrs['history'] = data.attrs['history'] + f', annual average'\n",
    "                dvar_attrs = copy_meta_data_CMIP(data[wildcards.variable].attrs)\n",
    "            data = data.assign({ds.cf.bounds['lon'][0]:ds[ds.cf.bounds['lon'][0]]})\n",
    "            data = data.assign({ds.cf.bounds['lat'][0]:ds[ds.cf.bounds['lat'][0]]})\n",
    "        elif freq == 'clim':\n",
    "            t0 = data.time[0].dt.strftime('%Y/%m').values\n",
    "            t1 = data.time[0].dt.strftime('%Y/%m').values\n",
    "            data = data.groupby('time.month').mean('time')\n",
    "            data[data.variable_id].attrs['history'] = data[data.variable_id].attrs.get('history','') + f', clim mean {t0}-{t1}'\n",
    "            if wildcards.freq=='2010':\n",
    "                import cftime\n",
    "                import pandas as pd\n",
    "                data = data.rename(month='time')\n",
    "                cftimes = cftime.date2num(pd.date_range('2010-01-31','2010-12-31', freq='M').to_list(),\n",
    "                                                  'days since 2010-01-01', \n",
    "                                                      has_year_zero=False, calendar = 'gregorian')\n",
    "                data = data.assign_coords(time=cftimes)\n",
    "                data.time.attrs['units'] = 'days since 2010-01-01'\n",
    "            dvar_attrs = copy_meta_data_CMIP(data[wildcards.variable].attrs)\n",
    "\n",
    "        elif freq == 'Amon':\n",
    "            data = ds\n",
    "        else:\n",
    "            raise(ValueError(f'{wildcards.freq} is an invalid frequency'))\n",
    "    return data\n"
   ]
  },
  {
   "cell_type": "code",
   "execution_count": 53,
   "id": "09709e66",
   "metadata": {},
   "outputs": [],
   "source": [
    "data = resample_data(ds_load)"
   ]
  },
  {
   "cell_type": "code",
   "execution_count": 54,
   "id": "cc9752b4",
   "metadata": {},
   "outputs": [],
   "source": [
    "data = data.compute()"
   ]
  },
  {
   "cell_type": "code",
   "execution_count": 55,
   "id": "dfd94840",
   "metadata": {},
   "outputs": [],
   "source": [
    "if snakemake.config.get('regrid_params', None) and snakemake.params.get('regrid', True):\n",
    "    grid_params = snakemake.config['regrid_params']\n",
    "    grid_path = grid_params.get('grid_path',None)\n",
    "    method=grid_params.get('method','conservative')\n",
    "    if grid_path:\n",
    "        out_grid = xr.open_dataset(grid_path)\n",
    "        data = regrid_global(data, out_grid, method=method)\n",
    "    elif grid_params.get('dxdy',None):\n",
    "        dxdy = grid_params['dxdy']\n",
    "        data = regrid_global(data, lon=dxdy[0], lat=dxdy[1], method=method)\n",
    "    else:\n",
    "        print('No outgrid provided!')"
   ]
  },
  {
   "cell_type": "code",
   "execution_count": 56,
   "id": "e2f063bd",
   "metadata": {},
   "outputs": [],
   "source": [
    "data.attrs = {**data.attrs,**attrs}\n",
    "\n"
   ]
  },
  {
   "cell_type": "code",
   "execution_count": 57,
   "id": "fb881251",
   "metadata": {},
   "outputs": [],
   "source": [
    "data = data.assign_attrs(variable_id='loaddust')\n",
    "data.attrs['source'] = ', '.join(snakemake.input)\n",
    "data.attrs['history'] = f'@{time.ctime()} Generated by: {pl.Path.cwd().parts[-1]}'\n",
    "data.attrs['frequency'] = snakemake.wildcards.freq\n",
    "data.to_netcdf(snakemake.output.outpath[0])"
   ]
  }
 ],
 "metadata": {
  "kernelspec": {
   "display_name": "dustysnake",
   "language": "python",
   "name": "dustysnake"
  },
  "language_info": {
   "codemirror_mode": {
    "name": "ipython",
    "version": 3
   },
   "file_extension": ".py",
   "mimetype": "text/x-python",
   "name": "python",
   "nbconvert_exporter": "python",
   "pygments_lexer": "ipython3",
   "version": "3.9.0"
  }
 },
 "nbformat": 4,
 "nbformat_minor": 5
}
