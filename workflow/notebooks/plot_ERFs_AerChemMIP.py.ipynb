{
 "cells": [
  {
   "cell_type": "code",
   "execution_count": 2,
   "id": "32768c8f",
   "metadata": {},
   "outputs": [],
   "source": [
    "import xarray as xr\n",
    "import matplotlib.pyplot as plt\n",
    "import cartopy.crs as ccrs\n",
    "from workflow.scripts.plotting_tools import global_map\n",
    "import numpy as np\n",
    "import matplotlib as mpl\n",
    "import xesmf as xe\n",
    "from workflow.scripts.utils import calc_error_gridded, regrid_global"
   ]
  },
  {
   "cell_type": "code",
   "execution_count": 3,
   "id": "c0a7c848-9426-4e04-bda4-49354ee3c747",
   "metadata": {},
   "outputs": [],
   "source": [
    "paths = sorted(snakemake.input.paths)\n",
    "params = snakemake.params\n",
    "time_slice = params.get('time_slice', slice(3,-1))\n",
    "nlevels = params.get('nlevels', 11)\n",
    "minmax = params.get('minmax',[-6,6])\n",
    "draw_error_mask = params.get('draw_error_mask', True)\n",
    "vmin = minmax[0]\n",
    "vmax = minmax[1]"
   ]
  },
  {
   "cell_type": "code",
   "execution_count": 5,
   "id": "4a13368b-2860-454b-a45d-455a517b9aca",
   "metadata": {},
   "outputs": [],
   "source": [
    "dsets = {}\n",
    "for path in paths:\n",
    "\n",
    "    ds = xr.open_dataset(path)\n",
    "    with xr.set_options(keep_attrs=True):\n",
    "        \n",
    "        if snakemake.config.get('regrid_params', None) and snakemake.params.get('regrid', True):\n",
    "            if not ds.cf.bounds.get('lon',None):\n",
    "                ds = ds.cf.add_bounds(['lon','lat'])\n",
    "        \n",
    "            grid_params = snakemake.config['regrid_params']\n",
    "            grid_path = grid_params.get('grid_path',None)\n",
    "            method=grid_params.get('method','conservative')\n",
    "            if grid_path:\n",
    "                out_grid = xr.open_dataset(grid_path)\n",
    "                ds = regrid_global(ds, out_grid, method=method)\n",
    "            elif grid_params.get('dxdy',None):\n",
    "                dxdy = grid_params['dxdy']\n",
    "                ds = regrid_global(ds, lon=dxdy[0], lat=dxdy[1], method=method)\n",
    "            else:\n",
    "                print('No outgrid provided!')\n",
    "\n",
    "    source_id = ds.source_id\n",
    "    dsets[source_id]={}\n",
    "    ds = ds[snakemake.wildcards.vName].isel(year=time_slice)\n",
    "    error = calc_error_gridded(ds,kind='SEM' )\n",
    "    ds = ds.mean(dim='year',keep_attrs=True).to_dataset(name=f'{source_id}')\n",
    "    dsets[source_id]['data']=ds\n",
    "    dsets[source_id]['error']=error\n",
    "    "
   ]
  },
  {
   "cell_type": "code",
   "execution_count": 6,
   "id": "0d52f156-5960-40b3-b9f0-2ef03fbaa2d9",
   "metadata": {},
   "outputs": [],
   "source": [
    "fig,ax = plt.subplot_mosaic([['a)','b)','c)'],['d)','e)','f)'],['g)','h)','i)'],['j)','','']], \n",
    "                            subplot_kw={'projection':ccrs.PlateCarree()}, figsize=(18,10), sharex=True, sharey=True)\n",
    "cmap = mpl.cm.get_cmap('RdYlBu_r', nlevels)\n",
    "for k, i in zip(ax.keys(), dsets.keys()):\n",
    "    pmesh= dsets[i]['data'][i].plot(ax=ax[k],cmap=cmap,vmin=vmin, vmax=vmax, add_colorbar=False)\n",
    "    error_mask = dsets[i]['data'][i] < dsets[i]['error']\n",
    "    if draw_error_mask:\n",
    "        error_mask.plot.contourf(ax=ax[k],hatches=[None,'...'],alpha=0., levels=3, add_colorbar=False)\n",
    "    ax[k].coastlines()\n",
    "    ax[k].set_title(i)\n",
    "    global_map(ax[k])\n",
    "cax = fig.add_axes([0.94,0.2,0.02,0.62])\n",
    "cmap = mpl.cm.RdYlBu_r\n",
    "fig.colorbar(pmesh, cax=cax, extend='both', \n",
    "             label='$W/m^2$')\n",
    "plt.savefig(snakemake.output.outpath, bbox_inches='tight', facecolor='white', dpi=144)"
   ]
  }
 ],
 "metadata": {
  "interpreter": {
   "hash": "5252e5327a2efbab7c42f5d52cb87d9bedc44c7d9d6a615ebff0e5d85896cfce"
  },
  "kernelspec": {
   "display_name": "Python 3 (ipykernel)",
   "language": "python",
   "name": "python3"
  },
  "language_info": {
   "codemirror_mode": {
    "name": "ipython",
    "version": 3
   },
   "file_extension": ".py",
   "mimetype": "text/x-python",
   "name": "python",
   "nbconvert_exporter": "python",
   "pygments_lexer": "ipython3",
   "version": "3.10.2"
  }
 },
 "nbformat": 4,
 "nbformat_minor": 5
}
