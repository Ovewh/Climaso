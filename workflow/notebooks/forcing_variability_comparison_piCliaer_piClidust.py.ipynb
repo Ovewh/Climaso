{
 "cells": [
  {
   "cell_type": "code",
   "execution_count": 70,
   "id": "c538f73f",
   "metadata": {},
   "outputs": [],
   "source": [
    "import xarray as xr\n",
    "import matplotlib.pyplot as plt\n",
    "import cartopy.crs as ccrs\n",
    "import matplotlib.cm as cm\n",
    "import matplotlib as mpl\n",
    "import xesmf as xe\n",
    "from workflow.scripts.utils import regrid_global\n",
    "import numpy as np\n",
    "from pyclim_noresm.general_util_funcs import global_avg"
   ]
  },
  {
   "cell_type": "code",
   "execution_count": 64,
   "id": "9a45708c",
   "metadata": {},
   "outputs": [],
   "source": [
    "def read_data(paths):\n",
    "    dsets = []\n",
    "    for p in paths:\n",
    "        ds = xr.open_dataset(p)\n",
    "        ds = ds.cf.add_bounds(['lon','lat'])\n",
    "        grid_params = snakemake.config['regrid_params']\n",
    "        method=grid_params.get('method','conservative')\n",
    "\n",
    "        dxdy = grid_params['dxdy']\n",
    "        ds = regrid_global(ds, lon=dxdy[0], lat=dxdy[1], method=method)\n",
    "        da = ds[ds.variable_id]\n",
    "#         return da\n",
    "        da = da.rename(f'{ds.variable_id}_{ds.source_id}')\n",
    "        da = da.assign_coords(year=np.arange(0, len(da.year)))\n",
    "        da = da.rename(year='time')\n",
    "        dsets.append(da)\n",
    "    out_da = xr.merge(dsets)\n",
    "    return out_da"
   ]
  },
  {
   "cell_type": "code",
   "execution_count": 65,
   "id": "c4d982fa",
   "metadata": {},
   "outputs": [],
   "source": [
    "ds2xdust = read_data(snakemake.input.piCli2xdust)\n",
    "dsaer = read_data(snakemake.input.piCliaer)"
   ]
  },
  {
   "cell_type": "code",
   "execution_count": 68,
   "id": "d3668ce7",
   "metadata": {},
   "outputs": [],
   "source": [
    "piClim_aer_var = dsaer- dsaer.mean(dim='time')"
   ]
  },
  {
   "cell_type": "code",
   "execution_count": 69,
   "id": "c5d5984d",
   "metadata": {},
   "outputs": [],
   "source": [
    "piClim_dust_var = ds2xdust - ds2xdust.mean(dim='time')"
   ]
  },
  {
   "cell_type": "code",
   "execution_count": 77,
   "id": "72edd06e",
   "metadata": {},
   "outputs": [],
   "source": [
    "df_piClimaer =global_avg(piClim_aer_var).to_pandas()\n",
    "df_piClim2xdust = global_avg(piClim_dust_var).to_pandas()"
   ]
  },
  {
   "cell_type": "code",
   "execution_count": 87,
   "id": "998862a0",
   "metadata": {},
   "outputs": [],
   "source": [
    "fig,ax = plt.subplots(ncols=2,figsize=(14,6), sharey=True)\n",
    "\n",
    "ax[0].axhline(0, color='k')\n",
    "df_piClimaer.plot(ax=ax[0])\n",
    "ax[0].set_ylim(-1,1)\n",
    "ax[1].axhline(0, color='k')\n",
    "df_piClim2xdust.plot(ax=ax[1])\n",
    "ax[1].set_ylim(-1,1)\n",
    "ax[0].set_ylabel('W/m^2')\n",
    "plt.savefig(snakemake.output.outpath, bbox_inches=)"
   ]
  },
  {
   "cell_type": "code",
   "execution_count": 92,
   "id": "00c2479a",
   "metadata": {},
   "outputs": [],
   "source": [
    "df_piClimaer.std()"
   ]
  },
  {
   "cell_type": "code",
   "execution_count": 91,
   "id": "2aee68f4",
   "metadata": {},
   "outputs": [],
   "source": [
    "df_piClim2xdust.std()"
   ]
  },
  {
   "cell_type": "code",
   "execution_count": 88,
   "id": "689602bc",
   "metadata": {},
   "outputs": [],
   "source": [
    "df_aer = global_avg(dsaer).to_pandas()\n",
    "df_dust = global_avg(ds2xdust).to_pandas()"
   ]
  },
  {
   "cell_type": "code",
   "execution_count": 90,
   "id": "41d0497e",
   "metadata": {},
   "outputs": [],
   "source": [
    "fig,ax = plt.subplots(ncols=2,figsize=(14,6), sharey=True)\n",
    "\n",
    "ax[0].axhline(0, color='k')\n",
    "df_aer.plot(ax=ax[0])\n",
    "# ax[0].set_ylim(-1,1)\n",
    "ax[1].axhline(0, color='k')\n",
    "df_dust.plot(ax=ax[1])\n",
    "# ax[1].set_ylim(-1,1)\n",
    "ax[0].set_ylabel('W/m^2')"
   ]
  }
 ],
 "metadata": {
  "kernelspec": {
   "display_name": "Python 3 (ipykernel)",
   "language": "python",
   "name": "python3"
  },
  "language_info": {
   "codemirror_mode": {
    "name": "ipython",
    "version": 3
   },
   "file_extension": ".py",
   "mimetype": "text/x-python",
   "name": "python",
   "nbconvert_exporter": "python",
   "pygments_lexer": "ipython3",
   "version": "3.9.0"
  }
 },
 "nbformat": 4,
 "nbformat_minor": 5
}
