{
 "cells": [
  {
   "cell_type": "code",
   "execution_count": 2,
   "id": "f0762960",
   "metadata": {},
   "outputs": [],
   "source": [
    "import xarray as xr\n",
    "import matplotlib.pyplot as plt\n",
    "import matplotlib as mpl\n",
    "import matplotlib.cm as cm\n",
    "import cartopy.crs as ccrs"
   ]
  },
  {
   "cell_type": "code",
   "execution_count": 3,
   "id": "0d95ece6",
   "metadata": {},
   "outputs": [],
   "source": [
    "def read_data(path):\n",
    "    dsets = []\n",
    "    for p in path:\n",
    "        dsets.append(xr.open_dataset(p))\n",
    "    return xr.merge(dsets)"
   ]
  },
  {
   "cell_type": "code",
   "execution_count": 4,
   "id": "a0e6d471",
   "metadata": {},
   "outputs": [],
   "source": [
    "hist_nor = read_data(snakemake.input.noresm_histSST).isel(time=slice(5,None))\n",
    "piClim_nor = read_data(snakemake.input.noresm_piClim).isel(time=slice(5,None))\n",
    "ec_hist = read_data(snakemake.input.ecEarth_histSST).isel(time=slice(5,None))\n",
    "ec_piClim = read_data(snakemake.input.ecEarth_piClim).isel(time=slice(5,None))\n",
    "nor_late = hist_nor.isel(time=slice(-30,None))\n",
    "ec_late = ec_hist.isel(time=slice(-30,None))\n",
    "ec_start = ec_hist.isel(time=slice(None,30))\n",
    "nor_start = hist_nor.isel(time=slice(None,30))\n",
    "# ec"
   ]
  },
  {
   "cell_type": "code",
   "execution_count": 5,
   "id": "6ac54356",
   "metadata": {},
   "outputs": [],
   "source": [
    "hist_start = [ec_start, nor_start]\n",
    "hist_late = [ec_late, nor_late]\n",
    "piclim = [ec_piClim, piClim_nor]"
   ]
  },
  {
   "cell_type": "code",
   "execution_count": 16,
   "id": "5ead66a1",
   "metadata": {},
   "outputs": [],
   "source": [
    "\n",
    "def plot(da : xr.DataArray, ax, name,vmin=None, vmax=None, **mesh_kwargs):\n",
    "    \n",
    "    da.std(dim='time').plot(ax=ax, vmin=vmin, vmax=vmax,transform=ccrs.PlateCarree(), **mesh_kwargs)\n",
    "    ax.set_title(name)\n",
    "    ax.coastlines()\n",
    "\n"
   ]
  },
  {
   "cell_type": "code",
   "execution_count": 59,
   "id": "42b04df0",
   "metadata": {},
   "outputs": [],
   "source": [
    "vname = snakemake.wildcards.get('vName', 'od550dust')\n",
    "fig,ax = plt.subplots(figsize=(17,6),ncols=3, nrows=2, subplot_kw={'projection':ccrs.Robinson()})\n",
    "cmap = cm.get_cmap('YlOrBr', 21).copy()\n",
    "cmap.set_under('k', alpha=0.0)\n",
    "for das, dal, pi,i in zip(hist_start, hist_late, piclim, range(2)):\n",
    "    \n",
    "    plot(das[vname], ax[i,0], name=das.source_id,add_colorbar=False, cmap=cmap, vmin=0.01, vmax=0.3)\n",
    "    plot(dal[vname], ax[i,1], name=dal.source_id,add_colorbar=False, cmap=cmap, vmin=0.01, vmax=0.3)\n",
    "    plot(pi[vname], ax[i,2], name=pi.source_id,add_colorbar=False, cmap=cmap, vmin=0.01, vmax=0.3)\n",
    "\n",
    "fig.text(0.238, 0.95,'First 30 years \\n histSST - histSST-piaer', ha='center', va='center')\n",
    "fig.text(0.512, 0.95, 'Last 30 years \\n histSST - histSST-piaer', ha='center', va='center')\n",
    "fig.text(0.782, 0.95, '30 years \\n piClim-aer - piClim-control', ha='center', va='center')\n",
    "plt.suptitle(f'Variability in {vname}, histSST first 30 year, last 30 years, piClim', fontsize=16, y=1.06)\n",
    "cax = fig.add_axes([0.33,0.02,0.36,0.06])\n",
    "cb=fig.colorbar(cm.ScalarMappable(mpl.colors.Normalize(0.01,0.3),cmap=cmap),cax=cax, \n",
    "             orientation = 'horizontal', extend='min')\n",
    "plt.savefig(snakemake.output.dod_comp, dpi=144, bbox_inches='tight')"
   ]
  }
 ],
 "metadata": {
  "kernelspec": {
   "display_name": "Python 3 (ipykernel)",
   "language": "python",
   "name": "python3"
  },
  "language_info": {
   "codemirror_mode": {
    "name": "ipython",
    "version": 3
   },
   "file_extension": ".py",
   "mimetype": "text/x-python",
   "name": "python",
   "nbconvert_exporter": "python",
   "pygments_lexer": "ipython3",
   "version": "3.9.0"
  }
 },
 "nbformat": 4,
 "nbformat_minor": 5
}
