{
 "cells": [
  {
   "cell_type": "code",
   "execution_count": 10,
   "id": "b42da56b",
   "metadata": {},
   "outputs": [],
   "source": [
    "import xarray as xr\n",
    "import matplotlib.pyplot as plt\n",
    "from pyclim_noresm.general_util_funcs import global_avg\n",
    "import pandas as pd\n",
    "from matplotlib.ticker import (MultipleLocator, FormatStrFormatter,\n",
    "                               AutoMinorLocator)"
   ]
  },
  {
   "cell_type": "code",
   "execution_count": 11,
   "id": "fc29475f",
   "metadata": {},
   "outputs": [],
   "source": [
    "time_slice = snakemake.params.get('time_slice',slice(None,None))\n",
    "vmin = snakemake.params.get('vmin',-2.5)\n",
    "vmax = snakemake.params.get('vmax', 1)\n",
    "start_year = snakemake.params.get('start_year',1950)\n",
    "\n",
    "paths = sorted(snakemake.input.paths)\n",
    "vname = snakemake.wildcards.vName\n",
    "params = snakemake.params"
   ]
  },
  {
   "cell_type": "code",
   "execution_count": 12,
   "id": "7f3e004d",
   "metadata": {
    "scrolled": false
   },
   "outputs": [],
   "source": [
    "dsets = {}\n",
    "for path in paths:\n",
    "\n",
    "    ds = xr.open_dataset(path)\n",
    "    source_id = ds.source_id\n",
    "    \n",
    "    ds = ds.rename({'year':'time'})\n",
    "    ds = ds[vname].sel(time=slice(start_year,None))\n",
    "    ds = global_avg(ds)\n",
    "    dsets[source_id] = ds.to_pandas()\n",
    "    #time=ds.time.values\n",
    "\n",
    "df=pd.DataFrame(dsets)\n",
    "if start_year:\n",
    "    df = df.loc[start_year:,:]\n",
    "\n",
    "\n",
    "label = params.get('label', ds.long_name)\n"
   ]
  },
  {
   "cell_type": "code",
   "execution_count": 13,
   "id": "e02f539f",
   "metadata": {},
   "outputs": [],
   "source": [
    "fig, ax = plt.subplots(figsize=(10,5))\n",
    "ax.axhline(y=0, color='k', linewidth=3.1)\n",
    "df.plot(ax=ax, alpha = 0.3, color=[\"#1845fb\", \"#ff5e02\", \"#c91f16\", \n",
    "                                   \"#c849a9\", \"#adad7d\", \"#86c8dd\", \"#578dff\", \"#656364\"],\n",
    "       legend=False)\n",
    "for line in ax.lines: # put this before you call the 'mean' plot function.\n",
    "    line.set_label(s='')\n",
    "df.rolling(5,center=True).mean().plot(ax=ax, \n",
    "                          color=[\"#1845fb\", \"#ff5e02\", \"#c91f16\", \"#c849a9\", \n",
    "                                 \"#adad7d\", \"#86c8dd\", \"#578dff\", \"#656364\"],\n",
    "                         linewidth=2.1, legend=False)\n",
    "ax.set_ylabel(f'$\\Delta ${vname} histSST histSST-piAer \\n W m-2', fontsize=14)\n",
    "\n",
    "ax.set_ylim(vmin,vmax)\n",
    "ax.xaxis.set_major_locator(MultipleLocator(5))\n",
    "ax.set_xlabel('')\n",
    "h,l = ax.get_legend_handles_labels()\n",
    "plt.yticks(fontsize=12)\n",
    "plt.xticks(fontsize=12)\n",
    "plt.legend(fontsize=14)\n",
    "plt.savefig(snakemake.output.outpath, dpi=144, bbox_inches='tight')"
   ]
  }
 ],
 "metadata": {
  "kernelspec": {
   "display_name": "Python 3 (ipykernel)",
   "language": "python",
   "name": "python3"
  },
  "language_info": {
   "codemirror_mode": {
    "name": "ipython",
    "version": 3
   },
   "file_extension": ".py",
   "mimetype": "text/x-python",
   "name": "python",
   "nbconvert_exporter": "python",
   "pygments_lexer": "ipython3",
   "version": "3.9.0"
  }
 },
 "nbformat": 4,
 "nbformat_minor": 5
}
