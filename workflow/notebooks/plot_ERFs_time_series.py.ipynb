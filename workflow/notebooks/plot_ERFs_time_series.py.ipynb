{
 "cells": [
  {
   "cell_type": "code",
   "execution_count": 2,
   "id": "b42da56b",
   "metadata": {},
   "outputs": [],
   "source": [
    "import xarray as xr\n",
    "import matplotlib.pyplot as plt\n",
    "from pyclim_noresm.general_util_funcs import global_avg\n",
    "import pandas as pd"
   ]
  },
  {
   "cell_type": "code",
   "execution_count": 3,
   "id": "fc29475f",
   "metadata": {},
   "outputs": [],
   "source": [
    "time_slice = snakemake.params.get('time_slice',slice(None,None))\n",
    "vmin = snakemake.params.get('vmin',-2.5)\n",
    "vmax = snakemake.params.get('vmax', 1)\n",
    "\n",
    "paths = snakemake.input.paths\n",
    "vname = snakemake.wildcards.vName\n"
   ]
  },
  {
   "cell_type": "code",
   "execution_count": 7,
   "id": "7f3e004d",
   "metadata": {
    "scrolled": false
   },
   "outputs": [],
   "source": [
    "dsets = {}\n",
    "for path in paths:\n",
    "\n",
    "    ds = xr.open_dataset(path)\n",
    "    source_id = ds.source_id\n",
    "    ds = ds[vname].isel(year=time_slice)\n",
    "    ds = ds.rename({'year':'time'})\n",
    "    ds = global_avg(ds)\n",
    "    dsets[source_id] = ds.values\n",
    "    time=ds.time.values\n",
    "\n",
    "df=pd.DataFrame(dsets, index=time)"
   ]
  },
  {
   "cell_type": "code",
   "execution_count": 5,
   "id": "e02f539f",
   "metadata": {},
   "outputs": [],
   "source": [
    "fig, ax = plt.subplots(figsize=(14,6))\n",
    "ax.axhline(y=0, color='k', linewidth=3.1)\n",
    "df.plot(ax=ax, alpha = 0.3, color=[\"#1845fb\", \"#ff5e02\", \"#c91f16\", \n",
    "                                   \"#c849a9\", \"#adad7d\", \"#86c8dd\", \"#578dff\", \"#656364\"],\n",
    "       legend=False)\n",
    "df.rolling(5,).mean().plot(ax=ax, \n",
    "                          color=[\"#1845fb\", \"#ff5e02\", \"#c91f16\", \"#c849a9\", \n",
    "                                 \"#adad7d\", \"#86c8dd\", \"#578dff\", \"#656364\"],\n",
    "                         linewidth=2.1)\n",
    "ax.set_ylabel(f'$\\Delta ${vname} histSST histSST-piAer \\n W m-2')\n",
    "\n",
    "ax.set_ylim(vmin,vmax)\n",
    "plt.savefig(snakemake.output.outpath, dpi=144, bbox_inches='tight')"
   ]
  }
 ],
 "metadata": {
  "kernelspec": {
   "display_name": "Python 3 (ipykernel)",
   "language": "python",
   "name": "python3"
  },
  "language_info": {
   "codemirror_mode": {
    "name": "ipython",
    "version": 3
   },
   "file_extension": ".py",
   "mimetype": "text/x-python",
   "name": "python",
   "nbconvert_exporter": "python",
   "pygments_lexer": "ipython3",
   "version": "3.9.0"
  }
 },
 "nbformat": 4,
 "nbformat_minor": 5
}
