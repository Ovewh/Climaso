{
 "cells": [
  {
   "cell_type": "code",
   "execution_count": 48,
   "id": "0a83b245",
   "metadata": {},
   "outputs": [],
   "source": [
    "import matplotlib.pyplot as plt\n",
    "import pandas as pd"
   ]
  },
  {
   "cell_type": "code",
   "execution_count": 39,
   "id": "3175f8ad",
   "metadata": {},
   "outputs": [],
   "source": [
    "\n",
    "def read_data(paths):\n",
    "    dfs = []\n",
    "    for path in paths:\n",
    "        vname = path.split('/')[-1].split('_')[0]\n",
    "#         print(vname)\n",
    "        df = pd.read_csv(path,index_col=0, names=[vname],skiprows=1)\n",
    "        dfs.append(df)\n",
    "    return pd.concat(dfs,axis=1)\n",
    "norESM = read_data(snakemake.input.noresm)\n",
    "ecEarth = read_data(snakemake.input.ecEarth)\n",
    "mpi = read_data(snakemake.input.mpiEsm)"
   ]
  },
  {
   "cell_type": "markdown",
   "id": "982b3ec1",
   "metadata": {},
   "source": [
    "## Decomposition of NorESM"
   ]
  },
  {
   "cell_type": "code",
   "execution_count": 46,
   "id": "8daf756e",
   "metadata": {},
   "outputs": [],
   "source": [
    "\n",
    "norESM['od550nodust'] = norESM['od550aer']-norESM['od550dust']\n",
    "ecEarth['od550nodust'] = ecEarth['od550aer']-ecEarth['od550dust']"
   ]
  },
  {
   "cell_type": "code",
   "execution_count": 50,
   "id": "af5c6bcd",
   "metadata": {},
   "outputs": [],
   "source": [
    "fig,ax = plt.subplots(ncols=2, figsize=(10,4))\n",
    "norESM[['od550aer','od550nodust']].loc[1950:].plot(ax=ax[0])\n",
    "ecEarth[['od550aer','od550nodust']].plot(ax=ax[1])\n",
    "ax[0].set_title('NorESM2-LM')\n",
    "ax[1].set_title('EC-Earth3')"
   ]
  },
  {
   "cell_type": "code",
   "execution_count": 60,
   "id": "3570a41e",
   "metadata": {},
   "outputs": [],
   "source": [
    "fig,ax = plt.subplots(ncols = 3, figsize=(16,3.5))\n",
    "norESM[['od550aer','od550lt1aer', 'od550nodust']].loc[1950:].plot(ax=ax[0])\n",
    "ax[0].set_title('NorESM2-LM')\n",
    "ecEarth[['od550aer','od550lt1aer', 'od550nodust']].loc[1950:].plot(ax=ax[1])\n",
    "ax[1].set_title('EC-Earth3-AerChem')\n",
    "mpi[['od550aer','od550lt1aer']].loc[1950:].plot(ax=ax[2])\n",
    "ax[2].set_title('MPI-ESM-1-2-HAM')\n",
    "plt.savefig(snakemake.output.forcing_variability_ts, dpi=144, bbox_inches='tight')"
   ]
  },
  {
   "cell_type": "code",
   "execution_count": 72,
   "id": "a326eddd",
   "metadata": {},
   "outputs": [],
   "source": [
    "norESM['od550lt1aer/od550aer'] = norESM['od550lt1aer']/norESM['od550aer']\n",
    "ecEarth['od550lt1aer/od550aer'] = ecEarth['od550lt1aer']/ecEarth['od550aer']\n",
    "mpi['od550lt1aer/od550aer'] = mpi['od550lt1aer']/mpi['od550aer']"
   ]
  },
  {
   "cell_type": "code",
   "execution_count": 87,
   "id": "1091cb3f",
   "metadata": {},
   "outputs": [],
   "source": [
    "fig ,ax = plt.subplots(figsize=(12,4))\n",
    "norESM['od550lt1aer/od550aer'].loc[1950:].plot(ax=ax, marker='o')\n",
    "ecEarth['od550lt1aer/od550aer'].plot(ax=ax, marker='*')\n",
    "mpi['od550lt1aer/od550aer'].loc[1950:2009].plot(ax=ax, marker='s')\n",
    "h,l = ax.get_legend_handles_labels()\n",
    "ax.legend(h, ['NorESM2-LM','EC-Earth3-AerChem','MPI-ESM-1-2-HAM'])\n",
    "ax.set_ylabel('Finemode fraction of total Antropogenic AOD')\n",
    "plt.savefig(snakemake.output.fraction_fine_mode, dpi=144, bbox_inches='tight')"
   ]
  },
  {
   "cell_type": "code",
   "execution_count": 95,
   "id": "d5f67f52",
   "metadata": {},
   "outputs": [],
   "source": [
    "fig ,ax = plt.subplots(figsize=(12,4))\n",
    "norESM['od550lt1aer/od550aer'].loc[1900:].plot(ax=ax, marker='o')\n",
    "# ecEarth['od550lt1aer/od550aer'].plot(ax=ax, marker='*')\n",
    "mpi['od550lt1aer/od550aer'].loc[1900:2009].plot(ax=ax, marker='s')\n",
    "h,l = ax.get_legend_handles_labels()\n",
    "ax.legend(h, ['NorESM2-LM','MPI-ESM-1-2-HAM'])\n",
    "ax.set_ylabel('Finemode fraction of total Antropogenic AOD')\n",
    "ax.set_ylim(-1,2)"
   ]
  },
  {
   "cell_type": "code",
   "execution_count": 97,
   "id": "57898130",
   "metadata": {},
   "outputs": [],
   "source": [
    "norESM['od550lt1aer/od550aer'].loc[1950:].mean()"
   ]
  },
  {
   "cell_type": "code",
   "execution_count": 96,
   "id": "fbbb37c9",
   "metadata": {},
   "outputs": [],
   "source": [
    "mpi['od550lt1aer/od550aer'].loc[1950:].mean()"
   ]
  }
 ],
 "metadata": {
  "kernelspec": {
   "display_name": "Python 3.9.0 ('dustysnake')",
   "language": "python",
   "name": "python3"
  },
  "language_info": {
   "codemirror_mode": {
    "name": "ipython",
    "version": 3
   },
   "file_extension": ".py",
   "mimetype": "text/x-python",
   "name": "python",
   "nbconvert_exporter": "python",
   "pygments_lexer": "ipython3",
   "version": "3.9.0"
  },
  "vscode": {
   "interpreter": {
    "hash": "5252e5327a2efbab7c42f5d52cb87d9bedc44c7d9d6a615ebff0e5d85896cfce"
   }
  }
 },
 "nbformat": 4,
 "nbformat_minor": 5
}
