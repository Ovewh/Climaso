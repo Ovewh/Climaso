{
 "cells": [
  {
   "cell_type": "code",
   "execution_count": 45,
   "id": "5298c800",
   "metadata": {},
   "outputs": [],
   "source": [
    "import xarray as xr\n",
    "import matplotlib.pyplot as plt\n",
    "import cartopy.crs as ccrs\n",
    "import matplotlib.cm as cm\n",
    "import matplotlib as mpl\n",
    "import xesmf as xe\n",
    "from workflow.scripts.utils import regrid_global\n",
    "import numpy as np\n",
    "from pyclim_noresm.general_util_funcs import global_avg\n",
    "import scipy.stats as stats"
   ]
  },
  {
   "cell_type": "code",
   "execution_count": 50,
   "id": "7a64d48f",
   "metadata": {},
   "outputs": [],
   "source": [
    "forcing_regions = {\n",
    "    'East China': {'lon0':80, 'lat0':25, 'lon1':145,'lat1':50},\n",
    "    'India'     : {'lon0':63, 'lat0':5,'lon1':93,'lat1':30},\n",
    "    'Europe'    : {'lon0':-5, 'lat0':35, 'lon1':40,'lat1':65},\n",
    "    'North America': {'lon0':-100, 'lat0': 23, 'lon1':-50, 'lat1':53},\n",
    "    'Global'       : {'lon0':None, 'lat0': None, 'lon1': None, 'lat1':None}\n",
    "                  }"
   ]
  },
  {
   "cell_type": "code",
   "execution_count": 13,
   "id": "1a37b67f",
   "metadata": {},
   "outputs": [],
   "source": [
    "def read_data(paths):\n",
    "    dsets = []\n",
    "    for p in paths:\n",
    "        ds = xr.open_dataset(p)\n",
    "        ds = ds.cf.add_bounds(['lon','lat'])\n",
    "        grid_params = snakemake.config['regrid_params']\n",
    "        method=grid_params.get('method','conservative')\n",
    "\n",
    "        dxdy = grid_params['dxdy']\n",
    "        ds = regrid_global(ds, lon=dxdy[0], lat=dxdy[1], method=method)\n",
    "        da = ds[ds.variable_id]\n",
    "#         return da\n",
    "        da = da.rename(f'{ds.variable_id}_{ds.source_id}')\n",
    "        da.attrs['source_id'] = ds.source_id \n",
    "        da = da.assign_coords(time=np.arange(0, len(da.time)))\n",
    "#         da = da.rename(year='time')\n",
    "        dsets.append(da)\n",
    "    out_da = xr.merge(dsets)\n",
    "    return out_da"
   ]
  },
  {
   "cell_type": "code",
   "execution_count": 19,
   "id": "00558ec3",
   "metadata": {},
   "outputs": [],
   "source": [
    "piClim = read_data(snakemake.input.picli_vars)\n",
    "piaer = read_data(snakemake.input.piaer_vars)\n",
    "models = list({piaer[d].attrs['source_id'] for d in piaer.data_vars})"
   ]
  },
  {
   "cell_type": "code",
   "execution_count": 20,
   "id": "a51a9aa0",
   "metadata": {},
   "outputs": [],
   "source": [
    "def cal_toa_imbalance(ds, models):\n",
    "    dsets = []\n",
    "    for m in models:\n",
    "        toa_imbalance = ds[f'rsdt_{m}'] - ds[f'rlut_{m}'] - ds[f'rsut_{m}']\n",
    "        toa_imbalance = toa_imbalance.rename(f'Imbalance_TOA_{m}')\n",
    "        dsets.append(toa_imbalance)\n",
    "    ds = xr.merge(dsets)\n",
    "    ds = \n",
    "    return ds"
   ]
  },
  {
   "cell_type": "code",
   "execution_count": 98,
   "id": "31780680",
   "metadata": {},
   "outputs": [],
   "source": [
    "piclim_imbalance = cal_toa_imbalance(piClim, models)\n",
    "piaer_imbalance = cal_toa_imbalance(piaer, models)\n",
    "\n",
    "fig, ax = plt.subplots(ncols=2, figsize=(14,4), sharey=True)\n",
    "ts_pic_imbalance = global_avg(piclim_imbalance).to_pandas().iloc[:30,:]\n",
    "ts_pic_imbalance = ts_pic_imbalance - ts_pic_imbalance.mean()\n",
    "ts_pic_imbalance.plot(ax=ax[0])\n",
    "ts_aer_imbalance = global_avg(piaer_imbalance).to_pandas()\n",
    "ts_aer_imbalance = ts_aer_imbalance - ts_aer_imbalance.mean()\n",
    "ts_aer_imbalance.plot(ax=ax[1])\n",
    "ax[0].set_title('piClim-control TOA imbalance variability')\n",
    "ax[1].set_title('piClim-aer TOA imbalance variability')\n",
    "ax[0].set_ylim(-0.6,0.6)\n",
    "ax[0].set_ylabel('W m-2')\n",
    "plt.savefig(snakemake.output.outpath, dpi=144, bbox_inches='tight')"
   ]
  },
  {
   "cell_type": "code",
   "execution_count": 90,
   "id": "fc5e889e",
   "metadata": {},
   "outputs": [],
   "source": [
    "def F_test(ts1, ts2):\n",
    "    var1 = ts1.var()\n",
    "    var2 = ts2.var()\n",
    "    df1 = len(var1) -1\n",
    "    df2 = len(var2) -1\n",
    "    F = var1/var2\n",
    "    pval = 1 - stats.f.cdf(F, df1, df2)\n",
    "    return pval"
   ]
  },
  {
   "cell_type": "code",
   "execution_count": 95,
   "id": "ad823f0f",
   "metadata": {},
   "outputs": [],
   "source": [
    "Test_values = ts_aer_imbalance.var()/ts_pic_imbalance.var()\n",
    "\n",
    "pvals = F_test(ts_aer_imbalance, ts_pic_imbalance)\n",
    "\n",
    "pvals < 0.05"
   ]
  },
  {
   "cell_type": "code",
   "execution_count": 96,
   "id": "85e14f4c",
   "metadata": {},
   "outputs": [],
   "source": [
    "EA =  forcing_regions['East China']\n",
    "ea_piClim = piclim_imbalance.sel(lon = slice(EA['lon0'], EA['lon1']), lat = slice(EA['lat0'], EA['lat1']))\n",
    "ea_piaer = piaer_imbalance.sel(lon = slice(EA['lon0'], EA['lon1']), lat = slice(EA['lat0'], EA['lat1']))\n",
    "\n",
    "fig, ax = plt.subplots(ncols=2, figsize=(14,4), sharey=True)\n",
    "ts_pic_imbalance = global_avg(ea_piClim).to_pandas().iloc[:30,:]\n",
    "ts_pic_imbalance = ts_pic_imbalance - ts_pic_imbalance.mean()\n",
    "ts_pic_imbalance.plot(ax=ax[0])\n",
    "ts_aer_imbalance = global_avg(ea_piaer).to_pandas()\n",
    "ts_aer_imbalance = ts_aer_imbalance - ts_aer_imbalance.mean()\n",
    "ts_aer_imbalance.plot(ax=ax[1])\n",
    "ax[0].set_title('piClim-control TOA imbalance variability Eastern China')\n",
    "ax[1].set_title('piClim-aer TOA imbalance variability Eastern China')\n",
    "ax[0].set_ylim(-3,3)\n",
    "ax[0].set_ylabel('W m-2')"
   ]
  },
  {
   "cell_type": "code",
   "execution_count": 84,
   "id": "a9d6739e",
   "metadata": {},
   "outputs": [],
   "source": [
    "Test_values = ts_aer_imbalance.var()/ts_pic_imbalance.var()\n",
    "\n",
    "pvals = F_test(ts_aer_imbalance, ts_pic_imbalance)"
   ]
  },
  {
   "cell_type": "code",
   "execution_count": 85,
   "id": "03b14d53",
   "metadata": {},
   "outputs": [],
   "source": [
    "ts_pic_imbalance.var()"
   ]
  },
  {
   "cell_type": "code",
   "execution_count": 88,
   "id": "670ca4ed",
   "metadata": {},
   "outputs": [],
   "source": [
    "pvals < 0.05"
   ]
  }
 ],
 "metadata": {
  "kernelspec": {
   "display_name": "Python 3 (ipykernel)",
   "language": "python",
   "name": "python3"
  },
  "language_info": {
   "codemirror_mode": {
    "name": "ipython",
    "version": 3
   },
   "file_extension": ".py",
   "mimetype": "text/x-python",
   "name": "python",
   "nbconvert_exporter": "python",
   "pygments_lexer": "ipython3",
   "version": "3.9.0"
  }
 },
 "nbformat": 4,
 "nbformat_minor": 5
}
