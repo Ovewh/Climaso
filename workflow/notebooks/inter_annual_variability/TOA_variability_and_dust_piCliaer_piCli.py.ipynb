{
 "cells": [
  {
   "cell_type": "code",
   "execution_count": 2,
   "id": "1e1483e2",
   "metadata": {},
   "outputs": [],
   "source": [
    "import xarray as xr\n",
    "import matplotlib.pyplot as plt\n",
    "import cartopy.crs as ccrs\n",
    "import matplotlib.cm as cm\n",
    "import matplotlib as mpl\n",
    "import xesmf as xe\n",
    "from workflow.scripts.utils import regrid_global\n",
    "import numpy as np\n",
    "from pyclim_noresm.general_util_funcs import global_avg\n",
    "import scipy.stats as stats\n",
    "import pandas as pd\n",
    "from workflow.scripts.plotting_tools import create_facet_plot"
   ]
  },
  {
   "cell_type": "code",
   "execution_count": 3,
   "id": "cf9a1e25-d860-443e-912e-ca5b39d77b3c",
   "metadata": {},
   "outputs": [],
   "source": [
    "forcing_regions = {\n",
    "    'East China': {'lon0':80, 'lat0':25, 'lon1':145,'lat1':50},\n",
    "    'India'     : {'lon0':63, 'lat0':5,'lon1':93,'lat1':30},\n",
    "    'Europe'    : {'lon0':-5, 'lat0':35, 'lon1':40,'lat1':65},\n",
    "    'North America': {'lon0':-100, 'lat0': 23, 'lon1':-50, 'lat1':53},\n",
    "    'Global'       : {'lon0':None, 'lat0': None, 'lon1': None, 'lat1':None}\n",
    "                  }"
   ]
  },
  {
   "cell_type": "code",
   "execution_count": 4,
   "id": "23ea03ef-ce5a-4ce0-acac-8b646b8e8ee2",
   "metadata": {},
   "outputs": [],
   "source": [
    "def read_data(paths):\n",
    "    dsets = []\n",
    "    for p in paths:\n",
    "        ds = xr.open_dataset(p)\n",
    "        ds = ds.cf.add_bounds(['lon','lat'])\n",
    "        grid_params = snakemake.config['regrid_params']\n",
    "        method=grid_params.get('method','conservative')\n",
    "\n",
    "        dxdy = grid_params['dxdy']\n",
    "        ds = regrid_global(ds, lon=dxdy[0], lat=dxdy[1], method=method)\n",
    "        da = ds[ds.variable_id]\n",
    "#         return da\n",
    "        da = da.rename(f'{ds.variable_id}_{ds.source_id}')\n",
    "        da.attrs['source_id'] = ds.source_id \n",
    "        da.attrs['experiment_id'] = ds.experiment_id\n",
    "        da = da.assign_coords(time=np.arange(0, len(da.time)))\n",
    "#         da = da.rename(year='time')\n",
    "        dsets.append(da)\n",
    "    out_da = xr.merge(dsets)\n",
    "    return out_da\n",
    "\n",
    "def cal_toa_imbalance(ds, models, remove_mean=False, t=''):\n",
    "    dsets = []\n",
    "    for m in models:\n",
    "        toa_imbalance = np.abs(ds[f'rsdt_{m}']) - np.abs(ds[f'rlut{t}_{m}']) - np.abs(ds[f'rsut{t}_{m}'])\n",
    "        toa_imbalance = toa_imbalance.rename(f'{m}')\n",
    "        if remove_mean:\n",
    "            toa_imbalance = toa_imbalance - toa_imbalance.mean(dim='time')\n",
    "        dsets.append(toa_imbalance)\n",
    "    ds = xr.merge(dsets)\n",
    "     \n",
    "    return ds"
   ]
  },
  {
   "cell_type": "code",
   "execution_count": 5,
   "id": "3d05758d-a8b8-457a-8186-c345cf476fd6",
   "metadata": {},
   "outputs": [],
   "source": [
    "mmr_mass_clim = read_data(snakemake.input.picli_load)\n",
    "mmr_mass_aer = read_data(snakemake.input.piaer_load)\n",
    "\n",
    "piClim = read_data(snakemake.input.picli_rad)\n",
    "piaer = read_data(snakemake.input.piaer_rad)\n",
    "# nor_esm_piload = read_data([snakemake.input.piaer_load_nor])\n",
    "# nor_esm_aerload = read_data([snakemake.input.piclim_load])\n",
    "models = list({piaer[d].attrs['source_id'] for d in piaer.data_vars})\n",
    "# load_models = list({mmr_mass_aer[d].attrs['source_id'] for d in mmr_mass_aer.data_vars})"
   ]
  },
  {
   "cell_type": "code",
   "execution_count": 6,
   "id": "ffedf553-f293-4a4d-b57b-dc4c0d5d0bc6",
   "metadata": {},
   "outputs": [],
   "source": [
    "def calc_load(mmr_air, models):\n",
    "    dsets = []\n",
    "    for model in models:\n",
    "        ds_load = mmr_air[f'mmrdust_{model}']*mmr_air[f'airmass_{model}']\n",
    "        ds_load = ds_load.sum(dim='lev')\n",
    "        ds_load.attrs['units'] = 'kg m-2'\n",
    "        ds_load.attrs['long_name'] = 'Load of Dust'\n",
    "        ds_load = ds_load.to_dataset(name=f'loaddust_{model}')\n",
    "        dsets.append(ds_load)\n",
    "    ds = xr.merge(dsets)\n",
    "    return ds"
   ]
  },
  {
   "cell_type": "code",
   "execution_count": 7,
   "id": "a525c72b-c47d-4132-b5e7-3d38f65433a1",
   "metadata": {},
   "outputs": [],
   "source": [
    "load_picli = calc_load(mmr_mass_clim, models)\n",
    "# load_picli['loaddust_NorESM2-LM']=nor_esm_piload['loaddust_NorESM2-LM']\n",
    "load_piaer = calc_load(mmr_mass_aer, models)\n",
    "# load_piaer['loaddust_NorESM2-LM'] = nor_esm_aerload['loaddust_NorESM2-LM'] "
   ]
  },
  {
   "cell_type": "code",
   "execution_count": 8,
   "id": "63dd1a29-38e8-40aa-898b-558793fa48f7",
   "metadata": {},
   "outputs": [],
   "source": [
    "piClim_imbalance = cal_toa_imbalance(piClim, models)\n",
    "piaer_imbalance = cal_toa_imbalance(piaer, models)\n",
    "piClim_imbalance_cs = cal_toa_imbalance(piClim, models,t='cs')\n",
    "piaer_imbalance_cs = cal_toa_imbalance(piaer, models,t='cs')"
   ]
  },
  {
   "cell_type": "code",
   "execution_count": 9,
   "id": "37dc8d1c-d196-45a8-a0d1-610430074e22",
   "metadata": {},
   "outputs": [],
   "source": [
    "def plot_correlation_map(ds_load,ds_imbalance,models):\n",
    "    fig,ax,cax = create_facet_plot(len(models),subplot_kw={'projection':ccrs.Robinson()},figsize=(14,7))\n",
    "    norm = mpl.colors.Normalize(vmin=-0.7, vmax=0.7)\n",
    "    cmap = cm.get_cmap('bwr', 15)\n",
    "    ds_load = ds_load.cf.add_bounds(['lon','lat'])\n",
    "    ds_imbalance = ds_imbalance.cf.add_bounds(['lon','lat'])\n",
    "    ds_out = xe.util.grid_global(5,5, cf=True)\n",
    "    ds_load = regrid_global(ds_load,ds_out)\n",
    "    ds_imbalance = regrid_global(ds_imbalance,ds_out)\n",
    "    for a, m in zip(ax, models):\n",
    "        corr = xr.corr(ds_imbalance[m], ds_load[f'loaddust_{m}'], dim='time')\n",
    "        corr.plot(ax=ax[a], norm=norm, cmap=cmap, add_colorbar=False, transform=ccrs.PlateCarree())\n",
    "        mask = corr.copy()\n",
    "        dof = len(ds_load.time)-2\n",
    "        tv = (corr*np.sqrt(dof))/np.sqrt(1-corr**2)\n",
    "        p = 2*(1-stats.t.cdf(np.abs(tv), dof))\n",
    "        mask.data = xr.where(p < 0.1,1,np.nan)\n",
    "        mask.plot.contourf(ax=ax[a], hatches=['////'], colors='none',levels=2, transform=ccrs.PlateCarree(), add_colorbar=False)\n",
    "        ax[a].set_title(m)\n",
    "        ax[a].coastlines()\n",
    "        ax[a].gridlines()\n",
    "        \n",
    "    fig.colorbar(cm.ScalarMappable(norm, cmap=cmap),cax=cax)\n",
    "    # return p, mask"
   ]
  },
  {
   "cell_type": "code",
   "execution_count": 14,
   "id": "18b400cd-10e7-47d0-9f09-773bc523a596",
   "metadata": {},
   "outputs": [],
   "source": [
    "plot_correlation_map(ds_imbalance=piaer_imbalance, ds_load=load_piaer, models = models)\n",
    "plt.savefig(snakemake.output.piaer_allsky, bbox_inches='tight', dpi=144)"
   ]
  },
  {
   "cell_type": "code",
   "execution_count": 15,
   "id": "c663cd52-ef4f-43c1-a527-71fd07eb6abf",
   "metadata": {},
   "outputs": [],
   "source": [
    "plot_correlation_map(ds_imbalance=piClim_imbalance, ds_load=load_picli, models = models)\n",
    "plt.savefig(snakemake.output.picli_allsky, bbox_inches='tight', dpi=144)"
   ]
  },
  {
   "cell_type": "code",
   "execution_count": 16,
   "id": "4727f8cb-d92d-48d7-b2c2-a02d5c0fe3cd",
   "metadata": {},
   "outputs": [],
   "source": [
    "plot_correlation_map(ds_imbalance=piClim_imbalance_cs, ds_load=load_picli, models = models)\n",
    "plt.savefig(snakemake.output.picli_clearsky, bbox_inches='tight', dpi=144)"
   ]
  },
  {
   "cell_type": "code",
   "execution_count": 17,
   "id": "918b9c60-3f22-4fb0-a095-aa660ef95080",
   "metadata": {},
   "outputs": [],
   "source": [
    "plot_correlation_map(ds_imbalance=piaer_imbalance_cs, ds_load=load_piaer, models = models)\n",
    "plt.savefig(snakemake.output.piaer_clearsky, bbox_inches='tight', dpi=144)"
   ]
  },
  {
   "cell_type": "code",
   "execution_count": 11,
   "id": "643d85fe-ef7b-4bf3-a482-be16bc2bed2f",
   "metadata": {},
   "outputs": [],
   "source": [
    "def plot_std_map(ds_imbalance,models):\n",
    "    fig,ax,cax = create_facet_plot(len(models),subplot_kw={'projection':ccrs.Robinson()},figsize=(14,7))\n",
    "    norm = mpl.colors.Normalize(vmin=0, vmax=5)\n",
    "    cmap = cm.get_cmap('YlOrBr', 15)\n",
    "    ds_imbalance = ds_imbalance.cf.add_bounds(['lon','lat'])\n",
    "    ds_out = xe.util.grid_global(5,5, cf=True)\n",
    "    ds_imbalance = regrid_global(ds_imbalance,ds_out)\n",
    "    for a, m in zip(ax, models):\n",
    "        std = ds_imbalance[m].std(dim='time')\n",
    "        std.plot(ax=ax[a], norm=norm, cmap=cmap, add_colorbar=False, transform=ccrs.PlateCarree())\n",
    "\n",
    "        ax[a].set_title(m)\n",
    "        ax[a].coastlines()\n",
    "        ax[a].gridlines()\n",
    "        \n",
    "    fig.colorbar(cm.ScalarMappable(norm, cmap=cmap),cax=cax, extend='max')\n",
    "    # return p, mask"
   ]
  },
  {
   "cell_type": "code",
   "execution_count": 12,
   "id": "a3e4b5fd-b715-4b1a-abfa-faec83c8671c",
   "metadata": {},
   "outputs": [],
   "source": [
    "plot_std_map(piaer_imbalance_cs,models)"
   ]
  },
  {
   "cell_type": "code",
   "execution_count": 13,
   "id": "7da49b9d-b5ce-428d-858d-9f9d8702db12",
   "metadata": {},
   "outputs": [],
   "source": [
    "plot_std_map(piClim_imbalance_cs,models)"
   ]
  }
 ],
 "metadata": {
  "kernelspec": {
   "display_name": "Python 3 (ipykernel)",
   "language": "python",
   "name": "python3"
  },
  "language_info": {
   "codemirror_mode": {
    "name": "ipython",
    "version": 3
   },
   "file_extension": ".py",
   "mimetype": "text/x-python",
   "name": "python",
   "nbconvert_exporter": "python",
   "pygments_lexer": "ipython3",
   "version": "3.9.0"
  }
 },
 "nbformat": 4,
 "nbformat_minor": 5
}
