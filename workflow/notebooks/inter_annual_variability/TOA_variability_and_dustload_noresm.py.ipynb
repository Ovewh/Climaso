{
 "cells": [
  {
   "cell_type": "code",
   "execution_count": 125,
   "id": "5298c800",
   "metadata": {},
   "outputs": [],
   "source": [
    "import xarray as xr\n",
    "import matplotlib.pyplot as plt\n",
    "import cartopy.crs as ccrs\n",
    "import matplotlib.cm as cm\n",
    "import matplotlib as mpl\n",
    "import xesmf as xe\n",
    "from workflow.scripts.utils import regrid_global\n",
    "import numpy as np\n",
    "from pyclim_noresm.general_util_funcs import global_avg\n",
    "import scipy.stats as stats\n",
    "import pandas as pd"
   ]
  },
  {
   "cell_type": "code",
   "execution_count": 3,
   "id": "7a64d48f",
   "metadata": {},
   "outputs": [],
   "source": [
    "forcing_regions = {\n",
    "    'East China': {'lon0':80, 'lat0':25, 'lon1':145,'lat1':50},\n",
    "    'India'     : {'lon0':63, 'lat0':5,'lon1':93,'lat1':30},\n",
    "    'Europe'    : {'lon0':-5, 'lat0':35, 'lon1':40,'lat1':65},\n",
    "    'North America': {'lon0':-100, 'lat0': 23, 'lon1':-50, 'lat1':53},\n",
    "    'Global'       : {'lon0':None, 'lat0': None, 'lon1': None, 'lat1':None}\n",
    "                  }"
   ]
  },
  {
   "cell_type": "code",
   "execution_count": 75,
   "id": "1a37b67f",
   "metadata": {},
   "outputs": [],
   "source": [
    "def read_data(paths):\n",
    "    dsets = []\n",
    "    for p in paths:\n",
    "        ds = xr.open_dataset(p)\n",
    "        ds = ds.cf.add_bounds(['lon','lat'])\n",
    "        grid_params = snakemake.config['regrid_params']\n",
    "        method=grid_params.get('method','conservative')\n",
    "\n",
    "        dxdy = grid_params['dxdy']\n",
    "        ds = regrid_global(ds, lon=dxdy[0], lat=dxdy[1], method=method)\n",
    "        da = ds[ds.variable_id]\n",
    "#         return da\n",
    "        da = da.rename(f'{ds.variable_id}_{ds.source_id}')\n",
    "        da.attrs['source_id'] = ds.source_id \n",
    "        da.attrs['experiment_id'] = ds.experiment_id\n",
    "        da = da.assign_coords(time=np.arange(0, len(da.time)))\n",
    "#         da = da.rename(year='time')\n",
    "        dsets.append(da)\n",
    "    out_da = xr.merge(dsets)\n",
    "    return out_da"
   ]
  },
  {
   "cell_type": "code",
   "execution_count": 45,
   "id": "96498cbc",
   "metadata": {},
   "outputs": [],
   "source": [
    "def cal_toa_imbalance(ds, models):\n",
    "    dsets = []\n",
    "    for m in models:\n",
    "        toa_imbalance = ds[f'rsdt_{m}'] - ds[f'rlut_{m}'] - ds[f'rsut_{m}']\n",
    "        toa_imbalance = toa_imbalance.rename(f'Imbalance_TOA_{m}')\n",
    "        dsets.append(toa_imbalance)\n",
    "    ds = xr.merge(dsets)\n",
    "     \n",
    "    return ds\n",
    "\n",
    "def compute_dust_timeseries(ds, models, vname='loaddust'):\n",
    "    dsets = []\n",
    "    for m in models:\n",
    "        ems = ds[f'{vname}_{m}']\n",
    "        dsets.append(ems)\n",
    "    ds = xr.merge(dsets)\n",
    "    df = global_avg(ds).to_pandas()\n",
    "    df = df - df.mean()\n",
    "    return df\n",
    "\n",
    "def F_test(ts1, ts2):\n",
    "    var1 = ts1.var()\n",
    "    var2 = ts2.var()\n",
    "    df1 = len(var1) -1\n",
    "    df2 = len(var2) -1\n",
    "    F = var1/var2\n",
    "    pval = 1 - stats.f.cdf(F, df1, df2)\n",
    "    return pval"
   ]
  },
  {
   "cell_type": "code",
   "execution_count": 76,
   "id": "00558ec3",
   "metadata": {},
   "outputs": [],
   "source": [
    "piClim = read_data(snakemake.input.picli_vars)\n",
    "piaer = read_data(snakemake.input.piaer_vars)\n",
    "hist = read_data(snakemake.input.hist)\n",
    "histSST = read_data(snakemake.input.histSST)\n",
    "hist_detrended=hist.diff(dim='time')\n",
    "\n",
    "models = list({piaer[d].attrs['source_id'] for d in piaer.data_vars})"
   ]
  },
  {
   "cell_type": "code",
   "execution_count": 77,
   "id": "13d82f6e",
   "metadata": {},
   "outputs": [],
   "source": [
    "histSST_detrend = histSST.diff(dim='time')"
   ]
  },
  {
   "cell_type": "code",
   "execution_count": 78,
   "id": "7e6a4487",
   "metadata": {},
   "outputs": [],
   "source": [
    "dsets = [piClim, piaer, hist_detrended, histSST_detrend]"
   ]
  },
  {
   "cell_type": "code",
   "execution_count": 51,
   "id": "685e590c",
   "metadata": {},
   "outputs": [],
   "source": [
    "piclim_imbalance = cal_toa_imbalance(piClim, models)\n",
    "piaer_imbalance = cal_toa_imbalance(piaer, models)\n",
    "hist_imbalance = cal_toa_imbalance(hist_detrended, models)\n",
    "histSST_imbalance = cal_toa_imbalance(histSST_detrend, models)\n",
    "\n",
    "toa_imbalance_list = [piclim_imbalance, piaer_imbalance, hist_imbalance, histSST_imbalance]\n",
    "hist_bool = [False, False, True,True]"
   ]
  },
  {
   "cell_type": "code",
   "execution_count": 81,
   "id": "ba215d0c",
   "metadata": {},
   "outputs": [],
   "source": [
    "piClim"
   ]
  },
  {
   "cell_type": "code",
   "execution_count": 126,
   "id": "48a0815d",
   "metadata": {},
   "outputs": [],
   "source": [
    "def plot_toa_imbalance_variability(toa_imbalance,dust_dset,forcing_regions, historical):\n",
    "    fig, ax = plt.subplots(nrows=len(forcing_regions.keys()), figsize=(10,14))\n",
    "    colors =[\"#1845fb\", \"#ff5e02\", \"#c91f16\",\"#c849a9\", \"#adad7d\", \"#86c8dd\", \"#578dff\", \"#656364\"]\n",
    "    correlations = {}\n",
    "    for reg, ax_i in zip(forcing_regions,ax):\n",
    "        ax_t = ax_i.twinx()\n",
    "        correlations[reg]={}\n",
    "        for toa_im, dust_t, hist, c in zip(toa_imbalance, dust_dset, historical, colors):\n",
    "            temp_d = dust_t.sel(lon=slice(forcing_regions[reg]['lon0'], forcing_regions[reg]['lon1']), \n",
    "                                        lat=slice(forcing_regions[reg]['lat0'],forcing_regions[reg]['lat1']))\n",
    "            if hist:\n",
    "                pass\n",
    "            else:\n",
    "                dust_t = compute_dust_timeseries(temp_d, ['NorESM2-LM']).iloc[:30,:]\n",
    "                \n",
    "                toa_im = global_avg(toa_im).to_pandas().iloc[:30,:]\n",
    "                toa_im = toa_im - toa_im.mean()         \n",
    "                toa_im.plot(ax=ax_i, color=c, legend=False, marker='o', linestyle='-.')\n",
    "#                 return dust_t, toa_im\n",
    "                correlations[reg][temp_d.attrs[\"experiment_id\"]] = toa_im.iloc[:,0].corr(dust_t.iloc[:,0])\n",
    "                dust_t.plot(ax=ax_t, label = f'loaddust {temp_d.attrs[\"experiment_id\"]}', color=c, marker='s', legend=False)\n",
    "        ax_i.set_title(reg)\n",
    "    return pd.DataFrame(correlations)"
   ]
  },
  {
   "cell_type": "code",
   "execution_count": 127,
   "id": "a43bd554",
   "metadata": {},
   "outputs": [],
   "source": [
    "corrs = plot_toa_imbalance_variability(toa_imbalance_list, dsets, forcing_regions, hist_bool)"
   ]
  },
  {
   "cell_type": "code",
   "execution_count": 129,
   "id": "d8a0db8d",
   "metadata": {},
   "outputs": [],
   "source": [
    "corrs"
   ]
  }
 ],
 "metadata": {
  "kernelspec": {
   "display_name": "Python 3 (ipykernel)",
   "language": "python",
   "name": "python3"
  },
  "language_info": {
   "codemirror_mode": {
    "name": "ipython",
    "version": 3
   },
   "file_extension": ".py",
   "mimetype": "text/x-python",
   "name": "python",
   "nbconvert_exporter": "python",
   "pygments_lexer": "ipython3",
   "version": "3.9.0"
  }
 },
 "nbformat": 4,
 "nbformat_minor": 5
}
