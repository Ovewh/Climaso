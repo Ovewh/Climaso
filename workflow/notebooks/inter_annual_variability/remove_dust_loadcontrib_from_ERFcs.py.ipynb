{
 "cells": [
  {
   "cell_type": "code",
   "execution_count": 87,
   "id": "757b41ca",
   "metadata": {},
   "outputs": [],
   "source": [
    "import xarray as xr\n",
    "import matplotlib.pyplot as plt\n",
    "import matplotlib.cm as cm\n",
    "import matplotlib as mpl\n",
    "import xesmf as xe\n",
    "from workflow.scripts.utils import regrid_global\n",
    "import pandas as pd\n",
    "import numpy as np\n",
    "from pyclim_noresm.general_util_funcs import global_avg\n",
    "import statsmodels.api as sm\n",
    "from matplotlib.ticker import LinearLocator, AutoMinorLocator, FixedLocator"
   ]
  },
  {
   "cell_type": "code",
   "execution_count": 3,
   "id": "2888eeed",
   "metadata": {},
   "outputs": [],
   "source": [
    "def read_data(paths, tag='source_id', time_slice=None):\n",
    "    dsets = []\n",
    "    for p in paths:\n",
    "        ds = xr.open_dataset(p, chunks={'time':40})\n",
    "        ds = ds.cf.add_bounds(['lon','lat'])\n",
    "        if 'year' in ds.dims:\n",
    "            ds = ds.rename({'year':'time'})\n",
    "\n",
    "        grid_params = snakemake.config['regrid_params']\n",
    "        method=grid_params.get('method','conservative')\n",
    "\n",
    "        dxdy = grid_params['dxdy']\n",
    "        ds = regrid_global(ds, lon=dxdy[0], lat=dxdy[1], method=method)\n",
    "        da = ds[ds.variable_id]\n",
    "#         return da\n",
    "\n",
    "        da = da.rename(f'{ds.variable_id}_{ds.attrs[tag]}')\n",
    "        da.attrs['source_id'] = ds.source_id \n",
    "        da.attrs['experiment_id'] = ds.experiment_id\n",
    "        da = da.assign_coords(time=np.arange(0, len(da.time)))\n",
    "#         da = da.rename(year='time')\n",
    "        dsets.append(da)\n",
    "    out_da = xr.merge(dsets)\n",
    "    if time_slice:\n",
    "        out_da = out_da.isel(time=time_slice)\n",
    "    \n",
    "    \n",
    "    return out_da\n",
    "def calc_load_diff(dsh,dspiaer, models):\n",
    "    dsets = []\n",
    "    for m in models:\n",
    "        dshmmr = dsh[f'mmrdust_{m}'].dropna(dim='lev').dropna(dim='time')\n",
    "        dspimmr = dspiaer[f'mmrdust_{m}'].dropna(dim='lev').dropna(dim='time')\n",
    "        dshair = dsh[f'airmass_{m}'].dropna(dim='lev').dropna(dim='time')\n",
    "        dspiair = dspiaer[f'airmass_{m}'].dropna(dim='lev').dropna(dim='time')\n",
    "        loaddusth = dshmmr*dshair\n",
    "        loaddustpi = dspimmr*dspiair\n",
    "        diffload = loaddusth.sum(dim='lev')-loaddustpi.sum(dim='lev')\n",
    "        diffload = diffload.rename(f'delta_dustload_{m}')\n",
    "        dsets.append(diffload)\n",
    "    ds = xr.merge(dsets)\n",
    "    return ds"
   ]
  },
  {
   "cell_type": "code",
   "execution_count": 6,
   "id": "2ee14837",
   "metadata": {},
   "outputs": [],
   "source": [
    "load_histSST_piaer = read_data(snakemake.input.histSST_piaer_load, time_slice=slice(None,-5))"
   ]
  },
  {
   "cell_type": "code",
   "execution_count": 4,
   "id": "5e787836",
   "metadata": {},
   "outputs": [],
   "source": [
    "load_histSST = read_data(snakemake.input.histSST_load,time_slice=slice(None,-5))"
   ]
  },
  {
   "cell_type": "code",
   "execution_count": 7,
   "id": "3112e67c",
   "metadata": {},
   "outputs": [],
   "source": [
    "models = list({load_histSST_piaer[d].source_id for d in load_histSST_piaer.data_vars})"
   ]
  },
  {
   "cell_type": "code",
   "execution_count": 8,
   "id": "7e841fb0",
   "metadata": {},
   "outputs": [],
   "source": [
    "dloaddust=calc_load_diff(load_histSST, load_histSST_piaer, models)"
   ]
  },
  {
   "cell_type": "code",
   "execution_count": 9,
   "id": "72144e62",
   "metadata": {},
   "outputs": [],
   "source": [
    "dloaddust = dloaddust.compute()"
   ]
  },
  {
   "cell_type": "code",
   "execution_count": 11,
   "id": "bf541351",
   "metadata": {},
   "outputs": [],
   "source": [
    "fit_params = pd.read_csv(snakemake.input.toa_dustload_txt, index_col=0)"
   ]
  },
  {
   "cell_type": "code",
   "execution_count": 12,
   "id": "26baafa9",
   "metadata": {},
   "outputs": [],
   "source": [
    "def calc_dust_erf(dloaddust, fit_params, models):\n",
    "    dloaddustavg = global_avg(dloaddust)\n",
    "\n",
    "    dfloaddf = dloaddustavg.to_dataframe()\n",
    "    for m in models:\n",
    "        dfloaddf[f'ERFcs_dust_{m}'] = dfloaddf[f'delta_dustload_{m}']*fit_params.loc['x',m] + fit_params.loc['c',m]\n",
    "    return dfloaddf"
   ]
  },
  {
   "cell_type": "code",
   "execution_count": 42,
   "id": "cc70fec2",
   "metadata": {},
   "outputs": [],
   "source": [
    "dloaddust['delta_dustload_MPI-ESM-1-2-HAM'][-1]"
   ]
  },
  {
   "cell_type": "code",
   "execution_count": 18,
   "id": "df0211e4",
   "metadata": {},
   "outputs": [],
   "source": [
    "dfdusterf = calc_dust_erf(dloaddust, fit_params, models)\n",
    "erfs = read_data(snakemake.input.histSST_ERFcs, time_slice=slice(None, -5)).compute()\n",
    "erfs = global_avg(erfs).to_dataframe()"
   ]
  },
  {
   "cell_type": "code",
   "execution_count": 79,
   "id": "8aab7cd7",
   "metadata": {},
   "outputs": [],
   "source": [
    "def make_plot(dfdusterf, erfs):\n",
    "    fig,ax = plt.subplots(nrows=3, figsize=(8,6), sharex=True, sharey=True)\n",
    "    ax[0].set_ylim(-1.2,0.2)\n",
    "    for i,m in enumerate(models):\n",
    "        du_removed = erfs[f'ERFtcs_{m}']- dfdusterf[f'ERFcs_dust_{m}']\n",
    "        ax[i].plot(dfdusterf.index, erfs[f'ERFtcs_{m}']- dfdusterf[f'ERFcs_dust_{m}'], label=m, marker='s')\n",
    "        ax[i].plot(erfs.index, erfs[f'ERFtcs_{m}'], label=m, marker='o')\n",
    "        ax[i].set_title(m)\n",
    "        ax[i].text(0.08, 0.15, \n",
    "                   f'$\\sigma_{{no dust}}$ = {du_removed.std():.2f} \\n $\\sigma_{{all}}$ = {erfs[f\"ERFtcs_{m}\"].std():.2f}',\n",
    "                  transform=ax[i].transAxes)\n",
    "        ax[i].set_ylabel('W m-2')\n",
    "#         ax"
   ]
  },
  {
   "cell_type": "code",
   "execution_count": 88,
   "id": "631c5869",
   "metadata": {},
   "outputs": [],
   "source": [
    "snakemake.output.outpath"
   ]
  },
  {
   "cell_type": "code",
   "execution_count": 89,
   "id": "58144755",
   "metadata": {},
   "outputs": [],
   "source": [
    "make_plot(dfdusterf.iloc[-30:,:], erfs.iloc[-30:,:])\n",
    "ax = plt.gca()\n",
    "ax.xaxis.set_major_locator(FixedLocator(np.arange(130,163,3)))\n",
    "ax.set_xticklabels(np.arange(1980,2013, 3))\n",
    "ax.xaxis.set_minor_locator(AutoMinorLocator(3))\n",
    "h,l = ax.get_legend_handles_labels()\n",
    "fig = plt.gcf()\n",
    "fig.legend(h, ['Dust variability removed', 'All variability'], loc='lower center', ncol=2)\n",
    "plt.savefig(snakemake.output.outpath, bbox_inches='tight', dpi=144)"
   ]
  },
  {
   "cell_type": "code",
   "execution_count": 86,
   "id": "5ca5c0ea",
   "metadata": {},
   "outputs": [],
   "source": [
    "make_plot(dfdusterf.iloc[-60:-29,:], erfs.iloc[-60:-29,:])\n",
    "ax = plt.gca()\n",
    "ax.xaxis.set_major_locator(FixedLocator(np.arange(100,133,3)))\n",
    "ax.set_xticklabels(np.arange(1950,1983, 3))\n",
    "ax.xaxis.set_minor_locator(AutoMinorLocator(3))\n",
    "h,l = ax.get_legend_handles_labels()\n",
    "fig = plt.gcf()\n",
    "fig.legend(h, ['Dust variability removed', 'All variability'], loc='lower center', ncol=2)\n",
    "plt.savefig(snakemake.output.outpath1950, bbox_inches='tight', dpi=144)"
   ]
  }
 ],
 "metadata": {
  "kernelspec": {
   "display_name": "Python 3.9.0 ('dustysnake')",
   "language": "python",
   "name": "python3"
  },
  "language_info": {
   "codemirror_mode": {
    "name": "ipython",
    "version": 3
   },
   "file_extension": ".py",
   "mimetype": "text/x-python",
   "name": "python",
   "nbconvert_exporter": "python",
   "pygments_lexer": "ipython3",
   "version": "3.9.0"
  },
  "vscode": {
   "interpreter": {
    "hash": "5252e5327a2efbab7c42f5d52cb87d9bedc44c7d9d6a615ebff0e5d85896cfce"
   }
  }
 },
 "nbformat": 4,
 "nbformat_minor": 5
}
