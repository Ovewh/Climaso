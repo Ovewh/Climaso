{
 "cells": [
  {
   "cell_type": "code",
   "execution_count": 2,
   "id": "901fa3c3",
   "metadata": {},
   "outputs": [],
   "source": [
    "import xarray as xr\n",
    "import matplotlib.pyplot as plt\n",
    "import cartopy.crs as ccrs\n",
    "import matplotlib.cm as cm\n",
    "import matplotlib as mpl\n",
    "import xesmf as xe\n",
    "from workflow.scripts.utils import regrid_global\n",
    "import numpy as np\n",
    "from pyclim_noresm.general_util_funcs import global_avg\n",
    "import scipy.stats as stats\n",
    "import pandas as pd\n",
    "import statsmodels.api as sm"
   ]
  },
  {
   "cell_type": "code",
   "execution_count": 3,
   "id": "364fd3ba",
   "metadata": {},
   "outputs": [],
   "source": [
    "def read_data(paths, tag='experiment_id'):\n",
    "    dsets = []\n",
    "    for p in paths:\n",
    "        ds = xr.open_dataset(p)\n",
    "        ds = ds.cf.add_bounds(['lon','lat'])\n",
    "        grid_params = snakemake.config['regrid_params']\n",
    "        method=grid_params.get('method','conservative')\n",
    "\n",
    "        dxdy = grid_params['dxdy']\n",
    "        ds = regrid_global(ds, lon=dxdy[0], lat=dxdy[1], method=method)\n",
    "        da = ds[ds.variable_id]\n",
    "#         return da\n",
    "        da = da.rename(f'{ds.variable_id}_{ds.attrs[tag]}')\n",
    "        da.attrs['source_id'] = ds.source_id \n",
    "        da.attrs['experiment_id'] = ds.experiment_id\n",
    "        da = da.assign_coords(time=np.arange(0, len(da.time)))\n",
    "#         da = da.rename(year='time')\n",
    "        dsets.append(da)\n",
    "    out_da = xr.merge(dsets)\n",
    "    return out_da\n"
   ]
  },
  {
   "cell_type": "code",
   "execution_count": 4,
   "id": "50e1092a",
   "metadata": {},
   "outputs": [],
   "source": [
    "rad_noresm = read_data(snakemake.input.noresm_rad)\n",
    "rad_mpi = read_data(snakemake.input.mpi_rad)\n",
    "rad_ec = read_data(snakemake.input.ec_rad)"
   ]
  },
  {
   "cell_type": "code",
   "execution_count": 5,
   "id": "79823515",
   "metadata": {},
   "outputs": [],
   "source": [
    "load_nor = read_data(snakemake.input.noresm_load)\n",
    "load_mpi = read_data(snakemake.input.mpi_load)\n",
    "load_ec = read_data(snakemake.input.ec_load)"
   ]
  },
  {
   "cell_type": "code",
   "execution_count": 6,
   "id": "102ca843",
   "metadata": {},
   "outputs": [],
   "source": [
    "exp_noresm = list({rad_noresm[d].experiment_id for d in rad_noresm.data_vars})\n",
    "exp_mpi = list({rad_mpi[d].experiment_id for d in rad_mpi.data_vars})\n",
    "exp_ec = list({rad_ec[d].experiment_id for d in rad_ec.data_vars})"
   ]
  },
  {
   "cell_type": "code",
   "execution_count": 53,
   "id": "5e4f5ffb",
   "metadata": {},
   "outputs": [],
   "source": [
    "def calc_toa_imbalance(ds_rad, experiments,ds_load=None,tag='cs', subtract_mean_dTOA=True):\n",
    "    toa_imbalance = []\n",
    "    loads = []\n",
    "    for exp in experiments:\n",
    "        \n",
    "        temp_da = (np.abs(ds_rad[f'rsdt_{exp}'].dropna(dim='time')) \n",
    "                   - np.abs(ds_rad[f'rlut{tag}_{exp}'].dropna(dim='time')) \n",
    "                   - np.abs(ds_rad[f'rsut{tag}_{exp}'].dropna(dim='time')))\n",
    "        \n",
    "        if ds_load:\n",
    "            load_da = ds_load[f'mmrdust_{exp}'].dropna(dim='time')*ds_load[f'airmass_{exp}'].dropna(dim='time')\n",
    "            load_da = load_da.sum(dim='lev')\n",
    "    #         return load_da\n",
    "            load_da = global_avg(load_da)\n",
    "            load_da = load_da -load_da.mean()\n",
    "            load = load_da.to_dataset(name=f'loaddust_{exp}')\n",
    "            loads.append(load)\n",
    "        temp_da = global_avg(temp_da)\n",
    "        if subtract_mean_dTOA:\n",
    "            temp_da = temp_da - temp_da.mean()\n",
    "        temp_rad = temp_da.to_dataset(name=f'dTOA_{exp}')\n",
    "        \n",
    "        toa_imbalance.append(temp_rad)\n",
    "    load_im=xr.merge(toa_imbalance+loads)\n",
    "#     if subtract_mean == True:\n",
    "#         load_im=load_im-load_im.mean()\n",
    "    \n",
    "    return load_im"
   ]
  },
  {
   "cell_type": "code",
   "execution_count": 8,
   "id": "ff969907",
   "metadata": {},
   "outputs": [],
   "source": [
    "ec_load_im = calc_toa_imbalance(rad_ec,exp_ec,ds_load=load_ec)\n",
    "nor_load_im = calc_toa_imbalance(rad_noresm, exp_noresm, ds_load=load_nor)\n",
    "mpi_load_im = calc_toa_imbalance(rad_mpi, exp_mpi,ds_load=load_mpi)"
   ]
  },
  {
   "cell_type": "code",
   "execution_count": 9,
   "id": "e94a5f2c",
   "metadata": {},
   "outputs": [],
   "source": [
    "def stack_data(ds, experiments):\n",
    "    df = ds.to_dataframe()\n",
    "    dfs = []\n",
    "    for exp in experiments:\n",
    "        tdf = df[[f'loaddust_{exp}',f'dTOA_{exp}']]\n",
    "        \n",
    "\n",
    "        tdf = tdf.dropna()\n",
    "#         tdf=tdf[(np.abs(stats.zscore(tdf)) < 3).all(axis=1)]\n",
    "        tdf = tdf.rename(columns={f'loaddust_{exp}':'loaddust',f'dTOA_{exp}':'dTOA'})\n",
    "        dfs.append(tdf)\n",
    "#     ts_load_ano = [df[[f'loaddust_{exp}']] for exp in experiments]\n",
    "#     ts_dTOA_ano = [df[f'dTOA_{exp}'] for exp in experiments]\n",
    "    df = pd.concat(dfs).reset_index()\n",
    "#     ts_dTOA = pd.concat(ts_dTOA_ano).reset_index()\n",
    "    df = df.drop(columns='time')\n",
    "    df=df[(np.abs(stats.zscore(df['dTOA'])) < 3)]\n",
    "#      = ts_load.drop(columns='time')\n",
    "    return df\n",
    "        "
   ]
  },
  {
   "cell_type": "code",
   "execution_count": 10,
   "id": "99b8a97e",
   "metadata": {},
   "outputs": [],
   "source": [
    "mpi_load_dTOA= stack_data(mpi_load_im, exp_mpi)\n",
    "nor_load_dTOA = stack_data(nor_load_im, exp_noresm)\n",
    "ec_load_dTOA = stack_data(ec_load_im, exp_ec)"
   ]
  },
  {
   "cell_type": "code",
   "execution_count": 16,
   "id": "b424c0bf",
   "metadata": {},
   "outputs": [],
   "source": [
    "def make_fit(df,regularized = True):\n",
    "# dTOA = ec_dTOA.dropna()\n",
    "# load = ec_load.dropna()\n",
    "#     load=load.dropna()\n",
    "#     dTOA = dTOA.dropna()\n",
    "    X = sm.add_constant(df['loaddust'])\n",
    "    model = sm.OLS(df['dTOA'],X, missing='drop')\n",
    "    if regularized:\n",
    "        result = model.fit_regularized(L1_wt=1)\n",
    "    else:\n",
    "        result = model.fit()\n",
    "    return result, result.params.values[0], result.params.values[1]"
   ]
  },
  {
   "cell_type": "code",
   "execution_count": 12,
   "id": "e02e763e",
   "metadata": {},
   "outputs": [],
   "source": [
    "def plot_fit():\n",
    "    mpi_load_dTOA= stack_data(mpi_load_im, exp_mpi)\n",
    "    nor_load_dTOA = stack_data(nor_load_im, exp_noresm)\n",
    "    ec_load_dTOA = stack_data(ec_load_im, exp_ec)\n",
    "    fig,ax = plt.subplots(figsize=(14,4), ncols=3)\n",
    "    res_nor, c_nor,x_nor = make_fit(nor_load_dTOA, False)\n",
    "    props = dict(boxstyle='round', facecolor='wheat', alpha=0.5)\n",
    "    ax[0].scatter(nor_load_dTOA['loaddust'],nor_load_dTOA['dTOA'], s=5)\n",
    "    ax[0].plot([-10e-4,10e-4],[-10e-4*x_nor+c_nor,10e-4*x_nor+c_nor], \n",
    "        linewidth=3, color='grey')\n",
    "    ax[0].set_ylim(-0.5,0.5)\n",
    "    ax[0].set_xlim(-6e-6, 6e-6)\n",
    "    ax[0].set_title('NorESM2-LM')\n",
    "    ax[0].text(0.17, 0.08, f'$R^2 = $ {res_nor.rsquared:.2f}', va='center', ha='center', transform=ax[0].transAxes)\n",
    "    res_ec, c_ec,x_ec = make_fit(ec_load_dTOA, False)\n",
    "    ax[0].text(0.5,0.92, f'dTOA={res_nor.params[\"loaddust\"]:2.2E} $* \\;C_{{dust}}$, p = {res_nor.pvalues[\"loaddust\"]:.2E}',\n",
    "              va='center', ha='center', transform=ax[0].transAxes, bbox=props)\n",
    "    ax[1].scatter(ec_load_dTOA['loaddust'], ec_load_dTOA['dTOA'],s=5)\n",
    "    ax[1].plot([-10e-4,10e-4],[-10e-4*x_ec+c_ec,10e-4*x_ec+c_ec], \n",
    "        linewidth=3, color='grey')\n",
    "    ax[1].set_title('EC-Earth3-AerChem')\n",
    "    ax[1].set_ylim(-0.5,0.5)\n",
    "    ax[1].set_xlim(-2e-5, 2e-5)\n",
    "    ax[1].text(0.17, 0.08, f'$R^2 = $ {res_ec.rsquared:.2f}', va='center', ha='center', transform=ax[1].transAxes)\n",
    "    ax[1].text(0.5,0.92, f'dTOA={res_ec.params[\"loaddust\"]:2.2E} $* \\;C_{{dust}}$, p = {res_ec.pvalues[\"loaddust\"]:.2E}',\n",
    "              va='center', ha='center', transform=ax[1].transAxes, bbox=props)\n",
    "    \n",
    "    \n",
    "    res_mpi, c_mpi, x_mpi = make_fit(mpi_load_dTOA, False)\n",
    "    \n",
    "    ax[2].set_title('MPI-ESM-1-2-HAM')\n",
    "    ax[2].scatter(mpi_load_dTOA['loaddust'], mpi_load_dTOA['dTOA'],s=5)\n",
    "    ax[2].plot([-10e-4,10e-4],[-10e-4*x_mpi+c_mpi,10e-4*x_mpi+c_mpi], linewidth=3, color='grey')\n",
    "    ax[2].set_ylim(-0.5,0.5)\n",
    "    ax[2].set_xlim(-4e-5, 4e-5)\n",
    "    ax[2].text(0.17, 0.08, f'$R^2 = $ {res_mpi.rsquared:.2f}', va='center', ha='center', transform=ax[2].transAxes)\n",
    "    ax[2].text(0.5,0.92, f'dTOA={res_mpi.params[\"loaddust\"]:2.2E} $* \\;C_{{dust}}$, p = {res_mpi.pvalues[\"loaddust\"]:.2E}',\n",
    "              va='center', ha='center', transform=ax[2].transAxes, bbox=props)\n",
    "    \n",
    "    \n",
    "    ax[0].set_ylabel('TOA imbalance [W m-2]')\n",
    "    ax[1].set_xlabel('Dust load anomaly \\n [kg m-2]')\n",
    "    \n",
    "# ax.set_as"
   ]
  },
  {
   "cell_type": "code",
   "execution_count": 15,
   "id": "08aa3cc6",
   "metadata": {},
   "outputs": [],
   "source": [
    "ec_load_dTOA"
   ]
  },
  {
   "cell_type": "code",
   "execution_count": 14,
   "id": "41a9b2b6",
   "metadata": {},
   "outputs": [],
   "source": [
    "nor_load_dTOA"
   ]
  },
  {
   "cell_type": "code",
   "execution_count": 13,
   "id": "1ce45de7",
   "metadata": {},
   "outputs": [],
   "source": [
    "plot_fit()\n",
    "plt.savefig(snakemake.output.toa_dustload_png)"
   ]
  },
  {
   "cell_type": "code",
   "execution_count": 109,
   "id": "574ede42",
   "metadata": {},
   "outputs": [],
   "source": [
    "res_nor, c_nor,x_nor = make_fit(nor_load_dTOA, False)\n",
    "res_ec, c_ec,x_ec = make_fit(ec_load_dTOA, False)\n",
    "res_mpi, c_mpi, x_mpi = make_fit(mpi_load_dTOA, False)"
   ]
  },
  {
   "cell_type": "code",
   "execution_count": 114,
   "id": "4af80507",
   "metadata": {},
   "outputs": [],
   "source": [
    "c_ec"
   ]
  },
  {
   "cell_type": "code",
   "execution_count": 117,
   "id": "b4407eb2",
   "metadata": {},
   "outputs": [],
   "source": [
    "import yaml\n",
    "out_dict = {}\n",
    "out_dict['NorESM2-LM'] = {}\n",
    "out_dict['NorESM2-LM']['c'] = c_nor\n",
    "out_dict['NorESM2-LM']['x'] = x_nor\n",
    "\n",
    "out_dict['EC-Earth3-AerChem'] = {}\n",
    "out_dict['EC-Earth3-AerChem']['c'] = c_ec\n",
    "out_dict['EC-Earth3-AerChem']['x'] = x_ec\n",
    "\n",
    "out_dict['MPI-ESM-1-2-HAM'] = {}\n",
    "out_dict['MPI-ESM-1-2-HAM']['c'] = c_mpi\n",
    "out_dict['MPI-ESM-1-2-HAM']['x'] = x_mpi\n",
    "\n",
    "outdf = pd.DataFrame(out_dict)\n",
    "outdf.to_csv(snakemake.output.toa_dustload_txt)"
   ]
  },
  {
   "cell_type": "markdown",
   "id": "f681eb65",
   "metadata": {},
   "outputs": [],
   "source": [
    "## Validation"
   ]
  },
  {
   "cell_type": "code",
   "execution_count": 118,
   "id": "7e85ab14",
   "metadata": {},
   "outputs": [],
   "source": [
    "val=False\n",
    "if val:\n",
    "    histSST = read_data(snakemake.input.histSST_rad, tag='source_id')\n",
    "\n",
    "    mmr_mass_hist = read_data(snakemake.input.histSST_load, tag='source_id')\n",
    "\n",
    "    models = list({histSST[d].attrs['source_id'] for d in histSST.data_vars})\n",
    "\n",
    "    def calc_load(mmr_air, models):\n",
    "        dsets = []\n",
    "        for model in models:\n",
    "            ds_load = mmr_air[f'mmrdust_{model}']*mmr_air[f'airmass_{model}']\n",
    "            ds_load = ds_load.sum(dim='lev')\n",
    "            ds_load = global_avg(ds_load)\n",
    "            ds_load.attrs['units'] = 'kg m-2'\n",
    "            ds_load.attrs['long_name'] = 'Load of Dust'\n",
    "            ds_load = ds_load.to_dataset(name=f'loaddust_{model}')\n",
    "            dsets.append(ds_load)\n",
    "        ds = xr.merge(dsets)\n",
    "        return ds\n",
    "\n",
    "\n",
    "\n",
    "    histSST_imbalance_cs = calc_toa_imbalance(histSST,models,tag='cs', subtract_mean_dTOA=False)\n",
    "\n",
    "    histSST_imbalance_cs\n",
    "\n",
    "    res_nor, c_nor,x_nor = make_fit(nor_load_dTOA, False)\n",
    "    res_ec, c_ec,x_ec = make_fit(ec_load_dTOA, False)\n",
    "    res_mpi, c_mpi, x_mpi = make_fit(mpi_load_dTOA, False)\n",
    "\n",
    "    loads_histSST = calc_load(mmr_mass_hist, models)\n",
    "\n",
    "    def create_validation_data(loading, dTOA, t_slice=None):\n",
    "        if t_slice:\n",
    "            loading = loading.isel(time=t_slice)\n",
    "            dTOA = dTOA.isel(time=t_slice)\n",
    "        else:\n",
    "            loading = loading.isel(time=slice(0,30))\n",
    "            dTOA = dTOA.sel(time=slice(0,30))\n",
    "\n",
    "        loading = loading - loading.mean()\n",
    "        loading = loading.rename('loaddust')\n",
    "    #     dTOA = dTOA - dTOA.mean()\n",
    "        dTOA = dTOA.to_dataset(name='dTOA')\n",
    "        dfTOA = dTOA.to_pandas()\n",
    "        dfTOA['loaddust'] = loading.to_pandas()\n",
    "    #     dfloading = \n",
    "        return dfTOA\n",
    "\n",
    "    nor_val = create_validation_data(loads_histSST['loaddust_NorESM2-LM'], histSST_imbalance_cs['dTOA_NorESM2-LM'])\n",
    "    nor_val['predicted'] = res_nor.predict(sm.add_constant(nor_val['loaddust']))\n",
    "    mpi_val = create_validation_data(loads_histSST['loaddust_MPI-ESM-1-2-HAM'], \n",
    "                                     histSST_imbalance_cs['dTOA_MPI-ESM-1-2-HAM'], slice(-40,-10))\n",
    "    mpi_val['predicted'] = res_mpi.predict(sm.add_constant(mpi_val['loaddust']))\n",
    "\n",
    "    ec_val = create_validation_data(loads_histSST['loaddust_EC-Earth3-AerChem'], \n",
    "                                     histSST_imbalance_cs['dTOA_EC-Earth3-AerChem'])\n",
    "    ec_val['predicted'] = res_mpi.predict(sm.add_constant(ec_val['loaddust']))\n",
    "\n",
    "    dhTOA_mpi = histSST_imbalance_cs['dTOA_MPI-ESM-1-2-HAM'].isel(time=slice(0,30)) - histSST_imbalance_cs['dTOA_MPI-ESM-1-2-HAM'].isel(time=slice(0,30)).mean()"
   ]
  },
  {
   "cell_type": "code",
   "execution_count": 68,
   "id": "e8804c2a",
   "metadata": {},
   "outputs": [],
   "source": [
    "if val:\n",
    "    ax = plt.gca()\n",
    "    mpi_load_im['loaddust_piClim-aer'].plot(ax=ax)\n",
    "    mpi_load_im['loaddust_piClim-2xdust'].plot(ax=ax)\n",
    "    mpi_load_im['loaddust_piClim-control'].plot(ax=ax)\n",
    "    mpi_val['loaddust'].plot(ax=ax)"
   ]
  },
  {
   "cell_type": "code",
   "execution_count": 100,
   "id": "de9eb5e7",
   "metadata": {},
   "outputs": [],
   "source": [
    "if val:\n",
    "    ax = plt.gca()\n",
    "\n",
    "    ax.plot(res_mpi.predict(sm.add_constant(mpi_load_im['loaddust_piClim-aer'])))\n",
    "    ax.plot(res_mpi.predict(sm.add_constant(mpi_load_im['loaddust_piClim-2xdust'])))\n",
    "    ax.plot(res_mpi.predict(sm.add_constant(mpi_load_im['loaddust_piClim-control'])))\n",
    "    (mpi_val['predicted']).plot(ax=ax)"
   ]
  },
  {
   "cell_type": "code",
   "execution_count": 108,
   "id": "be0452de",
   "metadata": {},
   "outputs": [],
   "source": [
    "if val:\n",
    "    ax=plt.gca()\n",
    "    # mpi_no_dust.plot(ax=ax,marker='o', label='no dust')\n",
    "    ((mpi_val['dTOA']-mpi_val['dTOA'].mean())-mpi_val['predicted']).plot(ax=ax, marker='s', label='dTOA histSST')\n",
    "    ((mpi_val['dTOA']-mpi_val['dTOA'].mean())).plot(ax=ax, marker='s', label='dTOA histSST')\n",
    "    # ax.set_ylim(-0.6, 0.6)\n",
    "    ax.legend()"
   ]
  },
  {
   "cell_type": "code",
   "execution_count": 120,
   "id": "1fe6245a",
   "metadata": {},
   "outputs": [],
   "source": [
    "if val:\n",
    "    mpi_no_dust_hist = (dhTOA_mpi-\n",
    "                        res_mpi.predict(sm.add_constant(mpi_val['loaddust'])))\n",
    "\n",
    "    ax = plt.gca()\n",
    "    dhTOA_mpi.plot(ax=ax)\n",
    "    mpi_no_dust_hist.plot(ax=ax)"
   ]
  },
  {
   "cell_type": "code",
   "execution_count": 119,
   "id": "8133704d",
   "metadata": {},
   "outputs": [],
   "source": [
    "if val:\n",
    "    ax = plt.gca()\n",
    "    # mpi_val['predicted'].plot(ax=ax)\n",
    "    (mpi_val['dTOA']-mpi_val['dTOA'].mean()).plot(ax=ax)\n",
    "    (mpi_val['dTOA']-(mpi_val['predicted']+mpi_val['dTOA'].mean())).plot(ax=ax)"
   ]
  }
 ],
 "metadata": {
  "kernelspec": {
   "display_name": "Python 3 (ipykernel)",
   "language": "python",
   "name": "python3"
  },
  "language_info": {
   "codemirror_mode": {
    "name": "ipython",
    "version": 3
   },
   "file_extension": ".py",
   "mimetype": "text/x-python",
   "name": "python",
   "nbconvert_exporter": "python",
   "pygments_lexer": "ipython3",
   "version": "3.9.0"
  }
 },
 "nbformat": 4,
 "nbformat_minor": 5
}
