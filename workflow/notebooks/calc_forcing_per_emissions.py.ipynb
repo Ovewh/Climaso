{
 "cells": [
  {
   "cell_type": "code",
   "execution_count": 2,
   "id": "2ea23094",
   "metadata": {},
   "outputs": [],
   "source": [
    "import xarray as xr\n",
    "from pyclim_noresm.aerosol_feedbacks import partialDF_partialDC\n",
    "params = snakemake.params\n",
    "time_slice = params.get('time_slice',slice(5,None))"
   ]
  },
  {
   "cell_type": "code",
   "execution_count": 3,
   "id": "5e49c78c",
   "metadata": {},
   "outputs": [],
   "source": [
    "emis_exp = xr.open_dataset(snakemake.input.emis_exp[0]).isel(year=time_slice)\n",
    "emis_ctrl = xr.open_dataset(snakemake.input.emis_ctrl[0]).isel(year=time_slice)\n",
    "area_cello = xr.open_dataset(snakemake.input.area_cello)\n",
    "forcing = xr.open_dataset(snakemake.input.forcing).isel(year=time_slice)"
   ]
  },
  {
   "cell_type": "code",
   "execution_count": 4,
   "id": "dd13c8cc",
   "metadata": {},
   "outputs": [],
   "source": [
    "with xr.set_options(keep_attrs=True):\n",
    "    deltac = emis_exp[emis_exp.variable_id]-emis_ctrl[emis_ctrl.variable_id]"
   ]
  },
  {
   "cell_type": "code",
   "execution_count": 5,
   "id": "4cc28ce4",
   "metadata": {},
   "outputs": [],
   "source": [
    "res= partialDF_partialDC(forcing, deltac, area_cello)"
   ]
  },
  {
   "cell_type": "code",
   "execution_count": 6,
   "id": "d08263ba",
   "metadata": {},
   "outputs": [],
   "source": []
  },
  {
   "cell_type": "code",
   "execution_count": 7,
   "id": "3b9c710b",
   "metadata": {},
   "outputs": [],
   "source": [
    "partialDF_partialDC(forcing, deltac)"
   ]
  },
  {
   "cell_type": "code",
   "execution_count": 8,
   "id": "ba890f58",
   "metadata": {},
   "outputs": [],
   "source": []
  }
 ],
 "metadata": {
  "kernelspec": {
   "display_name": "Python 3 (ipykernel)",
   "language": "python",
   "name": "python3"
  },
  "language_info": {
   "codemirror_mode": {
    "name": "ipython",
    "version": 3
   },
   "file_extension": ".py",
   "mimetype": "text/x-python",
   "name": "python",
   "nbconvert_exporter": "python",
   "pygments_lexer": "ipython3",
   "version": "3.9.0"
  }
 },
 "nbformat": 4,
 "nbformat_minor": 5
}
