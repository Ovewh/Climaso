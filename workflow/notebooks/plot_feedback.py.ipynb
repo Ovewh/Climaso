{
 "cells": [
  {
   "cell_type": "code",
   "execution_count": 2,
   "id": "ff52805e",
   "metadata": {},
   "outputs": [],
   "source": [
    "import yaml\n",
    "import matplotlib.pyplot as plt\n",
    "import pandas as pd\n"
   ]
  },
  {
   "cell_type": "code",
   "execution_count": 3,
   "id": "e57e27ea",
   "metadata": {},
   "outputs": [],
   "source": [
    "paths = snakemake.input"
   ]
  },
  {
   "cell_type": "code",
   "execution_count": 5,
   "id": "168215fa",
   "metadata": {},
   "outputs": [],
   "source": [
    "with open(paths[0], 'r') as f:\n",
    "    data = yaml.safe_load(f)\n",
    "    "
   ]
  },
  {
   "cell_type": "code",
   "execution_count": 6,
   "id": "58806ffe",
   "metadata": {},
   "outputs": [],
   "source": [
    "data"
   ]
  },
  {
   "cell_type": "code",
   "execution_count": 4,
   "id": "971e0f21",
   "metadata": {},
   "outputs": [],
   "source": [
    "def read_yamls(paths):\n",
    "    "
   ]
  },
  {
   "cell_type": "code",
   "execution_count": 4,
   "id": "8e6cbcf9",
   "metadata": {},
   "outputs": [],
   "source": [
    "data = []\n",
    "for path in paths:\n",
    "    with open(path,'r') as f:\n",
    "        "
   ]
  }
 ],
 "metadata": {
  "kernelspec": {
   "display_name": "Python 3 (ipykernel)",
   "language": "python",
   "name": "python3"
  },
  "language_info": {
   "codemirror_mode": {
    "name": "ipython",
    "version": 3
   },
   "file_extension": ".py",
   "mimetype": "text/x-python",
   "name": "python",
   "nbconvert_exporter": "python",
   "pygments_lexer": "ipython3",
   "version": "3.9.0"
  }
 },
 "nbformat": 4,
 "nbformat_minor": 5
}
