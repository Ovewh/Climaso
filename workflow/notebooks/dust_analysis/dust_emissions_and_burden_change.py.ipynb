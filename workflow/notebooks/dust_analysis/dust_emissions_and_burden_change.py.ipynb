{
 "cells": [
  {
   "cell_type": "code",
   "execution_count": null,
   "id": "0efa8795",
   "metadata": {},
   "outputs": [],
   "source": [
    "import xarray as xr\n",
    "import matplotlib.pyplot as plt\n",
    "import cartopy.crs as ccrs\n",
    "import pandas as pd\n",
    "import xesmf as xe\n",
    "import matplotlib as mpl\n",
    "from workflow.scripts.utils import global_avg,regrid_global\n"
   ]
  },
  {
   "cell_type": "code",
   "execution_count": null,
   "id": "206c37a1",
   "metadata": {},
   "outputs": [],
   "source": [
    "ds_exp = {p.split(\"_\")[-2]: xr.open_dataset(p).isel(time=slice(1,None)) for p in snakemake.input.exp_data}\n",
    "ds_ctrl = {p.split(\"_\")[-2]: xr.open_dataset(p) for p in snakemake.input.ctrl_data}"
   ]
  },
  {
   "cell_type": "code",
   "execution_count": null,
   "id": "d4b4fd63",
   "metadata": {},
   "outputs": [],
   "source": [
    "dust_source_regions=list(snakemake.config['dust_source_regions'].keys())\n",
    "source_regions_dict = snakemake.config['dust_source_regions']"
   ]
  },
  {
   "cell_type": "code",
   "execution_count": null,
   "id": "df8a0b0a",
   "metadata": {},
   "outputs": [],
   "source": [
    "def create_source_region_df(dset_dict, \n",
    "                            source_regions, \n",
    "                            var_id='emidust'):\n",
    "    df = pd.DataFrame(index=dset_dict.keys(), columns= source_regions)\n",
    "    for mod_id in dset_dict:\n",
    "        for source_region in source_regions:\n",
    "            df.loc[mod_id,source_region] = dset_dict[mod_id][f'{source_region} {var_id}'].mean().values\n",
    "    df = df.astype(float).T\n",
    "    return df\n"
   ]
  },
  {
   "cell_type": "code",
   "execution_count": null,
   "id": "4fde49ff",
   "metadata": {},
   "outputs": [],
   "source": [
    "df_source = create_source_region_df(ds_exp, dust_source_regions)"
   ]
  },
  {
   "cell_type": "code",
   "execution_count": null,
   "id": "e62ffd50",
   "metadata": {},
   "outputs": [],
   "source": [
    "def multi_model_mean(ds_dict, var_id, common_grid=None):\n",
    "    dsets = []\n",
    "    for modelN,ds in ds_dict.items():\n",
    "        temp_ds = ds.mean(dim='time')\n",
    "        temp_ds = temp_ds.drop(labels=['wavelength','height','member_id'],errors='ignore')\n",
    "        temp_ds = regrid_global(temp_ds[[var_id]],ds_out=common_grid)\n",
    "        dsets.append(temp_ds)\n",
    "    # return dsets\n",
    "    return xr.concat(dsets, dim='model').mean(dim='model')\n",
    "        \n",
    "            "
   ]
  },
  {
   "cell_type": "code",
   "execution_count": null,
   "id": "48a6b37d",
   "metadata": {},
   "outputs": [],
   "source": [
    "ga = xr.open_dataset(snakemake.input.universial_area_mask)\n",
    "# ga = ga.cf.add_bounds(['lon','lat'])\n",
    "mm_dust_ctrl =multi_model_mean(ds_ctrl, 'emidust', common_grid=ga)\n",
    "mm_dust_exp =multi_model_mean(ds_exp, 'emidust', common_grid=ga)\n"
   ]
  },
  {
   "cell_type": "code",
   "execution_count": null,
   "id": "929f87ee",
   "metadata": {},
   "outputs": [],
   "source": [
    "context_dict = {\n",
    "    'axes.labelsize':7.5,\n",
    "    'axes.spines.left': False,\n",
    "    'axes.spines.right': False,\n",
    "    'axes.spines.top': False,\n",
    "    'axes.spines.bottom': False,\n",
    "    'xtick.labelsize': 6,\n",
    "    'ytick.labelsize': 7\n",
    "}\n",
    "import seaborn as sns\n",
    "\n",
    "# Get the Set3 palette with 10 colors\n",
    "palette = sns.color_palette(\"colorblind\", 10)\n",
    "\n",
    "color_dict = {\n",
    "    'Western north Africa': palette[0],\n",
    "    'Eastern north Africa': palette[1],\n",
    "    'Sahel': palette[2],\n",
    "    'Middle east': palette[3],\n",
    "    'Central Asia': palette[4],\n",
    "    'East Asia': palette[5],\n",
    "    'Southern Africa': palette[6],\n",
    "    'North America': palette[7],\n",
    "    'Australia': palette[8],\n",
    "    'South America': palette[9]\n",
    "}\n"
   ]
  },
  {
   "cell_type": "code",
   "execution_count": null,
   "id": "94c3e504",
   "metadata": {},
   "outputs": [],
   "source": [
    "import numpy as np\n",
    "import statsmodels.api as sm\n",
    "def get_treshold(data,surfFrac=0.8):\n",
    "    data_1d = data.values.ravel()\n",
    "    edcf = sm.distributions.ECDF(data_1d)\n",
    "    filtered = np.where(edcf.y>surfFrac, edcf.x, np.nan)\n",
    "    filtered = filtered[~np.isnan(filtered)]\n",
    "    return filtered.min()"
   ]
  },
  {
   "cell_type": "code",
   "execution_count": null,
   "id": "4e72918c",
   "metadata": {},
   "outputs": [],
   "source": [
    "mm_dust_ctrl_da =mm_dust_ctrl['emidust']*ga['cell_area']*1e-9\n",
    "mm_dust_exp_da =mm_dust_exp['emidust']*ga['cell_area']*1e-9\n",
    "thresh=get_treshold(mm_dust_ctrl_da, surfFrac=0.9)\n",
    "mm_dust_ctrl_da = mm_dust_ctrl_da.where(mm_dust_ctrl_da>1e-2)\n",
    "mm_dust_exp_da = mm_dust_exp_da.where(mm_dust_exp_da>1e-2)"
   ]
  },
  {
   "cell_type": "code",
   "execution_count": null,
   "id": "a8e26677",
   "metadata": {},
   "outputs": [],
   "source": [
    "with mpl.rc_context(context_dict):\n",
    "    fig = plt.figure(figsize=(8.3,5.8))\n",
    "    gs1 = fig.add_gridspec(4,5,\n",
    "                          width_ratios=[1,1,0.1,1,1])\n",
    "\n",
    "    gs1.update(top=0.90,left=0.14, bottom=0.2,wspace=.05)\n",
    "    ax1 = fig.add_subplot(gs1[:2,:2],projection=ccrs.Robinson())\n",
    "    cmap = mpl.colormaps.get_cmap('YlOrRd').resampled(14)\n",
    "    norm = mpl.colors.LogNorm(vmin=0.1, vmax=2e1)\n",
    "    mm_dust_ctrl_da.plot(ax=ax1, transform=ccrs.PlateCarree(),cmap=cmap, norm=norm,\n",
    "                         cbar_kwargs={'label':'Model mean dust emission 1850 (Tg yr$^{-1}$)','orientation':'horizontal','shrink':0.7,'pad':0.035,\n",
    "                                      'ticks':[0.1,1,10,20],'aspect':30,'extend':'max',\n",
    "                                      'format':'%.1f'})\n",
    "    ax1.coastlines()\n",
    "    for source_region in source_regions_dict:\n",
    "        ax1.add_artist(\n",
    "            mpl.patches.Rectangle((source_regions_dict[source_region]['lonmin'],\n",
    "                                  source_regions_dict[source_region]['latmin']),width=source_regions_dict[source_region]['lonmax']-source_regions_dict[source_region]['lonmin']-0.5,\n",
    "                                  height=source_regions_dict[source_region]['latmax']-source_regions_dict[source_region]['latmin']-0.6,facecolor='none',\n",
    "                                  edgecolor=color_dict[source_region],transform=ccrs.PlateCarree(),linewidth=1.5)\n",
    "            )\n",
    "    ax2 = fig.add_subplot(gs1[:2,3:],projection=ccrs.Robinson())\n",
    "\n",
    "    mm_dust_ctrl_da = mm_dust_ctrl_da.where(mm_dust_ctrl_da>thresh)\n",
    "    mm_dust_exp_da = mm_dust_exp_da.where(mm_dust_exp_da>thresh)\n",
    "\n",
    "    rel_cange = (mm_dust_exp_da-mm_dust_ctrl_da)/mm_dust_ctrl_da*100\n",
    "    cmap = mpl.cm.get_cmap('RdYlBu_r').resampled(14)\n",
    "    rel_cange.plot(ax=ax2, transform=ccrs.PlateCarree(),cmap=cmap,vmin=60  ,vmax=140,\n",
    "                         cbar_kwargs={'label':'Relative change in dust emission 2xdust-ctrl (%)','orientation':'horizontal','shrink':0.7,'pad':0.035,\n",
    "                                      'ticks':[70,90,110,130],'aspect':30,'extend':'both',\n",
    "                                      'format':'%.0f'})\n",
    "    ax2.coastlines()\n",
    "    df_color = df_source.index.map(color_dict)\n",
    "    def my_autopct(pct):\n",
    "        return '{:1.0f}%'.format(pct) if pct > 3 else ''\n",
    "    i = 0\n",
    "    t_i = 1\n",
    "    gs2 = fig.add_gridspec(2,5,\n",
    "                            width_ratios=[1,1,1,1,1],\n",
    "                            )\n",
    "    gs2.update(top=0.46,left=0.13)\n",
    "    for name, data in df_source.iteritems():\n",
    "        # print(i, data[1])\n",
    "\n",
    "        if i > 4:\n",
    "\n",
    "            tax = fig.add_subplot(gs2[1, t_i])\n",
    "            t_i = t_i + 1\n",
    "        else:\n",
    "            tax = fig.add_subplot(gs2[0, i])\n",
    "        data.plot.pie(ax=tax,colors=df_color, labels=None, autopct=my_autopct, textprops={'fontsize': 6.5}, pctdistance=1.2,)\n",
    "        tax.set_title(name, fontsize=8)\n",
    "        tax.set_ylabel('')\n",
    "        i = i + 1\n",
    "    from matplotlib.patches import Patch\n",
    "    legelem = [Patch(facecolor=color_dict[source], label=source) for source in color_dict]\n",
    "    fig.legend(handles=legelem, loc='lower center', ncol=5, fontsize=7, bbox_to_anchor=(0.5, 0.02), frameon=False)\n",
    "\n",
    "    fig.text(0.1,0.9, 'a)',  fontsize=12, fontweight='bold', va='top', ha='left')\n",
    "    fig.text(0.51,0.9, 'b)', fontsize=12, fontweight='bold', va='top', ha='left')\n",
    "    fig.text(0.1,0.5, 'c)', fontsize=12, fontweight='bold', va='top', ha='left')\n",
    "    plt.savefig(snakemake.output.outpath, dpi=300, bbox_inches='tight')"
   ]
  }
 ],
 "metadata": {
  "kernelspec": {
   "display_name": "Python 3 (ipykernel)",
   "language": "python",
   "name": "python3"
  },
  "language_info": {
   "codemirror_mode": {
    "name": "ipython",
    "version": 3
   },
   "file_extension": ".py",
   "mimetype": "text/x-python",
   "name": "python",
   "nbconvert_exporter": "python",
   "pygments_lexer": "ipython3",
   "version": "3.10.2"
  }
 },
 "nbformat": 4,
 "nbformat_minor": 5
}
