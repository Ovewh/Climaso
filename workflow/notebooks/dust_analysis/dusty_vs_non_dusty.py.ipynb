{
 "cells": [
  {
   "cell_type": "code",
   "execution_count": null,
   "id": "676b9c57",
   "metadata": {},
   "outputs": [],
   "source": [
    "import pandas as pd\n",
    "import matplotlib.pyplot as plt\n",
    "from workflow.scripts.plotting_tools import get_model_colordict\n",
    "\n",
    "def get_forcing(forcing_var: str,dataframes: dict):\n",
    "    k = next(iter(dataframes))\n",
    "    outdf = pd.DataFrame(index=dataframes.keys(), columns=dataframes[k].columns)\n",
    "    for k,df in dataframes.items():\n",
    "        try:\n",
    "            outdf.loc[k,:] = df.loc[forcing_var]\n",
    "        except KeyError:\n",
    "            pass\n",
    "            \n",
    "    return outdf\n",
    "\n",
    "dfs_dusty = {p.split('.')[0].split('_')[-1]: pd.read_csv(p,index_col=0) for p in snakemake.input.dusty_region}\n",
    "dfs_all = {p.split('.')[0].split('_')[-1]: pd.read_csv(p,index_col=0) for p in snakemake.input.all_region}\n",
    "dfs_nondusty = {p.split('.')[0].split('_')[-1]: pd.read_csv(p,index_col=0) for p in snakemake.input.nodusty_region}\n",
    "colors = get_model_colordict(2)"
   ]
  },
  {
   "cell_type": "code",
   "execution_count": null,
   "id": "f2a6d74f",
   "metadata": {},
   "outputs": [],
   "source": [
    "\n",
    "erf_dusty = get_forcing('ERFt', dfs_dusty)\n",
    "erf_notdust = get_forcing('ERFt', dfs_nondusty)\n",
    "erf_all = get_forcing('ERFt', dfs_all)\n",
    "\n",
    "fig,ax = plt.subplots(figsize=(4,4))\n",
    "# plt.axhline(0,0 ,linestyle=':', linewidth=2, color='darkgrey')\n",
    "plt.axvline(0,0 ,linestyle=':', linewidth=2, color='darkgrey')\n",
    "for du,nondu, duall in zip(erf_dusty['diff'].items(),erf_notdust['diff'], erf_all['diff']): \n",
    "    ax.scatter(duall,abs(du[1])/(abs(nondu)+abs(du[1])), label=du[0], color=colors[du[0]], zorder=1001)\n",
    "# erf_dusty.plot.scatter(y=erf_notdust['diff'])\n",
    "# plt.legend()\n",
    "# ax.set_xlim(-.2,.2)\n",
    "# ax.set_ylim(-1,4)\n",
    "\n",
    "ax.spines['top'].set_visible(False)\n",
    "ax.spines['right'].set_visible(False)\n",
    "ax.set_xlabel('Dust ERF in dusty regions \\n [w m-2]')\n",
    "ax.set_ylabel('Non-dusty/ \\n [w m-2]')"
   ]
  },
  {
   "cell_type": "code",
   "execution_count": null,
   "id": "762a95f5",
   "metadata": {},
   "outputs": [],
   "source": [
    "forcings_dusty = {\n",
    "  'ERFt' : get_forcing('ERFt', dfs_dusty),\n",
    "  'ERFsuf' : get_forcing('ERFsurf', dfs_dusty),\n",
    "  'SWCloudEff' : get_forcing('SWCloudEff', dfs_dusty),\n",
    "  'LWCloudEff' : get_forcing('LWCloudEff', dfs_dusty),\n",
    "  'SWDirectEff' : get_forcing('SWDirectEff', dfs_dusty),\n",
    "  'LWDirectEff' : get_forcing('LWDirectEff', dfs_dusty),\n",
    "}\n",
    "\n",
    "forcings_nondusty = [\n",
    "    get_forcing('ERFt', dfs_nondusty),\n",
    "    get_forcing('ERFsurf', dfs_nondusty),\n",
    "    get_forcing('SWCloudEff', dfs_nondusty),\n",
    "    get_forcing('LWCloudEff', dfs_nondusty),\n",
    "    get_forcing('SWDirectEff', dfs_nondusty),\n",
    "    get_forcing('LWDirectEff', dfs_nondusty),\n",
    "]\n"
   ]
  },
  {
   "cell_type": "code",
   "execution_count": null,
   "id": "3d4cf0c8",
   "metadata": {},
   "outputs": [],
   "source": [
    "fig,axes = plt.subplots(ncols=6, figsize=(10,4))\n",
    "for ax in axes:\n",
    "    ax.spines['right'].set_visible(False)\n",
    "    ax.spines['top'].set_visible(False)\n",
    "    ax.set_ylim(0,10)\n",
    "    ax.spines['left'].set_visible(False)\n",
    "    ax.set_yticks([])\n",
    "    ax.vlines(0.0, 0,10, color='darkgrey', linestyle=':')\n",
    "xticks = [i for i in range(1,10)]\n",
    "axes[0].set_yticks([i for i in range(1,10)])\n",
    "axes[0].set_yticklabels(erf_all.index)\n",
    "for ax, duf, noduf, vname in zip(axes, forcings_dusty.values(), forcings_nondusty, forcings_dusty):\n",
    "    for i,nondu, du in zip(xticks,noduf.iterrows(), duf.iterrows()):\n",
    "        ax.barh(y=i-.125,width=nondu[1]['diff'], height=.25, color='tab:orange')\n",
    "        ax.barh(y=i+.125,width=du[1]['diff'], height=.25, color='tab:blue')\n",
    "    ax.set_xlabel(vname)\n",
    "    \n",
    "plt.savefig(snakemake.output.outpath,bbox_inches='tight')\n",
    "plt.savefig('results/figs/AerChemMIP/dusty_vs_non_dusty.pdf', bbox_inches='tight')"
   ]
  }
 ],
 "metadata": {
  "kernelspec": {
   "display_name": "Python 3 (ipykernel)",
   "language": "python",
   "name": "python3"
  },
  "language_info": {
   "codemirror_mode": {
    "name": "ipython",
    "version": 3
   },
   "file_extension": ".py",
   "mimetype": "text/x-python",
   "name": "python",
   "nbconvert_exporter": "python",
   "pygments_lexer": "ipython3",
   "version": "3.10.2"
  }
 },
 "nbformat": 4,
 "nbformat_minor": 5
}
