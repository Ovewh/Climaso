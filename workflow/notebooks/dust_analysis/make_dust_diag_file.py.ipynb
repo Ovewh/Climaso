{
 "cells": [
  {
   "cell_type": "code",
   "execution_count": null,
   "id": "42572ae4",
   "metadata": {},
   "outputs": [],
   "source": [
    "import intake\n",
    "\n",
    "from workflow.scripts.utils import regrid_global, calculate_pooled_variance, compute_annual_emission_budget\n",
    "import time\n",
    "import xarray as xr\n",
    "from functools import partial\n",
    "import xesmf\n",
    "import pandas as pd\n",
    "from pyclim_noresm.general_util_funcs import global_avg\n",
    "from intake_esm.derived import DerivedVariableRegistry\n",
    "import numpy as np\n",
    "import scipy.stats as st\n",
    "import yaml\n",
    "from scipy.stats._resampling import _bootstrap_resample"
   ]
  },
  {
   "cell_type": "code",
   "execution_count": null,
   "id": "6e059f18",
   "metadata": {},
   "outputs": [],
   "source": [
    "burd_exp = xr.open_dataset(snakemake.input.burden_exp)\n",
    "\n",
    "config = snakemake.config \n",
    "\n",
    "\n",
    "mod_id = snakemake.wildcards.model\n",
    "exp_id = snakemake.wildcards.experiment\n",
    "time_slice = config.get('time_slice', slice(2,None))\n",
    "\n",
    "\n",
    "if snakemake.config['model_specific_variant'].get(exp_id, None):\n",
    "    memb_id = snakemake.config['model_specific_variant'][exp_id].get(mod_id, snakemake.config['variant_default'])\n",
    "else:\n",
    "    memb_id = snakemake.config['variant_default']"
   ]
  },
  {
   "cell_type": "code",
   "execution_count": null,
   "id": "a50de8dc",
   "metadata": {},
   "outputs": [],
   "source": [
    "dvr = DerivedVariableRegistry()\n",
    "\n",
    "@dvr.register(variable='duDepRatio',\n",
    "              query=dict(variable_id=['drydust','wetdust'],\n",
    "                table_id='AERmon'))\n",
    "def depo_ratio(ds):\n",
    "    ds = ds.copy()\n",
    "    out_ds = ds['drydust'] / (ds['wetdust']+ds['drydust'])\n",
    "    out_ds.attrs['units'] = '1'\n",
    "    out_ds.attrs['long_name'] = 'Dust deposition ratio'\n",
    "    out_ds.attrs['standard_name'] = 'dust_deposition_ratio'\n",
    "    ds = ds.assign(duDepRatio=out_ds)\n",
    "    return ds\n",
    "\n",
    "def total_dust_deposition(ds):\n",
    "    out_ds = ds['drydust'] + ds['wetdust']\n",
    "    out_ds.attrs['units'] = 'kg m-2 s-1'\n",
    "    out_ds.attrs['long_name'] = 'Total dust deposition'\n",
    "    out_ds.attrs['standard_name'] = 'total_dust_deposition'\n",
    "    ds = ds.assign(totdust=out_ds)\n",
    "    \n",
    "    return ds\n",
    "\n",
    "def calc_MEE(ds):\n",
    "    mass_exinct = ((global_avg(ds['od550dust']))/((ds['concdust']*ds['cell_area']*1e-9).sum(dim=['lon','lat'])))\n",
    "    mass_exinct_map = (ds['od550dust']/(ds['concdust']*ds['cell_area']*1e-9))\n",
    "    mass_exinct.attrs['units'] = 'g-1'\n",
    "    mass_exinct_map.attrs['units'] = 'g-1'\n",
    "    ds = ds.assign(od550dustMEE = mass_exinct_map)\n",
    "    ds = ds.assign(mass_ext = mass_exinct)\n",
    "\n",
    "    return ds\n",
    "\n",
    "def calc_lifetime(ds):\n",
    "    total_deposition=(ds['emidust']*ds['cell_area']).sum(dim=['lon','lat'])\n",
    "    burden=(ds['concdust']*ds['cell_area']).sum(dim=['lon','lat'])\n",
    "    lifetime = (burden/total_deposition)*365\n",
    "    lifetime.attrs['units'] = 'Days'\n",
    "    ds = ds.assign(lifetime=lifetime)\n",
    "    return ds\n",
    "    \n",
    "def get_emissions_source_region(ds, latmin,latmax,lonmin, lonmax):\n",
    "    var_id = ds.variable_id\n",
    "    if ds.lon.max() < 180:\n",
    "        ds = ds.assign_coords(lon=(ds.lon + 180) % 360 - 180)\n",
    "        ds = ds.sortby(ds.lon)\n",
    "    ds = ds.sel(lat=slice(latmin,latmax), lon=slice(lonmin,lonmax))\n",
    "    ds = global_avg(ds[var_id])\n",
    "    ds.attrs['units'] = 'kg m-2 s-1'\n",
    "    return ds\n",
    "    \n",
    "def resample_time(data):\n",
    "    vname = data.variable_id\n",
    "    ds = data.copy()\n",
    "    attrs = data[vname].attrs.copy()\n",
    "\n",
    "    \n",
    "    with xr.set_options(keep_attrs=True):\n",
    "        \n",
    "        if data[vname].units == 'kg m-2 s-1': # annual emission / deposition \n",
    "            data=data.resample(time='Y').mean()*365*24*60*60 # convert to kg m-2 yr-1\n",
    "            data[vname].attrs['units'] = '{} year-1'.format(' '.join(ds[vname].attrs['units'].split(' ')[:-1]))\n",
    "            data.attrs['history'] = data.attrs.get('history', '') + f', annual average converted to kg m-2 yr-1'\n",
    "        else:\n",
    "            data=data.resample(time='Y').mean()\n",
    "            # data[vname].attrs = attrs\n",
    "            data.attrs['history'] = data.attrs.get('history','') + f', annual average'    \n",
    "    if ds.cf.bounds.get('lon'):\n",
    "        data = data.assign({ds.cf.bounds['lon'][0]:ds[ds.cf.bounds['lon'][0]]})\n",
    "        data = data.assign({ds.cf.bounds['lat'][0]:ds[ds.cf.bounds['lat'][0]]})\n",
    "    else:\n",
    "        data = data.cf.add_bounds(['lon','lat'])\n",
    "    return data"
   ]
  },
  {
   "cell_type": "code",
   "execution_count": null,
   "id": "9fe7b3ec",
   "metadata": {},
   "outputs": [],
   "source": [
    "diagnostic_variables = ['od550dust','duDepRatio', 'emidust','abs550aer']\n",
    "cat = intake.open_esm_datastore(snakemake.input.catalog, registry=dvr)\n",
    "cat_exp = cat.search(experiment_id=exp_id,  source_id=mod_id,\n",
    "                 member_id=memb_id)\n",
    "exp_data = cat_exp.search(variable_id=diagnostic_variables, table_id='AERmon')\n",
    "\n",
    "cell_area = xr.open_dataset(snakemake.input.model_area_mask)"
   ]
  },
  {
   "cell_type": "code",
   "execution_count": null,
   "id": "dc2b3842",
   "metadata": {},
   "outputs": [],
   "source": [
    "def calc_emission_per_source_reg(ds, source_regs):\n",
    "    for name, bbox in source_regs.items():\n",
    "        ds = ds.assign({\n",
    "            f'{name} emidust': ds['emidust'].sel(lat=slice(bbox['latmin'], bbox['latmax']), lon=slice(bbox['lonmin'], bbox['latmax'])).sum(dim=['lat', 'lon'])\n",
    "\n",
    "        })\n",
    "    return ds"
   ]
  },
  {
   "cell_type": "code",
   "execution_count": null,
   "id": "45c2fc24",
   "metadata": {},
   "outputs": [],
   "source": [
    "exp_dict = exp_data.to_dataset_dict(aggregate=True,skip_on_error=True ,preprocess=resample_time)\n",
    "ds_exp = exp_dict[list(exp_dict.keys())[0]]\n",
    "\n",
    "\n",
    "try:\n",
    "    ds_exp = total_dust_deposition(ds_exp)\n",
    "except KeyError:\n",
    "    ds_exp = ds_exp.assign(totdep=np.nan)\n"
   ]
  },
  {
   "cell_type": "code",
   "execution_count": null,
   "id": "65dc1335",
   "metadata": {},
   "outputs": [],
   "source": [
    "source_regs = config['dust_source_regions']\n",
    "ds_exp = calc_emission_per_source_reg(ds_exp, source_regs)\n",
    "\n",
    "ds_exp = ds_exp.compute()\n",
    "\n",
    "ds_exp = ds_exp.assign(cell_area=cell_area['cell_area'])\n"
   ]
  },
  {
   "cell_type": "code",
   "execution_count": null,
   "id": "95cc09d7",
   "metadata": {},
   "outputs": [],
   "source": [
    "burden_exp = burd_exp.cf.add_bounds(['lon','lat'])\n",
    "\n",
    "burden_exp = resample_time(burden_exp)\n",
    "\n",
    "\n",
    "ds_exp = ds_exp.assign(concdust=burden_exp['concdust'])"
   ]
  },
  {
   "cell_type": "code",
   "execution_count": null,
   "id": "6e5d329d",
   "metadata": {},
   "outputs": [],
   "source": [
    "\n",
    "ds_exp = calc_MEE(ds_exp)\n",
    "\n",
    "ds_exp = calc_lifetime(ds_exp)"
   ]
  },
  {
   "cell_type": "code",
   "execution_count": null,
   "id": "58cc8591",
   "metadata": {},
   "outputs": [],
   "source": [
    "ds_exp = ds_exp.isel(member_id=0)\n",
    "ds_exp.to_netcdf(snakemake.output.dust_diag_exp)"
   ]
  }
 ],
 "metadata": {
  "kernelspec": {
   "display_name": "Python 3 (ipykernel)",
   "language": "python",
   "name": "python3"
  },
  "language_info": {
   "codemirror_mode": {
    "name": "ipython",
    "version": 3
   },
   "file_extension": ".py",
   "mimetype": "text/x-python",
   "name": "python",
   "nbconvert_exporter": "python",
   "pygments_lexer": "ipython3",
   "version": "3.10.2"
  }
 },
 "nbformat": 4,
 "nbformat_minor": 5
}
