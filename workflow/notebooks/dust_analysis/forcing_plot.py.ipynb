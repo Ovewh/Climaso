{
 "cells": [
  {
   "cell_type": "code",
   "execution_count": null,
   "id": "97cf707a",
   "metadata": {},
   "outputs": [],
   "source": [
    "import pandas as pd\n",
    "import matplotlib.pyplot as plt\n",
    "import matplotlib.ticker as mtick\n",
    "import matplotlib as mpl\n",
    "import numpy as np\n",
    "import random\n",
    "import os\n",
    "from workflow.scripts.plotting_tools import get_model_colordict\n",
    "%matplotlib inline"
   ]
  },
  {
   "cell_type": "code",
   "execution_count": null,
   "id": "3aa7565a",
   "metadata": {},
   "outputs": [],
   "source": [
    "dfs = {p.split('.')[0].split('_')[-1]: pd.read_csv(p,index_col=0) for p in snakemake.input}\n",
    "\n",
    "os.makedirs(snakemake.output[0], exist_ok=True)"
   ]
  },
  {
   "cell_type": "code",
   "execution_count": null,
   "id": "dd2afb12",
   "metadata": {},
   "outputs": [],
   "source": [
    "def get_forcing(forcing_var: str,dataframes: dict):\n",
    "    k = next(iter(dataframes))\n",
    "    outdf = pd.DataFrame(index=dataframes.keys(), columns=dataframes[k].columns)\n",
    "    for k,df in dataframes.items():\n",
    "        try:\n",
    "            outdf.loc[k,:] = df.loc[forcing_var]\n",
    "        except KeyError:\n",
    "            pass\n",
    "            \n",
    "    return outdf"
   ]
  },
  {
   "cell_type": "code",
   "execution_count": null,
   "id": "d1216bed",
   "metadata": {},
   "outputs": [],
   "source": [
    "snakemake.rule"
   ]
  },
  {
   "cell_type": "code",
   "execution_count": null,
   "id": "278e69d2",
   "metadata": {},
   "outputs": [],
   "source": [
    "colors = get_model_colordict()\n",
    "\n",
    "if snakemake.rule == 'plot_forcing_decomposition':\n",
    "    jitter_fix = True\n",
    "else:\n",
    "    jitter_fix = False"
   ]
  },
  {
   "cell_type": "code",
   "execution_count": null,
   "id": "e249e96e",
   "metadata": {},
   "outputs": [],
   "source": [
    "def forcing_plot(df, jitter_fix=True):\n",
    "    with mpl.rc_context({\n",
    "        \"xtick.major.size\" : 6,\n",
    "        \"xtick.minor.size\" : 3.8,\n",
    "        \"xtick.major.width\" : 1.2,\n",
    "        \"xtick.minor.width\" : .8,\n",
    "        \"axes.linewidth\" : 1.2,\n",
    "\n",
    "    }):\n",
    "        fig, ax = plt.subplots(figsize=(6,1))\n",
    "        ax.set_xlim(-1.11,1.11)\n",
    "        ax.spines['top'].set_visible(False)\n",
    "        ax.spines['right'].set_visible(False)\n",
    "        ax.spines['left'].set_visible(False)\n",
    "        ax.set_yticks([])\n",
    "#         ax.set_xticks([-.6,-0.4,-0.2,0.0,0.2,0.4,.6])\n",
    "        ax.xaxis.set_major_locator(mtick.MaxNLocator(7))\n",
    "        ax.xaxis.set_minor_locator(mtick.AutoMinorLocator())\n",
    "#         ax.axes.xaxis.set_minor_locator(mtick.FixedLocator([-0.3,-0.5,-0.1,0.1,0.3,0.5]))\n",
    "        ax.set_ylim(0,2)\n",
    "        plt.axvline(0.0, linestyle=':', linewidth=2, color='darkgrey')\n",
    "        prev = None\n",
    "        df = df.sort_values('diff')\n",
    "        jitter=0\n",
    "        for model, series in df.iterrows():\n",
    "    #         ax.errorbar(series['diff'],0.7,\n",
    "    #                     xerr=np.abs(series[['diff']].values - series[['diff_ci_low','diff_ci_high']]).values.reshape(2,1),\n",
    "    #                   ,elinewidth=)\n",
    "            if jitter_fix:    \n",
    "                if not prev:\n",
    "                    prev = series['diff']\n",
    "                    jitter = 0\n",
    "                else:\n",
    "                    r_prev = abs(series['diff']-prev)\n",
    "                    if r_prev < 0.04:\n",
    "                        if jitter < 0:\n",
    "                            jitter += 1\n",
    "                        elif jitter==0.0:\n",
    "                            jitter=-.5\n",
    "                        else:\n",
    "                            jitter -= 1\n",
    "                    else:\n",
    "                        jitter = 0\n",
    "                    prev = series['diff']\n",
    "    #                 print(jitter, model, prev)\n",
    "\n",
    "                ax.scatter(series['diff'],1+jitter, c=colors[model], label=model, s = 40, zorder=100)\n",
    "            else:\n",
    "                ax.scatter(series['diff'],.4+jitter, c=colors[model], label=model, s = 20, zorder=100)\n",
    "                jitter += 0.2\n",
    "        mean = df.mean(axis=0)\n",
    "        ax.scatter(mean['diff'],1.5, c='#FF005E', label=model,marker='*', s = 80, zorder=101, edgecolor='k',linewidth=.5)\n",
    "        ax.set_xlabel('W m-2')\n",
    "   \n"
   ]
  },
  {
   "cell_type": "code",
   "execution_count": null,
   "id": "62fcd549",
   "metadata": {},
   "outputs": [],
   "source": [
    "forcing_plot(get_forcing('ERFt', dfs), jitter_fix=jitter_fix)\n",
    "plt.savefig(snakemake.output[0]+'/ERFt.pdf',bbox_inches='tight')"
   ]
  },
  {
   "cell_type": "code",
   "execution_count": null,
   "id": "7af6cb7d",
   "metadata": {},
   "outputs": [],
   "source": [
    "forcing_plot(get_forcing('LWDirectEff', dfs),jitter_fix=jitter_fix)\n",
    "plt.savefig(snakemake.output[0]+'/LWDirectEff.pdf',bbox_inches='tight')"
   ]
  },
  {
   "cell_type": "code",
   "execution_count": null,
   "id": "862ec6c1",
   "metadata": {},
   "outputs": [],
   "source": [
    "forcing_plot(get_forcing('SWCloudEff',dfs),jitter_fix=jitter_fix)\n",
    "plt.savefig(snakemake.output[0]+'/SWCloudEff.pdf',bbox_inches='tight')"
   ]
  },
  {
   "cell_type": "code",
   "execution_count": null,
   "id": "2b5d7d51",
   "metadata": {},
   "outputs": [],
   "source": [
    "forcing_plot(get_forcing('LWCloudEff',dfs),jitter_fix=jitter_fix)\n",
    "plt.savefig(snakemake.output[0]+'/LWCloudEff.pdf',bbox_inches='tight')"
   ]
  },
  {
   "cell_type": "code",
   "execution_count": null,
   "id": "4a9ade31",
   "metadata": {},
   "outputs": [],
   "source": [
    "forcing_plot(get_forcing('CloudEff',dfs),jitter_fix=jitter_fix)\n",
    "plt.savefig(snakemake.output[0]+'/CloudEff.pdf',bbox_inches='tight')"
   ]
  },
  {
   "cell_type": "code",
   "execution_count": null,
   "id": "59c554bd",
   "metadata": {},
   "outputs": [],
   "source": [
    "forcing_plot(get_forcing('SWDirectEff',dfs),jitter_fix=jitter_fix)\n",
    "plt.savefig(snakemake.output[0]+'/SWDirectEff.pdf',bbox_inches='tight')"
   ]
  },
  {
   "cell_type": "code",
   "execution_count": null,
   "id": "5f725593",
   "metadata": {},
   "outputs": [],
   "source": [
    "forcing_plot(get_forcing('DirectEff',dfs),jitter_fix=jitter_fix)\n",
    "plt.savefig(snakemake.output[0]+'/DirectEff.pdf',bbox_inches='tight')"
   ]
  },
  {
   "cell_type": "code",
   "execution_count": null,
   "id": "37d04253",
   "metadata": {},
   "outputs": [],
   "source": [
    "forcing_plot(get_forcing('ERFtcsaf',dfs),jitter_fix=jitter_fix)\n",
    "plt.savefig(snakemake.output[0]+'/Albedo.pdf', bbox_inches='tight')"
   ]
  },
  {
   "cell_type": "code",
   "execution_count": null,
   "id": "e281d094",
   "metadata": {},
   "outputs": [],
   "source": [
    "forcing_plot(get_forcing('ERFsurf',dfs),jitter_fix=jitter_fix)\n",
    "plt.savefig(snakemake.output[0]+'/SurfaceBalance.pdf',bbox_inches='tight')"
   ]
  },
  {
   "cell_type": "code",
   "execution_count": null,
   "id": "cf0c3420",
   "metadata": {},
   "outputs": [],
   "source": [
    "forcing_plot(get_forcing('atmabs',dfs),jitter_fix=jitter_fix)\n",
    "plt.savefig(snakemake.output[0]+'/atmospheric_absorption.pdf',bbox_inches='tight')"
   ]
  },
  {
   "cell_type": "code",
   "execution_count": null,
   "id": "80de619e",
   "metadata": {},
   "outputs": [],
   "source": [
    "from matplotlib.patches import Patch\n",
    "from matplotlib.lines import Line2D\n",
    "\n",
    "legments = [\n",
    "    Line2D([0],[0], markerfacecolor=c, marker='o', label= m, color = 'w', markersize=15)\n",
    "    for m, c in colors.items()\n",
    "]\n",
    "\n",
    "legments.append(Line2D([0],[0], markerfacecolor='#FF005E', marker='*', label= 'Model mean', color = 'w',\n",
    "                       markeredgecolor='k',markersize=20))\n",
    "fig,ax = plt.subplots()\n",
    "ax.legend(handles=legments, loc='center', fontsize=\"large\", frameon=False)\n",
    "ax.spines['top'].set_visible(False)\n",
    "ax.spines['right'].set_visible(False)\n",
    "ax.spines['left'].set_visible(False)\n",
    "ax.spines['bottom'].set_visible(False)\n",
    "ax.set_yticks([])\n",
    "ax.set_xticks([])\n",
    "plt.savefig(snakemake.output[0]+'/legend.pdf',bbox_inches='tight')"
   ]
  }
 ],
 "metadata": {
  "kernelspec": {
   "display_name": "Python 3 (ipykernel)",
   "language": "python",
   "name": "python3"
  },
  "language_info": {
   "codemirror_mode": {
    "name": "ipython",
    "version": 3
   },
   "file_extension": ".py",
   "mimetype": "text/x-python",
   "name": "python",
   "nbconvert_exporter": "python",
   "pygments_lexer": "ipython3",
   "version": "3.10.2"
  }
 },
 "nbformat": 4,
 "nbformat_minor": 5
}
