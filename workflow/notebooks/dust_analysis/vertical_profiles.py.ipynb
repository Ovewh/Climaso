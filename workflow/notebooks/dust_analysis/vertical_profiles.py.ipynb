{
 "cells": [
  {
   "cell_type": "code",
   "execution_count": 2,
   "id": "5192b6ae",
   "metadata": {},
   "outputs": [],
   "source": [
    "from workflow.scripts.utils import read_list_input_paths, model_levels_to_pressure_levels\n",
    "from pyclim_noresm.general_util_funcs import global_avg\n",
    "import xarray as xr\n",
    "import xesmf\n",
    "import cartopy.crs as ccrs\n",
    "import matplotlib.pyplot as plt\n",
    "import matplotlib.patches as mpatches\n",
    "from workflow.scripts.plotting_tools import create_facet_plot\n",
    "import geocat.comp as geocomp\n",
    "from matplotlib import ticker"
   ]
  },
  {
   "cell_type": "code",
   "execution_count": 3,
   "id": "7a346303",
   "metadata": {},
   "outputs": [],
   "source": [
    "paths = snakemake.input.paths\n",
    "\n",
    "dsets, vname = read_list_input_paths(paths)"
   ]
  },
  {
   "cell_type": "code",
   "execution_count": 4,
   "id": "09b600b9",
   "metadata": {},
   "outputs": [],
   "source": [
    "for m, ds in dsets.items():\n",
    "    print(m)\n",
    "    dsets[m] = model_levels_to_pressure_levels(ds).compute()"
   ]
  },
  {
   "cell_type": "code",
   "execution_count": 5,
   "id": "da83ebaf",
   "metadata": {},
   "outputs": [],
   "source": [
    "fig, ax = plt.subplots(subplot_kw=dict(projection=ccrs.PlateCarree()))\n",
    "ax.coastlines()\n",
    "gl = ax.gridlines()\n",
    "gl.bottom_labels = True\n",
    "# p = plt.Rectangle((-10,5),50,30)\n",
    "ax.add_patch(mpatches.Rectangle([-18,3],width=50,height=33,\n",
    "                                facecolor='red',\n",
    "                                    alpha=0.2,\n",
    "                                transform = ccrs.PlateCarree()))\n",
    "ax.set_global()"
   ]
  },
  {
   "cell_type": "code",
   "execution_count": 6,
   "id": "260aeddd",
   "metadata": {},
   "outputs": [],
   "source": [
    "# fig, axes, cax = create_facet_plot(len(dsets), subplot_kw={})\n",
    "fig, ax = plt.subplots()\n",
    "for m, ds in dsets.items():\n",
    "    ds = ds.sel(lon=slice(-18,32), lat=slice(3,36)).copy()\n",
    "#     ds = ds.mean(dim='time',skipna=True)\n",
    "    ds = global_avg(ds)\n",
    "    ds = ds.mean(dim='time',skipna=True)\n",
    "    ds = ds.assign_coords(plev=ds['plev']/100)\n",
    "    ax.plot(ds['loaddust']*1000, ds.plev, label=m)\n",
    "    ax.invert_yaxis()\n",
    "    ax.set_ylim(1050,150)\n",
    "    ax.legend()\n",
    "    ax.set_xscale('log')\n",
    "    ax.set_xlim(1e-4, 10)\n",
    "    ax.set_yscale('log')\n",
    "    locator = ticker.FixedLocator([1000,900,800,700,600,500,400,300,200,100])\n",
    "    ax.yaxis.set_major_locator(locator)\n",
    "    formatter = ticker.FixedFormatter([1000,900,800,700,600,500,400,300,200,100])\n",
    "    ax.yaxis.set_major_formatter(formatter)\n",
    "#     ds['loaddust'].plot(ax=ax)\n",
    "    ax.set_xlabel('Dust loading $\\mathrm{g\\; m}^{-2}$')\n",
    "    ax.set_ylabel('Pressure [hPa]')\n",
    "    ax.set_title('Vertical distribution of Sharan dust')\n",
    "plt.savefig(snakemake.output.path, bbox_inches='tight', dpi=144)"
   ]
  }
 ],
 "metadata": {
  "kernelspec": {
   "display_name": "Python 3 (ipykernel)",
   "language": "python",
   "name": "python3"
  },
  "language_info": {
   "codemirror_mode": {
    "name": "ipython",
    "version": 3
   },
   "file_extension": ".py",
   "mimetype": "text/x-python",
   "name": "python",
   "nbconvert_exporter": "python",
   "pygments_lexer": "ipython3",
   "version": "3.10.8"
  }
 },
 "nbformat": 4,
 "nbformat_minor": 5
}
