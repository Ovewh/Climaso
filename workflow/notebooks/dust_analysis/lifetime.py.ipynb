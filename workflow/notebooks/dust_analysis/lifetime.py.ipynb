{
 "cells": [
  {
   "cell_type": "code",
   "execution_count": 2,
   "id": "521dd9ff",
   "metadata": {},
   "outputs": [],
   "source": [
    "from workflow.scripts.utils import read_list_input_paths\n",
    "import xarray as xr\n",
    "from pyclim_noresm.general_util_funcs import global_avg\n",
    "import yaml"
   ]
  },
  {
   "cell_type": "code",
   "execution_count": 9,
   "id": "8666eb17",
   "metadata": {},
   "outputs": [],
   "source": [
    "dep, dname = read_list_input_paths(snakemake.input.paths_emissions)\n",
    "burden, bname = read_list_input_paths(snakemake.input.paths, 2)\n",
    "area_cello = xr.open_dataset(snakemake.input.path_area)\n",
    "vname = snakemake.wildcards.variable"
   ]
  },
  {
   "cell_type": "code",
   "execution_count": 4,
   "id": "164b9b92",
   "metadata": {},
   "outputs": [],
   "source": [
    "annual_emis = {}\n",
    "annual_burd = {}\n",
    "for m, ds in dep.items():\n",
    "    tds = ds.copy().isel(time=slice(3,None))\n",
    "    tds[dname] = ds[dname]*area_cello['cell_area']*1e-9\n",
    "    annual_emis[m] = tds[dname].sum(dim=['lon','lat'])\n",
    "for m, ds in burden.items():\n",
    "    tds = ds.copy().isel(time=slice(3,None))\n",
    "    tds[bname] = ds[bname]*area_cello['cell_area']*1e-9\n",
    "    annual_burd[m] = tds[bname].sum(dim=['lon','lat'])\n"
   ]
  },
  {
   "cell_type": "code",
   "execution_count": 13,
   "id": "83b17997",
   "metadata": {},
   "outputs": [],
   "source": [
    "lftime = {}\n",
    "lftime[vname] = {}\n",
    "for m in annual_burd:\n",
    "    lftime[vname]['data'] = [float(v) for v in (annual_burd[m]/(annual_emis[m]/365))]\n",
    "    lftime[vname]['units'] = 'Days'\n",
    "\n",
    "lftime['name'] = m"
   ]
  },
  {
   "cell_type": "code",
   "execution_count": 9,
   "id": "24d52047",
   "metadata": {},
   "outputs": [],
   "source": [
    "with open(snakemake.output.table,'w') as f:\n",
    "    yaml.safe_dump(lftime, f,default_flow_style=False)"
   ]
  }
 ],
 "metadata": {
  "kernelspec": {
   "display_name": "intake",
   "language": "python",
   "name": "python3"
  },
  "language_info": {
   "codemirror_mode": {
    "name": "ipython",
    "version": 3
   },
   "file_extension": ".py",
   "mimetype": "text/x-python",
   "name": "python",
   "nbconvert_exporter": "python",
   "pygments_lexer": "ipython3",
   "version": "3.10.6 | packaged by conda-forge | (main, Aug 22 2022, 20:35:26) [GCC 10.4.0]"
  },
  "vscode": {
   "interpreter": {
    "hash": "e0c7d92e0a4d3659e3b438675286b7c84dca6ad7edb4ab471110fdd618f527c4"
   }
  }
 },
 "nbformat": 4,
 "nbformat_minor": 5
}
