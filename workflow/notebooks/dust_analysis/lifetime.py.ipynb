{
 "cells": [
  {
   "cell_type": "code",
   "execution_count": 2,
   "id": "521dd9ff",
   "metadata": {},
   "outputs": [],
   "source": [
    "from workflow.scripts.utils import read_list_input_paths\n",
    "import xarray as xr\n",
    "from pyclim_noresm.general_util_funcs import global_avg"
   ]
  },
  {
   "cell_type": "code",
   "execution_count": 3,
   "id": "8666eb17",
   "metadata": {},
   "outputs": [],
   "source": [
    "emidust, edust = read_list_input_paths(snakemake.input.paths_emissions)\n",
    "burdendust, bdust = read_list_input_paths(snakemake.input.paths)\n",
    "area_cello = xr.open_dataset(snakemake.input.path_area)"
   ]
  },
  {
   "cell_type": "code",
   "execution_count": 4,
   "id": "164b9b92",
   "metadata": {},
   "outputs": [],
   "source": [
    "annual_emis = {}\n",
    "for m, ds in emidust.items():\n",
    "    tds = ds.copy().isel(time=slice(3,None))\n",
    "    tds[edust] = ds[edust]*area_cello['cell_area']*1e-9\n",
    "    annual_emis[m] = global_avg(tds[edust])"
   ]
  },
  {
   "cell_type": "code",
   "execution_count": 8,
   "id": "236b0802",
   "metadata": {},
   "outputs": [],
   "source": [
    "global_avg(emidust['EC-Earth3-AerChem'])"
   ]
  },
  {
   "cell_type": "code",
   "execution_count": 5,
   "id": "8e026a26",
   "metadata": {},
   "outputs": [],
   "source": [
    "annual_emis['EC-Earth3-AerChem'].mean()"
   ]
  }
 ],
 "metadata": {
  "kernelspec": {
   "display_name": "Python 3 (ipykernel)",
   "language": "python",
   "name": "python3"
  },
  "language_info": {
   "codemirror_mode": {
    "name": "ipython",
    "version": 3
   },
   "file_extension": ".py",
   "mimetype": "text/x-python",
   "name": "python",
   "nbconvert_exporter": "python",
   "pygments_lexer": "ipython3",
   "version": "3.10.2"
  }
 },
 "nbformat": 4,
 "nbformat_minor": 5
}
