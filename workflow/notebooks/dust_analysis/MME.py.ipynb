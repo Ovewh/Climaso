{
 "cells": [
  {
   "cell_type": "code",
   "execution_count": 13,
   "id": "997528a4",
   "metadata": {},
   "outputs": [],
   "source": [
    "import xarray as xr\n",
    "import matplotlib.pyplot as plt\n",
    "from pyclim_noresm.general_util_funcs import global_avg\n",
    "import yaml"
   ]
  },
  {
   "cell_type": "code",
   "execution_count": 3,
   "id": "7741553d",
   "metadata": {},
   "outputs": [],
   "source": [
    "burden_exp = xr.open_dataset(snakemake.input.burden)\n",
    "burden_ctrl = xr.open_dataset(snakemake.input.burden_ctrl)\n",
    "oddust_exp = xr.open_dataset(snakemake.input.od550aer)\n",
    "oddust_ctrl = xr.open_dataset(snakemake.input.od550aer_ctrl)"
   ]
  },
  {
   "cell_type": "code",
   "execution_count": 4,
   "id": "8d4d9fc5",
   "metadata": {},
   "outputs": [],
   "source": [
    "with xr.set_options(keep_attrs=True):\n",
    "    diffburden = burden_exp - burden_ctrl\n",
    "    oddust_diff = oddust_exp - oddust_ctrl"
   ]
  },
  {
   "cell_type": "code",
   "execution_count": 5,
   "id": "9fb6b99e",
   "metadata": {},
   "outputs": [],
   "source": [
    "mass_extint = (global_avg(oddust_diff[oddust_ctrl.variable_id])/\n",
    "               global_avg(diffburden[burden_ctrl.variable_id]))/1000"
   ]
  },
  {
   "cell_type": "code",
   "execution_count": 11,
   "id": "1d25c592",
   "metadata": {},
   "outputs": [],
   "source": [
    "outdict = {}\n",
    "outdict[snakemake.wildcards.variable] = {}\n",
    "outdict[snakemake.wildcards.variable]['data'] = [float(v) for v in mass_extint]\n",
    "outdict[snakemake.wildcards.variable]['units'] = 'g m-2'\n",
    "outdict['name'] = snakemake.wildcards.model"
   ]
  },
  {
   "cell_type": "code",
   "execution_count": 16,
   "id": "e326dc8f",
   "metadata": {},
   "outputs": [],
   "source": [
    "with open(snakemake.output.outpath, 'w') as f:\n",
    "    yaml.safe_dump(outdict, f ,default_flow_style=False)"
   ]
  }
 ],
 "metadata": {
  "kernelspec": {
   "display_name": "Python 3 (ipykernel)",
   "language": "python",
   "name": "python3"
  },
  "language_info": {
   "codemirror_mode": {
    "name": "ipython",
    "version": 3
   },
   "file_extension": ".py",
   "mimetype": "text/x-python",
   "name": "python",
   "nbconvert_exporter": "python",
   "pygments_lexer": "ipython3",
   "version": "3.10.2"
  }
 },
 "nbformat": 4,
 "nbformat_minor": 5
}
