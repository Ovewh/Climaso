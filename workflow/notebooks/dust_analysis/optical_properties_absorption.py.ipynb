{
 "cells": [
  {
   "cell_type": "code",
   "execution_count": null,
   "id": "aeaa68c2",
   "metadata": {},
   "outputs": [],
   "source": [
    "from workflow.scripts.utils import read_list_input_paths\n",
    "from pyclim_noresm.general_util_funcs import global_avg\n",
    "import yaml\n",
    "import pandas as pd\n",
    "import matplotlib.pyplot as plt\n",
    "import matplotlib as mpl\n",
    "import numpy as np\n",
    "import xarray as xr\n",
    "from scipy.stats import linregress\n",
    "# import seaborn"
   ]
  },
  {
   "cell_type": "code",
   "execution_count": null,
   "id": "f56bc8f4",
   "metadata": {},
   "outputs": [],
   "source": [
    "def get_forcing_value(dfs, variable):\n",
    "    return {model: df.get('diff').get(variable, np.nan) for model, df in dfs.items()}\n",
    "\n",
    "\n",
    "with open('workflow/input_data/refractive_indicies_550nm.yaml') as f:\n",
    "    \n",
    "    dust_optics = yaml.safe_load(f)\n"
   ]
  },
  {
   "cell_type": "code",
   "execution_count": null,
   "id": "f0fd7374",
   "metadata": {},
   "outputs": [],
   "source": [
    "dfs = {p.split('_')[-1].split('.')[0]: pd.read_csv(p,index_col=0) for p in snakemake.input.erfs}"
   ]
  },
  {
   "cell_type": "code",
   "execution_count": null,
   "id": "fe3be6d1",
   "metadata": {},
   "outputs": [],
   "source": [
    "atmabs = get_forcing_value(dfs, 'atmabs')\n",
    "atmabs_sw = get_forcing_value(dfs, 'atmabsSW')\n",
    "SWDirectEff = get_forcing_value(dfs, 'SWDirectEff')\n",
    "ERFt = get_forcing_value(dfs, 'ERFt')"
   ]
  },
  {
   "cell_type": "code",
   "execution_count": null,
   "id": "fc0ca9e2",
   "metadata": {},
   "outputs": [],
   "source": [
    "def get_global_value(dsets,variable):\n",
    "    return {\n",
    "            model: global_avg(dset.isel(time=slice(1,None)).mean(dim='time').get(variable,np.nan)).values\n",
    "              for model, dset in dsets.items()}"
   ]
  },
  {
   "cell_type": "code",
   "execution_count": null,
   "id": "185fedf3",
   "metadata": {},
   "outputs": [],
   "source": [
    "dsets_exp = {p.split('/')[-1].split('_')[-2] : xr.open_dataset(p) for p in snakemake.input.exp_data}\n",
    "dsets_ctrl = {p.split('/')[-1].split('_')[-2] : xr.open_dataset(p) for p in snakemake.input.ctrl_data}\n"
   ]
  },
  {
   "cell_type": "code",
   "execution_count": null,
   "id": "8a28de78",
   "metadata": {},
   "outputs": [],
   "source": [
    "aaod_exp = get_global_value(dsets_exp,'abs550aer')\n",
    "aaod_ctrl = get_global_value(dsets_ctrl,'abs550aer')\n",
    "df_aaod_exp = pd.DataFrame.from_dict(aaod_exp,orient='index',columns=['abs550aer'])\n",
    "df_aaod_ctrl = pd.DataFrame.from_dict(aaod_ctrl,orient='index',columns=['abs550aer'])\n",
    "\n",
    "aod_exp = pd.DataFrame.from_dict(get_global_value(dsets_exp,'od550aer'),orient='index',columns=['od550aer'])\n",
    "aod_ctrl = pd.DataFrame.from_dict(get_global_value(dsets_ctrl,'od550aer'),orient='index',columns=['od550aer'])\n",
    "\n",
    "df_diff_aaod = df_aaod_exp-df_aaod_ctrl\n",
    "df_diff_aod = aod_exp-aod_ctrl"
   ]
  },
  {
   "cell_type": "code",
   "execution_count": null,
   "id": "a511390b",
   "metadata": {},
   "outputs": [],
   "source": [
    "atmabs = pd.DataFrame.from_dict(atmabs,orient='index',columns=['atmabs'])\n",
    "atmabs_sw = pd.DataFrame.from_dict(atmabs_sw,orient='index',columns=['atmabs_sw'])\n",
    "SWDirectEff = pd.DataFrame.from_dict(SWDirectEff,orient='index',columns=['SWDirectEff'])\n",
    "ERFt = pd.DataFrame.from_dict(ERFt,orient='index',columns=['ERFt'])\n"
   ]
  },
  {
   "cell_type": "code",
   "execution_count": null,
   "id": "1e306e2d",
   "metadata": {},
   "outputs": [],
   "source": [
    "dust_optics = pd.DataFrame.from_dict(dust_optics,orient='index')"
   ]
  },
  {
   "cell_type": "code",
   "execution_count": null,
   "id": "c1a4bb50",
   "metadata": {},
   "outputs": [],
   "source": [
    "df = pd.concat([df_diff_aod,df_diff_aaod,atmabs,atmabs_sw,SWDirectEff,ERFt, dust_optics],axis=1)"
   ]
  },
  {
   "cell_type": "code",
   "execution_count": null,
   "id": "3aa6941a",
   "metadata": {},
   "outputs": [],
   "source": [
    "df"
   ]
  },
  {
   "cell_type": "code",
   "execution_count": null,
   "id": "872e11c0",
   "metadata": {},
   "outputs": [],
   "source": [
    "def plot_fig(df):\n",
    "    df = df.drop(['MIROC6','GISS-E2-1-G'], axis=0)\n",
    "    y = 'ERFt'\n",
    "    x = 'od550aer'\n",
    "    fig, ax = plt.subplots(figsize=(4*1.5,3.6*1.51)) \n",
    "    cmap = mpl.cm.get_cmap('Blues', 13)\n",
    "    norm = mpl.colors.Normalize(vmin=0.0001, vmax=0.0012)\n",
    "    msg=df.plot.scatter(y=y, x=x, ax=ax,  s=50, c='abs550aer',colorbar=False, norm=norm,\n",
    "                        colormap='Blues', zorder=100)\n",
    "\n",
    "    for k, v in df.iterrows():\n",
    "        xy = (v[x],v[y])\n",
    "        ax.annotate(f'{k}', xy,\n",
    "                   xytext=(5,-5), textcoords='offset points', fontsize=8, zorder=200)\n",
    "        \n",
    "    slope, intercept, r_value, p_value, std_err = linregress(df[x],df[y])\n",
    "    xl = [0.04, 0.00]\n",
    "    yl = [slope*0.04 + intercept , intercept]\n",
    "    ax.plot(xl, yl, '--', color='red', linewidth=3)\n",
    "    dftab = df[['complex']].round(decimals=4)\n",
    "    \n",
    "    dftab = dftab.rename(columns={'complex':'$n_i$'})\n",
    "    dftab = dftab.sort_values('$n_i$')\n",
    "    pd.plotting.table(ax=ax, data=dftab[['$n_i$']], loc=3, bbox = [0.35,0.58,0.12,0.4])\n",
    "    \n",
    "    cax = fig.add_axes([0.94,0.2,0.02,0.62])\n",
    "    fig.colorbar(mpl.cm.ScalarMappable(norm, cmap=cmap), cax=cax, extend='max', label='$\\Delta$ AAOD 550m')\n",
    "#     ax.grid(linestyle='--')\n",
    "    \n",
    "    ax.set_ylim(-0.55, 0.25)\n",
    "    ax.set_xlim(0, 0.04)\n",
    "    ax.set_xlabel('$\\Delta$ AOD 550nm')\n",
    "    ax.axes.invert_xaxis()\n",
    "    ax.set_ylabel(\"Total DRE\")\n",
    "\n",
    "plot_fig(df)\n",
    "\n",
    "plt.savefig(snakemake.output.absortion_plot, bbox_inches='tight', dpi=300)\n",
    "# plt.savefig('results/figs/AerChemMIP/SWDirectEff_AAOD_refractive_index.pdf',bbox_inches='tight')"
   ]
  },
  {
   "cell_type": "code",
   "execution_count": null,
   "id": "eb5f2980",
   "metadata": {},
   "outputs": [],
   "source": []
  }
 ],
 "metadata": {
  "kernelspec": {
   "display_name": "Python 3 (ipykernel)",
   "language": "python",
   "name": "python3"
  },
  "language_info": {
   "codemirror_mode": {
    "name": "ipython",
    "version": 3
   },
   "file_extension": ".py",
   "mimetype": "text/x-python",
   "name": "python",
   "nbconvert_exporter": "python",
   "pygments_lexer": "ipython3",
   "version": "3.10.2"
  }
 },
 "nbformat": 4,
 "nbformat_minor": 5
}
