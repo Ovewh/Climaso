{
 "cells": [
  {
   "cell_type": "code",
   "execution_count": null,
   "id": "aeaa68c2",
   "metadata": {},
   "outputs": [],
   "source": [
    "from workflow.scripts.utils import read_list_input_paths\n",
    "from pyclim_noresm.general_util_funcs import global_avg\n",
    "import yaml\n",
    "import pandas as pd\n",
    "import matplotlib.pyplot as plt\n",
    "import matplotlib as mpl\n",
    "# import seaborn"
   ]
  },
  {
   "cell_type": "code",
   "execution_count": null,
   "id": "185fedf3",
   "metadata": {},
   "outputs": [],
   "source": [
    "paths_atm = snakemake.input.atmabs\n",
    "paths_ctrl = snakemake.input.abs550_ctrl\n",
    "paths_exp = snakemake.input.abs550_exp\n",
    "time_slice = slice(3,None)\n",
    "\n",
    "with open('workflow/input_data/refractive_indicies_550nm.yaml') as f:\n",
    "    \n",
    "    dust_optics = yaml.safe_load(f)\n",
    "\n",
    "def get_forcing(forcing_var: str,dataframes: dict):\n",
    "    k = next(iter(dataframes))\n",
    "    outdf = pd.DataFrame(index=dataframes.keys(), columns=dataframes[k].columns)\n",
    "    for k,df in dataframes.items():\n",
    "        try:\n",
    "            outdf.loc[k,:] = df.loc[forcing_var]\n",
    "        except KeyError:\n",
    "            pass\n",
    "            \n",
    "    return outdf"
   ]
  },
  {
   "cell_type": "code",
   "execution_count": null,
   "id": "8a28de78",
   "metadata": {},
   "outputs": [],
   "source": [
    "snakemake.input.keys()"
   ]
  },
  {
   "cell_type": "code",
   "execution_count": null,
   "id": "2c29de8d",
   "metadata": {},
   "outputs": [],
   "source": [
    "snakemake.input.diag_table"
   ]
  },
  {
   "cell_type": "code",
   "execution_count": null,
   "id": "890c3004",
   "metadata": {},
   "outputs": [],
   "source": [
    "diag_table = {p.split('.')[0].split('_')[-1]:pd.read_csv(p,index_col=0) for p in snakemake.input.diag_table}"
   ]
  },
  {
   "cell_type": "code",
   "execution_count": null,
   "id": "aa91199d",
   "metadata": {},
   "outputs": [],
   "source": [
    "absdict, vname = read_list_input_paths(paths_atm)\n",
    "abs550dict, vname_ctrl = read_list_input_paths(paths_ctrl)\n",
    "abs550exp, vname_exp = read_list_input_paths(paths_exp)\n",
    "dod550ctrl, _ = read_list_input_paths(snakemake.input.oddust550_ctrl)\n",
    "dod550exp, _ = read_list_input_paths(snakemake.input.oddust550_exp)"
   ]
  },
  {
   "cell_type": "code",
   "execution_count": null,
   "id": "7f8bb6a7",
   "metadata": {},
   "outputs": [],
   "source": [
    "abs_change = {}\n",
    "dod_change = {}\n",
    "gabs = {}\n",
    "\n",
    "for model, ds in dod550ctrl.items():\n",
    "    exp = dod550exp[model].isel(time=time_slice).mean(dim='time')\n",
    "    ctrl = dod550ctrl[model].isel(time=time_slice).mean(dim='time')\n",
    "    diff = exp-ctrl\n",
    "    diff = global_avg(diff)\n",
    "    dod_change[model] = diff['od550dust'].values\n",
    "\n",
    "for model, ds in abs550dict.items():\n",
    "    exp = abs550exp[model].isel(time=time_slice).mean(dim='time')\n",
    "    ctrl = abs550dict[model].isel(time=time_slice).mean(dim='time')\n",
    "    diff = exp-ctrl\n",
    "    diff = global_avg(diff)\n",
    "    abs_change[model] = diff[vname_ctrl].values\n",
    "\n",
    "for model, ds in absdict.items():\n",
    "#     print(model)\n",
    "    if 'year' in ds.dims:\n",
    "        ds=ds.rename_dims({'year':'time'})\n",
    "    tempabs = ds.isel(time=time_slice).mean(dim='time')\n",
    "    gabs[model] = global_avg(tempabs)[ds.variable_id]\n",
    "    \n",
    "keys = set(abs_change.keys()).intersection(set(dust_optics.keys()))\n",
    "\n",
    "gabs = {k:gabs[k] for k in keys}\n",
    "\n",
    "abs_change = {k:abs_change[k] for k in keys}\n",
    "ni_optics = {k:dust_optics[k]['complex'] for k in keys}\n",
    "\n",
    "df = pd.DataFrame([abs_change,ni_optics,gabs,dod_change], index=['abs550aer', 'ni', 'atmabs', 'dod550nm'])\n",
    "df = df.astype(float).T"
   ]
  },
  {
   "cell_type": "code",
   "execution_count": null,
   "id": "fb9c6c2a",
   "metadata": {},
   "outputs": [],
   "source": [
    "\n",
    "df['SWDirectEff'] = get_forcing('SWDirectEff',diag_table)['diff']\n",
    "df['LWDirectEff'] = get_forcing('LWDirectEff',diag_table)['diff']\n",
    "df['ERFt'] = get_forcing('ERFt', diag_table)['diff']"
   ]
  },
  {
   "cell_type": "code",
   "execution_count": null,
   "id": "58c4e27f",
   "metadata": {},
   "outputs": [],
   "source": [
    "fig, ax = plt.subplots(figsize=(8,6)) \n",
    "df.plot.scatter(y='abs550aer', x='ni', ax=ax,  s=50)\n",
    "for k, v in df.iterrows():\n",
    "    xy = (v['ni'],v['abs550aer'])\n",
    "    ax.annotate(k, xy,\n",
    "               xytext=(10,-5), textcoords='offset points', fontsize=12)\n",
    "ax.set_ylim(0.0001,0.1)\n",
    "ax.set_xlim(0,0.007)\n",
    "ax.semilogy()\n",
    "ax.grid(linestyle='--')"
   ]
  },
  {
   "cell_type": "code",
   "execution_count": null,
   "id": "c23005a8",
   "metadata": {},
   "outputs": [],
   "source": [
    "fig, ax = plt.subplots(figsize=(8,6)) \n",
    "df.plot.scatter(y='atmabs', x='ni', ax=ax,  s=50)\n",
    "for k, v in df.iterrows():\n",
    "    xy = (v['ni'],v['atmabs'])\n",
    "    ax.annotate(k, xy,\n",
    "               xytext=(10,-5), textcoords='offset points', fontsize=12)\n",
    "ax.set_ylim(0.1,2)\n",
    "ax.set_xlim(0,0.007)\n",
    "# ax.semilogy()\n",
    "ax.grid(linestyle='--')"
   ]
  },
  {
   "cell_type": "code",
   "execution_count": null,
   "id": "872e11c0",
   "metadata": {},
   "outputs": [],
   "source": [
    "def plot_fig(df):\n",
    "    df = df.drop(['MIROC6','GISS-E2-1-G'], axis=0)\n",
    "    y = 'ERFt'\n",
    "    x = 'dod550nm'\n",
    "    fig, ax = plt.subplots(figsize=(4,3.6)) \n",
    "    cmap = mpl.cm.get_cmap('Blues', 13)\n",
    "    norm = mpl.colors.Normalize(vmin=0.0001, vmax=0.0012)\n",
    "    msg=df.plot.scatter(y=y, x=x, ax=ax,  s=50, c='abs550aer',colorbar=False, norm=norm,\n",
    "                        colormap='Blues')\n",
    "\n",
    "    for k, v in df.iterrows():\n",
    "        xy = (v[x],v[y])\n",
    "        ax.annotate(f'{k}', xy,\n",
    "                   xytext=(10,-5), textcoords='offset points', fontsize=8)\n",
    "        \n",
    "#   \n",
    "# tabx = fig.add_axes([0.05,0.01,0.8,0.2])\n",
    "#     fig.subplots_adjust(left=0.2, bottom=0.2)\n",
    "#     with pd.option_context('display.float_format', '{:0.2f}'.format):\n",
    "    dftab = df[['ni']].round(decimals=4)\n",
    "    \n",
    "    dftab = dftab.rename(columns={'concdust':'$\\Delta$ Dust loading (kg/m-2)',\n",
    "                                 'ni':'$n_i$'})\n",
    "    dftab = dftab.sort_values('$n_i$')\n",
    "#     pd.plotting.table(ax=ax, data=dftab[['$n_i$']], loc=3, bbox = [0.35,0.58,0.12,0.4])\n",
    "    \n",
    "    cax = fig.add_axes([0.94,0.2,0.02,0.62])\n",
    "    fig.colorbar(mpl.cm.ScalarMappable(norm, cmap=cmap), cax=cax, extend='max', label='$\\Delta$ AAOD 550m')\n",
    "#     ax.grid(linestyle='--')\n",
    "    \n",
    "#     ax.set_ylim(-0.8, 0.1)\n",
    "    ax.set_xlim(0, 0.04)\n",
    "    ax.set_xlabel('$\\Delta$ AOD 550nm')\n",
    "    ax.axes.invert_xaxis()\n",
    "    ax.set_ylabel(\"Total DRE\")\n",
    "\n",
    "plot_fig(df)\n",
    "\n",
    "plt.savefig(snakemake.output.absortion_plot, bbox_inches='tight', dpi=300)\n",
    "plt.savefig('results/figs/AerChemMIP/SWDirectEff_AAOD_refractive_index.pdf',bbox_inches='tight')"
   ]
  }
 ],
 "metadata": {
  "kernelspec": {
   "display_name": "Python 3 (ipykernel)",
   "language": "python",
   "name": "python3"
  },
  "language_info": {
   "codemirror_mode": {
    "name": "ipython",
    "version": 3
   },
   "file_extension": ".py",
   "mimetype": "text/x-python",
   "name": "python",
   "nbconvert_exporter": "python",
   "pygments_lexer": "ipython3",
   "version": "3.10.2"
  }
 },
 "nbformat": 4,
 "nbformat_minor": 5
}
