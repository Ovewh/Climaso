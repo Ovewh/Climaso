{
 "cells": [
  {
   "cell_type": "code",
   "execution_count": null,
   "id": "02010964",
   "metadata": {},
   "outputs": [],
   "source": [
    "import xarray as xr\n",
    "from pyclim_noresm.general_util_funcs import global_avg\n",
    "from workflow.scripts.plotting_tools import global_map, create_facet_plot\n",
    "from workflow.scripts.utils import regrid_global\n",
    "import numpy as np\n",
    "import matplotlib as mpl\n",
    "xr.set_options(keep_attrs=True)\n",
    "\n"
   ]
  },
  {
   "cell_type": "code",
   "execution_count": null,
   "id": "ee7a5a62",
   "metadata": {},
   "outputs": [],
   "source": [
    "def reorder_lons(ds):\n",
    "    x = ds.cf['X'].name\n",
    "    if ds.lon.max() > 180:\n",
    "        ds = ds.assign_coords({x:((ds.coords[x] + 180) % 360 - 180)}).sortby(x)\n",
    "        ds=ds.cf.add_bounds(['lon','lat'])\n",
    "    return ds\n"
   ]
  },
  {
   "cell_type": "code",
   "execution_count": null,
   "id": "ac1f77d5",
   "metadata": {},
   "outputs": [],
   "source": [
    "drop_vars = ['drydust','emidust','od440aer','od550dust','od550aer'\n",
    "            'tas','radatm','radatmcs','ang4487aer','Australia emidust',\n",
    "            'Western north Africa emidust','Eastern north Africa emidust','North America emidust'\n",
    "            ,'lifetime','Sahel emidust','Middle east emidust','Central Asia emidust',\n",
    "            'od550dust_mass_ext','Southern Africa emidust', 'tas','East Asia emidust',\n",
    "            'South America emidust']\n",
    "\n",
    "so4conc_exp = {\n",
    "    p.split('_')[2]: reorder_lons(xr.open_dataset(p).isel(time=slice(1,None))) for p in snakemake.input.exp_so4\n",
    "}\n",
    "so4conc_ctrl = {\n",
    "    p.split('_')[2]: reorder_lons(xr.open_dataset(p)) for p in snakemake.input.ctrl_so4\n",
    "}\n",
    "\n",
    "\n",
    "oaconc_exp = {\n",
    "    p.split('_')[2]: reorder_lons(xr.open_dataset(p).isel(time=slice(1,None))) for p in snakemake.input.exp_oa\n",
    "}\n",
    "oaconc_ctrl = {\n",
    "    p.split('_')[2]: reorder_lons(xr.open_dataset(p)) for p in snakemake.input.ctrl_oa\n",
    "}\n",
    "\n",
    "soaconc_exp = {\n",
    "    p.split('_')[2]: reorder_lons(xr.open_dataset(p).isel(time=slice(1,None))) for p in snakemake.input.exp_soa\n",
    "}\n",
    "soaconc_ctrl = {\n",
    "    p.split('_')[2]: reorder_lons(xr.open_dataset(p)) for p in snakemake.input.ctrl_soa\n",
    "}\n",
    "\n",
    "bcconc_exp = {\n",
    "    p.split('_')[2]: reorder_lons(xr.open_dataset(p).isel(time=slice(1,None))) for p in snakemake.input.exp_bc\n",
    "}\n",
    "bcconc_ctrl = {\n",
    "    p.split('_')[2]: reorder_lons(xr.open_dataset(p)) for p in snakemake.input.ctrl_bc\n",
    "}\n",
    "\n",
    "nh4conc_exp = {\n",
    "    p.split('_')[2]: reorder_lons(xr.open_dataset(p).isel(time=slice(1,None))) for p in snakemake.input.exp_nh4\n",
    "}\n",
    "nh4conc_ctrl = {\n",
    "    p.split('_')[2]: reorder_lons(xr.open_dataset(p)) for p in snakemake.input.ctrl_nh4\n",
    "}\n",
    "\n",
    "\n",
    "cloud_diag_ctrl = {p.split(\"_\")[-2]: xr.open_dataset(p).isel(time=slice(1,None)) for p in snakemake.input.ctrl_clddiag}\n",
    "cloud_diag_exp = {p.split(\"_\")[-2]: xr.open_dataset(p) for p in snakemake.input.exp_clddiag}\n",
    "\n",
    "\n",
    "dst_diag_exp = {\n",
    "    p.split(\"_\")[-2]: xr.open_dataset(p).isel(time=slice(1,None)).drop(drop_vars, errors='ignore')\n",
    "                for p in snakemake.input.exp_dstdiag\n",
    "               }\n",
    "dst_diag_ctrl = {\n",
    "    p.split(\"_\")[-2]: xr.open_dataset(p).drop(drop_vars, errors='ignore') \n",
    "                         for p in snakemake.input.ctrl_dstdiag\n",
    "                }"
   ]
  },
  {
   "cell_type": "code",
   "execution_count": null,
   "id": "c9a5a5d7",
   "metadata": {},
   "outputs": [],
   "source": [
    "def fix_dataset(dust_diag, data_concso4, vname='concso4'):\n",
    "    if np.all(data_concso4.lon.values==dust_diag.lon.values) and np.all(data_concso4.lat.values==dust_diag.lat.values): \n",
    "        dust_diag = dust_diag.assign({vname:data_concso4[vname]})\n",
    "    else:\n",
    "        data_concso4 = data_concso4.assign_coords(lon=dust_diag.lon)\n",
    "        data_concso4 = data_concso4.assign_coords(lat=dust_diag.lat)\n",
    "        dust_diag = dust_diag.assign({vname:data_concso4[vname]})\n",
    "    if 'bnds' in dust_diag.dims:\n",
    "        dust_diag = dust_diag.drop('bnds')\n",
    "    if 'bounds' in dust_diag.dims:\n",
    "        dust_diag = dust_diag.rename_dims({'bounds':'bnds'})\n",
    "        dust_diag = dust_diag.rename({'lon_bounds': 'lon_bnds','lat_bounds':'lat_bnds'})\n",
    "    return dust_diag\n",
    "\n",
    "def corr_fields(ds, burd1='concso4', burd2='concdust'):\n",
    "    ds=ds.assign({f'corr{burd1[4:]}{burd2[4:]}': xr.corr(ds[burd1],ds[burd2],dim='time')})\n",
    "    return ds"
   ]
  },
  {
   "cell_type": "code",
   "execution_count": null,
   "id": "acc4b76d",
   "metadata": {},
   "outputs": [],
   "source": [
    "dsets_exp = {k: fix_dataset(dst_diag_exp[k], data_concso4=so4conc_exp[k]) for k in so4conc_exp}\n",
    "dset_ctrl = {k: fix_dataset(dst_diag_ctrl[k], data_concso4=so4conc_ctrl[k]) for k in so4conc_ctrl}"
   ]
  },
  {
   "cell_type": "code",
   "execution_count": null,
   "id": "566ebe86",
   "metadata": {},
   "outputs": [],
   "source": [
    "dsets_exp = {k : corr_fields(dsets_exp[k],'concso4', 'concdust') for k in so4conc_exp}"
   ]
  },
  {
   "cell_type": "code",
   "execution_count": null,
   "id": "419f7061",
   "metadata": {},
   "outputs": [],
   "source": [
    "fig,ax, cax = create_facet_plot(len(dsets_exp\n",
    "                                   ))\n",
    "for k,axk in zip(so4conc_ctrl,ax):\n",
    "    \n",
    "    global_map(ax=ax[axk])\n",
    "    \n",
    "    dsets_exp[k]['corrso4dust'].plot(ax=ax[axk], cmap='RdBu_r', vmin=-0.8, vmax=0.8)\n",
    "    ax[axk].set_title(k)"
   ]
  },
  {
   "cell_type": "code",
   "execution_count": null,
   "id": "d42d6c88",
   "metadata": {},
   "outputs": [],
   "source": [
    "dsets_exp = {k: fix_dataset(dst_diag_exp[k], data_concso4=so4conc_exp[k]) for k in so4conc_exp}\n",
    "dset_ctrl = {k: fix_dataset(dst_diag_ctrl[k], data_concso4=so4conc_ctrl[k]) for k in so4conc_ctrl}\n",
    "\n",
    "diff_dsets_mean =  {k: dsets_exp[k].mean(dim='time') -dset_ctrl[k].mean(dim='time') for k in dset_ctrl}"
   ]
  },
  {
   "cell_type": "code",
   "execution_count": null,
   "id": "32483d99",
   "metadata": {},
   "outputs": [],
   "source": [
    "fig,ax, cax = create_facet_plot(len(diff_dsets_mean\n",
    "                                   ))\n",
    "\n",
    "cmap = mpl.cm.PuOr_r.resampled(11)\n",
    "norm = mpl.colors.Normalize(vmin=-25, vmax=25)\n",
    "for k,axk in zip(so4conc_ctrl,ax):\n",
    "    \n",
    "    global_map(ax=ax[axk])\n",
    "    change_so4burd = diff_dsets_mean[k]['concso4']*dset_ctrl[k]['cell_area']/1e3\n",
    "    change_so4burd.attrs['units'] = 'Tonnes'\n",
    "    burd_ctrl = (dset_ctrl[k]['concso4'].mean(dim='time')*dset_ctrl[k]['cell_area']).sum(dim=['lon','lat'])/1e3\n",
    "    cm = change_so4burd.plot(ax=ax[axk], cmap=cmap, norm=norm, add_colorbar=False, add_labels=False)\n",
    "    tot_change = change_so4burd.sum(dim=['lon','lat'])\n",
    "    rel_diff = tot_change/(burd_ctrl)*100\n",
    "    ax[axk].text(0.03, 0.08,f'Total change {tot_change:.3f} Tonnes ({rel_diff:.2f}%) ',transform=ax[axk].transAxes, \n",
    "                 bbox={'facecolor':'white'})\n",
    "    ax[axk].set_title(k)\n",
    "cbar = fig.colorbar(mpl.cm.ScalarMappable(norm=norm,cmap=cmap),cax=cax, extend='max')\n",
    "cbar.set_label('Tonnes')"
   ]
  },
  {
   "cell_type": "code",
   "execution_count": null,
   "id": "26e3f500",
   "metadata": {},
   "outputs": [],
   "source": [
    "dsets_exp = {k: fix_dataset(dst_diag_exp[k], data_concso4=oaconc_exp[k],vname='concoa') for k in oaconc_exp}\n",
    "dset_ctrl = {k: fix_dataset(dst_diag_ctrl[k], data_concso4=oaconc_ctrl[k],vname='concoa') for k in oaconc_ctrl}\n",
    "\n",
    "diff_dsets_mean =  {k: dsets_exp[k].mean(dim='time') -dset_ctrl[k].mean(dim='time') for k in dset_ctrl}"
   ]
  },
  {
   "cell_type": "code",
   "execution_count": null,
   "id": "f13b72b6",
   "metadata": {},
   "outputs": [],
   "source": [
    "fig,ax, cax = create_facet_plot(figsize=(12,7),nplots=len(diff_dsets_mean\n",
    "                                   ))\n",
    "\n",
    "cmap = mpl.cm.PuOr_r.resampled(11)\n",
    "norm = mpl.colors.Normalize(vmin=-60, vmax=60)\n",
    "for k,axk in zip(oaconc_ctrl,ax):\n",
    "    \n",
    "    global_map(ax=ax[axk])\n",
    "    change_so4burd = diff_dsets_mean[k]['concoa']*dset_ctrl[k]['cell_area']/1e3\n",
    "    change_so4burd.attrs['units'] = 'Tonnes'\n",
    "    burd_ctrl = (dset_ctrl[k]['concoa'].mean(dim='time')*dset_ctrl[k]['cell_area']).sum(dim=['lon','lat'])/1e3\n",
    "    cm = change_so4burd.plot(ax=ax[axk], cmap=cmap, norm=norm, add_colorbar=False, add_labels=False)\n",
    "    tot_change = change_so4burd.sum(dim=['lon','lat'])\n",
    "    rel_diff = tot_change/(burd_ctrl)*100\n",
    "    ax[axk].text(0.03, 0.08,f'Total change {tot_change:.3f} Tonnes ({rel_diff:.2f}%) ',transform=ax[axk].transAxes, \n",
    "                 bbox={'facecolor':'white'})\n",
    "    ax[axk].set_title(k)\n",
    "cbar=fig.colorbar(mpl.cm.ScalarMappable(norm=norm,cmap=cmap),cax=cax, extend='both')\n",
    "cbar.set_label('Tonnes')"
   ]
  },
  {
   "cell_type": "code",
   "execution_count": null,
   "id": "777aacff",
   "metadata": {},
   "outputs": [],
   "source": [
    "dsets_exp = {k: fix_dataset(dst_diag_exp[k], data_concso4=soaconc_exp[k],vname='concsoa') for k in soaconc_exp}\n",
    "dset_ctrl = {k: fix_dataset(dst_diag_ctrl[k], data_concso4=soaconc_ctrl[k],vname='concsoa') for k in soaconc_ctrl}\n",
    "\n",
    "diff_dsets_mean =  {k: dsets_exp[k].mean(dim='time') -dset_ctrl[k].mean(dim='time') for k in dset_ctrl}\n"
   ]
  },
  {
   "cell_type": "code",
   "execution_count": null,
   "id": "83056eee",
   "metadata": {},
   "outputs": [],
   "source": [
    "fig,ax, cax = create_facet_plot(figsize=(10,4.5),nplots=len(diff_dsets_mean\n",
    "                                   ))\n",
    "\n",
    "cmap = mpl.cm.PuOr_r.resampled(11)\n",
    "norm = mpl.colors.Normalize(vmin=-60, vmax=60)\n",
    "for k,axk in zip(soaconc_ctrl,ax):\n",
    "    \n",
    "    global_map(ax=ax[axk])\n",
    "    change_so4burd = diff_dsets_mean[k]['concsoa']*dset_ctrl[k]['cell_area']/1e3\n",
    "    change_so4burd.attrs['units'] = 'Tonnes'\n",
    "    burd_ctrl = (dset_ctrl[k]['concsoa'].mean(dim='time')*dset_ctrl[k]['cell_area']).sum(dim=['lon','lat'])/1e3\n",
    "    cm = change_so4burd.plot(ax=ax[axk], cmap=cmap, norm=norm, add_colorbar=False, add_labels=False)\n",
    "    tot_change = change_so4burd.sum(dim=['lon','lat'])\n",
    "    rel_diff = tot_change/(burd_ctrl)*100\n",
    "    ax[axk].text(0.03, 0.08,f'Total change {tot_change:.3f} Tonnes ({rel_diff:.2f}%) ',transform=ax[axk].transAxes, \n",
    "                 bbox={'facecolor':'white'})\n",
    "    ax[axk].set_title(k)\n",
    "fig.colorbar(mpl.cm.ScalarMappable(norm=norm,cmap=cmap),cax=cax, extend='both')"
   ]
  },
  {
   "cell_type": "code",
   "execution_count": null,
   "id": "4df0dd7c",
   "metadata": {},
   "outputs": [],
   "source": [
    "dsets_exp = {k: fix_dataset(dst_diag_exp[k], data_concso4=bcconc_exp[k],vname='concbc') for k in bcconc_exp}\n",
    "dset_ctrl = {k: fix_dataset(dst_diag_ctrl[k], data_concso4=bcconc_ctrl[k],vname='concbc') for k in bcconc_ctrl}\n",
    "\n",
    "diff_dsets_mean =  {k: dsets_exp[k].mean(dim='time') -dset_ctrl[k].mean(dim='time') for k in dset_ctrl}\n"
   ]
  },
  {
   "cell_type": "code",
   "execution_count": null,
   "id": "73af2e5b",
   "metadata": {},
   "outputs": [],
   "source": [
    "fig,ax, cax = create_facet_plot(nplots=len(diff_dsets_mean))\n",
    "\n",
    "cmap = mpl.cm.PuOr_r.resampled(11)\n",
    "norm = mpl.colors.Normalize(vmin=-8, vmax=8)\n",
    "for k,axk in zip(dsets_exp,ax):\n",
    "    \n",
    "    global_map(ax=ax[axk])\n",
    "    change_so4burd = diff_dsets_mean[k]['concbc']*dset_ctrl[k]['cell_area']/1e3\n",
    "    change_so4burd.attrs['units'] = 'Tonnes'\n",
    "    burd_ctrl = (dset_ctrl[k]['concbc'].mean(dim='time')*dset_ctrl[k]['cell_area']).sum(dim=['lon','lat'])/1e3\n",
    "    cm = change_so4burd.plot(ax=ax[axk], cmap=cmap, norm=norm, add_colorbar=False, add_labels=False)\n",
    "    tot_change = change_so4burd.sum(dim=['lon','lat'])\n",
    "    rel_diff = tot_change/(burd_ctrl)*100\n",
    "    ax[axk].text(0.03, 0.08,f'Total change {tot_change:.3f} Tonnes ({rel_diff:.2f}%) ',transform=ax[axk].transAxes, \n",
    "                 bbox={'facecolor':'white'})\n",
    "    ax[axk].set_title(k)\n",
    "fig.colorbar(mpl.cm.ScalarMappable(norm=norm,cmap=cmap),cax=cax, extend='both')"
   ]
  },
  {
   "cell_type": "code",
   "execution_count": null,
   "id": "6f4d658c",
   "metadata": {},
   "outputs": [],
   "source": [
    "models_cdnc = ['NorESM2-LM', 'MPI-ESM-1-2-HAM', 'EC-Earth3-AerChem']"
   ]
  },
  {
   "cell_type": "code",
   "execution_count": null,
   "id": "32fccbaf",
   "metadata": {},
   "outputs": [],
   "source": [
    "def diff_nd(nd_exp, nd_ctrl):\n",
    "    nd_exp = nd_exp.assign(lon=nd_ctrl.lon)\n",
    "    nd_exp = nd_exp.assign(lat=nd_ctrl.lat)\n",
    "    nd_diff = nd_exp-nd_ctrl\n",
    "    return nd_diff\n",
    "    "
   ]
  },
  {
   "cell_type": "code",
   "execution_count": null,
   "id": "640e4226",
   "metadata": {},
   "outputs": [],
   "source": [
    "\n",
    "diff_dsets_nd =  {k: diff_nd(cloud_diag_exp[k].mean(dim='time'),cloud_diag_ctrl[k].mean(dim='time')) for k in models_cdnc}"
   ]
  },
  {
   "cell_type": "code",
   "execution_count": null,
   "id": "35a64b34",
   "metadata": {},
   "outputs": [],
   "source": [
    "fig,ax, cax = create_facet_plot(nplots=len(diff_dsets_nd\n",
    "                                   ))\n",
    "\n",
    "cmap = mpl.cm.PuOr_r.resampled(11)\n",
    "norm = mpl.colors.Normalize(vmin=-80, vmax=80)\n",
    "for k,axk in zip(diff_dsets_nd,ax):\n",
    "    \n",
    "    global_map(ax=ax[axk])\n",
    "    change_nd= diff_dsets_nd[k]['cdncvi']*(1e-9)\n",
    "    cm = change_nd.plot(ax=ax[axk], cmap=cmap,norm=norm,  add_colorbar=False, add_labels=False)\n",
    "    tot_change = global_avg(change_nd)\n",
    "    ax[axk].text(0.03, 0.08,f'Mean change {tot_change:.3f} #1000*cm-3 ',transform=ax[axk].transAxes, \n",
    "                 bbox={'facecolor':'white'})\n",
    "    ax[axk].set_title(k)\n",
    "cbar = fig.colorbar(mpl.cm.ScalarMappable(norm=norm,cmap=cmap),cax=cax, extend='both')\n",
    "cbar.set_label('CDNCVI [#/1000cm-3]')"
   ]
  },
  {
   "cell_type": "code",
   "execution_count": null,
   "id": "ff5958d0",
   "metadata": {},
   "outputs": [],
   "source": []
  },
  {
   "cell_type": "code",
   "execution_count": null,
   "id": "f4abee50",
   "metadata": {},
   "outputs": [],
   "source": [
    "dsets_exp = {k: fix_dataset(dst_diag_exp[k], data_concso4=nh4conc_exp[k],vname='concnh4') for k in nh4conc_exp}\n",
    "dset_ctrl = {k: fix_dataset(dst_diag_ctrl[k], data_concso4=nh4conc_ctrl[k],vname='concnh4') for k in nh4conc_ctrl}\n",
    "\n",
    "diff_dsets_mean =  {k: dsets_exp[k].mean(dim='time') -dset_ctrl[k].mean(dim='time') for k in dset_ctrl}\n"
   ]
  },
  {
   "cell_type": "code",
   "execution_count": null,
   "id": "17676907",
   "metadata": {},
   "outputs": [],
   "source": [
    "fig,ax, cax = create_facet_plot(nplots=len(diff_dsets_mean), figsize=(12,5.5))\n",
    "\n",
    "cmap = mpl.cm.PuOr_r.resampled(11)\n",
    "norm = mpl.colors.Normalize(vmin=-8, vmax=8)\n",
    "for k,axk in zip(dsets_exp,ax):\n",
    "    \n",
    "    global_map(ax=ax[axk])\n",
    "    change_so4burd = diff_dsets_mean[k]['concnh4']*dset_ctrl[k]['cell_area']/1e3\n",
    "    change_so4burd.attrs['units'] = 'Tonnes'\n",
    "    burd_ctrl = (dset_ctrl[k]['concnh4'].mean(dim='time')*dset_ctrl[k]['cell_area']).sum(dim=['lon','lat'])/1e3\n",
    "    cm = change_so4burd.plot(ax=ax[axk], cmap=cmap, norm=norm, add_colorbar=False, add_labels=False)\n",
    "    tot_change = change_so4burd.sum(dim=['lon','lat'])\n",
    "    rel_diff = tot_change/(burd_ctrl)*100\n",
    "    ax[axk].text(0.03, 0.08,f'Total change {tot_change:.3f} Tonnes ({rel_diff:.2f}%) ',transform=ax[axk].transAxes, \n",
    "                 bbox={'facecolor':'white'})\n",
    "    ax[axk].set_title(k)\n",
    "fig.colorbar(mpl.cm.ScalarMappable(norm=norm,cmap=cmap),cax=cax, extend='both')"
   ]
  }
 ],
 "metadata": {
  "kernelspec": {
   "display_name": "Python 3 (ipykernel)",
   "language": "python",
   "name": "python3"
  },
  "language_info": {
   "codemirror_mode": {
    "name": "ipython",
    "version": 3
   },
   "file_extension": ".py",
   "mimetype": "text/x-python",
   "name": "python",
   "nbconvert_exporter": "python",
   "pygments_lexer": "ipython3",
   "version": "3.10.2"
  }
 },
 "nbformat": 4,
 "nbformat_minor": 5
}
