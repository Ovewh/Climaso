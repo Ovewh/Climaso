{
 "cells": [
  {
   "cell_type": "code",
   "execution_count": 2,
   "id": "2fdcce56",
   "metadata": {},
   "outputs": [],
   "source": [
    "import pandas as pd\n",
    "import matplotlib.pyplot as plt\n",
    "import seaborn as sns\n",
    "import matplotlib as mpl\n",
    "import "
   ]
  },
  {
   "cell_type": "code",
   "execution_count": 3,
   "id": "f0df2b9f",
   "metadata": {},
   "outputs": [],
   "source": [
    "df = pd.read_csv(snakemake.input.diag_table, index_col=0)"
   ]
  },
  {
   "cell_type": "code",
   "execution_count": 8,
   "id": "f8e2080e",
   "metadata": {},
   "outputs": [],
   "source": [
    "df['abs550aer'] = df['abs550aer']*1000"
   ]
  },
  {
   "cell_type": "code",
   "execution_count": 52,
   "id": "948c50f7",
   "metadata": {},
   "outputs": [],
   "source": [
    "fig, (ax,ax1) = plt.subplots(ncols = 2, figsize=(8,3))\n",
    "sns.regplot('abs550aer', 'atmabsSW',data=df, ax=ax, robust=True, fit_reg=True)\n",
    "sns.regplot('atmabsSW', 'pr',data=df, ax=ax1,robust=True,fit_reg=True)\n",
    "ax.set_ylim(0,2)\n",
    "ax.set_xlim(0,3)\n",
    "ax.set_xlabel(\"Dust AAOD x 1000\")\n",
    "ax.set_ylabel(\"Atm.abs [$\\mathrm{Wm}^{-2}$]\")\n",
    "ax.set_xticks([0,1,2,3])\n",
    "ax.set_yticks([0,0.5,1,1.5,2])\n",
    "ax.xaxis.set_minor_locator(mpl.ticker.AutoMinorLocator(9))\n",
    "ax.yaxis.set_minor_locator(mpl.ticker.AutoMinorLocator(4))\n",
    "ax.grid()\n",
    "ax1.set_xlabel(\"Atm.abs [$\\mathrm{Wm}^{-2}$]\")\n",
    "ax1.set_ylabel(\"$\\Delta$ P [mm $\\mathrm{year}^{-1}$]\")\n",
    "ax1.set_ylim(-10,3)\n",
    "ax1.set_xlim(-0.1,1)\n",
    "ax1.yaxis.set_minor_locator(mpl.ticker.AutoMinorLocator(2))\n",
    "ax1.grid()\n",
    "ax1.xaxis.set_minor_locator(mpl.ticker.AutoMinorLocator(9))\n",
    "plt.subplots_adjust(wspace=0.4)"
   ]
  }
 ],
 "metadata": {
  "kernelspec": {
   "display_name": "Python 3 (ipykernel)",
   "language": "python",
   "name": "python3"
  },
  "language_info": {
   "codemirror_mode": {
    "name": "ipython",
    "version": 3
   },
   "file_extension": ".py",
   "mimetype": "text/x-python",
   "name": "python",
   "nbconvert_exporter": "python",
   "pygments_lexer": "ipython3",
   "version": "3.10.2"
  }
 },
 "nbformat": 4,
 "nbformat_minor": 5
}
