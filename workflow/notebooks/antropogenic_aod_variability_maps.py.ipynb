{
 "cells": [
  {
   "cell_type": "code",
   "execution_count": 2,
   "id": "4e01e4ec",
   "metadata": {},
   "outputs": [],
   "source": [
    "import xarray as xr\n",
    "import matplotlib.pyplot as plt\n",
    "import cartopy.crs as ccrs\n",
    "import matplotlib.cm as cm\n",
    "import numpy as np\n",
    "import matplotlib as mpl\n",
    "from scipy.signal import detrend"
   ]
  },
  {
   "cell_type": "code",
   "execution_count": 3,
   "id": "bd4cfddc",
   "metadata": {},
   "outputs": [],
   "source": [
    "def detrend_da(data):\n",
    "    data.data = detrend(data.data, axis=0)\n",
    "    return data"
   ]
  },
  {
   "cell_type": "code",
   "execution_count": 4,
   "id": "6fd32b19",
   "metadata": {},
   "outputs": [],
   "source": [
    "def read_data(path):\n",
    "    dsets = []\n",
    "    for p in path:\n",
    "        dsets.append(xr.open_dataset(p))\n",
    "    return xr.merge(dsets)\n",
    "\n",
    "noresm = read_data(snakemake.input.noresm).isel(time=slice(5,None))\n",
    "\n",
    "mpi = read_data(snakemake.input.mpiEsm).isel(time=slice(5,None))\n",
    "\n",
    "ecEarth = read_data(snakemake.input.ecEarth).isel(time=slice(5,None))\n",
    "\n",
    "if snakemake.params.get('detrend',None):\n",
    "    odvarEC = detrend_da(ecEarth['od550aer'].isel(time=slice(-30,None))).std(dim='time')\n",
    "    odvarNO = detrend_da(noresm['od550aer'].isel(time=slice(-30,None))).std(dim='time')\n",
    "    odvarMPI = detrend_da(mpi['od550aer'].isel(time=slice(-30,None))).std(dim='time')\n",
    "\n",
    "    odvarEC_PI = detrend_da(ecEarth['od550aer'].dropna(dim='time').isel(time=slice(None,30))).std(dim='time')\n",
    "    odvarNO_PI = detrend_da(noresm['od550aer'].isel(time=slice(None,30))).std(dim='time')\n",
    "    odvarMPI_PI = detrend_da(mpi['od550aer'].isel(time=slice(None,30))).std(dim='time')\n",
    "    main_t = 'Variability of Detrended antropogenic AOD histSST simulations'\n",
    "else:\n",
    "    odvarEC = ecEarth['od550aer'].isel(time=slice(-30,None)).std(dim='time')\n",
    "    odvarNO = noresm['od550aer'].isel(time=slice(-30,None)).std(dim='time')\n",
    "    odvarMPI = mpi['od550aer'].isel(time=slice(-30,None)).std(dim='time')\n",
    "\n",
    "    odvarEC_PI = ecEarth['od550aer'].dropna(dim='time').isel(time=slice(None,30)).std(dim='time')\n",
    "    odvarNO_PI = noresm['od550aer'].isel(time=slice(None,30)).std(dim='time')\n",
    "    odvarMPI_PI = mpi['od550aer'].isel(time=slice(None,30)).std(dim='time')\n",
    "    main_t = 'Variability of antropogenic AOD histSST simulations'"
   ]
  },
  {
   "cell_type": "code",
   "execution_count": 5,
   "id": "4420c49a",
   "metadata": {},
   "outputs": [],
   "source": [
    "da_list = [odvarEC,odvarNO,odvarMPI]\n",
    "titles = [ecEarth.source_id,noresm.source_id,mpi.source_id]\n",
    "da_list_pi = [odvarEC_PI,odvarNO_PI,odvarMPI_PI]\n",
    "fig ,ax = plt.subplots(nrows=3,ncols=3, subplot_kw={'projection':ccrs.Robinson()}, figsize=(15,9))\n",
    "cmap = cm.get_cmap('YlOrRd',11)\n",
    "cmap.set_under('k', alpha=0.0)\n",
    "\n",
    "\n",
    "for a, da,t in zip(ax[:,0], da_list, titles):\n",
    "    a.coastlines()\n",
    "    da.plot(ax=a, transform=ccrs.PlateCarree(), cmap = cmap, vmin=0.01, vmax=0.3, extend='neither', add_colorbar=False)\n",
    "    a.set_title(t)\n",
    "for a, da,t in zip(ax[:,1], da_list_pi, titles):\n",
    "    a.coastlines()\n",
    "    da.plot(ax=a, transform=ccrs.PlateCarree(), cmap = cmap, vmin=0.01, vmax=0.3, extend='neither', add_colorbar=False)\n",
    "    a.set_title(t)\n",
    "cax = fig.add_axes([0.2,0.1,0.33,0.02])\n",
    "cb = fig.colorbar(mappable=cm.ScalarMappable(norm=mpl.colors.Normalize(vmin=0.01,vmax=0.3),cmap=cmap),\n",
    "                  cax=cax,orientation='horizontal', format='%.2f')\n",
    "cb.set_ticks(np.linspace(0.01,0.3,12))\n",
    "cmap = cm.get_cmap('PRGn',11)\n",
    "\n",
    "for a, da,da_pi,t in zip(ax[:,2], da_list,da_list_pi, titles):\n",
    "    a.coastlines()\n",
    "    da = da - da_pi\n",
    "    da.plot(ax=a, transform=ccrs.PlateCarree(), cmap = cmap, vmin=-0.2, vmax=0.2, extend='neither', add_colorbar=False)\n",
    "    a.set_title(t)\n",
    "cax = fig.add_axes([0.7,0.1,0.17,0.02])\n",
    "cb = fig.colorbar(mappable=cm.ScalarMappable(norm=mpl.colors.Normalize(vmin=-0.2,vmax=0.2),cmap=cmap),\n",
    "                      cax=cax,orientation='horizontal')\n",
    "\n",
    "fig.suptitle(main_t, fontsize=16)\n",
    "fig.text(0.198, 0.93, 'Last 30 years', va='center', fontsize=14, color='#c314cc')\n",
    "fig.text(0.471, 0.93, 'First 30 years', va='center', fontsize=14, color='#b56010')\n",
    "fig.text(0.7, 0.93, 'Last 30 years - First 30 years', va='center', fontsize=14, color='#0a9186')\n",
    "plt.savefig(snakemake.output.aod_varibility_map, dpi=144, bbox_inches='tight')"
   ]
  }
 ],
 "metadata": {
  "kernelspec": {
   "display_name": "Python 3 (ipykernel)",
   "language": "python",
   "name": "python3"
  },
  "language_info": {
   "codemirror_mode": {
    "name": "ipython",
    "version": 3
   },
   "file_extension": ".py",
   "mimetype": "text/x-python",
   "name": "python",
   "nbconvert_exporter": "python",
   "pygments_lexer": "ipython3",
   "version": "3.9.0"
  },
  "vscode": {
   "interpreter": {
    "hash": "5252e5327a2efbab7c42f5d52cb87d9bedc44c7d9d6a615ebff0e5d85896cfce"
   }
  }
 },
 "nbformat": 4,
 "nbformat_minor": 5
}
