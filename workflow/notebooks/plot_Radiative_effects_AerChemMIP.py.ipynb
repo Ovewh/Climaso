{
 "cells": [
  {
   "cell_type": "code",
   "execution_count": 2,
   "id": "32768c8f",
   "metadata": {},
   "outputs": [],
   "source": [
    "import xarray as xr\n",
    "import matplotlib.pyplot as plt\n",
    "import cartopy.crs as ccrs\n",
    "from workflow.scripts.plotting_tools import global_map, create_facet_plot\n",
    "from pyclim_noresm.general_util_funcs import global_avg\n",
    "import numpy as np\n",
    "import matplotlib as mpl\n",
    "import pandas as pd"
   ]
  },
  {
   "cell_type": "code",
   "execution_count": 3,
   "id": "c0a7c848-9426-4e04-bda4-49354ee3c747",
   "metadata": {},
   "outputs": [],
   "source": [
    "paths = sorted(snakemake.input.paths)\n",
    "vname = snakemake.wildcards.vName"
   ]
  },
  {
   "cell_type": "code",
   "execution_count": 4,
   "id": "eb957918",
   "metadata": {},
   "outputs": [],
   "source": [
    "erfs = {}\n",
    "erfs['mean'] = {}\n",
    "erfs['std'] = {}\n",
    "for path in paths:\n",
    "    ds = xr.open_dataset(path)\n",
    "    source = ds.parent_source_id\n",
    "    ts = ds.mean(dim='year')\n",
    "    ts = global_avg(ts[vname])\n",
    "    std = global_avg(ds[vname])\n",
    "    std = std.std(dim='year')\n",
    "\n",
    "    erfs['mean'][source] = ts.values\n",
    "    erfs['std'][source] = std.values\n",
    "    "
   ]
  },
  {
   "cell_type": "code",
   "execution_count": 5,
   "id": "bf6d0c4c",
   "metadata": {},
   "outputs": [],
   "source": [
    "df = pd.DataFrame(erfs['mean'],index=['mean'])\n",
    "df.loc['mean','Multi-model'] = df.loc['mean',:].mean()\n",
    "df = df.transpose()\n",
    "vmax=round(abs(df.loc[:,'mean']).max()+0.1,1)"
   ]
  },
  {
   "cell_type": "code",
   "execution_count": 6,
   "id": "4a13368b-2860-454b-a45d-455a517b9aca",
   "metadata": {},
   "outputs": [],
   "source": [
    "dsets = {}\n",
    "for path in paths:\n",
    "    ds = xr.open_dataset(path)\n",
    "    source_id = ds.parent_source_id\n",
    "    ds = ds[snakemake.wildcards.vName].mean(dim='year',keep_attrs=True).to_dataset(name=f'{source_id}')\n",
    "    dsets[source_id]=ds\n",
    "    \n",
    "if vname in ['LWDirectEff','LWDirectEff_cs']:\n",
    "    cvmin=-2\n",
    "    cvmax=2\n",
    "else:\n",
    "    cvmin=-5\n",
    "    cvmax=5\n",
    "     "
   ]
  },
  {
   "cell_type": "code",
   "execution_count": 7,
   "id": "5a991e05",
   "metadata": {},
   "outputs": [],
   "source": [
    "fig,ax = create_facet_plot(len(paths)+1,\n",
    "                            subplot_kw={'projection':ccrs.PlateCarree()}, \n",
    "                            figsize=(14,12), last_axis_plain=True)\n",
    "for k, i in zip(list(ax.keys())[:-1], dsets.keys()):\n",
    "    dsets[i][i].plot.contourf(ax=ax[k],levels=np.linspace(cvmin,cvmax,11),cmap='RdYlBu_r', add_colorbar=False)\n",
    "    ax[k].set_title(i)\n",
    "    global_map(ax[k])\n",
    "cax = fig.add_axes([0.94,0.39,0.02,0.47])\n",
    "cmap = mpl.cm.RdYlBu_r\n",
    "last = list(ax.keys())[-1]\n",
    "df.plot.barh(ax=ax[last], legend=False)\n",
    "ax[last].axvline(color='darkgrey')\n",
    "ax[last].set_xlim(-(vmax+vmax*0.5),(vmax+vmax*0.5))\n",
    "ax[last].set_xlabel('$W/m^2$')\n",
    "ax[last].yaxis.tick_right()\n",
    "fig.colorbar(mpl.cm.ScalarMappable(mpl.colors.BoundaryNorm(np.linspace(cvmin,cvmax,11),cmap.N),cmap), cax=cax, extend='both', \n",
    "             label='$W/m^2$')\n",
    "plt.savefig(snakemake.output.outpath, bbox_inches='tight', facecolor='white', dpi=144)"
   ]
  }
 ],
 "metadata": {
  "kernelspec": {
   "display_name": "dustysnake",
   "language": "python",
   "name": "dustysnake"
  },
  "language_info": {
   "codemirror_mode": {
    "name": "ipython",
    "version": 3
   },
   "file_extension": ".py",
   "mimetype": "text/x-python",
   "name": "python",
   "nbconvert_exporter": "python",
   "pygments_lexer": "ipython3",
   "version": "3.9.0"
  }
 },
 "nbformat": 4,
 "nbformat_minor": 5
}
