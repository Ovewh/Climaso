{
 "cells": [
  {
   "cell_type": "code",
   "execution_count": 2,
   "id": "373b8a89",
   "metadata": {},
   "outputs": [],
   "source": [
    "import pandas as pd\n",
    "from scipy import stats\n",
    "import numpy as np\n",
    "from itertools import product\n",
    "import matplotlib.pyplot as plt"
   ]
  },
  {
   "cell_type": "code",
   "execution_count": 3,
   "id": "e10e0b05",
   "metadata": {},
   "outputs": [],
   "source": [
    "df = pd.read_csv(snakemake.input[0], index_col=0)\n",
    "\n",
    "df_decomp = df[['CloudEff','DirectEff']]\n",
    "\n",
    "df_decomp['residual'] = df.loc[:,'ERFt'] - df.loc[:,'CloudEff'] - df.loc[:,'DirectEff']\n",
    "\n",
    "df_decomp = df_decomp.dropna()\n",
    "\n",
    "df_decomp = df_decomp.drop('Multi-model', axis=0)"
   ]
  },
  {
   "cell_type": "code",
   "execution_count": 4,
   "id": "2c9feb0d",
   "metadata": {},
   "outputs": [],
   "source": [
    "combinations = list(product(df_decomp['CloudEff'], df_decomp['DirectEff'],df_decomp['residual']))\n",
    "            \n",
    "erf = np.zeros(len(combinations))\n",
    "\n",
    "for i,c in enumerate(combinations):\n",
    "    erf[i] = sum(c)\n",
    "\n",
    "erf=np.concatenate((erf,df.loc[~df.index.isin(df_decomp.index)]['ERFt'].values))\n",
    "\n",
    "erf = (erf,)\n",
    "\n",
    "boot_strap_ci = stats.bootstrap(erf, np.mean,method='basic')\n",
    "\n",
    "boot_strap_ci.confidence_interval"
   ]
  },
  {
   "cell_type": "code",
   "execution_count": 5,
   "id": "3b79e35e",
   "metadata": {},
   "outputs": [],
   "source": [
    "results = {}\n",
    "results['ERFt'] = {}\n",
    "results['ERFt']['mean'] = erf[0].mean()\n",
    "results['ERFt']['ci_low'] = boot_strap_ci.confidence_interval.low\n",
    "results['ERFt']['ci_high'] = boot_strap_ci.confidence_interval.high\n"
   ]
  },
  {
   "cell_type": "code",
   "execution_count": 9,
   "id": "be4c4e96",
   "metadata": {},
   "outputs": [],
   "source": [
    "fig = plt.figure(figsize=(10,6))\n",
    "pd.plotting.bootstrap_plot(pd.Series(erf[0]), fig=fig);"
   ]
  },
  {
   "cell_type": "code",
   "execution_count": 10,
   "id": "9f7115dd",
   "metadata": {},
   "outputs": [],
   "source": [
    "combinations_feedbacks = list(product(df['feedback_tot_dCdT'].dropna(),df['feedback_tot_dFdC'].dropna()))"
   ]
  },
  {
   "cell_type": "code",
   "execution_count": 11,
   "id": "3385ecf7",
   "metadata": {},
   "outputs": [],
   "source": [
    "feedbacks = np.zeros(len(combinations_feedbacks))\n",
    "for i, c in enumerate(combinations_feedbacks):\n",
    "    feedbacks[i] = c[0]*c[1]"
   ]
  },
  {
   "cell_type": "code",
   "execution_count": 13,
   "id": "a69370b5",
   "metadata": {},
   "outputs": [],
   "source": [
    "df['feedback_tot_dCdT'].dropna()"
   ]
  },
  {
   "cell_type": "code",
   "execution_count": 9,
   "id": "e48a29a9",
   "metadata": {},
   "outputs": [],
   "source": [
    "boot_strap_feedback= stats.bootstrap((feedbacks,),np.mean,method='basic')"
   ]
  },
  {
   "cell_type": "code",
   "execution_count": 10,
   "id": "e4e82923",
   "metadata": {},
   "outputs": [],
   "source": [
    "results['alpha']={}\n",
    "results['alpha']['mean'] = feedbacks.mean()\n",
    "results['alpha']['ci_low'] = boot_strap_feedback.confidence_interval.low\n",
    "results['alpha']['ci_high'] = boot_strap_feedback.confidence_interval.high"
   ]
  },
  {
   "cell_type": "code",
   "execution_count": 11,
   "id": "09f9732e",
   "metadata": {},
   "outputs": [],
   "source": [
    "alpha_series=pd.Series(feedbacks,name='Feedback parameter')"
   ]
  },
  {
   "cell_type": "code",
   "execution_count": 12,
   "id": "05cbebca",
   "metadata": {},
   "outputs": [],
   "source": [
    "fig = plt.figure(figsize=(10,6))\n",
    "pd.plotting.bootstrap_plot(alpha_series, fig=fig);"
   ]
  },
  {
   "cell_type": "code",
   "execution_count": 13,
   "id": "90544a6d",
   "metadata": {},
   "outputs": [],
   "source": [
    "pd.DataFrame(results).to_csv(snakemake.output.outpath)"
   ]
  },
  {
   "cell_type": "code",
   "execution_count": 33,
   "id": "ec4c8c88",
   "metadata": {},
   "outputs": [],
   "source": [
    "fig ,(ax,axt) = plt.subplots(ncols =2, figsize=(8,4))\n",
    "ax.boxplot(erf[0],bootstrap=10000, showmeans=True, flierprops={\"marker\": \"x\"}, notch=True, whis=[5, 95])\n",
    "# axt = ax.twinx()\n",
    "axt.boxplot(feedbacks, bootstrap=10000, showmeans=True, flierprops={\"marker\": \"x\"}, notch=True, whis=[5, 95])\n",
    "axt.xaxis.set_ticklabels(['Dust Feedback paramter'],fontsize=12)\n",
    "ax.xaxis.set_ticklabels(['DRE'],fontsize=12)\n",
    "axt.yaxis.set_ticks_position('right')\n",
    "fig.suptitle('Dust forcing and Feedback parameter',fontsize=16)\n",
    "ax.set_ylabel('$W/m^2$',fontsize=12)\n",
    "# axt.set_ylabel()\n",
    "axt.yaxis.set_label_text('$W/m^2 K$', fontsize=12)\n",
    "axt.yaxis.set_label_position('right')\n",
    "axt.set_ylim(-0.1, 0.1)\n",
    "ax.set_ylim(-0.7, 0.7)\n",
    "ax.text(0.05, 0.92, f'Mean: {results[\"ERFt\"][\"mean\"]:.3f} W m-2 [{results[\"ERFt\"][\"ci_low\"]:.3f},{results[\"ERFt\"][\"ci_high\"]:.3f}]', \n",
    "        transform=ax.transAxes)\n",
    "axt.text(0.05, 0.92, f'Mean: {results[\"alpha\"][\"mean\"]:.3f} W m-2 [{results[\"alpha\"][\"ci_low\"]:.3f},{results[\"alpha\"][\"ci_high\"]:.3f}]', \n",
    "        transform=axt.transAxes)\n",
    "plt.savefig(snakemake.output.outplot, dpi=144, bbox_inches='tight')"
   ]
  }
 ],
 "metadata": {
  "kernelspec": {
   "display_name": "Python 3 (ipykernel)",
   "language": "python",
   "name": "python3"
  },
  "language_info": {
   "codemirror_mode": {
    "name": "ipython",
    "version": 3
   },
   "file_extension": ".py",
   "mimetype": "text/x-python",
   "name": "python",
   "nbconvert_exporter": "python",
   "pygments_lexer": "ipython3",
   "version": "3.9.0"
  },
  "vscode": {
   "interpreter": {
    "hash": "5252e5327a2efbab7c42f5d52cb87d9bedc44c7d9d6a615ebff0e5d85896cfce"
   }
  }
 },
 "nbformat": 4,
 "nbformat_minor": 5
}
