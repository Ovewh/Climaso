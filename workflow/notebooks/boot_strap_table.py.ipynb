{
 "cells": [
  {
   "cell_type": "code",
   "execution_count": 2,
   "id": "373b8a89",
   "metadata": {},
   "outputs": [],
   "source": [
    "import pandas as pd\n",
    "from scipy import stats\n",
    "import numpy as np\n",
    "from itertools import product\n",
    "import matplotlib.pyplot as plt"
   ]
  },
  {
   "cell_type": "code",
   "execution_count": 3,
   "id": "e10e0b05",
   "metadata": {},
   "outputs": [],
   "source": [
    "df = pd.read_csv(snakemake.input[0], index_col=0)\n",
    "\n",
    "df_decomp = df[['CloudEff','DirectEff']]\n",
    "\n",
    "df_decomp['residual'] = df.loc[:,'ERFt'] - df.loc[:,'CloudEff'] - df.loc[:,'DirectEff']\n",
    "\n",
    "df_decomp = df_decomp.dropna()\n",
    "\n",
    "df_decomp = df_decomp.drop('Multi-model', axis=0)"
   ]
  },
  {
   "cell_type": "code",
   "execution_count": 4,
   "id": "2c9feb0d",
   "metadata": {},
   "outputs": [],
   "source": [
    "combinations = list(product(df_decomp['CloudEff'], df_decomp['DirectEff'],df_decomp['residual']))\n",
    "            \n",
    "erf = np.zeros(len(combinations))\n",
    "\n",
    "for i,c in enumerate(combinations):\n",
    "    erf[i] = sum(c)\n",
    "\n",
    "erf=np.concatenate((erf,df.loc[~df.index.isin(df_decomp.index)]['ERFt'].values))\n",
    "\n",
    "erf = (erf,)\n",
    "\n",
    "boot_strap_ci = stats.bootstrap(erf, np.mean,method='basic')\n",
    "\n",
    "boot_strap_ci.confidence_interval"
   ]
  },
  {
   "cell_type": "code",
   "execution_count": 5,
   "id": "3b79e35e",
   "metadata": {},
   "outputs": [],
   "source": [
    "results = {}\n",
    "results['ERFt'] = {}\n",
    "results['ERFt']['mean'] = erf[0].mean()\n",
    "results['ERFt']['ci_low'] = boot_strap_ci.confidence_interval.low\n",
    "results['ERFt']['ci_high'] = boot_strap_ci.confidence_interval.high\n"
   ]
  },
  {
   "cell_type": "code",
   "execution_count": 22,
   "id": "be4c4e96",
   "metadata": {},
   "outputs": [],
   "source": [
    "fig = plt.figure(figsize=(10,6))\n",
    "pd.plotting.bootstrap_plot(pd.Series(erf[0]), fig=fig);"
   ]
  },
  {
   "cell_type": "code",
   "execution_count": 6,
   "id": "9f7115dd",
   "metadata": {},
   "outputs": [],
   "source": [
    "combinations_feedbacks = list(product(df['feedback_tot_dCdT'].dropna(),df['feedback_tot_dFdC'].dropna()))"
   ]
  },
  {
   "cell_type": "code",
   "execution_count": 7,
   "id": "3385ecf7",
   "metadata": {},
   "outputs": [],
   "source": [
    "feedbacks = np.zeros(len(combinations_feedbacks))\n",
    "for i, c in enumerate(combinations_feedbacks):\n",
    "    feedbacks[i] = c[0]*c[1]"
   ]
  },
  {
   "cell_type": "code",
   "execution_count": 8,
   "id": "e48a29a9",
   "metadata": {},
   "outputs": [],
   "source": [
    "boot_strap_feedback= stats.bootstrap((feedbacks,),np.mean,method='basic')"
   ]
  },
  {
   "cell_type": "code",
   "execution_count": 9,
   "id": "e4e82923",
   "metadata": {},
   "outputs": [],
   "source": [
    "results['alpha']={}\n",
    "results['alpha']['mean'] = feedbacks.mean()\n",
    "results['alpha']['ci_low'] = boot_strap_feedback.confidence_interval.low\n",
    "results['alpha']['ci_high'] = boot_strap_feedback.confidence_interval.high"
   ]
  },
  {
   "cell_type": "code",
   "execution_count": 12,
   "id": "09f9732e",
   "metadata": {},
   "outputs": [],
   "source": [
    "alpha_series=pd.Series(feedbacks,name='Feedback parameter')"
   ]
  },
  {
   "cell_type": "code",
   "execution_count": 20,
   "id": "05cbebca",
   "metadata": {},
   "outputs": [],
   "source": [
    "fig = plt.figure(figsize=(10,6))\n",
    "pd.plotting.bootstrap_plot(alpha_series, fig=fig);"
   ]
  },
  {
   "cell_type": "code",
   "execution_count": 236,
   "id": "90544a6d",
   "metadata": {},
   "outputs": [],
   "source": [
    "pd.DataFrame(results).to_csv(snakemake.output.outpath)"
   ]
  },
  {
   "cell_type": "code",
   "execution_count": 234,
   "id": "ec4c8c88",
   "metadata": {},
   "outputs": [],
   "source": [
    "fig ,(ax,axt) = plt.subplots(ncols =2, figsize=(8,4))\n",
    "ax.boxplot(erf[0],bootstrap=10000,whis=0.75, showmeans=True)\n",
    "# axt = ax.twinx()\n",
    "axt.boxplot(feedbacks, bootstrap=10000,whis=0.75, showmeans=True)\n",
    "axt.xaxis.set_ticklabels(['Feedback paramter'])\n",
    "ax.xaxis.set_ticklabels(['Forcing'])\n",
    "axt.yaxis.set_ticks_position('right')\n",
    "fig.suptitle('Dust forcing and Feedback parameter')\n",
    "ax.set_ylabel('$W/m^2$')\n",
    "# axt.set_ylabel()\n",
    "axt.yaxis.set_label_text('$W/m^2 K$')\n",
    "axt.yaxis.set_label_position('right')\n",
    "plt.savefig(snakemake.output.outplot)"
   ]
  }
 ],
 "metadata": {
  "kernelspec": {
   "display_name": "Python 3 (ipykernel)",
   "language": "python",
   "name": "python3"
  },
  "language_info": {
   "codemirror_mode": {
    "name": "ipython",
    "version": 3
   },
   "file_extension": ".py",
   "mimetype": "text/x-python",
   "name": "python",
   "nbconvert_exporter": "python",
   "pygments_lexer": "ipython3",
   "version": "3.9.0"
  }
 },
 "nbformat": 4,
 "nbformat_minor": 5
}
