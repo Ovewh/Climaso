{
 "cells": [
  {
   "cell_type": "code",
   "execution_count": 2,
   "id": "6fd1a2c0",
   "metadata": {},
   "outputs": [],
   "source": [
    "import xarray as xr\n",
    "import matplotlib.pyplot as plt\n",
    "import cartopy.crs as ccrs\n",
    "import matplotlib as mpl\n",
    "import matplotlib.cm as cm\n",
    "import scipy.stats as stats"
   ]
  },
  {
   "cell_type": "code",
   "execution_count": 3,
   "id": "2428830a",
   "metadata": {},
   "outputs": [],
   "source": [
    "def read_data(path):\n",
    "    dsets = []\n",
    "    for p in path:\n",
    "        dsets.append(xr.open_dataset(p))\n",
    "    return xr.merge(dsets)\n"
   ]
  },
  {
   "cell_type": "code",
   "execution_count": 19,
   "id": "90782877",
   "metadata": {},
   "outputs": [],
   "source": [
    "data = read_data(snakemake.input)\n",
    "windSfc = data['sfcWind'].isel(time=slice(-30, None))\n",
    "aod = data['od550aer'].isel(time=slice(-30, None))\n",
    "dod = data['od550dust'].isel(time=slice(-30, None))\n",
    "emidust = data['emidust'].isel(time=slice(-30, None))"
   ]
  },
  {
   "cell_type": "code",
   "execution_count": 8,
   "id": "110b55c3",
   "metadata": {},
   "outputs": [],
   "source": [
    "aod_EA = aod.sel(lon=slice(110,122.5),lat=slice(20,45)).mean(dim=['lon','lat'])\n",
    "aod_dust = dod.sel(lon=slice(110,122.5),lat=slice(20,45)).mean(dim=['lon','lat'])\n",
    "wind_EA = windSfc.sel(lon=slice(110,122.5),lat=slice(20,45)).mean(dim=['lon','lat'])\n",
    "emidust_ea "
   ]
  },
  {
   "cell_type": "code",
   "execution_count": 63,
   "id": "c1426ba8",
   "metadata": {},
   "outputs": [],
   "source": [
    "fig,ax = plt.subplots(subplot_kw={'projection':ccrs.PlateCarree()})\n",
    "cmap = cm.get_cmap('bwr',11)\n",
    "xr.corr(aod_EA, windSfc,dim='time').plot(ax=ax, transform=ccrs.PlateCarree(), cmap= cmap, vmin=-1, vmax=1)\n",
    "ax.coastlines()\n",
    "gl = ax.gridlines()\n",
    "gl.bottom_labels=True\n",
    "gl.left_labels=True\n",
    "ax.set_extent([60,160,20,70])"
   ]
  },
  {
   "cell_type": "code",
   "execution_count": 40,
   "id": "9037f15a",
   "metadata": {},
   "outputs": [],
   "source": [
    "windSfc_start = data['sfcWind'].isel(time=slice(None,30))\n",
    "aod_start = data['od550aer'].isel(time=slice(None,30))\n",
    "dod_start = data['od550dust'].isel(time=slice(None,30))\n",
    "aod_EA_start = aod_start.sel(lon=slice(90,130),lat=slice(15,45)).mean(dim=['lon','lat'])\n"
   ]
  },
  {
   "cell_type": "code",
   "execution_count": null,
   "id": "f2d24f30",
   "metadata": {},
   "outputs": [],
   "source": []
  },
  {
   "cell_type": "code",
   "execution_count": 62,
   "id": "04c1ec83",
   "metadata": {},
   "outputs": [],
   "source": [
    "fig,ax = plt.subplots(figsize=(12,4),subplot_kw={'projection':ccrs.PlateCarree()}, ncols =2)\n",
    "cmap = cm.get_cmap('YlOrBr',11)\n",
    "cmap.set_under('k', alpha=0.0)\n",
    "dod.std(dim='time').plot(ax=ax[0], transform=ccrs.PlateCarree(), cmap= cmap,vmin=.005,add_colorbar=False, \n",
    "                         vmax=0.3)\n",
    "ax[0].coastlines()\n",
    "gl = ax[0].gridlines()\n",
    "gl.bottom_labels=True\n",
    "gl.left_labels=True\n",
    "ax[0].set_extent([60,160,20,70])\n",
    "q = dod_start.std(dim='time').plot(ax=ax[1], transform=ccrs.PlateCarree(), cmap= cmap,vmin=.005, \n",
    "                               vmax=0.3, add_colorbar=False)\n",
    "ax[1].coastlines()\n",
    "gl = ax[1].gridlines()\n",
    "gl.bottom_labels=True\n",
    "gl.left_labels=True\n",
    "ax[1].set_extent([60,160,20,70])\n",
    "cax = fig.add_axes([0.3,0.02,0.42,0.05])\n",
    "fig.colorbar(q,cax=cax, orientation='horizontal', extend='min')\n",
    "ax[0].set_title('Last 30 years')\n",
    "ax[1].set_title('First 30 years')"
   ]
  },
  {
   "cell_type": "code",
   "execution_count": 41,
   "id": "b2b7cd27",
   "metadata": {},
   "outputs": [],
   "source": [
    "fig,ax = plt.subplots(subplot_kw={'projection':ccrs.PlateCarree()})\n",
    "cmap = cm.get_cmap('YlOrBr',11)\n",
    "cmap.set_under('k', alpha=0.0)\n",
    "dod_start.std(dim='time').plot(ax=ax, transform=ccrs.PlateCarree(), cmap= cmap,vmin=.001, vmax=0.3)\n",
    "ax.coastlines()\n",
    "gl = ax.gridlines()\n",
    "gl.bottom_labels=True\n",
    "gl.left_labels=True\n",
    "ax.set_extent([60,160,20,70])"
   ]
  },
  {
   "cell_type": "code",
   "execution_count": 16,
   "id": "f7a0a96b",
   "metadata": {},
   "outputs": [],
   "source": [
    "fig,ax = plt.subplots()\n",
    "ax.plot(aod_EA_start.values)\n",
    "ax.plot(aod_EA.values)"
   ]
  },
  {
   "cell_type": "code",
   "execution_count": 17,
   "id": "53829191",
   "metadata": {},
   "outputs": [],
   "source": [
    "fig,ax = plt.subplots(subplot_kw={'projection':ccrs.PlateCarree()})\n",
    "cmap = cm.get_cmap('bwr',11)\n",
    "xr.corr(aod_EA_start, windSfc_start,dim='time').plot(ax=ax, transform=ccrs.PlateCarree(), cmap= cmap, vmin=-1, vmax=1)\n",
    "ax.coastlines()\n",
    "gl = ax.gridlines()\n",
    "gl.bottom_labels=True\n",
    "gl.left_labels=True\n",
    "ax.set_extent([60,160,20,70])"
   ]
  }
 ],
 "metadata": {
  "kernelspec": {
   "display_name": "Python 3 (ipykernel)",
   "language": "python",
   "name": "python3"
  },
  "language_info": {
   "codemirror_mode": {
    "name": "ipython",
    "version": 3
   },
   "file_extension": ".py",
   "mimetype": "text/x-python",
   "name": "python",
   "nbconvert_exporter": "python",
   "pygments_lexer": "ipython3",
   "version": "3.9.0"
  }
 },
 "nbformat": 4,
 "nbformat_minor": 5
}
