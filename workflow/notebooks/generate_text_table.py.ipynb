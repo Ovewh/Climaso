{
 "cells": [
  {
   "cell_type": "code",
   "execution_count": 2,
   "id": "787a4248",
   "metadata": {},
   "outputs": [],
   "source": [
    "\n",
    "import xarray as xr\n",
    "import pandas as pd\n",
    "from pyclim_noresm.general_util_funcs import global_avg                             \n",
    "from workflow.scripts.utils import (calculate_CI, diff_means_greater_than_varability, \n",
    "                                    masked_average, t_test_diff_sample_means)\n",
    "import numpy as np\n",
    "import yaml\n",
    "import dataframe_image as dfi\n",
    "from functools import partial\n",
    "from scipy.stats import ttest_ind, t\n",
    "import re"
   ]
  },
  {
   "cell_type": "code",
   "execution_count": 9,
   "id": "d0afdbb0",
   "metadata": {},
   "outputs": [],
   "source": [
    "def create_dict(paths_ctrl, paths_exp):\n",
    "    \"\"\"\n",
    "    Create a dictionary with the paths to the control and experiment\n",
    "    \"\"\"\n",
    "    paths = {path.split('/')[-1].split('_')[0] : {} for path in paths_ctrl}\n",
    "\n",
    "    for var in paths:\n",
    "        paths[var]['ctrl'] = [path for path in paths_ctrl if re.search(var+'_', path)][0]\n",
    "        paths[var]['exp'] = [path for path in paths_exp if re.search(var+'_', path)][0]\n",
    "\n",
    "    return paths"
   ]
  },
  {
   "cell_type": "code",
   "execution_count": 10,
   "id": "02f332d9",
   "metadata": {},
   "outputs": [],
   "source": [
    "paths_exp = snakemake.input.experiments_diags + snakemake.input.exp_derived_diag\n",
    "paths_ctrl = snakemake.input.control_diags + snakemake.input.control_derived_diag\n",
    "\n",
    "paths = create_dict(paths_ctrl, paths_exp)\n",
    "\n",
    "areacello = xr.open_dataset(snakemake.input.get('areacello','workflow/input_data/common_grid.nc'))\n",
    "\n",
    "if \"mask\" in snakemake.input:\n",
    "    mask = xr.open_dataset(snakemake.input.mask)\n",
    "else:\n",
    "    mask=None\n",
    "\n",
    "paths_erfs = {path.split('/')[-1].split('_')[0] : path for path in snakemake.input.erfs}\n",
    "time_slice = snakemake.params.get('time_slice', slice(0,None))\n",
    "CI_alpha = snakemake.params.get('CI_alpha', 0.05)"
   ]
  },
  {
   "cell_type": "code",
   "execution_count": 21,
   "id": "9cd700da",
   "metadata": {},
   "outputs": [],
   "source": [
    "diff={}\n",
    "ctrl={}\n",
    "exp={}\n",
    "meta_data = pd.DataFrame(index=['units','description','greater_than_variability',\n",
    "                                'CI_low','CI_high','CI_alpha','pval', 'tval', 'diff_significant','ctrl_mean', \n",
    "                                'exp_mean'],\n",
    "                         columns=list(paths.keys())+ list(paths_erfs.keys()))\n",
    "experiment_meta_data = {}\n",
    "for var, pathdict in paths.items():\n",
    "\n",
    "    ds_ctrl = xr.open_dataset(pathdict['ctrl']).isel(time=time_slice)\n",
    "    ds_exp = xr.open_dataset(pathdict['exp']).isel(time=time_slice)\n",
    "\n",
    "    da_ctrl = ds_ctrl[var]\n",
    "    da_exp = ds_exp[var]\n",
    "    units = da_exp.units\n",
    "    meta_data[var]['units'] = units\n",
    "\n",
    "    expTs = masked_average(da_exp, mask,areacello['cell_area'], dim=['lon','lat'])\n",
    "    ctrlTs=masked_average(da_ctrl, mask,areacello['cell_area'],dim=['lon','lat'])\n",
    "    diff[var] = expTs-ctrlTs\n",
    "    ctrl[var] = ctrlTs\n",
    "    exp[var] = expTs\n",
    "\n",
    "    meta_data[var]['greater_than_variability'] = diff_means_greater_than_varability(expTs, ctrlTs, mask, areacello['cell_area']).values\n",
    "    \n",
    "    CI_low, CI_high, _ = calculate_CI(expTs, ctrlTs, mask=mask, weights=areacello['cell_area'])\n",
    "    meta_data[var]['CI_low'] = CI_low.values\n",
    "    meta_data[var]['CI_high'] = CI_high.values\n",
    "    meta_data[var]['CI_alpha'] = CI_alpha    \n",
    "    meta_data[var]['description'] = da_exp.long_name\n",
    "    meta_data[var]['ctrl_mean'] = ctrlTs.mean().values\n",
    "    meta_data[var]['exp_mean'] = expTs.mean().values\n",
    "    t_value, p_value, _ = t_test_diff_sample_means(expTs, ctrlTs, mask=mask, weights=areacello['cell_area'])\n",
    "    meta_data[var]['pval'] = p_value\n",
    "    meta_data[var]['tval'] = t_value\n",
    "    meta_data[var]['diff_significant'] = p_value < CI_alpha\n",
    "\n",
    "    \n",
    "experiment_meta_data['total_area'] = float(areacello['cell_area'].sum(dim=['lon','lat']))\n",
    "experiment_meta_data['total_area_units'] = 'm^2'\n",
    "experiment_meta_data['source_id'] = snakemake.wildcards.model\n",
    "experiment_meta_data['experiment_id'] = 'piClim-2xdust'\n",
    "experiment_meta_data['control_id'] = 'piClim-control'\n",
    "experiment_meta_data['time_slice'] = [time_slice.start, time_slice.stop]\n",
    "experiment_meta_data['nyear'] = len(ctrlTs)\n",
    "experiment_meta_data['member_id_ctrl'] = ds_ctrl.attrs['variant_label']\n",
    "experiment_meta_data['member_id_exp'] = ds_exp.attrs['variant_label']"
   ]
  },
  {
   "cell_type": "code",
   "execution_count": 22,
   "id": "686cda0d",
   "metadata": {},
   "outputs": [],
   "source": [
    "\n",
    "ctrl = pd.DataFrame(ctrl)\n",
    "exp = pd.DataFrame(exp)\n",
    "exp.to_csv(snakemake.output.exp)\n",
    "ctrl.to_csv(snakemake.output.ctrl)"
   ]
  },
  {
   "cell_type": "code",
   "execution_count": 24,
   "id": "018aa290",
   "metadata": {},
   "outputs": [],
   "source": [
    "for erf, path in paths_erfs.items():\n",
    "    temp = xr.open_dataset(path)\n",
    "    meta_data[erf]['units'] = temp[erf].units\n",
    "    meta_data[erf]['description'] = temp[erf].long_name\n",
    "    if 'year' in temp.dims:\n",
    "        temp = temp.rename_dims({'year':'time'})\n",
    "    temp = temp.sel(time=time_slice)\n",
    "    temp = masked_average(temp[erf], mask, areacello['cell_area'], dim=['lon','lat'])\n",
    "    diff[erf] = temp.values "
   ]
  },
  {
   "cell_type": "code",
   "execution_count": null,
   "id": "24aa09e6",
   "metadata": {},
   "outputs": [],
   "source": [
    "diff = pd.DataFrame(diff)\n",
    "diff.to_csv(snakemake.output.diff)\n",
    "meta_data.to_csv(snakemake.output.metadata)\n",
    "\n",
    "with open(snakemake.output.info_yaml, 'w') as of: \n",
    "    yaml.safe_dump(experiment_meta_data,of,default_flow_style=False)"
   ]
  }
 ],
 "metadata": {
  "kernelspec": {
   "display_name": "Python 3 (ipykernel)",
   "language": "python",
   "name": "python3"
  },
  "language_info": {
   "codemirror_mode": {
    "name": "ipython",
    "version": 3
   },
   "file_extension": ".py",
   "mimetype": "text/x-python",
   "name": "python",
   "nbconvert_exporter": "python",
   "pygments_lexer": "ipython3",
   "version": "3.10.2"
  }
 },
 "nbformat": 4,
 "nbformat_minor": 5
}
