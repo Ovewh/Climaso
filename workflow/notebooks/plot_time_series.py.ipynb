{
 "cells": [
  {
   "cell_type": "code",
   "execution_count": 2,
   "id": "b42da56b",
   "metadata": {},
   "outputs": [],
   "source": [
    "import xarray as xr\n",
    "import matplotlib.pyplot as plt\n",
    "from pyclim_noresm.general_util_funcs import global_avg\n",
    "import pandas as pd\n",
    "from matplotlib.ticker import (MultipleLocator, FormatStrFormatter,\n",
    "                               AutoMinorLocator)\n",
    "import matplotlib as mpl\n",
    "from workflow.scripts.utils import calc_relative_change, calc_abs_change\n",
    "import numpy as np"
   ]
  },
  {
   "cell_type": "code",
   "execution_count": 3,
   "id": "fc29475f",
   "metadata": {},
   "outputs": [],
   "source": [
    "time_slice = snakemake.params.get('time_slice',slice(None,None))\n",
    "start_year = snakemake.params.get('start_year',1950)\n",
    "\n",
    "paths = sorted(snakemake.input.paths)\n",
    "vname = snakemake.wildcards.vName\n",
    "params = snakemake.params\n",
    "scaling_dict = snakemake.config['variable_scalings'].get(vname,None)\n",
    "minmax = params.get('minmax',None)\n",
    "nmodels = len(paths)\n",
    "if minmax:\n",
    "    maxv=minmax[1]\n",
    "    minv=minmax[0]"
   ]
  },
  {
   "cell_type": "code",
   "execution_count": 22,
   "id": "c4619504",
   "metadata": {},
   "outputs": [],
   "source": [
    "dsets = {}\n",
    "for path in paths:\n",
    "\n",
    "    ds = xr.open_dataset(path)\n",
    "    source_id = ds.source_id\n",
    "   \n",
    "    if 'year' in ds.dims:\n",
    "        ds = ds.rename({'year':'time'})\n",
    "\n",
    "    with xr.set_options(keep_attrs=True):\n",
    "        ds=ds.assign(time=ds.time.dt.year)\n",
    "        ts = global_avg(ds)\n",
    "    dsets[source_id] = ts[vname].to_pandas()\n",
    "    #time=ds.time.values\n",
    "\n",
    "df=pd.DataFrame(dsets)\n",
    "if start_year:\n",
    "    df = df.loc[start_year:,:]\n",
    "\n",
    "\n",
    "label = params.get('label', ds[vname].long_name)\n",
    "\n",
    "if scaling_dict:\n",
    "    units = scaling_dict['units']\n",
    "else:\n",
    "    units = params.get('units', ds[vname].units)\n",
    "if len(label.split(' ')) > 3:\n",
    "    label = ' '.join(label.split(' ')[:3]) + '\\n' + ' '.join(label.split(' ')[3:])\n",
    "\n",
    "label = f'{label} \\n {units}'"
   ]
  },
  {
   "cell_type": "code",
   "execution_count": 40,
   "id": "e02f539f",
   "metadata": {},
   "outputs": [],
   "source": [
    "fig, axes = plt.subplots(nrows=nmodels,figsize=(10,6), sharex=True)\n",
    "cycler = mpl.cycler(color=[\"#1845fb\", \"#ff5e02\", \"#c91f16\", \"#c849a9\", \"#adad7d\", \"#86c8dd\", \"#578dff\", \"#656364\"])\n",
    "\n",
    "for ax,col,color in zip(axes,df.columns,cycler):\n",
    "    if np.all(df[col] >0) == False:\n",
    "        ax.axhline(y=0, color='k', linewidth=3.1)\n",
    "    df[col].plot(ax=ax, alpha = 0.3, \n",
    "       legend=False, color=color['color'])\n",
    "    for line in ax.lines: # put this before you call the 'mean' plot function.\n",
    "        line.set_label(s='')\n",
    "    df[col].rolling(5,center=True).mean().plot(ax=ax, \n",
    "                             linewidth=2.1, legend=False, color=color['color'])\n",
    "    #ax.yaxis.set_major_formatter(FormatStrFormatter('%.2e'))\n",
    "# ax.set_ylabel(f'$\\Delta ${vname} histSST histSST-piAer \\n W m-2, fontsize=14)\n",
    "    ax.set_ylabel(label, fontsize=10)\n",
    "    h,l = ax.get_legend_handles_labels()\n",
    "    ax.legend(fontsize=14)\n",
    "if minmax:\n",
    "    ax.set_ylim(minv,maxv)\n",
    "\n",
    "ax.xaxis.set_major_locator(MultipleLocator(5))\n",
    "ax.set_xlabel('')\n",
    "\n",
    "plt.yticks(fontsize=12)\n",
    "plt.xticks(fontsize=12)\n",
    "# plt.legend(fontsize=14)\n",
    "plt.savefig(snakemake.output.outpath, dpi=144, bbox_inches='tight')"
   ]
  }
 ],
 "metadata": {
  "kernelspec": {
   "display_name": "Python 3 (ipykernel)",
   "language": "python",
   "name": "python3"
  },
  "language_info": {
   "codemirror_mode": {
    "name": "ipython",
    "version": 3
   },
   "file_extension": ".py",
   "mimetype": "text/x-python",
   "name": "python",
   "nbconvert_exporter": "python",
   "pygments_lexer": "ipython3",
   "version": "3.9.0"
  }
 },
 "nbformat": 4,
 "nbformat_minor": 5
}
