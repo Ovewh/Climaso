{
 "cells": [
  {
   "cell_type": "code",
   "execution_count": 2,
   "id": "4cf202c7",
   "metadata": {},
   "outputs": [],
   "source": [
    "import matplotlib.pyplot as plt\n",
    "import xarray as xr\n",
    "import pandas as pd\n",
    "from pyclim_noresm.general_util_funcs import global_avg\n",
    "from workflow.scripts.utils import (calc_error, calc_abs_change,\n",
    "                                compute_annual_emission_budget) \n",
    "                                    \n",
    "import matplotlib\n",
    "import numpy as np\n",
    "import yaml\n",
    "import dataframe_image as dfi\n",
    "from functools import partial\n",
    "from scipy.stats import ttest_ind, t"
   ]
  },
  {
   "cell_type": "code",
   "execution_count": 3,
   "id": "7fefe586",
   "metadata": {},
   "outputs": [],
   "source": [
    "keys = list(snakemake.input.keys())\n",
    "timeslice = snakemake.params.get('time_slice', slice(3,-1))"
   ]
  },
  {
   "cell_type": "code",
   "execution_count": 4,
   "id": "c800e392",
   "metadata": {},
   "outputs": [],
   "source": [
    "exp_keys = sorted([k for k in keys if 'exp' in k.split('_')])\n",
    "ctrl_keys = sorted([k for k in keys if 'ctrl' in k.split('_')])\n",
    "remainingkeys = list(set(keys)-set(exp_keys+ctrl_keys+ ['areacello']))\n",
    "areapaths = {s.split('_')[2].split('.')[0] : s for s in snakemake.input['areacello']}"
   ]
  },
  {
   "cell_type": "code",
   "execution_count": 5,
   "id": "22b73f86",
   "metadata": {
    "scrolled": false
   },
   "outputs": [],
   "source": [
    "data={}\n",
    "error={}\n",
    "for exp_key, ctrl_key in zip(exp_keys,ctrl_keys):\n",
    "    exp_paths = sorted(snakemake.input[exp_key])\n",
    "    ctrl_paths = sorted(snakemake.input[ctrl_key])\n",
    "    vname = xr.open_dataset(exp_paths[0]).variable_id\n",
    "    models = [pst.split('_')[-2].split('.')[0] for pst in exp_paths]\n",
    "    if 'emidust' in exp_key.split('_') or 'concdust' in exp_key.split('_'):\n",
    "        iterator = zip(exp_paths, ctrl_paths, models)\n",
    "    else:\n",
    "        iterator = zip(exp_paths, ctrl_paths)\n",
    "    data[vname] = {}\n",
    "    error[vname] = {}\n",
    "    for paths in iterator:\n",
    "        if 'emidust' in exp_key.split('_') or 'concdust' in exp_key.split('_'):\n",
    "            if snakemake.config['regrid_params']:\n",
    "                ga = xr.open_dataset('workflow/input_data/common_grid.nc')\n",
    "            else:\n",
    "                ga = xr.open_dataset(areapaths[paths[2]])\n",
    "            ds_ctrl = xr.open_dataset(paths[1])\n",
    "            ds_exp = xr.open_dataset(paths[0])\n",
    "            if ds_ctrl.cf.bounds.get('time'):\n",
    "                ds_ctrl = ds_ctrl.drop(ds_ctrl.cf.bounds.get('time'))\n",
    "                \n",
    "            if ds_exp.cf.bounds.get('time'):\n",
    "                ds_exp = ds_exp.drop(ds_exp.cf.bounds.get('time'))\n",
    "            exp_budget, exp_std = compute_annual_emission_budget(ds_exp, ga)\n",
    "            ctrl_budget, ctrl_std = compute_annual_emission_budget(ds_ctrl,ga)\n",
    "            delta_emi = exp_budget-ctrl_budget\n",
    "            data[vname][ds_ctrl.source_id] = float(delta_emi.values)\n",
    "            sdterror = ((exp_std+ctrl_std)/2).values\n",
    "            tval = data[vname][ds_ctrl.source_id]/(sdterror*np.sqrt(2/len(ds_ctrl.time)))\n",
    "            p = t.sf(np.abs(tval),len(ds_ctrl.time))\n",
    "            error[vname][ds_ctrl.source_id] = p\n",
    "        else:\n",
    "            ds_exp = xr.open_dataset(paths[0]).load()\n",
    "            ds_ctrl = xr.open_dataset(paths[1]).load()\n",
    "            if ds_ctrl.cf.bounds.get('time'):\n",
    "                ds_ctrl = ds_ctrl.drop(ds_ctrl.cf.bounds.get('time'))\n",
    "                \n",
    "            if ds_exp.cf.bounds.get('time'):\n",
    "                ds_exp = ds_exp.drop(ds_exp.cf.bounds.get('time'))\n",
    "            ds_ctrl=ds_ctrl.reset_coords()\n",
    "            ctrlM = global_avg(ds_ctrl.isel(time=timeslice))\n",
    "            expM = global_avg(ds_exp.isel(time=timeslice))\n",
    "            diff = expM[vname].mean()-ctrlM[vname].mean()\n",
    "            tval,p = ttest_ind(expM[vname],ctrlM[vname])\n",
    "            error[vname][ds_ctrl.source_id] = p\n",
    "            data[vname][ds_ctrl.source_id] = diff "
   ]
  },
  {
   "cell_type": "code",
   "execution_count": 6,
   "id": "80c8e2e3",
   "metadata": {},
   "outputs": [],
   "source": [
    "for key in remainingkeys:\n",
    "    paths = snakemake.input[key]\n",
    "    if isinstance(paths, str):\n",
    "        paths = [paths]\n",
    "    for path in paths:\n",
    "        if path.endswith('yaml'):\n",
    "            \n",
    "            with open(path,'r') as f:\n",
    "                ds = yaml.safe_load(f)\n",
    "            if ds.get('name'):\n",
    "                source_id = ds.pop('name')\n",
    "            for subk in ds:\n",
    "                vname = \"{}_{}\".format(key,subk)\n",
    "                if subk in ['delta_ems'] or vname in ['feedback_Direct_dCdT','feedback_Direct_dT_dEms', 'feedback_Clouds_dCdT','feedback_Clouds_dT_dEms\t']:\n",
    "                    continue\n",
    "                else:\n",
    "                    if vname not in data.keys():\n",
    "                        data[vname] = {}\n",
    "                        error[vname] = {}\n",
    "\n",
    "                    data[vname][source_id] = np.mean(ds[subk]['data'])\n",
    "                    error[vname][source_id] = float(np.std(ds[subk]['data']))\n",
    "#             else:\n",
    "#                 data = {}\n",
    "#                 error = {}\n",
    "#                 for subk in ds:\n",
    "#                     data[subk]\n",
    "        else:\n",
    "            ds = xr.open_dataset(path)\n",
    "            vname = list(ds.data_vars)[0]\n",
    "            source_id = ds.source_id\n",
    "            if vname not in data.keys():\n",
    "                data[vname] = {}\n",
    "                error[vname] = {}\n",
    "            if 'year' in ds.dims:\n",
    "                ds = ds.rename_dims(year='time')\n",
    "            erf = global_avg(ds)\n",
    "            \n",
    "            data[vname][source_id] = float(erf[vname].mean(dim='time').values)\n",
    "            tval = data[vname][source_id]/(float(erf[vname].std(dim='time').values)/np.sqrt(len(erf.time)))\n",
    "            p = t.sf(np.abs(tval),len(erf.time))\n",
    "            error[vname][f'{source_id}'] = p"
   ]
  },
  {
   "cell_type": "code",
   "execution_count": 7,
   "id": "1309a0a3",
   "metadata": {},
   "outputs": [],
   "source": [
    "df = pd.DataFrame(data, dtype=np.float)\n",
    "\n",
    "dfe = pd.DataFrame(error, index=df.index,columns=df.columns, dtype=np.float)\n",
    "\n",
    "df['ERF/AOD'] = df['ERFt']/df['od550aer']\n",
    "\n",
    "dfe['ERF/AOD'] = (dfe['ERFt'] + dfe['od550aer'])/2\n",
    "\n",
    "df=df.replace([np.inf, -np.inf], np.nan)\n",
    "dfe = dfe.replace([np.inf, -np.inf], np.nan)\n",
    "multimodel_mean =  df.mean(axis=0)\n",
    "\n",
    "std = df.std(axis=0)\n",
    "dferror = std/np.sqrt(len(df.index))\n",
    "\n",
    "\n",
    "\n",
    "df.loc['Multi-model',:] = multimodel_mean\n",
    "dfe.loc['Multi-model',:] = dferror"
   ]
  },
  {
   "cell_type": "code",
   "execution_count": 8,
   "id": "9012e9b2",
   "metadata": {},
   "outputs": [],
   "source": [
    "def greater_than_variability(v,dfe, std_keys=[],alpha=0.01):\n",
    "    if v.name in std_keys:\n",
    "        cond = np.abs(v) > 2*dfe.loc[:,v.name]\n",
    "    else:\n",
    "        cond = dfe.loc[:,v.name]<=alpha\n",
    "\n",
    "       \n",
    "    df = pd.Series(np.where(cond,'font-weight: bold', None),index=v.index,name=v.name)\n",
    "    cond = np.abs(v['Multi-model'])>dfe.loc['Multi-model', v.name]\n",
    "    if cond:\n",
    "        df['Multi-model'] = 'color: blue; font-weight: bold'\n",
    "    else:\n",
    "        df['Multi-model']=None\n",
    "    return df"
   ]
  },
  {
   "cell_type": "code",
   "execution_count": 9,
   "id": "ea1ce898",
   "metadata": {},
   "outputs": [],
   "source": [
    "forcing_translation = {\n",
    "    'SWDirectEff': 'SW Fari',\n",
    "    'LWDirectEff': 'LW Fari',\n",
    "    'DirectEff': 'Fari',\n",
    "    'CloudEff': 'Faci',\n",
    "    'SWCloudEff':'SW Faci',\n",
    "    'ERFt':'ERF total',\n",
    "    'LWCloudEff': 'LW Faci',\n",
    "    'ERFtcsaf': 'Albedo forcing',\n",
    "    'feedback_tot_alpha' : '&alpha; emissions Wm-2 K-1'\n",
    "}"
   ]
  },
  {
   "cell_type": "code",
   "execution_count": 10,
   "id": "3d44d7e8",
   "metadata": {},
   "outputs": [],
   "source": [
    "forcing_componets =['SWDirectEff','LWDirectEff','DirectEff','SWCloudEff','LWCloudEff','CloudEff','ERFtcsaf','ERFt']\n",
    "dfe_forcing = dfe[forcing_componets].rename(columns=forcing_translation)\n",
    "df_forcing = df[forcing_componets].rename(columns=forcing_translation)\n",
    "f = partial(greater_than_variability,dfe=dfe_forcing)\n",
    "\n",
    "\n",
    "dst=df_forcing.style.apply(f, axis=0)\\\n",
    ".bar(color=['#2717a3','#d95148'], height=50, align='zero',\n",
    "              width=60, props=\"width: 100px; border-right: 1px solid black;\", axis=0)\\\n",
    "    .format(precision=3, na_rep='')\\\n",
    "    .set_caption('Decomposition of dust radiatve radiative forcings W m-2') .set_table_styles([{\n",
    "     'selector': 'caption',\n",
    "     'props': 'caption-side: bottom; font-size:1.5em;'\n",
    " }], overwrite=False)\n",
    "dst"
   ]
  },
  {
   "cell_type": "code",
   "execution_count": 11,
   "id": "b2e046bd",
   "metadata": {},
   "outputs": [],
   "source": [
    "dfi.export(dst,snakemake.output.forcing_table, dpi=300)\n"
   ]
  },
  {
   "cell_type": "code",
   "execution_count": 12,
   "id": "4b616e72",
   "metadata": {},
   "outputs": [],
   "source": [
    "diag_translation = {\n",
    "    'clivi' : 'Ice Water Path g m-2',\n",
    "    'clt'   : 'Cloud cover (%)',\n",
    "    'clwvi'   : 'Liquid Water Path g m-2',\n",
    "    'pr'    : 'Precipitation g m-2 s-1'\n",
    "    \n",
    "}"
   ]
  },
  {
   "cell_type": "code",
   "execution_count": 21,
   "id": "944a7cae",
   "metadata": {},
   "outputs": [],
   "source": [
    "diagnostics_compotents = ['clivi','clt','clwvi','pr']\n",
    "dfe_diag = dfe[diagnostics_compotents].rename(columns=diag_translation)\n",
    "df_diag = df[diagnostics_compotents].rename(columns=diag_translation)\n",
    "\n",
    "f = partial(greater_than_variability,dfe=dfe_diag)\n",
    "\n",
    "\n",
    "dst=df_diag.style.apply(f, axis=0)\\\n",
    ".bar(color=['#2717a3','#d95148'], height=50, align='zero',\n",
    "              width=60, props=\"width: 100px; border-right: 1px solid black;\", axis=0)\\\n",
    "    .format(precision=3, na_rep='', \n",
    "            formatter={\n",
    "                'Precipitation g m-2 s-1': lambda x: \"{:.2e}\".format(x*1e3),\n",
    "                'Liquid Water Path g m-2': lambda x: \"{:.3f}\".format(x*1e3),\n",
    "                'Ice Water Path g m-2': lambda x: \"{:.3f}\".format(x*1e3)\n",
    "            }\n",
    "           )\\\n",
    "    .set_caption('Absolute change between control and 2x-dust') .set_table_styles([{\n",
    "     'selector': 'caption',\n",
    "     'props': 'caption-side: bottom; font-size:1.5em;'\n",
    " }], overwrite=False)\n",
    "dst"
   ]
  },
  {
   "cell_type": "code",
   "execution_count": 14,
   "id": "3c74e3d3",
   "metadata": {},
   "outputs": [],
   "source": [
    "dfi.export(dst,snakemake.output.diagnostics_table_path, dpi=300)"
   ]
  },
  {
   "cell_type": "code",
   "execution_count": 15,
   "id": "003b5126",
   "metadata": {},
   "outputs": [],
   "source": [
    "df.columns"
   ]
  },
  {
   "cell_type": "code",
   "execution_count": 22,
   "id": "6869ed1c",
   "metadata": {},
   "outputs": [],
   "source": [
    "optics_translation = {\n",
    "   'concdust' :  '&Delta; Dust burden Tg', \n",
    "#     'atmabs': 'Atmoshperic absorption W m-2',\n",
    "    'od550aer' : '&Delta; AOD 550mn',\n",
    "    'abs550aer' : '&Delta; AAOD 550mn',\n",
    "    'delta_MEE_dustMEE' : '&Delta; MEE g m-2',\n",
    "    'delta_MEEabs_dustMEEabs' : '&Delta; MEE absorption g m-2',\n",
    "#     'ERF/AOD'  : 'ERFt per AOD change W m-2',\n",
    "    'emidust'  : '&Delta; Dust emissions Tg year-1',\n",
    "    'dulifetime_dulifetime' : 'Lifetime (Days)'\n",
    "    \n",
    "}\n",
    "\n",
    "diagnostics_compotents = ['emidust','concdust','dulifetime_dulifetime','od550aer','abs550aer',\n",
    "                          'delta_MEE_dustMEE','delta_MEEabs_dustMEEabs']#'atmabs','ERF/AOD']\n",
    "dfe_diag = dfe[diagnostics_compotents].rename(columns=optics_translation)\n",
    "df_diag = df[diagnostics_compotents].rename(columns=optics_translation)\n",
    "\n",
    "f = partial(greater_than_variability,dfe=dfe_diag,std_keys=['Lifetime (Days)','&Delta; MEE absorption g m-2',\n",
    "                                                           '&Delta; MEE g m-2'])\n",
    "\n",
    "\n",
    "dst=df_diag.style.apply(f, axis=0)\\\n",
    ".bar(color=['#2717a3','#d95148'], height=50,\n",
    "              width=60, props=\"width: 100px; border-right: 1px solid black;\", axis=0)\\\n",
    "    .format(precision=3, na_rep='', \n",
    "            formatter={\n",
    "#                 'Atmoshperic absorption W m-2': lambda x: \"{:.2f}\".format(x),\n",
    "                '&Delta; AOD 550mn': lambda x: \"{:.3f}\".format(x),\n",
    "                '&Delta; AAOD 550mn': lambda x: \"{:.1E}\".format(x),\n",
    "                'ERFt per AOD change': lambda x: \"{:.2f}\".format(x),\n",
    "                '&Delta; Dust emissions Tg year-1' : lambda x: \"{:.2f}\".format(x),\n",
    "                'Lifetime (Days)' : lambda x: \"{:.1f}\".format(x),\n",
    "                '&Delta; Dust burden Tg' : lambda x: \"{:.1f}\".format(x)\n",
    "            }\n",
    "           )\\\n",
    "    .set_caption('Absolute change between control and 2x-dust') .set_table_styles([{\n",
    "     'selector': 'caption',\n",
    "     'props': 'caption-side: bottom; font-size:1.5em;'\n",
    " }], overwrite=False)\n",
    "\n",
    "\n",
    "\n",
    "dst\n"
   ]
  },
  {
   "cell_type": "code",
   "execution_count": 23,
   "id": "bed817c8",
   "metadata": {},
   "outputs": [],
   "source": [
    "dfi.export(dst,snakemake.output.optics_diag_table, dpi=300)"
   ]
  },
  {
   "cell_type": "code",
   "execution_count": 24,
   "id": "e4e847dc",
   "metadata": {},
   "outputs": [],
   "source": [
    "feedback_translation = {\n",
    "    'feedback_tot_alpha' : '&alpha; emissions Wm-2 K-1',\n",
    "    'feedback_tot_dCdT'  : '&Delta; emission /&Delta;T Tgyr-1 K-1' \n",
    "}"
   ]
  },
  {
   "cell_type": "code",
   "execution_count": 26,
   "id": "943d81cd",
   "metadata": {},
   "outputs": [],
   "source": [
    "\n",
    "feedback_components = ['feedback_tot_dCdT','feedback_tot_alpha']\n",
    "dfe_diag = dfe[feedback_components].rename(columns=feedback_translation)\n",
    "df_diag = df[feedback_components].rename(columns=feedback_translation)\n",
    "df_diag=df_diag.drop('IPSL-CM6A-LR-INCA', axis=0)\n",
    "dfe_diag=dfe_diag.drop('IPSL-CM6A-LR-INCA', axis=0)\n",
    "f = partial(greater_than_variability,dfe=dfe_diag, std_keys=['&Delta; emission /&Delta;T Tgyr-1 K-1',\n",
    "                                                            '&alpha; emissions Wm-2 K-1'])\n",
    "# df_diag=df_diag.drop('IPSL-CMA6-LR-INCA', axis=1)\n",
    "\n",
    "dst=df_diag.style.apply(f, axis=0)\\\n",
    ".bar(color=['#2717a3','#d95148'], height=50, align='zero',\n",
    "              width=60, props=\"width: 100px; border-right: 1px solid black;\", axis=0)\\\n",
    "    .format(precision=3, na_rep='', formatter={\n",
    "    '&Delta; emission /&Delta;T Tgyr-1 K-1': lambda x: \"{:.1f}\".format(x),\n",
    "}\n",
    "           )\\\n",
    "    .set_caption('Emission emission change per temperature change and Feedback parameter') .set_table_styles([{\n",
    "     'selector': 'caption',\n",
    "     'props': 'caption-side: bottom; font-size:1.2em;'\n",
    " }], overwrite=False)\n",
    "dst"
   ]
  },
  {
   "cell_type": "code",
   "execution_count": 27,
   "id": "615cef16",
   "metadata": {},
   "outputs": [],
   "source": [
    "dfi.export(dst,snakemake.output.feedback_table, dpi=300)"
   ]
  },
  {
   "cell_type": "code",
   "execution_count": 28,
   "id": "5b539fb6",
   "metadata": {},
   "outputs": [],
   "source": [
    "if snakemake.output.outpath.endswith('csv'):\n",
    "    df.to_csv(snakemake.output.outpath)\n",
    "elif snakemake.output.outpath.endswith('tex'):\n",
    "    col_format = ['m{5em}'] + ['m{1.5cm}' for i in range(len(df.columns))]\n",
    "    col_format = ''.join(col_format)\n",
    "    with open(snakemake.output.outpath, 'w') as f:\n",
    "        df.to_latex(buf=f,  na_rep='', col_space=3, longtable=False, column_format= col_format)"
   ]
  }
 ],
 "metadata": {
  "kernelspec": {
   "display_name": "Python 3 (ipykernel)",
   "language": "python",
   "name": "python3"
  },
  "language_info": {
   "codemirror_mode": {
    "name": "ipython",
    "version": 3
   },
   "file_extension": ".py",
   "mimetype": "text/x-python",
   "name": "python",
   "nbconvert_exporter": "python",
   "pygments_lexer": "ipython3",
   "version": "3.10.2"
  },
  "vscode": {
   "interpreter": {
    "hash": "e0c7d92e0a4d3659e3b438675286b7c84dca6ad7edb4ab471110fdd618f527c4"
   }
  }
 },
 "nbformat": 4,
 "nbformat_minor": 5
}
