{
 "cells": [
  {
   "cell_type": "code",
   "execution_count": 2,
   "id": "4cf202c7",
   "metadata": {},
   "outputs": [],
   "source": [
    "import matplotlib.pyplot as plt\n",
    "import xarray as xr\n",
    "import pandas as pd\n",
    "from pyclim_noresm.general_util_funcs import global_avg\n",
    "from workflow.scripts.utils import (calc_error, calc_abs_change,\n",
    "                                compute_annual_emission_budget) \n",
    "                                    \n",
    "import matplotlib\n",
    "import numpy as np\n",
    "import yaml\n",
    "import dataframe_image as dfi\n",
    "from functools import partial"
   ]
  },
  {
   "cell_type": "code",
   "execution_count": 3,
   "id": "7fefe586",
   "metadata": {},
   "outputs": [],
   "source": [
    "keys = list(snakemake.input.keys())\n",
    "timeslice = snakemake.params.get('time_slice', slice(5,30))"
   ]
  },
  {
   "cell_type": "code",
   "execution_count": 4,
   "id": "c800e392",
   "metadata": {},
   "outputs": [],
   "source": [
    "exp_keys = sorted([k for k in keys if 'exp' in k.split('_')])\n",
    "ctrl_keys = sorted([k for k in keys if 'ctrl' in k.split('_')])\n",
    "remainingkeys = list(set(keys)-set(exp_keys+ctrl_keys+ ['areacello']))\n",
    "areapaths = sorted(snakemake.input['areacello'])"
   ]
  },
  {
   "cell_type": "code",
   "execution_count": 5,
   "id": "22b73f86",
   "metadata": {
    "scrolled": false
   },
   "outputs": [],
   "source": [
    "data={}\n",
    "error={}\n",
    "for exp_key, ctrl_key in zip(exp_keys,ctrl_keys):\n",
    "    exp_paths = sorted(snakemake.input[exp_key])\n",
    "    ctrl_paths = sorted(snakemake.input[ctrl_key])\n",
    "    vname = xr.open_dataset(exp_paths[0]).variable_id\n",
    "    if 'emidust' in exp_key.split('_'):\n",
    "        iterator = zip(exp_paths, ctrl_paths, areapaths)\n",
    "    else:\n",
    "        iterator = zip(exp_paths, ctrl_paths)\n",
    "    data[vname] = {}\n",
    "    error[vname] = {}\n",
    "    for paths in iterator:\n",
    "        \n",
    "        if 'emidust' in exp_key.split('_'):\n",
    "            \n",
    "            ga = xr.open_dataset(paths[2])\n",
    "            ds_ctrl = xr.open_dataset(paths[1])\n",
    "            ds_exp = xr.open_dataset(paths[0])\n",
    "            exp_budget = compute_annual_emission_budget(ds_exp, ga)\n",
    "            ctrl_budget = compute_annual_emission_budget(ds_ctrl,ga)\n",
    "            delta_emi = exp_budget-ctrl_budget\n",
    "            data[vname][ds_ctrl.source_id] = float(delta_emi.values)\n",
    "        else:\n",
    "            ds_exp = xr.open_dataset(paths[0]).load()\n",
    "            ds_ctrl = xr.open_dataset(paths[1]).load()\n",
    "            diff = calc_abs_change(ds_ctrl, ds_exp, time_slice=timeslice)\n",
    "            \n",
    "            diff = global_avg(diff)[vname]\n",
    "            error[vname][ds_ctrl.source_id] = diff.std().values \n",
    "            data[vname][ds_ctrl.source_id] = diff.mean().values \n",
    "            "
   ]
  },
  {
   "cell_type": "code",
   "execution_count": 6,
   "id": "80c8e2e3",
   "metadata": {},
   "outputs": [],
   "source": [
    "for key in remainingkeys:\n",
    "    paths = snakemake.input[key]\n",
    "    for path in paths:\n",
    "        if path.endswith('yaml'):\n",
    "            \n",
    "            with open(path,'r') as f:\n",
    "                ds = yaml.safe_load(f)\n",
    "            \n",
    "            source_id = ds.pop('name')\n",
    "            for subk in ds:\n",
    "                vname = \"{}_{}\".format(key,subk)\n",
    "                if subk in ['delta_ems'] or vname in ['feedback_Direct_dCdT','feedback_Direct_dT_dEms', 'feedback_Clouds_dCdT','feedback_Clouds_dT_dEms\t']:\n",
    "                    continue\n",
    "                else:\n",
    "                    if vname not in data.keys():\n",
    "                        data[vname] = {}\n",
    "                        error[vname] = {}\n",
    "                \n",
    "                    data[vname][source_id] = np.mean(ds[subk]['data'])\n",
    "                    error[vname][f'{source_id}'] = float(np.std(ds[subk]['data']))\n",
    "        else:\n",
    "            ds = xr.open_dataset(path)\n",
    "            vname = list(ds.data_vars)[0]\n",
    "            source_id = ds.source_id\n",
    "            if vname not in data.keys():\n",
    "                data[vname] = {}\n",
    "                error[vname] = {}\n",
    "            if 'year' in ds.dims:\n",
    "                ds = ds.rename_dims(year='time')\n",
    "            erf = global_avg(ds)\n",
    "            \n",
    "            data[vname][source_id] = float(erf[vname].mean(dim='time').values)\n",
    "            error[vname][f'{source_id}'] = float(erf[vname].std(dim='time').values)"
   ]
  },
  {
   "cell_type": "code",
   "execution_count": 7,
   "id": "1309a0a3",
   "metadata": {},
   "outputs": [],
   "source": [
    "df = pd.DataFrame(data, dtype=np.float)\n",
    "dfe = pd.DataFrame(error, index=df.index,columns=df.columns, dtype=np.float)\n",
    "df=df.replace([np.inf, -np.inf], np.nan)\n",
    "dfe = dfe.replace([np.inf, -np.inf], np.nan)\n",
    "multimodel_mean =  df.mean(axis=0)\n",
    "\n",
    "std = df.std(axis=0)\n",
    "dferror = std/np.sqrt(len(df.index))\n",
    "\n",
    "\n",
    "\n",
    "df.loc['Multi-model',:] = multimodel_mean\n",
    "dfe.loc['Multi-model',:] = dferror"
   ]
  },
  {
   "cell_type": "code",
   "execution_count": 8,
   "id": "9012e9b2",
   "metadata": {},
   "outputs": [],
   "source": [
    "def greater_than_variability(v,dfe):\n",
    "    cond = v.abs()>dfe\n",
    "    return pd.DataFrame(np.where(cond,'font-weight: bold', None),index=v.index,columns=v.columns)\n",
    "    "
   ]
  },
  {
   "cell_type": "code",
   "execution_count": 10,
   "id": "ea1ce898",
   "metadata": {},
   "outputs": [],
   "source": [
    "forcing_translation = {\n",
    "    'SWDirectEff': 'SW Fari',\n",
    "    'LWDirectEff': 'LW Fari',\n",
    "    'DirectEff': 'Fari',\n",
    "    'CloudEff': 'Faci',\n",
    "    'SWCloudEff':'SW Faci',\n",
    "    'ERFt':'ERF total',\n",
    "    'LWCloudEff': 'LW Faci',\n",
    "    'feedback_tot_alpha' : '&alpha; emissions Wm-2 K-1'\n",
    "}"
   ]
  },
  {
   "cell_type": "code",
   "execution_count": 11,
   "id": "3d44d7e8",
   "metadata": {},
   "outputs": [],
   "source": [
    "forcing_componets =['SWDirectEff','LWDirectEff','DirectEff','SWCloudEff','LWCloudEff','CloudEff','ERFt']\n",
    "dfe_forcing = dfe[forcing_componets].rename(columns=forcing_translation)\n",
    "df_forcing = df[forcing_componets].rename(columns=forcing_translation)\n",
    "\n",
    "f = partial(greater_than_variability,dfe=dfe_forcing)\n",
    "\n",
    "\n",
    "dst=df_forcing.style.apply(f, axis=None)\\\n",
    ".bar(color=['#2717a3','#d95148'], height=50, align='zero',\n",
    "              width=60, props=\"width: 100px; border-right: 1px solid black;\", axis=0)\\\n",
    "    .format(precision=3, na_rep='')\\\n",
    "    .set_caption('Decomposition of dust radiatve radiative forcings W m-2') .set_table_styles([{\n",
    "     'selector': 'caption',\n",
    "     'props': 'caption-side: bottom; font-size:1.5em;'\n",
    " }], overwrite=False)\n",
    "dst"
   ]
  },
  {
   "cell_type": "code",
   "execution_count": 12,
   "id": "b2e046bd",
   "metadata": {},
   "outputs": [],
   "source": [
    "dfi.export(dst,snakemake.output.forcing_table)\n"
   ]
  },
  {
   "cell_type": "code",
   "execution_count": 15,
   "id": "4b616e72",
   "metadata": {},
   "outputs": [],
   "source": [
    "diag_translation = {\n",
    "    'clivi' : 'Ice Water Path g m-2',\n",
    "    'clt'   : 'Cloud cover (%)',\n",
    "    'clwvi'   : 'Liquid Water Path g m-2',\n",
    "    'atmabs': 'Atmoshperic absorption (W m-2)',\n",
    "    'pr'    : 'Precipitation g m-2 s-1'\n",
    "    \n",
    "}"
   ]
  },
  {
   "cell_type": "code",
   "execution_count": 16,
   "id": "944a7cae",
   "metadata": {},
   "outputs": [],
   "source": [
    "diagnostics_compotents = ['clivi','clt','clwvi','pr']\n",
    "dfe_diag = dfe[diagnostics_compotents].rename(columns=diag_translation)\n",
    "df_diag = df[diagnostics_compotents].rename(columns=diag_translation)\n",
    "\n",
    "f = partial(greater_than_variability,dfe=dfe_diag)\n",
    "\n",
    "\n",
    "dst=df_diag.style.apply(f, axis=None)\\\n",
    ".bar(color=['#2717a3','#d95148'], height=50, align='zero',\n",
    "              width=60, props=\"width: 100px; border-right: 1px solid black;\", axis=0)\\\n",
    "    .format(precision=3, na_rep='', \n",
    "            formatter={\n",
    "                'Precipitation g m-2 s-1': lambda x: \"{:.2e}\".format(x*1e3),\n",
    "                'Liquid Water Path g m-2': lambda x: \"{:.3f}\".format(x*1e3),\n",
    "                'Ice Water Path g m-2': lambda x: \"{:.3f}\".format(x*1e3)\n",
    "            }\n",
    "           )\\\n",
    "    .set_caption('Absolute change between control and 2x-dust') .set_table_styles([{\n",
    "     'selector': 'caption',\n",
    "     'props': 'caption-side: bottom; font-size:1.5em;'\n",
    " }], overwrite=False)\n",
    "dst"
   ]
  },
  {
   "cell_type": "code",
   "execution_count": 14,
   "id": "8228c2dc",
   "metadata": {},
   "outputs": [],
   "source": [
    "dfi.export(dst,snakemake.output.diagnostics_table_path)"
   ]
  },
  {
   "cell_type": "code",
   "execution_count": 15,
   "id": "e4e847dc",
   "metadata": {},
   "outputs": [],
   "source": [
    "feedback_translation = {\n",
    "    'feedback_tot_alpha' : '&alpha; emissions Wm-2 K-1',\n",
    "    'feedback_tot_dCdT'  : '&Delta; emission /&Delta;T Tgyr-1 K-1' \n",
    "}"
   ]
  },
  {
   "cell_type": "code",
   "execution_count": 16,
   "id": "943d81cd",
   "metadata": {},
   "outputs": [],
   "source": [
    "feedback_components = ['feedback_tot_dCdT','feedback_tot_alpha']\n",
    "dfe_diag = dfe[feedback_components].rename(columns=feedback_translation)\n",
    "df_diag = df[feedback_components].rename(columns=feedback_translation)\n",
    "\n",
    "f = partial(greater_than_variability,dfe=dfe_diag)\n",
    "\n",
    "\n",
    "dst=df_diag.style.apply(f, axis=None)\\\n",
    ".bar(color=['#2717a3','#d95148'], height=50, align='zero',\n",
    "              width=60, props=\"width: 100px; border-right: 1px solid black;\", axis=0)\\\n",
    "    .format(precision=3, na_rep='', formatter={\n",
    "    '&Delta; emission /&Delta;T Tgyr-1 K-1': lambda x: \"{:.1f}\".format(x),\n",
    "}\n",
    "           )\\\n",
    "    .set_caption('Emission emission change per temperature change and Feedback parameter') .set_table_styles([{\n",
    "     'selector': 'caption',\n",
    "     'props': 'caption-side: bottom; font-size:1.2em;'\n",
    " }], overwrite=False)\n",
    "dst"
   ]
  },
  {
   "cell_type": "code",
   "execution_count": 17,
   "id": "615cef16",
   "metadata": {},
   "outputs": [],
   "source": [
    "dfi.export(dst,snakemake.output.feedback_table)"
   ]
  },
  {
   "cell_type": "code",
   "execution_count": 18,
   "id": "5b539fb6",
   "metadata": {},
   "outputs": [],
   "source": [
    "if snakemake.output.outpath.endswith('csv'):\n",
    "    df.to_csv(snakemake.output.outpath)\n",
    "elif snakemake.output.outpath.endswith('tex'):\n",
    "    col_format = ['m{5em}'] + ['m{1.5cm}' for i in range(len(df.columns))]\n",
    "    col_format = ''.join(col_format)\n",
    "    with open(snakemake.output.outpath, 'w') as f:\n",
    "        df.to_latex(buf=f,  na_rep='', col_space=3, longtable=False, column_format= col_format)"
   ]
  }
 ],
 "metadata": {
  "kernelspec": {
   "display_name": "dustysnake",
   "language": "python",
   "name": "dustysnake"
  },
  "language_info": {
   "codemirror_mode": {
    "name": "ipython",
    "version": 3
   },
   "file_extension": ".py",
   "mimetype": "text/x-python",
   "name": "python",
   "nbconvert_exporter": "python",
   "pygments_lexer": "ipython3",
   "version": "3.10.2"
  }
 },
 "nbformat": 4,
 "nbformat_minor": 5
}
