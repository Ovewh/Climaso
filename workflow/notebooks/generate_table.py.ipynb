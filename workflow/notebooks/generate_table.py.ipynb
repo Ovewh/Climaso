{
 "cells": [
  {
   "cell_type": "code",
   "execution_count": 2,
   "id": "4cf202c7",
   "metadata": {},
   "outputs": [],
   "source": [
    "import matplotlib.pyplot as plt\n",
    "import xarray as xr\n",
    "import pandas as pd\n",
    "from pyclim_noresm.general_util_funcs import global_avg\n",
    "from workflow.scripts.utils import (calc_error, \n",
    "                                compute_annual_emission_budget, calc_relative_change)\n",
    "import matplotlib\n",
    "import numpy as np"
   ]
  },
  {
   "cell_type": "code",
   "execution_count": 3,
   "id": "7fefe586",
   "metadata": {},
   "outputs": [],
   "source": [
    "keys = list(snakemake.input.keys())"
   ]
  },
  {
   "cell_type": "code",
   "execution_count": 4,
   "id": "c800e392",
   "metadata": {},
   "outputs": [],
   "source": [
    "exp_keys = sorted([k for k in keys if 'exp' in k.split('_')])\n",
    "ctrl_keys = sorted([k for k in keys if 'ctrl' in k.split('_')])\n",
    "remainingkeys = list(set(keys)-set(exp_keys+ctrl_keys+ ['areacello']))\n",
    "areapaths = sorted(snakemake.input['areacello'])"
   ]
  },
  {
   "cell_type": "code",
   "execution_count": 5,
   "id": "22b73f86",
   "metadata": {},
   "outputs": [],
   "source": [
    "data={}\n",
    "for exp_key, ctrl_key in zip(exp_keys,ctrl_keys):\n",
    "    exp_paths = sorted(snakemake.input[exp_key])\n",
    "    ctrl_paths = sorted(snakemake.input[ctrl_key])\n",
    "    vname = xr.open_dataset(exp_paths[0]).variable_id\n",
    "    if 'emidust' in exp_key.split('_'):\n",
    "        iterator = zip(exp_paths, ctrl_paths, areapaths)\n",
    "    else:\n",
    "        iterator = zip(exp_paths, ctrl_paths)\n",
    "    data[vname] = {}\n",
    "    for paths in iterator:\n",
    "        \n",
    "        if 'emidust' in exp_key.split('_'):\n",
    "            \n",
    "            ga = xr.open_dataset(paths[2])\n",
    "            ds_ctrl = xr.open_dataset(paths[1])\n",
    "            ds_exp = xr.open_dataset(paths[0])\n",
    "            exp_budget = compute_annual_emission_budget(ds_exp, ga)\n",
    "            ctrl_budget = compute_annual_emission_budget(ds_ctrl,ga)\n",
    "            delta_emi = exp_budget-ctrl_budget\n",
    "            data[vname][ds_ctrl.source_id] = float(delta_emi.values)\n",
    "        else:\n",
    "            ds_exp = xr.open_dataset(paths[0]).load()\n",
    "            ds_ctrl = xr.open_dataset(paths[1]).load()\n",
    "            diff = calc_relative_change(ds_ctrl, ds_exp)\n",
    "            diff = global_avg(diff)[vname]\n",
    "            data[vname][ds_ctrl.source_id] = diff.values \n",
    "            "
   ]
  },
  {
   "cell_type": "code",
   "execution_count": 12,
   "id": "80c8e2e3",
   "metadata": {},
   "outputs": [],
   "source": [
    "for key in remainingkeys:\n",
    "    paths = snakemake.input[key]\n",
    "    for path in paths:\n",
    "        ds = xr.open_dataset(path)\n",
    "        vname = list(ds.data_vars)[0]\n",
    "        source_id = ds.source_id\n",
    "        if vname not in data.keys():\n",
    "            data[vname] = {}\n",
    "        ds = ds.mean(dim='year')\n",
    "        erf = global_avg(ds)\n",
    "        data[vname][source_id] = float(erf[vname].values)"
   ]
  },
  {
   "cell_type": "code",
   "execution_count": 25,
   "id": "8d232b53",
   "metadata": {},
   "outputs": [],
   "source": [
    "df = pd.DataFrame(data).transpose()\n",
    "df = df.astype(float)\n",
    "multimodel_mean =  df.mean(axis=1)\n",
    "\n",
    "std = df.std(axis=1)\n",
    "error = std/np.sqrt(len(df.columns))\n",
    "\n",
    "df['Multi model mean'] = multimodel_mean\n",
    "df['Error'] = error"
   ]
  },
  {
   "cell_type": "code",
   "execution_count": 61,
   "id": "5b539fb6",
   "metadata": {},
   "outputs": [],
   "source": [
    "if snakemake.output.outpath.endswith('csv'):\n",
    "    df.to_csv(snakemake.output.outpath)\n",
    "elif snakemake.output.outpath.endswith('tex'):\n",
    "    with open(snakemake.output.outpath, 'w') as f:\n",
    "        df.to_latex(buf=f, float_format=\"%.3f\")"
   ]
  }
 ],
 "metadata": {
  "kernelspec": {
   "display_name": "dustysnake",
   "language": "python",
   "name": "dustysnake"
  },
  "language_info": {
   "codemirror_mode": {
    "name": "ipython",
    "version": 3
   },
   "file_extension": ".py",
   "mimetype": "text/x-python",
   "name": "python",
   "nbconvert_exporter": "python",
   "pygments_lexer": "ipython3",
   "version": "3.9.0"
  }
 },
 "nbformat": 4,
 "nbformat_minor": 5
}
