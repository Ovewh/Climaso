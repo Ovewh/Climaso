{
 "cells": [
  {
   "cell_type": "code",
   "execution_count": 43,
   "id": "b7b5c39d",
   "metadata": {},
   "outputs": [],
   "source": [
    "import matplotlib.pyplot as plt\n",
    "from workflow.scripts.plotting_tools import create_facet_plot\n",
    "import xarray as xr\n",
    "from workflow.scripts.plotting_tools import global_map\n",
    "import matplotlib as mpl\n",
    "import numpy as np\n",
    "import xesmf\n",
    "from pyclim_noresm.general_util_funcs import global_avg"
   ]
  },
  {
   "cell_type": "code",
   "execution_count": 48,
   "id": "aa51dd28",
   "metadata": {},
   "outputs": [],
   "source": [
    "\n",
    "\n",
    "nmodels = len(snakemake.input)\n",
    "paths = sorted(snakemake.input)\n",
    "\n",
    "params = snakemake.params\n",
    "time_slice = params.get('time_slice', slice(5,None))\n",
    "cmap = params.get('cmap', None)\n",
    "nlevels = params.get('nlevels', 21)\n",
    "\n",
    "scaling_factor=params.get('scaling_factor',1000)\n",
    "label = params.get('label',None)\n",
    "add_global_avg = params.get('add_global_avg',False)\n",
    "\n",
    "if cmap:\n",
    "    cmap = mpl.cm.get_cmap(cmap, nlevels)\n",
    "else:\n",
    "    cmap = mpl.cm.get_cmap('viridis_r', nlevels)\n"
   ]
  },
  {
   "cell_type": "code",
   "execution_count": 53,
   "id": "b72b81c3",
   "metadata": {},
   "outputs": [],
   "source": [
    "fig,ax,cax = create_facet_plot(nmodels)\n",
    "norm = mpl.colors.Normalize(params.get('vmin',0), params.get('vmax',None))\n",
    "for path, axi in zip(paths, ax):\n",
    "    temp_ds = xr.open_dataset(path)\n",
    "    if 'time' in temp_ds.coords:\n",
    "        temp_ds = temp_ds.isel(time=time_slice)\n",
    "        temp_ds = temp_ds.mean(dim='time',keep_attrs=True)\n",
    "    with xr.set_options(keep_attrs=True):\n",
    "        temp_ds[temp_ds.variable_id] = temp_ds[temp_ds.variable_id]*scaling_factor \n",
    "    \n",
    "    pcm=temp_ds[temp_ds.variable_id].plot(ax=ax[axi], cmap=cmap, norm=norm,  add_colorbar=False)\n",
    "   \n",
    "    global_map(ax[axi])\n",
    "\n",
    "    ax[axi].set_ylabel('')\n",
    "    ax[axi].set_xlabel('')\n",
    "    ax[axi].set_title(temp_ds.source_id)\n",
    "    if add_global_avg:\n",
    "        ax[axi].text(0.12, 0.05, \n",
    "                     f\"Mean: {global_avg(temp_ds)[temp_ds.variable_id]:.3f}\",\n",
    "                     transform=ax[axi].transAxes,va='center', ha='center',\n",
    "                     bbox=dict(boxstyle=\"square\",ec=(1., 0.5, 0.5),\n",
    "                   fc=(1., 0.8, 0.8))\n",
    "                    )\n",
    "if label == None:\n",
    "    label= f'{temp_ds.variable_id} {da.attrs[\"units\"]}'\n",
    "fig.colorbar(pcm, cax=cax, extend=params.get('cb_extend','neither'),\n",
    "             label=label)\n",
    "plt.savefig(snakemake.output.outpath, bbox_inches='tight', dpi=144, facecolor='w')"
   ]
  }
 ],
 "metadata": {
  "kernelspec": {
   "display_name": "Python 3.10.6 ('intake')",
   "language": "python",
   "name": "python3"
  },
  "language_info": {
   "codemirror_mode": {
    "name": "ipython",
    "version": 3
   },
   "file_extension": ".py",
   "mimetype": "text/x-python",
   "name": "python",
   "nbconvert_exporter": "python",
   "pygments_lexer": "ipython3",
   "version": "3.10.6"
  },
  "vscode": {
   "interpreter": {
    "hash": "e0c7d92e0a4d3659e3b438675286b7c84dca6ad7edb4ab471110fdd618f527c4"
   }
  }
 },
 "nbformat": 4,
 "nbformat_minor": 5
}
