{
 "cells": [
  {
   "cell_type": "code",
   "execution_count": 2,
   "id": "ab066c62",
   "metadata": {},
   "outputs": [],
   "source": [
    "import xarray as xr\n",
    "import matplotlib.pyplot as plt\n",
    "import cartopy.crs as ccrs\n",
    "import numpy as np\n",
    "from workflow.scripts.utils import calc_error_gridded\n",
    "from workflow.scripts.plotting_tools import create_facet_plot, global_map\n",
    "import xesmf\n",
    "import matplotlib as mpl"
   ]
  },
  {
   "cell_type": "code",
   "execution_count": 21,
   "id": "6941422e",
   "metadata": {},
   "outputs": [],
   "source": [
    "path = snakemake.input.path\n",
    "params = snakemake.params\n",
    "nmodels=len(path)\n",
    "time_slice = params.get('time_slice', slice(5,None))\n",
    "height = snakemake.wildcards.plevel\n",
    "nlevels = params.get('nlevels', 21)\n",
    "cmap = params.get('cmap', None)\n",
    "vname = snakemake.wildcards.variable\n",
    "plevel_data = snakemake.config['cloud_def'][height]\n",
    "if plevel_data['top']:\n",
    "    plevel_slice = slice(plevel_data['bottom']*100, plevel_data['top']*100)\n",
    "else:\n",
    "    plevel_slice = slice(plevel_data['bottom']*100, None)\n",
    "    \n",
    "scaling_dict = snakemake.config['variable_scalings'].get(vname,None)\n",
    "\n",
    "if cmap:\n",
    "    cmap = mpl.cm.get_cmap(cmap, nlevels)\n",
    "else:\n",
    "    cmap = mpl.cm.get_cmap('RdYlBu_r', nlevels)\n",
    "\n",
    "if scaling_dict:\n",
    "    scaling_factor = scaling_dict['c']\n",
    "else:\n",
    "    scaling_factor =1\n",
    "vcenter = params.get('vcenter', None)\n",
    "minmax = params.get('abs_minmax',None)\n",
    "if minmax:\n",
    "    maxv=minmax[1]\n",
    "    minv=minmax[0]\n",
    "if params.get('scaling_factor',None):\n",
    "    scaling_factor=params.get('scaling_factor')\n",
    "label = params.get('label','')\n",
    "    \n",
    "if not vcenter:\n",
    "    vcenter=0.\n",
    "else:\n",
    "    vcenter = float(vcenter)\n",
    "    \n",
    "if scaling_dict:\n",
    "    units = scaling_dict['units']\n",
    "#     print(units)"
   ]
  },
  {
   "cell_type": "code",
   "execution_count": 22,
   "id": "44359bd3",
   "metadata": {},
   "outputs": [],
   "source": [
    "\n",
    "\n",
    "ds = xr.open_dataset(path)\n",
    "source_id = ds.parent_source_id\n",
    "\n",
    "ds = ds[vname].isel(time=time_slice)\n",
    "if scaling_dict:\n",
    "    ds = ds.assign_attrs(units=units)\n",
    "with xr.set_options(keep_attrs=True):\n",
    "    ds = ds.sel(plev=plevel_slice)*scaling_factor\n",
    "ds = ds.mean(dim='plev',keep_attrs=True)\n",
    "label = ds.long_name.split(' ',1)[1] + f' \\n {ds.units}'\n",
    "#error = calc_error_gridded(ds.copy(),kind='SEM', time_dim='time')\n",
    "ds = ds.mean(dim='time',keep_attrs=True).to_dataset(name=vname)\n",
    "\n",
    "\n",
    "    \n"
   ]
  },
  {
   "cell_type": "code",
   "execution_count": 27,
   "id": "32b4d2e2",
   "metadata": {},
   "outputs": [],
   "source": [
    "fig,ax = plt.subplots(subplot_kw={'projection':ccrs.PlateCarree()}, figsize=(14,6))\n",
    "ds[vname].plot(ax=ax,norm = mpl.colors.TwoSlopeNorm(vcenter=0),cmap=cmap)\n",
    "global_map(ax)\n",
    "ax.set_title(source_id)\n",
    "plt.savefig(snakemake.output.outpath, bbox_inches='tight', dpi=144, facecolor='w')"
   ]
  }
 ],
 "metadata": {
  "kernelspec": {
   "display_name": "Python 3 (ipykernel)",
   "language": "python",
   "name": "python3"
  },
  "language_info": {
   "codemirror_mode": {
    "name": "ipython",
    "version": 3
   },
   "file_extension": ".py",
   "mimetype": "text/x-python",
   "name": "python",
   "nbconvert_exporter": "python",
   "pygments_lexer": "ipython3",
   "version": "3.9.0"
  }
 },
 "nbformat": 4,
 "nbformat_minor": 5
}
