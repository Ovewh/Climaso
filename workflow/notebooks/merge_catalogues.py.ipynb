{
 "cells": [
  {
   "cell_type": "code",
   "execution_count": 2,
   "id": "b9a27f7d",
   "metadata": {},
   "outputs": [],
   "source": [
    "import intake \n",
    "import pandas as pd"
   ]
  },
  {
   "cell_type": "code",
   "execution_count": 3,
   "id": "e7496700",
   "metadata": {},
   "outputs": [],
   "source": [
    "def create_local_table(paths):\n",
    "    dfs = []\n",
    "    for p in paths:\n",
    "        dfs.append(pd.read_csv(p))\n",
    "    df = pd.concat(dfs,ignore_index=True)\n",
    "    return df\n",
    "local_tab = create_local_table(snakemake.input)\n",
    "url = (\n",
    "    \"https://storage.googleapis.com/cmip6/pangeo-cmip6.json\"\n",
    ")\n",
    "remote_col = intake.open_esm_datastore(url)\n",
    "remote_tab = remote_col.df"
   ]
  },
  {
   "cell_type": "code",
   "execution_count": 5,
   "id": "7eb2a0cd-348f-46db-bf5b-ce693e6a3a27",
   "metadata": {},
   "outputs": [],
   "source": [
    "local_tab['version']=local_tab['version'].str.slice(start=1).astype(int)\n",
    "\n",
    "keys = [key \n",
    "        for key in local_tab.columns.values \n",
    "        if key in remote_tab.columns.values\n",
    "       ]\n",
    "i1 = local_tab.set_index(keys).index\n",
    "i2 = remote_tab.set_index(keys).index"
   ]
  },
  {
   "cell_type": "code",
   "execution_count": 8,
   "id": "b6880bfe-b7f4-4e0f-9062-330996421918",
   "metadata": {},
   "outputs": [],
   "source": [
    "remote_filtered = remote_tab[~i2.isin(i1)]\n",
    "\n",
    "merged_tab = pd.concat([local_tab, remote_filtered], ignore_index=True)\n",
    "\n",
    "merged_tab[\"format\"]=\"netcdf\"\n",
    "merged_tab.loc[pd.isna(merged_tab[\"path\"]),\"format\"]=\"zarr\"\n",
    "merged_tab.loc[pd.isna(merged_tab[\"time_range\"]),\"time_range\"]=\"*\"\n",
    "\n",
    "merged_tab.loc[pd.isna(merged_tab[\"path\"]),\"path\"]=merged_tab[\"zstore\"]\n",
    "\n",
    "del merged_tab[\"zstore\"]\n",
    "\n",
    "merged_tab = merged_tab.drop_duplicates(subset=[\"path\",\"version\"])"
   ]
  },
  {
   "cell_type": "code",
   "execution_count": 16,
   "id": "64a114b5",
   "metadata": {},
   "outputs": [],
   "source": [
    "merge_catalog ={\n",
    "    # we follow the esmcat specs version 0.1.0: \n",
    "    'esmcat_version': '0.1.0',\n",
    "    'id': 'Intake-Betzy-Nird-Pangeo',\n",
    "    'description': \"Intake catalog for CLIMASO, combining data local and cloud data\",\n",
    "}\n",
    "\n",
    "attributes=[]\n",
    "directory_structure_template=\"mip_era/activity_id/institution_id/source_id/experiment_id/member_id/table_id/variable_id/grid_label/version\"\n",
    "\n",
    "for att in directory_structure_template.split('/'):\n",
    "    attributes.append(\n",
    "        dict(column_name=att,\n",
    "             vocabulary=f\"https://raw.githubusercontent.com/WCRP-CMIP/CMIP6_CVs/master/CMIP6_{att}.json\"\n",
    "            )\n",
    "    )\n",
    "merge_catalog[\"attributes\"]=attributes  \n",
    "\n",
    "assets={\n",
    "    \"column_name\": \"path\",\n",
    "    \"format_column_name\" : \"format\"\n",
    "  }\n",
    "merge_catalog[\"assets\"]=assets"
   ]
  },
  {
   "cell_type": "code",
   "execution_count": 17,
   "id": "59fe0773",
   "metadata": {},
   "outputs": [],
   "source": [
    "aggregation_control=dict(\n",
    "    variable_column_name=\"variable_id\",\n",
    "    groupby_attrs=[\n",
    "        \"activity_id\",\n",
    "        \"institution_id\"\n",
    "    ]\n",
    ")\n",
    "\n",
    "aggregation_control[\"aggregations\"]=[dict(\n",
    "    attribute_name=\"variable_id\",\n",
    "    type=\"union\"\n",
    ")]\n",
    "\n",
    "aggregation_control[\"aggregations\"].append(\n",
    "    dict(\n",
    "        attribute_name=\"time_range\",\n",
    "        type=\"join_existing\",\n",
    "        options={ \"dim\": \"time\", \"coords\": \"minimal\", \"compat\": \"override\" }\n",
    "    )\n",
    ")\n",
    "\n",
    "aggregation_control[\"aggregations\"].append(\n",
    "    dict(\n",
    "        attribute_name= \"member_id\",\n",
    "        type= \"join_new\",\n",
    "        options={ \"coords\": \"minimal\", \"compat\": \"override\" }\n",
    "    )\n",
    ")\n",
    "\n",
    "merge_catalog[\"aggregation_control\"]=aggregation_control"
   ]
  },
  {
   "cell_type": "code",
   "execution_count": 18,
   "id": "74ab8167",
   "metadata": {},
   "outputs": [],
   "source": [
    "esm_merged = intake.open_esm_datastore({'esmcat':merge_catalog, 'df': merged_tab})"
   ]
  },
  {
   "cell_type": "code",
   "execution_count": 26,
   "id": "fde2e2e4",
   "metadata": {},
   "outputs": [],
   "source": [
    "outdir, name = snakemake.output.json.split('/')\n",
    "name = name.split(\".\")[0]"
   ]
  },
  {
   "cell_type": "code",
   "execution_count": 27,
   "id": "65a58fed",
   "metadata": {},
   "outputs": [],
   "source": [
    "esm_merged.serialize(name=name, directory=outdir, catalog_type=\"file\")"
   ]
  }
 ],
 "metadata": {
  "kernelspec": {
   "display_name": "Python 3 (ipykernel)",
   "language": "python",
   "name": "python3"
  },
  "language_info": {
   "codemirror_mode": {
    "name": "ipython",
    "version": 3
   },
   "file_extension": ".py",
   "mimetype": "text/x-python",
   "name": "python",
   "nbconvert_exporter": "python",
   "pygments_lexer": "ipython3",
   "version": "3.10.2"
  },
  "vscode": {
   "interpreter": {
    "hash": "e0c7d92e0a4d3659e3b438675286b7c84dca6ad7edb4ab471110fdd618f527c4"
   }
  }
 },
 "nbformat": 4,
 "nbformat_minor": 5
}
