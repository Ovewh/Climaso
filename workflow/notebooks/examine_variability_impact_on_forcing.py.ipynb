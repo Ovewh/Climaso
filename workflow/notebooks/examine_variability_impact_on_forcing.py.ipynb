{
 "cells": [
  {
   "cell_type": "code",
   "execution_count": 2,
   "id": "73bb85c2",
   "metadata": {},
   "outputs": [],
   "source": [
    "import xarray as xr\n",
    "import matplotlib.pyplot as plt\n",
    "from pyclim_noresm.general_util_funcs import global_avg"
   ]
  },
  {
   "cell_type": "code",
   "execution_count": 3,
   "id": "79314329",
   "metadata": {},
   "outputs": [],
   "source": [
    "def read_data(path):\n",
    "    dsets = []\n",
    "    for p in path:\n",
    "        dsets.append(xr.open_dataset(p))\n",
    "    return xr.merge(dsets)\n"
   ]
  },
  {
   "cell_type": "code",
   "execution_count": 4,
   "id": "90a928da",
   "metadata": {},
   "outputs": [],
   "source": [
    "nor_forcing = xr.open_dataset(snakemake.input.forcing_eff_noresm)\n",
    "mpi_forcing = xr.open_dataset(snakemake.input.forcing_eff_mpi)\n",
    "nor_aod = global_avg(read_data(snakemake.input.aod_noresm))\n",
    "mpi_aod = global_avg(read_data(snakemake.input.aod_mpi))"
   ]
  },
  {
   "cell_type": "code",
   "execution_count": 5,
   "id": "0f882892",
   "metadata": {},
   "outputs": [],
   "source": [
    "ERFnor_mpi = nor_aod['od550aer']*mpi_forcing.mean()\n",
    "ERFmpi_nor = mpi_aod['od550aer']*nor_forcing.mean()\n",
    "ERFnor_nor = nor_aod['od550aer']*nor_forcing.mean()\n",
    "ERFmpi_mpi = mpi_aod['od550aer']*mpi_forcing.mean()"
   ]
  },
  {
   "cell_type": "code",
   "execution_count": 6,
   "id": "77791473",
   "metadata": {},
   "outputs": [],
   "source": [
    "ERFnor_mpi = (nor_aod['od550aer'].values*mpi_forcing['ERFt_aod']).to_dataset()\n",
    "ERFmpi_nor = (mpi_aod['od550aer'].values*nor_forcing['ERFt_aod']).to_dataset()\n",
    "ERFnor_nor = (nor_aod['od550aer'].values*nor_forcing['ERFt_aod']).to_dataset()\n",
    "ERFmpi_mpi = (mpi_aod['od550aer'].values*mpi_forcing['ERFt_aod']).to_dataset()"
   ]
  },
  {
   "cell_type": "code",
   "execution_count": 7,
   "id": "5fb61703",
   "metadata": {},
   "outputs": [],
   "source": [
    "fig,ax = plt.subplots(figsize=(10,6))\n",
    "ax.plot(ERFnor_nor['ERFt_aod'].values, label='NorESM AOD NorESM ERF/AOD {:.2f}'.format(ERFnor_nor['ERFt_aod'].mean().values))\n",
    "ax.plot(ERFnor_mpi['ERFt_aod'].values, label='NorESM AOD MPI ERF/AOD Mean {:.2f}'.format(ERFnor_mpi['ERFt_aod'].mean().values))\n",
    "ax.plot(ERFmpi_mpi['ERFt_aod'].values, label='MPI AOD MPI ERF/AOD Mean {:.2f}'.format(ERFmpi_mpi['ERFt_aod'].mean().values))\n",
    "ax.plot(ERFmpi_nor['ERFt_aod'].values, \n",
    "        label='MPI AOD NorESM ERF/AOD Mean {:.2f}'.format(ERFmpi_nor['ERFt_aod'].mean().values))\n",
    "ax.legend()\n",
    "ax.set_ylim(-0.1, 0)\n",
    "plt.savefig(snakemake.output.outpath,bbox_inches='tight', dpi=144)\n"
   ]
  },
  {
   "cell_type": "code",
   "execution_count": 8,
   "id": "6e6682b2",
   "metadata": {},
   "outputs": [],
   "source": [
    "ERFnor_mpi = nor_aod['od550aer'].mean()*mpi_forcing\n",
    "ERFmpi_nor = mpi_aod['od550aer'].mean()*nor_forcing\n",
    "ERFnor_nor = nor_aod['od550aer'].mean()*nor_forcing\n",
    "ERFmpi_mpi = mpi_aod['od550aer'].mean()*mpi_forcing"
   ]
  },
  {
   "cell_type": "code",
   "execution_count": 9,
   "id": "7773cf70",
   "metadata": {},
   "outputs": [],
   "source": [
    "fig,ax = plt.subplots(figsize=(10,6))\n",
    "ax.plot(ERFnor_nor['ERFt_aod'].values, label='NorESM AOD NorESM ERF/AOD {:.2f}'.format(ERFnor_nor['ERFt_aod'].mean().values))\n",
    "ax.plot(ERFnor_mpi['ERFt_aod'].values, label='NorESM AOD MPI ERF/AOD Mean {:.2f}'.format(ERFnor_mpi['ERFt_aod'].mean().values))\n",
    "ax.plot(ERFmpi_mpi['ERFt_aod'].values, label='MPI AOD MPI ERF/AOD Mean {:.2f}'.format(ERFmpi_mpi['ERFt_aod'].mean().values))\n",
    "ax.plot(ERFmpi_nor['ERFt_aod'].values, \n",
    "        label='MPI AOD NorESM ERF/AOD Mean {:.2f}'.format(ERFmpi_nor['ERFt_aod'].mean().values))\n",
    "ax.legend()\n",
    "ax.set_ylim(-0.1, 0)\n",
    "plt.savefig(snakemake.output.outpath,bbox_inches='tight', dpi=144)"
   ]
  },
  {
   "cell_type": "code",
   "execution_count": 52,
   "id": "6c3afc6d",
   "metadata": {},
   "outputs": [],
   "source": [
    "ERFnor_mpi = nor_aod['od550aer']*mpi_forcing.mean()\n",
    "ERFmpi_nor = mpi_aod['od550aer']*nor_forcing.mean()\n",
    "ERFnor_nor = nor_aod['od550aer']*nor_forcing.mean()\n",
    "ERFmpi_mpi = mpi_aod['od550aer']*mpi_forcing.mean()"
   ]
  },
  {
   "cell_type": "code",
   "execution_count": 53,
   "id": "6dbdbcbb",
   "metadata": {},
   "outputs": [],
   "source": [
    "fig,ax = plt.subplots(figsize=(10,6))\n",
    "ax.plot(ERFnor_nor['ERFt_aod'].values, label='NorESM AOD NorESM ERF/AOD {:.2f}'.format(ERFnor_nor['ERFt_aod'].mean().values))\n",
    "ax.plot(ERFnor_mpi['ERFt_aod'].values, label='NorESM AOD MPI ERF/AOD Mean {:.2f}'.format(ERFnor_mpi['ERFt_aod'].mean().values))\n",
    "ax.plot(ERFmpi_mpi['ERFt_aod'].values, label='MPI AOD MPI ERF/AOD Mean {:.2f}'.format(ERFmpi_mpi['ERFt_aod'].mean().values))\n",
    "ax.plot(ERFmpi_nor['ERFt_aod'].values, \n",
    "        label='MPI AOD NorESM ERF/AOD Mean {:.2f}'.format(ERFmpi_nor['ERFt_aod'].mean().values))\n",
    "ax.legend()\n",
    "ax.set_ylim(-0.1, 0)\n",
    "plt.savefig(snakemake.output.outpath,bbox_inches='tight', dpi=144)"
   ]
  }
 ],
 "metadata": {
  "kernelspec": {
   "display_name": "Python 3.9.0 ('dustysnake')",
   "language": "python",
   "name": "python3"
  },
  "language_info": {
   "codemirror_mode": {
    "name": "ipython",
    "version": 3
   },
   "file_extension": ".py",
   "mimetype": "text/x-python",
   "name": "python",
   "nbconvert_exporter": "python",
   "pygments_lexer": "ipython3",
   "version": "3.9.0"
  },
  "vscode": {
   "interpreter": {
    "hash": "5252e5327a2efbab7c42f5d52cb87d9bedc44c7d9d6a615ebff0e5d85896cfce"
   }
  }
 },
 "nbformat": 4,
 "nbformat_minor": 5
}
