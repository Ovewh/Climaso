{
 "cells": [
  {
   "cell_type": "code",
   "execution_count": 2,
   "id": "b7b5c39d",
   "metadata": {},
   "outputs": [],
   "source": [
    "import matplotlib.pyplot as plt\n",
    "from workflow.scripts.plotting_tools import create_facet_plot, global_map\n",
    "import xarray as xr\n",
    "from workflow.scripts.utils import model_levels_to_pressure_levels\n",
    "import matplotlib as mpl\n",
    "import numpy as np\n",
    "import xesmf\n",
    "from pyclim_noresm.general_util_funcs import global_avg"
   ]
  },
  {
   "cell_type": "code",
   "execution_count": 3,
   "id": "aa51dd28",
   "metadata": {},
   "outputs": [],
   "source": [
    "\n",
    "\n",
    "nmodels = len(snakemake.input)\n",
    "paths = sorted(snakemake.input)\n",
    "\n",
    "params = snakemake.params\n",
    "time_slice = params.get('time_slice', slice(5,None))\n",
    "cmap = params.get('cmap', None)\n",
    "nlevels = params.get('nlevels', 21)\n",
    "method = params.get('method','mean')\n",
    "height = snakemake.wildcards.plevel\n",
    "scaling_factor=params.get('scaling_factor',1000)\n",
    "label = params.get('label',None)\n",
    "add_global_avg = params.get('add_global_avg',False)\n",
    "\n",
    "if cmap:\n",
    "    cmap = mpl.cm.get_cmap(cmap, nlevels)\n",
    "else:\n",
    "    cmap = mpl.cm.get_cmap('viridis_r', nlevels)\n"
   ]
  },
  {
   "cell_type": "code",
   "execution_count": 31,
   "id": "b72b81c3",
   "metadata": {
    "scrolled": false
   },
   "outputs": [],
   "source": [
    "fig,ax,cax = create_facet_plot(nmodels)\n",
    "norm = mpl.colors.Normalize(params.get('vmin',0),params.get('vmax',None))\n",
    "for path, axi in zip(paths, ax):\n",
    "    temp_ds = xr.open_dataset(path)\n",
    "    if temp_ds.cf['Z'].formula[0] == 'p':\n",
    "        temp_ds = model_levels_to_pressure_levels(temp_ds)\n",
    "    \n",
    "    var_id = temp_ds.variable_id\n",
    "    if 'time' in temp_ds.coords:\n",
    "        temp_ds = temp_ds.isel(time=time_slice)\n",
    "        temp_ds = temp_ds.mean(dim='time',keep_attrs=True)\n",
    "        source_id = temp_ds.parent_source_id\n",
    "    if 'Z' in temp_ds.cf.get_valid_keys():\n",
    "        Z = temp_ds.cf['Z'].name\n",
    "    else:\n",
    "        Z = 'plev'\n",
    "\n",
    "    if Z == 'lev':\n",
    "        plevel_data = snakemake.config['cloud_def_height'][height]\n",
    "        if plevel_data['top']:\n",
    "            plevel_slice = slice(plevel_data['bottom'], plevel_data['top'])\n",
    "        else:\n",
    "            plevel_slice = slice(plevel_data['bottom'], None)\n",
    "\n",
    "    else:\n",
    "        plevel_data = snakemake.config['cloud_def'][height]\n",
    "        if plevel_data['top']:\n",
    "            plevel_slice = slice(plevel_data['bottom']*100, plevel_data['top']*100)\n",
    "        else:\n",
    "            plevel_slice = slice(plevel_data['bottom']*100, None)    \n",
    "    \n",
    "        \n",
    "    with xr.set_options(keep_attrs=True):\n",
    "        temp_ds = temp_ds.sel({Z:plevel_slice})\n",
    "        temp_ds[var_id] = temp_ds[var_id]*scaling_factor \n",
    "    \n",
    "    if method == 'mean':\n",
    "        temp_ds = temp_ds.mean(dim=Z)\n",
    "    elif method == 'sum':\n",
    "        temp_ds = temp_ds.sum(dim=Z)\n",
    "    \n",
    "    pcm=temp_ds[var_id].plot(ax=ax[axi], cmap=cmap, norm=norm,  add_colorbar=False)\n",
    "   \n",
    "    global_map(ax[axi])\n",
    "\n",
    "    ax[axi].set_ylabel('')\n",
    "    ax[axi].set_xlabel('')\n",
    "    ax[axi].set_title(source_id)\n",
    "    if add_global_avg:\n",
    "        gavg = global_avg(temp_ds).compute()\n",
    "        ax[axi].text(0.12, 0.05, \n",
    "                     f\"Mean: {gavg[var_id].values:.3f}\",\n",
    "                     transform=ax[axi].transAxes,va='center', ha='center',\n",
    "                     bbox=dict(boxstyle=\"square\",ec=(1., 0.5, 0.5),\n",
    "                   fc=(1., 0.8, 0.8))\n",
    "                    )\n",
    "if label == None:\n",
    "    units = temp_ds[var_id].attrs[\"units\"]\n",
    "    label= f'{var_id} {units}'\n",
    "fig.colorbar(pcm, cax=cax, extend=params.get('cb_extend','neither'),\n",
    "             label=label)\n",
    "plt.savefig(snakemake.output.outpath, bbox_inches='tight', dpi=144, facecolor='w')"
   ]
  }
 ],
 "metadata": {
  "kernelspec": {
   "display_name": "Python 3 (ipykernel)",
   "language": "python",
   "name": "python3"
  },
  "language_info": {
   "codemirror_mode": {
    "name": "ipython",
    "version": 3
   },
   "file_extension": ".py",
   "mimetype": "text/x-python",
   "name": "python",
   "nbconvert_exporter": "python",
   "pygments_lexer": "ipython3",
   "version": "3.10.6"
  },
  "vscode": {
   "interpreter": {
    "hash": "e0c7d92e0a4d3659e3b438675286b7c84dca6ad7edb4ab471110fdd618f527c4"
   }
  }
 },
 "nbformat": 4,
 "nbformat_minor": 5
}
