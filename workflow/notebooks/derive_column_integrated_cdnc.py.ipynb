{
 "cells": [
  {
   "cell_type": "code",
   "execution_count": 1,
   "id": "1af9b0e0",
   "metadata": {},
   "outputs": [],
   "source": [
    "import xarray as xr\n",
    "import numpy as np\n",
    "import geocat.comp as geocomp"
   ]
  },
  {
   "cell_type": "code",
   "execution_count": 14,
   "id": "a79c6ecf",
   "metadata": {},
   "outputs": [],
   "source": [
    "cdnc = xr.open_dataset(snakemake.input.cdnc[0])\n",
    "ta = xr.open_dataset(snakemake.input.ta[0])\n",
    "dvar='cdncvi'\n",
    "p2 = snakemake.params.get('p1', 10000)\n",
    "attrs = cdnc.attrs.copy()"
   ]
  },
  {
   "cell_type": "code",
   "execution_count": 4,
   "id": "f2ad786a",
   "metadata": {},
   "outputs": [],
   "source": [
    "if snakemake.rule != 'column_integrate_cdnc_UKESM':\n",
    "    with xr.set_options(keep_attrs=True):\n",
    "        if snakemake.wildcards.model == 'CNRM-ESM2-1':\n",
    "            dim = cdnc.dims\n",
    "            b_bnds = cdnc['b_bnds'].values.ravel().reshape((dim['lev'], dim['bnds']))\n",
    "            a_bnds = cdnc['ap_bnds'].values.ravel().reshape((dim['lev'], dim['bnds']))\n",
    "            a_bnds = xr.DataArray(a_bnds, coords={'lev':cdnc.lev}, dims=['lev', 'bnds'])\n",
    "            b_bnds = xr.DataArray(b_bnds, coords={'lev':cdnc.lev}, dims=['lev', 'bnds'])\n",
    "            cdnc = cdnc.assign(ap_bnds=a_bnds,b_bnds=b_bnds)\n",
    "        elif snakemake.wildcards.model == 'IPSL-CM6A-LR-INCA':\n",
    "            dim = cdnc.dims\n",
    "            cdnc = cdnc.cf.guess_coord_axis()\n",
    "            if 'time' in cdnc['b_bnds'].dims:\n",
    "                b_bnds = cdnc['b_bnds'].mean(dim='time').transpose()\n",
    "                a_bnds = cdnc['ap_bnds'].mean(dim='time').transpose()\n",
    "                b = cdnc['b'].mean(dim='time')\n",
    "                ap=cdnc['ap'].mean(dim='time')\n",
    "            else:\n",
    "                b_bnds = cdnc['b_bnds'].transpose()\n",
    "                a_bnds = cdnc['ap_bnds'].transpose()\n",
    "                b = cdnc['b']\n",
    "                ap=cdnc['ap']\n",
    "            cdnc = cdnc.assign(ap_bnds=a_bnds,b_bnds=b_bnds, b = b, \n",
    "                                 ap=cdnc['ap'])\n",
    "            cdnc = cdnc.cf.add_bounds('lev')\n",
    "            cdnc['lev_bounds'] = cdnc['lev_bounds'].transpose().swap_dims(bounds='bnds')\n",
    "            cdnc['lev'].attrs['formula'] = 'p=lev'\n",
    "            cdnc = cdnc.cf.guess_coord_axis()\n",
    "            cdnc = cdnc.rename({'lev':'plev'})\n",
    "            \n",
    "    if 'ap' in cdnc.data_vars:\n",
    "        cdnc = cdnc.rename_vars({'ap': 'a'})\n",
    "\n",
    "    if 'lev_bounds' in cdnc.data_vars:\n",
    "        cdnc = cdnc.rename_vars({'lev_bounds': 'lev_bnds'})\n",
    "        # ds_exp = ds_exp.rename_vars({'lev_bounds': 'lev_bnds'})\n",
    "\n",
    "    if 'lon_bounds' in cdnc.data_vars:\n",
    "        cdnc = cdnc.rename_vars({'lon_bounds': 'lon_bnds'})\n",
    "        cdnc = cdnc.rename_vars({'lat_bounds': 'lat_bnds'})"
   ]
  },
  {
   "cell_type": "code",
   "execution_count": 5,
   "id": "dfac4ec5",
   "metadata": {},
   "outputs": [],
   "source": [
    "if cdnc.cf['Z'].formula == 'p = a*p0 + b*ps':\n",
    "    cdnc = geocomp.interpolation.interp_hybrid_to_pressure(data  =cdnc['cdnc'], \n",
    "                                                        ps        =cdnc['ps'], \n",
    "                                                        hyam      =cdnc['a'], \n",
    "                                                        hybm      =cdnc['b'], \n",
    "                                                        p0        =cdnc.get('p0', 100000.0),\n",
    "                                               new_levels=ta.plev)\n",
    "elif cdnc.cf['Z'].formula in ['p = ap + b*ps','p(n,k,j,i) = ap(k) + b(k)*ps(n,j,i)']:\n",
    "    cdnc = geocomp.interpolation.interp_hybrid_to_pressure(data  =cdnc['cdnc'], \n",
    "                                                        ps        =cdnc['ps'], \n",
    "                                                        hyam      =cdnc['a'], \n",
    "                                                        hybm      =cdnc['b'], \n",
    "                                                        p0        =cdnc.get('p0', 1),\n",
    "                                               new_levels=ta.plev)\n",
    "\n",
    "elif cdnc.cf['Z'].formula == 'z = a + b*orog':\n",
    "    from workflow.scripts.utils import pressure_to_height\n",
    "    from functools import partial\n",
    "    orog = cdnc['orog'].copy()\n",
    "    pfull = xr.open_dataset(snakemake.input.pfull[0]).mean(dim='time', keep_attrs=True)\n",
    "    \n",
    "    valid_pressures = pfull.where(pfull['pfull'] > p2)\n",
    "    cdnc = cdnc.assign(cdnc=cdnc['cdnc'].where(np.isnan(valid_pressures['pfull']),cdnc['cdnc']))\n",
    "    z = (cdnc['lev'] + cdnc['orog']*cdnc['b']).copy()\n",
    "    dz = z.where(np.isnan(valid_pressures['pfull'])==False, np.nan)\n",
    "    dz = (dz.max(dim='lev') - dz.isel(lev=0))\n",
    "else:\n",
    "    print('formula not reconized')"
   ]
  },
  {
   "cell_type": "code",
   "execution_count": 6,
   "id": "67f28b2b",
   "metadata": {},
   "outputs": [],
   "source": [
    "if snakemake.rule == 'column_integrate_cdnc_UKESM':\n",
    "    cdnc = cdnc.sum(dim='lev')*1e-6*dz\n",
    "    cdnc = cdnc['cdnc']\n",
    "else:\n",
    "    with xr.set_options(keep_attrs=True):\n",
    "        cdnc=cdnc.sel(plev=slice(None,p2)).sum(dim='plev')\n",
    "\n",
    "        tm = ta.sel(plev=slice(None,p2)).mean(dim='plev')\n",
    "    \n",
    "    if snakemake.wildcards.model == 'IPSL-CM6A-LR-INCA':\n",
    "        cdnc= cdnc['cdnc']\n",
    "    \n",
    "    p1 = ta.plev[0]\n",
    "\n",
    "    Rair=287.058\n",
    "    g=9.81\n",
    "    dz = Rair/g*tm['ta']*(np.log(p1/p2))\n",
    "\n",
    "    cdnc=cdnc*dz*1e-6"
   ]
  },
  {
   "cell_type": "code",
   "execution_count": 7,
   "id": "cce8bf70",
   "metadata": {},
   "outputs": [],
   "source": [
    "cdnc.attrs['units']='m-2'\n",
    "cdnc.attrs['standard_name'] = 'vertically_integrated_number_concentration_of_cloud_liquid_water_particles_in_air'\n",
    "cdnc.attrs['long_name'] = 'Vertically Integrated Cloud Liquid Droplet Number Concentration'\n",
    "cdnc.attrs['model_top'] = f'top of intergration {p2/100} hPa'"
   ]
  },
  {
   "cell_type": "code",
   "execution_count": 8,
   "id": "0fca6959",
   "metadata": {},
   "outputs": [],
   "source": [
    "out_ds = cdnc.to_dataset(name=dvar)\n",
    "if 'plev' in out_ds.coords:\n",
    "    out_ds = out_ds.drop('plev')\n",
    "elif 'lev' in out_ds.coords:\n",
    "    out_ds = out_ds.drop('lev')\n",
    "out_ds.attrs = attrs\n",
    "out_ds.attrs['history'] = f'{out_ds.attrs[\"history\"]},{snakemake.rule} vertical intragration'\n",
    "out_ds.attrs['variable_id'] = dvar"
   ]
  },
  {
   "cell_type": "code",
   "execution_count": null,
   "id": "6455e1b3",
   "metadata": {},
   "outputs": [],
   "source": [
    "out_ds.to_netcdf(snakemake.output.outpath)"
   ]
  }
 ],
 "metadata": {
  "kernelspec": {
   "display_name": "Python 3 (ipykernel)",
   "language": "python",
   "name": "python3"
  },
  "language_info": {
   "codemirror_mode": {
    "name": "ipython",
    "version": 3
   },
   "file_extension": ".py",
   "mimetype": "text/x-python",
   "name": "python",
   "nbconvert_exporter": "python",
   "pygments_lexer": "ipython3",
   "version": "3.10.10"
  },
  "vscode": {
   "interpreter": {
    "hash": "e0c7d92e0a4d3659e3b438675286b7c84dca6ad7edb4ab471110fdd618f527c4"
   }
  }
 },
 "nbformat": 4,
 "nbformat_minor": 5
}
