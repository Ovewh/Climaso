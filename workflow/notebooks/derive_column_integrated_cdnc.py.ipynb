{
 "cells": [
  {
   "cell_type": "code",
   "execution_count": null,
   "id": "1af9b0e0",
   "metadata": {},
   "outputs": [],
   "source": [
    "import xarray as xr\n",
    "import numpy as np\n",
    "import geocat.comp as geocomp\n",
    "from dask.distributed import Client, LocalCluster\n",
    "import pandas as pd\n",
    "import tempfile"
   ]
  },
  {
   "cell_type": "code",
   "execution_count": null,
   "id": "a79c6ecf",
   "metadata": {},
   "outputs": [],
   "source": [
    "if snakemake.input.cdnc[0].endswith('.zarr'):\n",
    "    cdnc = xr.open_dataset(snakemake.input.cdnc[0], engine='zarr')\n",
    "    ta = xr.open_dataset(snakemake.input.ta[0],engine='zarr')\n",
    "else:\n",
    "    cdnc = xr.open_dataset(snakemake.input.cdnc[0])\n",
    "    ta = xr.open_dataset(snakemake.input.ta[0])\n",
    "dvar='cdncvi'\n",
    "p2 = snakemake.params.get('p1', 10000)\n",
    "attrs = cdnc.attrs.copy()\n",
    "\n",
    "model = snakemake.input.cdnc[0].split('/')[-1].split('_')[-2]"
   ]
  },
  {
   "cell_type": "code",
   "execution_count": null,
   "id": "eba22c84-012d-4c17-abb2-3bd8f751608c",
   "metadata": {},
   "outputs": [],
   "source": [
    "cdnc = cdnc.chunk({'time':1})\n",
    "ta = ta.chunk({'time':1})"
   ]
  },
  {
   "cell_type": "code",
   "execution_count": null,
   "id": "f2ad786a",
   "metadata": {},
   "outputs": [],
   "source": [
    "if snakemake.rule != 'column_integrate_cdnc_UKESM':\n",
    "    with xr.set_options(keep_attrs=True):\n",
    "        if model == 'CNRM-ESM2-1':\n",
    "            dim = cdnc.dims\n",
    "            b_bnds = cdnc['b_bnds'].values.ravel().reshape((dim['lev'], dim['bnds']))\n",
    "            a_bnds = cdnc['ap_bnds'].values.ravel().reshape((dim['lev'], dim['bnds']))\n",
    "            a_bnds = xr.DataArray(a_bnds, coords={'lev':cdnc.lev}, dims=['lev', 'bnds'])\n",
    "            b_bnds = xr.DataArray(b_bnds, coords={'lev':cdnc.lev}, dims=['lev', 'bnds'])\n",
    "            cdnc = cdnc.assign(ap_bnds=a_bnds,b_bnds=b_bnds)\n",
    "        elif model == 'IPSL-CM6A-LR-INCA' and 'lev' in cdnc.dims:\n",
    "            cdnc = cdnc.rename({'lev':'plev'})\n",
    "            cdnc['plev_bnds'] = cdnc['ap_bnds'] + cdnc['b_bnds']*cdnc['ps']\n",
    "            # cdnc = cdnc.transpose('time', 'lat', 'lon', 'plev', 'lev', 'bnds','axis_nbounds', 'half_lev', 'klevp1', missing_dims=\"ignore\" )\n",
    "\n",
    "        # Remove unnecessary variables\n",
    "            cdnc = cdnc.drop_vars(['ap', 'b', 'ps', 'p0', 'ap_bnds', 'b_bnds', 'lev_bnds', 'orog'], errors='ignore')\n",
    "\n",
    "            \n",
    "    if 'ap' in cdnc.data_vars:\n",
    "        cdnc = cdnc.rename_vars({'ap': 'a'})\n",
    "\n",
    "    if 'lev_bounds' in cdnc.data_vars:\n",
    "        cdnc = cdnc.rename_vars({'lev_bounds': 'lev_bnds'})\n",
    "        # ds_exp = ds_exp.rename_vars({'lev_bounds': 'lev_bnds'})\n",
    "\n",
    "    if 'lon_bounds' in cdnc.data_vars:\n",
    "        cdnc = cdnc.rename_vars({'lon_bounds': 'lon_bnds'})\n",
    "        cdnc = cdnc.rename_vars({'lat_bounds': 'lat_bnds'})\n",
    "\n"
   ]
  },
  {
   "cell_type": "code",
   "execution_count": null,
   "id": "edbdfbf7-971f-4ff4-8482-c269037b0849",
   "metadata": {},
   "outputs": [],
   "source": [
    "try:\n",
    "    z_axis = cdnc.cf['Z']\n",
    "except KeyError:\n",
    "    z_axis=None\n",
    "\n",
    "if z_axis is not None:\n",
    "    formula = z_axis.formula\n",
    "else:\n",
    "    formula = ''\n",
    "if formula == 'p = a*p0 + b*ps':\n",
    "    cdnc = geocomp.interpolation.interp_hybrid_to_pressure(data  =cdnc['cdnc'], \n",
    "                                                        ps        =cdnc['ps'], \n",
    "                                                        hyam      =cdnc['a'], \n",
    "                                                        hybm      =cdnc['b'], \n",
    "                                                        p0        =cdnc.get('p0', 100000.0),\n",
    "                                               new_levels=ta.plev.values)\n",
    "elif formula in ['p = ap + b*ps','p(n,k,j,i) = ap(k) + b(k)*ps(n,j,i)']:\n",
    "    cdnc = geocomp.interpolation.interp_hybrid_to_pressure(data  =cdnc['cdnc'], \n",
    "                                                        ps        =cdnc['ps'], \n",
    "                                                        hyam      =cdnc['a'], \n",
    "                                                        hybm      =cdnc['b'], \n",
    "                                                        p0        =cdnc.get('p0', 1),\n",
    "                                               new_levels=ta.plev.values)\n",
    "\n",
    "elif formula == 'z = a + b*orog':\n",
    "    from functools import partial\n",
    "    orog = cdnc['orog'].copy()\n",
    "    pfull = xr.open_dataset(snakemake.input.pfull[0]).mean(dim='time', keep_attrs=True)\n",
    "    \n",
    "    valid_pressures = pfull.where(pfull['pfull'] > p2)\n",
    "    cdnc = cdnc.assign(cdnc=cdnc['cdnc'].where(np.isnan(valid_pressures['pfull']),cdnc['cdnc']))\n",
    "    z = (cdnc['lev'] + cdnc['orog']*cdnc['b']).copy()\n",
    "    dz = z.where(np.isnan(valid_pressures['pfull'])==False, np.nan)\n",
    "    dz = (dz.max(dim='lev') - dz.isel(lev=0))\n",
    "\n",
    "elif model == 'IPSL-CM6A-LR-INCA':\n",
    "    dp = (cdnc['plev_bnds'].diff(dim='bnds')).squeeze()\n",
    "    dp = dp.sel(klevp1=slice(0,len(cdnc['klevp1'])-1)).assign_coords({'klevp1': cdnc.plev.data})\n",
    "    dp = dp.rename({'klevp1':'lev'})\n",
    "    cdnc = cdnc.rename({'plev':'lev'})\n",
    "    _cdnc = -dp/9.81*cdnc['cdnc']\n",
    "    \n",
    "    cdncvi = np.sum(_cdnc, axis=_cdnc.get_axis_num('lev'), keepdims=True).squeeze()\n",
    "    \n",
    "else:\n",
    "    print('formula not reconized')\n",
    "\n"
   ]
  },
  {
   "cell_type": "code",
   "execution_count": null,
   "id": "133fa87b-63b8-4d8d-8526-d111c144726a",
   "metadata": {},
   "outputs": [],
   "source": [
    "def _chaching_calculation(ds,vname,temp_tag=''):\n",
    "    import tempfile\n",
    "    chunck_size = ds.chunksizes['time']\n",
    "    print(chunck_size)\n",
    "    tempdir = tempfile.mkdtemp(f'{temp_tag}')\n",
    "    temp_ds = xr.zeros_like(ds)\n",
    "    ds_shape = ds.dims\n",
    "    temp_ds.to_zarr(tempdir,mode='w', compute=False)\n",
    "    drop_dims = [d for d in list(ds_shape.keys()) if d != 'time']\n",
    "    j_1 = 0\n",
    "    j_2 = 0\n",
    "    for j in range(len(chunck_size)):\n",
    "        print(j)\n",
    "        j_2 += chunck_size[j]\n",
    "        dd = ds[vname].isel(time=slice(j_1,j_2)).drop(drop_dims)\n",
    "        dd = dd.to_dataset().compute()\n",
    "        print(dd)\n",
    "        dd.to_zarr(tempdir, region={'time': slice(j_1,j_2)},mode='r+')\n",
    "        j_1 += chunck_size[j]\n",
    "    return xr.open_dataset(tempdir, engine='zarr')"
   ]
  },
  {
   "cell_type": "code",
   "execution_count": null,
   "id": "67f28b2b",
   "metadata": {},
   "outputs": [],
   "source": [
    "if snakemake.rule == 'column_integrate_cdnc_UKESM':\n",
    "    cdnc = cdnc.sum(dim='lev')*dz\n",
    "    cdnc = cdnc['cdnc']\n",
    "else:\n",
    "    if model == 'IPSL-CM6A-LR-INCA':\n",
    "        cdnc=cdncvi\n",
    "        \n",
    "    else:\n",
    "        with xr.set_options(keep_attrs=True):\n",
    "            cdnc=cdnc.sel(plev=slice(None,p2)).sum(dim='plev')\n",
    "    \n",
    "            tm = ta.sel(plev=slice(None,p2)).mean(dim='plev')\n",
    "        \n",
    "    \n",
    "        \n",
    "        p1 = ta.plev[0]\n",
    "    \n",
    "        Rair=287.058\n",
    "        g=9.81\n",
    "        dz = Rair/g*tm['ta']*(np.log(p1/p2))\n",
    "    \n",
    "        cdnc=cdnc*dz"
   ]
  },
  {
   "cell_type": "code",
   "execution_count": null,
   "id": "cce8bf70",
   "metadata": {},
   "outputs": [],
   "source": [
    "cdnc.attrs['units']='m-2'\n",
    "cdnc.attrs['standard_name'] = 'vertically_integrated_number_concentration_of_cloud_liquid_water_particles_in_air'\n",
    "cdnc.attrs['long_name'] = 'Vertically Integrated Cloud Liquid Droplet Number Concentration'\n",
    "cdnc.attrs['model_top'] = f'top of intergration {p2/100} hPa'"
   ]
  },
  {
   "cell_type": "code",
   "execution_count": null,
   "id": "0fca6959",
   "metadata": {},
   "outputs": [],
   "source": [
    "out_ds = cdnc.to_dataset(name=dvar)\n",
    "out_ds = out_ds.drop(['plev','lev'],  errors='ignore')\n",
    "out_ds.attrs = attrs\n",
    "out_ds.attrs['history'] = f'{out_ds.attrs.get(\"history\",\"\")},{snakemake.rule} vertical intragration'\n",
    "out_ds.attrs['variable_id'] = dvar\n",
    "with xr.set_options(keep_attrs=True):\n",
    "    out_ds = out_ds.resample(time='Y').mean()"
   ]
  },
  {
   "cell_type": "code",
   "execution_count": null,
   "id": "c698e7ef-5f45-445d-8a16-5d1124173c54",
   "metadata": {},
   "outputs": [],
   "source": [
    "\n",
    "try:\n",
    "    from dask.diagnostics import ProgressBar\n",
    "    with ProgressBar():\n",
    "        results = out_ds.compute()\n",
    "except MemoryError:\n",
    "    print(\"OutOf memmory using Caching option\")\n",
    "    results = _chaching_calculation(out_ds.copy(),dvar, snakemake.output.outpath.split('/')[-1])\n",
    "    "
   ]
  },
  {
   "cell_type": "code",
   "execution_count": null,
   "id": "d391fd1b-d8f5-410d-bc28-6eefee5f08ef",
   "metadata": {},
   "outputs": [],
   "source": [
    "results.to_netcdf(snakemake.output.outpath)"
   ]
  }
 ],
 "metadata": {
  "kernelspec": {
   "display_name": "Python 3 (ipykernel)",
   "language": "python",
   "name": "python3"
  },
  "language_info": {
   "codemirror_mode": {
    "name": "ipython",
    "version": 3
   },
   "file_extension": ".py",
   "mimetype": "text/x-python",
   "name": "python",
   "nbconvert_exporter": "python",
   "pygments_lexer": "ipython3",
   "version": "3.11.4"
  },
  "vscode": {
   "interpreter": {
    "hash": "e0c7d92e0a4d3659e3b438675286b7c84dca6ad7edb4ab471110fdd618f527c4"
   }
  }
 },
 "nbformat": 4,
 "nbformat_minor": 5
}
