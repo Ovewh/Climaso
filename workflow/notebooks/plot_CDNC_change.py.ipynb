{
 "cells": [
  {
   "cell_type": "code",
   "execution_count": 16,
   "id": "815ce8be",
   "metadata": {},
   "outputs": [],
   "source": [
    "import matplotlib.pyplot as plt\n",
    "from workflow.scripts.plotting_tools import create_facet_plot\n",
    "import xarray as xr\n",
    "from workflow.scripts.utils import calc_relative_change\n",
    "from workflow.scripts.plotting_tools import global_map\n",
    "import matplotlib as mpl\n",
    "import numpy as np"
   ]
  },
  {
   "cell_type": "code",
   "execution_count": 3,
   "id": "7a8bb2be",
   "metadata": {
    "scrolled": true
   },
   "outputs": [],
   "source": [
    "nmodels = len(snakemake.input.path_ctrl)\n",
    "ctrl_path = snakemake.input.path_ctrl\n",
    "ctrl_path=sorted(ctrl_path)\n",
    "exp_path = snakemake.input.path_exp\n",
    "exp_path=sorted(exp_path)\n",
    "diffs = {}\n",
    "for ctrl, exp in zip(ctrl_path, exp_path):\n",
    "    ds_exp = xr.open_dataset(exp).load()\n",
    "    ds_ctrl = xr.open_dataset(ctrl).load()\n",
    "    rel_diff = calc_relative_change(ds_ctrl, ds_exp)\n",
    "    diffs[ds_exp.source_id] = rel_diff\n",
    "    "
   ]
  },
  {
   "cell_type": "code",
   "execution_count": 20,
   "id": "7c77bac6",
   "metadata": {},
   "outputs": [],
   "source": [
    "diffs['MPI-ESM-1-2-HAM']['cdnc'].min()"
   ]
  },
  {
   "cell_type": "code",
   "execution_count": 33,
   "id": "c5b53f41",
   "metadata": {},
   "outputs": [],
   "source": [
    "fig,ax = create_facet_plot(nmodels, figsize=(16,10))\n",
    "cmap = mpl.cm.bwr\n",
    "\n",
    "colors_under = plt.cm.bwr(np.linspace(.25, 0.50, 256))\n",
    "colors_above = plt.cm.bwr(np.linspace(0.5, 1, 256))\n",
    "\n",
    "all_colors = np.vstack((colors_under, colors_above))\n",
    "offset_cmap = mpl.colors.LinearSegmentedColormap.from_list('offset_bwr',\n",
    "    all_colors)\n",
    "# norm = mpl.colors.BoundaryNorm(np.linspace(-100,100,17),17)\n",
    "norm = mpl.colors.TwoSlopeNorm(vmin=-20., vcenter=0., vmax=100.)\n",
    "for ds, axi in zip(diffs, ax):\n",
    "    temp_ds = diffs[ds]\n",
    "    pcm=temp_ds[temp_ds.variable_id].plot(ax=ax[axi], cmap=offset_cmap, norm=norm,  add_colorbar=False)\n",
    "    ax[axi].set_title(ds)\n",
    "    global_map(ax[axi])\n",
    "\n",
    "cax = fig.add_axes([0.94,0.2,0.02,0.62])\n",
    "fig.colorbar(pcm, cax=cax, extend='both',\n",
    "             label='$\\Delta$[CDNC] %')\n",
    "plt.savefig(snakemake.output.outpath, bbox_inches='tight', dpi=144, facecolor='w')\n"
   ]
  }
 ],
 "metadata": {
  "kernelspec": {
   "display_name": "dustysnake",
   "language": "python",
   "name": "dustysnake"
  },
  "language_info": {
   "codemirror_mode": {
    "name": "ipython",
    "version": 3
   },
   "file_extension": ".py",
   "mimetype": "text/x-python",
   "name": "python",
   "nbconvert_exporter": "python",
   "pygments_lexer": "ipython3",
   "version": "3.9.0"
  }
 },
 "nbformat": 4,
 "nbformat_minor": 5
}
