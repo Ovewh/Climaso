{
 "cells": [
  {
   "cell_type": "code",
   "execution_count": 56,
   "id": "815ce8be",
   "metadata": {},
   "outputs": [],
   "source": [
    "import matplotlib.pyplot as plt\n",
    "from workflow.scripts.plotting_tools import create_facet_plot\n",
    "import xarray as xr\n",
    "from workflow.scripts.utils import regrid_global\n",
    "from workflow.scripts.plotting_tools import global_map\n",
    "import matplotlib as mpl"
   ]
  },
  {
   "cell_type": "code",
   "execution_count": 19,
   "id": "7a8bb2be",
   "metadata": {},
   "outputs": [],
   "source": [
    "nmodels = len(snakemake.input.path_ctrl)\n",
    "ctrl_path = snakemake.input.path_ctrl\n",
    "ctrl_path=sorted(ctrl_path)\n",
    "exp_path = snakemake.input.path_exp\n",
    "exp_path=sorted(exp_path)"
   ]
  },
  {
   "cell_type": "code",
   "execution_count": 112,
   "id": "5248102c",
   "metadata": {},
   "outputs": [],
   "source": [
    "diffs = {}\n",
    "for ctrl, exp in zip(ctrl_path, exp_path):\n",
    "    ds_exp = xr.open_dataset(exp).load().mean(dim='year', keep_attrs=True)\n",
    "    ds_ctrl = xr.open_dataset(ctrl).load().mean(dim='year',keep_attrs=True)\n",
    "    diff_ds = ds_exp.copy()\n",
    "    with xr.set_options(keep_attrs=True):\n",
    "        diff = (ds_exp[ds_exp.variable_id].sum(dim='lev') -\n",
    "                ds_ctrl[ds_exp.variable_id].sum(dim='lev'))/(ds_ctrl[ds_exp.variable_id].sum(dim='lev'))\n",
    "        diff['units'] = '%'\n",
    "        diff_ds = diff_ds.assign({diff_ds.varialbe_id : diff*100})\n",
    "        \n",
    "    #diff_ds = diff_ds.sum(dim='lev', keep_attrs=True)\n",
    "    diffs[ds_exp.source_id] = diff_ds\n",
    "    "
   ]
  },
  {
   "cell_type": "code",
   "execution_count": 113,
   "id": "c5b53f41",
   "metadata": {},
   "outputs": [],
   "source": [
    "fig,ax = create_facet_plot(nmodels, figsize=(14,12))\n",
    "cmap = mpl.cm.bwr\n",
    "norm = mpl.colors.Normalize(vmin=-40,vmax=40)\n",
    "for ds, axi in zip(diffs, ax):\n",
    "    temp_ds = diffs[ds]\n",
    "    temp_ds[temp_ds.variable_id].plot(ax=ax[axi], cmap=cmap, norm=norm,  add_colorbar=False)\n",
    "    ax[axi].set_title(ds)\n",
    "    global_map(ax[axi])\n",
    "\n",
    "cax = fig.add_axes([0.94,0.2,0.02,0.62])\n",
    "fig.colorbar(mpl.cm.ScalarMappable(norm, cmap=cmap), cax=cax, extend='max',\n",
    "             label='$\\Delta$[CDNC] %')\n",
    "plt.savefig(snakemake.output.outpath, bbox_inches='tight', dpi=144, facecolor='w')\n"
   ]
  }
 ],
 "metadata": {
  "kernelspec": {
   "display_name": "dustysnake",
   "language": "python",
   "name": "dustysnake"
  },
  "language_info": {
   "codemirror_mode": {
    "name": "ipython",
    "version": 3
   },
   "file_extension": ".py",
   "mimetype": "text/x-python",
   "name": "python",
   "nbconvert_exporter": "python",
   "pygments_lexer": "ipython3",
   "version": "3.9.0"
  }
 },
 "nbformat": 4,
 "nbformat_minor": 5
}
