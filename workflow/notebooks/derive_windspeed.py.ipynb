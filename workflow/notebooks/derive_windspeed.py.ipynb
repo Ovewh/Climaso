{
 "cells": [
  {
   "cell_type": "code",
   "execution_count": 7,
   "id": "45d441a1",
   "metadata": {},
   "outputs": [],
   "source": [
    "import xarray as xr\n",
    "import xesmf\n",
    "import numpy as np"
   ]
  },
  {
   "cell_type": "code",
   "execution_count": 11,
   "id": "63738d93",
   "metadata": {},
   "outputs": [],
   "source": [
    "u = xr.open_dataset(snakemake.input.u[0])\n",
    "u = u.isel({u.cf['Z'].name:0})\n",
    "v = xr.open_dataset(snakemake.input.v[0])\n",
    "v = v.isel({v.cf['Z'].name:0})"
   ]
  },
  {
   "cell_type": "code",
   "execution_count": 12,
   "id": "b3113d8d",
   "metadata": {},
   "outputs": [],
   "source": [
    "ws = u.copy()\n",
    "ws = u.rename({'ua':'ws'})\n",
    "ws = ws.assign({'ws':np.sqrt(u['ua']**2+v['va']**2)})\n",
    "ws['ws'].attrs['units'] = 'm s-1'\n",
    "ws['ws'].attrs['long_name'] = 'Wind Speed'\n",
    "ws['ws'].attrs['standard_name'] = \"wind_speed\"\n",
    "ws.attrs['variable_id']='ws'"
   ]
  },
  {
   "cell_type": "code",
   "execution_count": 24,
   "id": "ac4ef9e8",
   "metadata": {},
   "outputs": [],
   "source": [
    "ws.to_netcdf(snakemake.output.outpath)"
   ]
  }
 ],
 "metadata": {
  "kernelspec": {
   "display_name": "Python 3 (ipykernel)",
   "language": "python",
   "name": "python3"
  },
  "language_info": {
   "codemirror_mode": {
    "name": "ipython",
    "version": 3
   },
   "file_extension": ".py",
   "mimetype": "text/x-python",
   "name": "python",
   "nbconvert_exporter": "python",
   "pygments_lexer": "ipython3",
   "version": "3.10.2"
  }
 },
 "nbformat": 4,
 "nbformat_minor": 5
}
