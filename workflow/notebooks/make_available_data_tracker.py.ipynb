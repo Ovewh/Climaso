{
 "cells": [
  {
   "cell_type": "code",
   "execution_count": 13,
   "id": "0c423fdf",
   "metadata": {},
   "outputs": [],
   "source": [
    "import yaml"
   ]
  },
  {
   "cell_type": "code",
   "execution_count": 16,
   "id": "3c6c71e6",
   "metadata": {},
   "outputs": [],
   "source": [
    "with open(snakemake.input.reference, 'r') as f:\n",
    "    default_list = yaml.load(f,yaml.SafeLoader)\n",
    "    \n",
    "with open(snakemake.output.outpath, 'w') as f:\n",
    "    yaml.dump(default_list, f, yaml.SafeDumper, default_flow_style=False)"
   ]
  }
 ],
 "metadata": {
  "kernelspec": {
   "display_name": "Python 3 (ipykernel)",
   "language": "python",
   "name": "python3"
  },
  "language_info": {
   "codemirror_mode": {
    "name": "ipython",
    "version": 3
   },
   "file_extension": ".py",
   "mimetype": "text/x-python",
   "name": "python",
   "nbconvert_exporter": "python",
   "pygments_lexer": "ipython3",
   "version": "3.10.2"
  }
 },
 "nbformat": 4,
 "nbformat_minor": 5
}
