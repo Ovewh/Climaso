{
 "cells": [
  {
   "cell_type": "code",
   "execution_count": 2,
   "id": "815ce8be",
   "metadata": {},
   "outputs": [],
   "source": [
    "import matplotlib.pyplot as plt\n",
    "from workflow.scripts.plotting_tools import create_facet_plot\n",
    "import xarray as xr\n",
    "from workflow.scripts.utils import calc_relative_change, calc_abs_change\n",
    "from workflow.scripts.plotting_tools import global_map\n",
    "import matplotlib as mpl\n",
    "import numpy as np"
   ]
  },
  {
   "cell_type": "code",
   "execution_count": 3,
   "id": "7a8bb2be",
   "metadata": {
    "scrolled": true
   },
   "outputs": [],
   "source": [
    "nmodels = len(snakemake.input.path_ctrl)\n",
    "ctrl_path = snakemake.input.path_ctrl\n",
    "ctrl_path=sorted(ctrl_path)\n",
    "exp_path = snakemake.input.path_exp\n",
    "exp_path=sorted(exp_path)\n",
    "mins=[]\n",
    "maxs=[]\n",
    "diffs = {}\n",
    "for ctrl, exp in zip(ctrl_path, exp_path):\n",
    "    ds_exp = xr.open_dataset(exp).load()\n",
    "    ds_ctrl = xr.open_dataset(ctrl).load()\n",
    "    with xr.set_options(keep_attrs=True):\n",
    "        if snakemake.wildcards.kind == 'rel':\n",
    "            diff = calc_relative_change(ds_ctrl, ds_exp)\n",
    "        elif snakemake.wildcards.kind == 'abs':\n",
    "            diff = calc_abs_change(ds_ctrl, ds_exp)\n",
    "            diff[diff.variable_id] = diff[diff.variable_id]\n",
    "        mins.append(diff[diff.variable_id].min())\n",
    "        maxs.append(diff[diff.variable_id].max())\n",
    "        diffs[ds_exp.source_id] = diff\n",
    "    "
   ]
  },
  {
   "cell_type": "code",
   "execution_count": 4,
   "id": "f14a45b8",
   "metadata": {},
   "outputs": [],
   "source": [
    "minv = np.floor(np.array(mins).mean())\n",
    "\n",
    "maxv = np.ceil(np.array(maxs).mean())"
   ]
  },
  {
   "cell_type": "code",
   "execution_count": 10,
   "id": "c5b53f41",
   "metadata": {},
   "outputs": [],
   "source": [
    "fig,ax = create_facet_plot(nmodels, figsize=(16,10))\n",
    "cmap = mpl.cm.bwr\n",
    "\n",
    "\n",
    "# norm = mpl.colors.BoundaryNorm(np.linspace(-100,100,17),17)\n",
    "if snakemake.wildcards.kind == 'rel':\n",
    "    norm = mpl.colors.TwoSlopeNorm(vmin=-30., vcenter=0., vmax=50.)\n",
    "    label = '$\\Delta$ [CLT] %'\n",
    "else:\n",
    "    norm = mpl.colors.TwoSlopeNorm(vmin=minv, vcenter=0., vmax=maxv)\n",
    "    label ='$\\Delta$ [CLT]'\n",
    "for ds, axi in zip(diffs, ax):\n",
    "    temp_ds = diffs[ds]\n",
    "    da = temp_ds[temp_ds.variable_id] \n",
    "    pcm=temp_ds[temp_ds.variable_id].plot(ax=ax[axi], cmap=cmap, norm=norm,  add_colorbar=False)\n",
    "    ax[axi].set_title(ds)\n",
    "    global_map(ax[axi])\n",
    "\n",
    "cax = fig.add_axes([0.94,0.2,0.02,0.62])\n",
    "fig.colorbar(pcm, cax=cax, extend='both',\n",
    "             label=label)\n",
    "plt.savefig(snakemake.output.outpath, bbox_inches='tight', dpi=144, facecolor='w')\n"
   ]
  }
 ],
 "metadata": {
  "kernelspec": {
   "display_name": "dustysnake",
   "language": "python",
   "name": "dustysnake"
  },
  "language_info": {
   "codemirror_mode": {
    "name": "ipython",
    "version": 3
   },
   "file_extension": ".py",
   "mimetype": "text/x-python",
   "name": "python",
   "nbconvert_exporter": "python",
   "pygments_lexer": "ipython3",
   "version": "3.9.0"
  }
 },
 "nbformat": 4,
 "nbformat_minor": 5
}
