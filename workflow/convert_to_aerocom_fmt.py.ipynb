{
 "cells": [
  {
   "cell_type": "code",
   "execution_count": 2,
   "id": "d82b9f8b",
   "metadata": {},
   "outputs": [],
   "source": [
    "import xarray as xr\n",
    "import yaml\n",
    "import numpy as np\n",
    "import pathlib as pl\n",
    "\n",
    "paths = snakemake.input.paths\n",
    "paths = sorted(paths)\n",
    "variable = snakemake.wildcards.variable\n",
    "outdir = pl.Path('/'.join(snakemake.output.outpath.split('/')[:-1]))\n",
    "model = snakemake.wildcards.model\n",
    "experiment = snakemake.wildcards.experiment\n",
    "time_slice = snakemake.params.get('time_slice',slice(1990,None))\n"
   ]
  },
  {
   "cell_type": "code",
   "execution_count": 3,
   "id": "7010b60a",
   "metadata": {},
   "outputs": [],
   "source": [
    "file_ending_fmt = f'aerocom3_{model}_{experiment}_{variable}_Column_{{freq}}_monthly.nc'"
   ]
  },
  {
   "cell_type": "code",
   "execution_count": 7,
   "id": "7f486695",
   "metadata": {},
   "outputs": [],
   "source": [
    "def split_into_yearly_files(paths: list ,outdir: pl.Path, \n",
    "                            time_slice: slice, file_ending_fmt : str) -> dict:\n",
    "    dsets = [xr.open_dataset(path) for path in paths]\n",
    "    fnames = [path.split('/')[-1] for path in paths]\n",
    "    file_tracker = {}\n",
    "    start = -1\n",
    "    stop = 1e6\n",
    "    if time_slice.start:\n",
    "        start=time_slice.start\n",
    "    if time_slice.stop:\n",
    "        stop = time_slice.stop\n",
    "        \n",
    "    \n",
    "    for ds, fname in zip(dsets, fnames):\n",
    "        file_tracker[fname] = []\n",
    "        for year in np.unique(ds.time.dt.year.values):\n",
    "            \n",
    "            if year >= start and year <= stop:\n",
    "                temp_ds = ds.sel(time=str(year))\n",
    "                out_file = file_ending_fmt.format(freq=year)\n",
    "                file_tracker[fname].append(out_file)\n",
    "                outpath=outdir.joinpath(out_file)\n",
    "                temp_ds.to_netcdf(outpath)\n",
    "                \n",
    "                \n",
    "    return file_tracker\n",
    "            \n",
    "            \n",
    "            "
   ]
  },
  {
   "cell_type": "code",
   "execution_count": 8,
   "id": "46f8dc13",
   "metadata": {
    "scrolled": false
   },
   "outputs": [],
   "source": [
    "file_tracker = split_into_yearly_files(paths, outdir,time_slice, file_ending_fmt)"
   ]
  },
  {
   "cell_type": "code",
   "execution_count": 9,
   "id": "58535d62",
   "metadata": {},
   "outputs": [],
   "source": [
    "with open(snakemake.output.outpath, 'w') as f:\n",
    "    yaml.safe_dump(file_tracker, f,default_flow_style=False)"
   ]
  }
 ],
 "metadata": {
  "kernelspec": {
   "display_name": "Python 3 (ipykernel)",
   "language": "python",
   "name": "python3"
  },
  "language_info": {
   "codemirror_mode": {
    "name": "ipython",
    "version": 3
   },
   "file_extension": ".py",
   "mimetype": "text/x-python",
   "name": "python",
   "nbconvert_exporter": "python",
   "pygments_lexer": "ipython3",
   "version": "3.9.0"
  }
 },
 "nbformat": 4,
 "nbformat_minor": 5
}
